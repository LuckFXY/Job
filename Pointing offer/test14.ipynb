{
 "cells": [
  {
   "cell_type": "code",
   "execution_count": 1,
   "metadata": {},
   "outputs": [],
   "source": [
    "def getMin(nums):\n",
    "    left, right = 0, len(nums)-1\n",
    "    indexMid = left\n",
    "    while nums[left] >= nums[right]:\n",
    "        if right - left == 1:\n",
    "            indexMid = right\n",
    "            break\n",
    "        indexMid = (left + right) >> 1\n",
    "        if nums[indexMid] == nums[left] and nums[indexMid] == nums[right]:\n",
    "            print(left, right, nums[left:right+1])\n",
    "            return min(nums[left:right+1])\n",
    "        if nums[indexMid] >= nums[left]:\n",
    "            left = indexMid\n",
    "        elif nums[indexMid] <= nums[right]:\n",
    "            right = indexMid\n",
    "    return nums[indexMid]\n",
    "\n",
    "nums = [3,3,3,3,32,1,1,1,2,2,2,2,2,2,2,2]\n",
    "getMin(nums)"
   ]
  },
  {
   "cell_type": "code",
   "execution_count": 2,
   "metadata": {
    "scrolled": false
   },
   "outputs": [
    {
     "name": "stdout",
     "output_type": "stream",
     "text": [
      "[0, 0] [0, 1] [0, 2] [0, 3] [0, 4] [0, 5] [0, 6] [0, 7] [0, 8] [0, 9] [1, 0] [1, 1] [1, 2] [1, 3] [1, 4] [1, 5] [1, 6] [1, 7] [1, 8] [1, 9] [2, 0] [2, 1] [2, 2] [2, 3] [2, 4] [2, 5] [2, 6] [2, 7] [2, 8] [2, 9] [3, 0] [3, 1] [3, 2] [3, 3] [3, 4] [3, 5] [3, 6] [3, 7] [3, 8] [3, 9] [4, 0] [4, 1] [4, 2] [4, 3] [4, 4] [4, 5] [4, 6] [4, 7] [4, 8] [4, 9] [5, 0] [5, 1] [5, 2] [5, 3] [5, 4] [5, 5] [5, 6] [5, 7] [5, 8] [5, 9] [6, 0] [6, 1] [6, 2] [6, 3] [6, 4] [6, 5] [6, 6] [6, 7] [6, 8] [6, 9] [7, 0] [7, 1] [7, 2] [7, 3] [7, 4] [7, 5] [7, 6] [7, 7] [7, 8] [7, 9] [8, 0] [8, 1] [8, 2] [8, 3] [8, 4] [8, 5] [8, 6] [8, 7] [8, 8] [8, 9] [9, 0] [9, 1] [9, 2] [9, 3] [9, 4] [9, 5] [9, 6] [9, 7] [9, 8] [9, 9] "
     ]
    }
   ],
   "source": [
    "def _printOneToN(nums, length, index):\n",
    "    if index == length:\n",
    "        print(nums,end=' ')\n",
    "    else:\n",
    "        for i in range(10):\n",
    "            nums[index] = i\n",
    "            _printOneToN(nums, length, index+1)\n",
    "\n",
    "def PrintOneToN(length):\n",
    "    nums = [0] * length\n",
    "    _printOneToN(nums, length, 0)\n",
    "\n",
    "PrintOneToN(2)"
   ]
  },
  {
   "cell_type": "code",
   "execution_count": 3,
   "metadata": {},
   "outputs": [
    {
     "name": "stdout",
     "output_type": "stream",
     "text": [
      "[1, 3, 5, 3, 7, 3, 3, 9, 52, 34, 2, 62, 54, 2, 6, 8, 10, 4, 46]\n"
     ]
    }
   ],
   "source": [
    "def ReorderOddEven(nums):\n",
    "    if nums is None or nums == 0:\n",
    "        return\n",
    "    i, j = 0, len(nums)-1\n",
    "    while i < j:\n",
    "        while i < j and nums[i] & 1 != 0 :\n",
    "            i += 1\n",
    "        while i < j and nums[j] & 1 == 0:\n",
    "            j -= 1\n",
    "        if i < j:\n",
    "            nums[i], nums[j] = nums[j], nums[i]\n",
    "\n",
    "nums = [1,3,5,3,7,46,3,10,52,34,2,62,54,2,6,8,9,4,3]\n",
    "ReorderOddEven(nums)\n",
    "print(nums)"
   ]
  },
  {
   "cell_type": "code",
   "execution_count": 4,
   "metadata": {},
   "outputs": [
    {
     "name": "stdout",
     "output_type": "stream",
     "text": [
      "nums[i]=4, nums[pos]=7  swap\n",
      "nums[i]=7, nums[pos]=3  swap\n",
      "nums[i]=3, nums[pos]=2  swap\n",
      "nums[i]=2, nums[pos]=3  swap\n",
      "nums[i]=3, nums[pos]=3  nums[i]=8, nums[pos]=1  swap\n",
      "swap\n",
      "nums[i]=2, nums[pos]=2  "
     ]
    },
    {
     "data": {
      "text/plain": [
       "[2, 3]"
      ]
     },
     "execution_count": 4,
     "metadata": {},
     "output_type": "execute_result"
    }
   ],
   "source": [
    "def findDuplicates(nums):\n",
    "    L = len(nums)\n",
    "    ret = []\n",
    "    for i in range(L):\n",
    "        if nums[i] is None:\n",
    "            continue\n",
    "        pos = nums[i] - 1\n",
    "        while pos != i:\n",
    "            if nums[i] and nums[pos]:\n",
    "                print(\"nums[i]=%d, nums[pos]=%d \"%(nums[i], nums[pos]),end=' ')\n",
    "            if nums[pos] != nums[i]:\n",
    "                nums[pos], nums[i] = nums[i], nums[pos]\n",
    "                print(\"swap\")\n",
    "                if nums[i] is None: \n",
    "                    break\n",
    "                pos = nums[i] - 1\n",
    "            else:\n",
    "                ret.append(nums[i])\n",
    "                nums[i] = None\n",
    "                break\n",
    "    return sorted(ret)\n",
    "\n",
    "nums=[4,3,2,7,8,2,3,1]\n",
    "findDuplicates(nums)"
   ]
  },
  {
   "cell_type": "code",
   "execution_count": 5,
   "metadata": {},
   "outputs": [
    {
     "name": "stdout",
     "output_type": "stream",
     "text": [
      "[[7, 0], [7, 1], [6, 1], [5, 0], [5, 2], [4, 4]]\n",
      "[[5, 0], [7, 0], [5, 2], [6, 1], [4, 4], [7, 1]]\n"
     ]
    }
   ],
   "source": [
    "people = [[7,0], [4,4], [7,1], [5,0], [6,1], [5,2]]\n",
    "people.sort( key = lambda x : (-x[0],x[1] ))\n",
    "print(people)\n",
    "queue = []\n",
    "for p in people:\n",
    "    queue.insert(p[1], p)\n",
    "print(queue)"
   ]
  },
  {
   "cell_type": "code",
   "execution_count": 6,
   "metadata": {},
   "outputs": [
    {
     "name": "stdout",
     "output_type": "stream",
     "text": [
      "2 17\n",
      "4 28\n"
     ]
    },
    {
     "data": {
      "text/plain": [
       "True"
      ]
     },
     "execution_count": 6,
     "metadata": {},
     "output_type": "execute_result"
    }
   ],
   "source": [
    "def checkPerfectNumber(num):\n",
    "    \"\"\"\n",
    "    :type num: int\n",
    "    :rtype: bool\n",
    "    \"\"\"\n",
    "    if num < 2:\n",
    "        return False\n",
    "    sum = 1\n",
    "    for i in range(2, int(pow(num,0.5))+1):\n",
    "        if num % i ==0:\n",
    "            sum += i\n",
    "            if num // i != i:\n",
    "                sum += num // i\n",
    "            print(i, sum)\n",
    "    return sum == num\n",
    "\n",
    "checkPerfectNumber(28)"
   ]
  },
  {
   "cell_type": "code",
   "execution_count": 7,
   "metadata": {},
   "outputs": [
    {
     "data": {
      "text/plain": [
       "False"
      ]
     },
     "execution_count": 7,
     "metadata": {},
     "output_type": "execute_result"
    }
   ],
   "source": [
    "def binary_search(n):\n",
    "    left, right = 1, n\n",
    "    while left < right:\n",
    "        mid = (left + right) >> 1\n",
    "        test = mid ** 2\n",
    "        if test == n:\n",
    "            return True\n",
    "        if test > n:\n",
    "            right = mid-1\n",
    "        else:\n",
    "            left = mid + 1\n",
    "    return False \n",
    "binary_search(15)"
   ]
  },
  {
   "cell_type": "code",
   "execution_count": 8,
   "metadata": {},
   "outputs": [
    {
     "data": {
      "text/plain": [
       "False"
      ]
     },
     "execution_count": 8,
     "metadata": {},
     "output_type": "execute_result"
    }
   ],
   "source": [
    "def judgeSquareSum(c):\n",
    "    a=1\n",
    "    while a * a < c:\n",
    "        b = c - a * a\n",
    "        if binary_search(b):\n",
    "            return True\n",
    "        a += 1\n",
    "    return False\n",
    "\n",
    "judgeSquareSum(6)"
   ]
  },
  {
   "cell_type": "code",
   "execution_count": 9,
   "metadata": {},
   "outputs": [],
   "source": [
    "import numpy as np"
   ]
  },
  {
   "cell_type": "code",
   "execution_count": 10,
   "metadata": {},
   "outputs": [
    {
     "name": "stdout",
     "output_type": "stream",
     "text": [
      "[[ 1  2  3  4]\n",
      " [ 5  6  7  8]\n",
      " [ 9 10 11 12]\n",
      " [13 14 15 16]]\n"
     ]
    }
   ],
   "source": [
    "a = np.arange(1,17).reshape(4,4)\n",
    "print(a)"
   ]
  },
  {
   "cell_type": "code",
   "execution_count": 11,
   "metadata": {},
   "outputs": [],
   "source": [
    "for i in range(0,5,-1):\n",
    "    print(i)"
   ]
  },
  {
   "cell_type": "code",
   "execution_count": 12,
   "metadata": {},
   "outputs": [
    {
     "name": "stdout",
     "output_type": "stream",
     "text": [
      "1 2 3 4 8 12 16 15 14 13 9 5 \n"
     ]
    }
   ],
   "source": [
    "\n",
    "def printInCircle(matrix, column, row, start):\n",
    "\n",
    "    i, j = start, start\n",
    "    ncol = column - start - 1\n",
    "    nrow = row - start\n",
    "    for flag in [1, -1]:\n",
    "        for step in range(ncol):\n",
    "            print(matrix[i,j], end = ' ')\n",
    "            j += flag\n",
    "        \n",
    "        for step in range(nrow):\n",
    "            print(matrix[i,j], end = ' ')\n",
    "            i += flag\n",
    "        i -= flag\n",
    "        j -= flag\n",
    "        ncol -= 1\n",
    "        nrow -= 1\n",
    "    print('')\n",
    "\n",
    "printInCircle(a, 4, 4, 0)"
   ]
  },
  {
   "cell_type": "code",
   "execution_count": 13,
   "metadata": {},
   "outputs": [
    {
     "name": "stdout",
     "output_type": "stream",
     "text": [
      "[[ 1  2  3]\n",
      " [ 4  5  6]\n",
      " [ 7  8  9]\n",
      " [10 11 12]]\n",
      "start=0\n",
      "1 2 3 6 9 12 11 10 7 4 \n",
      "start=1\n",
      "5 8 7 \n"
     ]
    }
   ],
   "source": [
    "def printClockwisely(matrix):\n",
    "    row, column = matrix.shape\n",
    "    smaller = max(row, column) // 2\n",
    "    for start in range(0, smaller):\n",
    "        print(\"start=%d\"%start)\n",
    "        printInCircle(matrix, column-start, row-start, start)\n",
    "        \n",
    "a = np.arange(1, 13).reshape(4,3)       \n",
    "print(a)\n",
    "printClockwisely(a)"
   ]
  },
  {
   "cell_type": "code",
   "execution_count": 14,
   "metadata": {},
   "outputs": [
    {
     "name": "stdout",
     "output_type": "stream",
     "text": [
      "push  [1]\n",
      "push  [1, 2]\n",
      "push  [1, 2, 3]\n",
      "push  [1, 2, 3, 4]\n",
      "pop [1, 2, 3]\n",
      "push  [1, 2, 3, 5]\n"
     ]
    },
    {
     "data": {
      "text/plain": [
       "False"
      ]
     },
     "execution_count": 14,
     "metadata": {},
     "output_type": "execute_result"
    }
   ],
   "source": [
    "def isPopOrder(push_list, pop_list):\n",
    "    bPossible = False\n",
    "    push_i, length = 0, len(push_list)\n",
    "    stack = []\n",
    "    for pop_x in pop_list:\n",
    "        while push_i < length and (not stack or stack[-1] != pop_x):\n",
    "            stack.append(push_list[push_i])\n",
    "            push_i += 1\n",
    "            print(\"push \",stack)\n",
    "\n",
    "        if stack[-1] != pop_x:\n",
    "            break\n",
    "        stack.pop()\n",
    "        print(\"pop\", stack)\n",
    "\n",
    "    if (not stack) and pop_list:\n",
    "        bPossible = True\n",
    "    return bPossible\n",
    "\n",
    "push_list = [1,2,3,4,5]\n",
    "pop_list = [4,2,1,5,3]\n",
    "isPopOrder(push_list, pop_list)"
   ]
  },
  {
   "cell_type": "code",
   "execution_count": 15,
   "metadata": {},
   "outputs": [
    {
     "name": "stdout",
     "output_type": "stream",
     "text": [
      "123\n",
      "132\n",
      "213\n",
      "231\n",
      "321\n",
      "312\n"
     ]
    }
   ],
   "source": [
    "def PermutationCore(s, start):\n",
    "    if start == len(s):\n",
    "        print(''.join(s))\n",
    "    else:\n",
    "        for i in range(start, len(s)):\n",
    "            s[start], s[i] = s[i], s[start]\n",
    "            PermutationCore(s, start + 1)\n",
    "            s[start], s[i] = s[i], s[start]\n",
    "def Permutation(s):\n",
    "    if not s:\n",
    "        return\n",
    "    s = [i for i in s]\n",
    "    PermutationCore(s, 0)\n",
    "\n",
    "Permutation('123')"
   ]
  },
  {
   "cell_type": "code",
   "execution_count": 16,
   "metadata": {},
   "outputs": [
    {
     "name": "stdout",
     "output_type": "stream",
     "text": [
      "2 1\n",
      "2 2\n",
      "2 1\n",
      "3 1\n",
      "2 1\n",
      "2 2\n",
      "2 1\n",
      "2 2\n",
      "2 1\n"
     ]
    },
    {
     "data": {
      "text/plain": [
       "2"
      ]
     },
     "execution_count": 16,
     "metadata": {},
     "output_type": "execute_result"
    }
   ],
   "source": [
    "def MoreThanHalfNum(nums):\n",
    "    if not nums:\n",
    "        return None\n",
    "    most, count = nums[0], 0\n",
    "    for i in nums:\n",
    "        if i == most:\n",
    "            count += 1\n",
    "        else:\n",
    "            count -= 1\n",
    "            if count == 0:\n",
    "                most, count = i, 1\n",
    "        print(most, count)\n",
    "    return most\n",
    "\n",
    "nums = [2,2,3,3,2,2,1,2,4]\n",
    "MoreThanHalfNum(nums)"
   ]
  },
  {
   "cell_type": "code",
   "execution_count": 18,
   "metadata": {},
   "outputs": [],
   "source": [
    "import random"
   ]
  },
  {
   "cell_type": "code",
   "execution_count": 181,
   "metadata": {},
   "outputs": [],
   "source": [
    "def Partition(nums, start, end):\n",
    "    if start >= end:\n",
    "        return -1\n",
    "    i, j = start, end\n",
    "    ti = random.randint(start, end)\n",
    "    target = nums[ti]\n",
    "    nums[ti], nums[start] =nums[start],nums[ti]\n",
    "    while i < j:\n",
    "        while i < j and nums[j] > target:\n",
    "            j -= 1\n",
    "        while i< j and nums[i] <= target:\n",
    "            i += 1\n",
    "        if i != j:\n",
    "            nums[i], nums[j] = nums[j], nums[i]\n",
    "    nums[start] = nums[i]\n",
    "    nums[i] = target\n",
    "    print(i, nums)\n",
    "    return i"
   ]
  },
  {
   "cell_type": "code",
   "execution_count": 182,
   "metadata": {},
   "outputs": [],
   "source": [
    "def quickSort(nums, start, end):\n",
    "    sp = Partition(nums,start, end)\n",
    "    if sp >= 0 :\n",
    "        quickSort(nums, start, sp-1)\n",
    "        quickSort(nums, sp+1, end)"
   ]
  },
  {
   "cell_type": "code",
   "execution_count": 185,
   "metadata": {},
   "outputs": [
    {
     "name": "stdout",
     "output_type": "stream",
     "text": [
      "[2, 2, 3, 3, 2, 2, 1, 2, 4]\n",
      "0 [1, 2, 3, 3, 2, 2, 2, 2, 4]\n",
      "8 [1, 2, 3, 3, 2, 2, 2, 2, 4]\n",
      "7 [1, 2, 2, 3, 2, 2, 2, 3, 4]\n",
      "5 [1, 2, 2, 2, 2, 2, 3, 3, 4]\n",
      "4 [1, 2, 2, 2, 2, 2, 3, 3, 4]\n",
      "3 [1, 2, 2, 2, 2, 2, 3, 3, 4]\n",
      "2 [1, 2, 2, 2, 2, 2, 3, 3, 4]\n",
      "[1, 2, 2, 2, 2, 2, 3, 3, 4]\n"
     ]
    }
   ],
   "source": [
    "nums = list(range(20))\n",
    "random.shuffle(nums)\n",
    "# nums = [6, 0, 4, 2, 1, 3, 9, 7, 5, 8]\n",
    "nums = [2,2,3,3,2,2,1,2,4]\n",
    "print(nums)\n",
    "quickSort(nums,0,len(nums)-1)\n",
    "print(nums)"
   ]
  },
  {
   "cell_type": "code",
   "execution_count": 186,
   "metadata": {},
   "outputs": [
    {
     "name": "stdout",
     "output_type": "stream",
     "text": [
      "8 [2, 2, 3, 3, 2, 2, 1, 2, 4]\n",
      "5 [2, 2, 2, 1, 2, 2, 3, 3, 4]\n",
      "4 [2, 2, 2, 1, 2, 2, 3, 3, 4]\n",
      "[2, 2, 2, 1, 2, 2, 3, 3, 4]\n",
      "2\n"
     ]
    }
   ],
   "source": [
    "def MoreThanHalfNum(nums):\n",
    "    mid = len(nums) >> 1\n",
    "    start, end = 0, len(nums)-1\n",
    "    idx = Partition(nums, start, end)\n",
    "    while idx != mid:\n",
    "        if idx > mid:\n",
    "            end = idx - 1\n",
    "            idx = Partition(nums, start, end)\n",
    "        else:\n",
    "            start = idx+1\n",
    "            idx = Partition(nums, start, end)\n",
    "    print(nums)\n",
    "    print(nums[idx])\n",
    "nums = [2,2,3,3,2,2,1,2,4]\n",
    "MoreThanHalfNum(nums)"
   ]
  },
  {
   "cell_type": "code",
   "execution_count": null,
   "metadata": {},
   "outputs": [],
   "source": []
  },
  {
   "cell_type": "code",
   "execution_count": null,
   "metadata": {},
   "outputs": [],
   "source": []
  }
 ],
 "metadata": {
  "kernelspec": {
   "display_name": "Python 3",
   "language": "python",
   "name": "python3"
  },
  "language_info": {
   "codemirror_mode": {
    "name": "ipython",
    "version": 3
   },
   "file_extension": ".py",
   "mimetype": "text/x-python",
   "name": "python",
   "nbconvert_exporter": "python",
   "pygments_lexer": "ipython3",
   "version": "3.6.4"
  }
 },
 "nbformat": 4,
 "nbformat_minor": 2
}
