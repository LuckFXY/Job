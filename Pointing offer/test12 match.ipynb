{
 "cells": [
  {
   "cell_type": "code",
   "execution_count": 34,
   "metadata": {},
   "outputs": [
    {
     "name": "stdout",
     "output_type": "stream",
     "text": [
      "str\t   i= 0\tpattern\t   j= 0\n",
      "0 3\n",
      "str\t a  i= 1\tpattern\t a  j= 1\n",
      "str\t a  i= 1\tpattern\t ab*  j= 3\n",
      "1 3\n",
      "str\t aa  i= 2\tpattern\t ab*a  j= 4\n",
      "2 3\n",
      "str\t aaa  i= 3\tpattern\t ab*a.  j= 5\n",
      "str\t aaa  i= 3\tpattern\t ab*a.c*  j= 7\n",
      "str\t aaa  i= 3\tpattern\t ab*a.c*a*  j= 9\n",
      "str\t aaa  i= 3\tpattern\t ab*a.c*a*.*  j= 11\n"
     ]
    },
    {
     "data": {
      "text/plain": [
       "True"
      ]
     },
     "execution_count": 34,
     "metadata": {},
     "output_type": "execute_result"
    }
   ],
   "source": [
    "def matchCore(str, pattern, i, j):\n",
    "    if j == len(pattern):\n",
    "        if i == len(str):\n",
    "            return True\n",
    "        else:\n",
    "            return False\n",
    "    if j == len(pattern)-1 and i == len(str):\n",
    "        return False\n",
    "    \n",
    "    print('str\\t',str[:i],' i=',i,end='\\t')\n",
    "    print('pattern\\t', pattern[:j],' j=', j)\n",
    "\n",
    "    if pattern[j+1] == '*':\n",
    "        if i < len(str) and (str[i] == pattern[j] or pattern[j] =='.'):   \n",
    "            # jump out \"_*\", move to next stage\n",
    "            # stay on the current stage\n",
    "            # ignore \"_*\"\n",
    "            return matchCore(str, pattern, i+1, j+2) or \\\n",
    "                    matchCore(str, pattern, i+1, j) or \\\n",
    "                    matchCore(str, pattern, i, j+2)\n",
    "        else:\n",
    "            #ignore \"_*\"\n",
    "            return matchCore(str, pattern ,i, j+2)\n",
    "    if i < len(str) and ( str[i] == pattern[j] or pattern[j] =='.'):   \n",
    "        print(i, len(str))\n",
    "        return matchCore(str, pattern, i+1, j+1)\n",
    "    return False\n",
    "\n",
    "def match(str, pattern):\n",
    "    if str is None or pattern is None:\n",
    "        return False\n",
    "    return matchCore(str, pattern, 0, 0)\n",
    "\n",
    "str='aaa'\n",
    "pattern = 'ab*a.c*a*.*1*'\n",
    "match(str, pattern)"
   ]
  },
  {
   "cell_type": "code",
   "execution_count": 68,
   "metadata": {},
   "outputs": [
    {
     "data": {
      "text/plain": [
       "(1, 456, 8)"
      ]
     },
     "execution_count": 68,
     "metadata": {},
     "output_type": "execute_result"
    }
   ],
   "source": [
    "def scanInter(str, start=0):\n",
    "    pos, n = start, len(str)\n",
    "    val, symbol = None, 1\n",
    "    if pos < n and str[pos] in '-+':\n",
    "        symbol = -1 if str[pos] == '-' else 1\n",
    "        pos += 1\n",
    "        start += 1\n",
    "    while pos < n and str[pos].isdigit():\n",
    "        pos += 1\n",
    "    if start < pos:\n",
    "        val = int(str[start:pos])\n",
    "    return symbol, val, pos\n",
    "\n",
    "scanInter('-123.456e-12',5)"
   ]
  },
  {
   "cell_type": "code",
   "execution_count": 110,
   "metadata": {},
   "outputs": [
    {
     "name": "stdout",
     "output_type": "stream",
     "text": [
      "0.12346e3\n"
     ]
    },
    {
     "data": {
      "text/plain": [
       "(True, 123.456)"
      ]
     },
     "execution_count": 110,
     "metadata": {},
     "output_type": "execute_result"
    }
   ],
   "source": [
    "def normalize(A, B, C, p=5):\n",
    "    cnt = 0\n",
    "    while A > 1:\n",
    "        A /= 10.\n",
    "        cnt += 1\n",
    "    num = A + B / pow(10, cnt)\n",
    "    C += cnt\n",
    "    pstr = \"\\'%.\"+ \"%df\\'\"%p +'%(num)'\n",
    "    if C != 0:\n",
    "        pstr = \"\\'%.\"+ \"%df\"%p+\"e%d\\'\" +'%(num,C)'\n",
    "    ret = eval(pstr)\n",
    "    return ret\n",
    "    \n",
    "def alphaTonum(str):\n",
    "    if str is None or len(str) == 0:\n",
    "        return (False, None)\n",
    "    pos, slen = 0, len(str)\n",
    "    A, B, C=0,0,0\n",
    "    symbolA, val, pos_out = scanInter(str, pos)\n",
    "    symbolB = symbolC = 1\n",
    "    A = val if pos<pos_out else 0\n",
    "    pos = pos_out\n",
    "    if pos < slen and str[pos] =='.':\n",
    "        symbolB , val, pos_out= scanInter(str, pos+1)\n",
    "        if pos < pos_out:\n",
    "            B = val/pow(10, pos_out-pos-1)\n",
    "        else:\n",
    "            return (False,None)\n",
    "        pos = pos_out\n",
    "        \n",
    "    if pos < slen and str[pos] =='e':\n",
    "        symbolC , val, pos_out= scanInter(str, pos+1)\n",
    "        if pos < pos_out:\n",
    "            C = val\n",
    "        else:\n",
    "            return (False,None)\n",
    "        pos = pos_out\n",
    "    if pos == slen and symbolB == 1:\n",
    "        num = symbolA * (A + B)\n",
    "        C = symbolC * C\n",
    "        num *= pow(10, C)\n",
    "        norm = normalize(A, B, C)\n",
    "        print(norm)\n",
    "        return (True,num)\n",
    "    print(\"failed at the last\")\n",
    "    return (False, None)\n",
    "            \n",
    "alphaTonum('123456e-3') "
   ]
  },
  {
   "cell_type": "code",
   "execution_count": 109,
   "metadata": {},
   "outputs": [
    {
     "name": "stdout",
     "output_type": "stream",
     "text": [
      "'%.5fe%d'%(num,C)\n"
     ]
    },
    {
     "data": {
      "text/plain": [
       "'123.00000e2'"
      ]
     },
     "execution_count": 109,
     "metadata": {},
     "output_type": "execute_result"
    }
   ],
   "source": [
    "p=5\n",
    "num=123\n",
    "C = 2\n",
    "pstr = \"\\'%.\"+ \"%df\"%p+\"e%d\\'\" +'%(num,C)'\n",
    "print(pstr)\n",
    "eval(pstr)"
   ]
  },
  {
   "cell_type": "code",
   "execution_count": null,
   "metadata": {},
   "outputs": [],
   "source": []
  }
 ],
 "metadata": {
  "kernelspec": {
   "display_name": "Python 3",
   "language": "python",
   "name": "python3"
  },
  "language_info": {
   "codemirror_mode": {
    "name": "ipython",
    "version": 3
   },
   "file_extension": ".py",
   "mimetype": "text/x-python",
   "name": "python",
   "nbconvert_exporter": "python",
   "pygments_lexer": "ipython3",
   "version": "3.6.4"
  }
 },
 "nbformat": 4,
 "nbformat_minor": 2
}
