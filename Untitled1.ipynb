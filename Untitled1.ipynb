{
 "cells": [
  {
   "cell_type": "code",
   "execution_count": 1,
   "metadata": {},
   "outputs": [],
   "source": [
    "s = []"
   ]
  },
  {
   "cell_type": "code",
   "execution_count": null,
   "metadata": {},
   "outputs": [
    {
     "name": "stdout",
     "output_type": "stream",
     "text": [
      "2 1 + 3 *\n",
      "9\n"
     ]
    }
   ],
   "source": [
    "import sys\n",
    "\n",
    "def popNum(stack):\n",
    "    a = b = 0\n",
    "    flag = False;\n",
    "    if(stack):\n",
    "        a = stack.pop()\n",
    "        \n",
    "        if(stack):\n",
    "            b = stack.pop()\n",
    "            flag = True\n",
    "         \n",
    "    return flag, a, b\n",
    "    \n",
    "if True:\n",
    "    while(True):\n",
    "        tmp = input()\n",
    "        if(tmp == ''):\n",
    "            break\n",
    "        s = tmp.split(' ')\n",
    "        \n",
    "        stack = []\n",
    "        ret = 0\n",
    "        flag = False;\n",
    "        for ch in s:\n",
    "            if ch == '+':\n",
    "                flag, a, b = popNum(stack)\n",
    "                ret = a + b\n",
    "                stack.append(ret)\n",
    "                \n",
    "            elif ch == '-':\n",
    "                flag, a, b = popNum(stack)\n",
    "                ret = a - b\n",
    "                stack.append(ret)\n",
    "                \n",
    "            elif ch == '*':\n",
    "                flag, a, b = popNum(stack)\n",
    "                ret = a * b\n",
    "                stack.append(ret)\n",
    "                \n",
    "            elif ch == '/':\n",
    "                flag, a, b = popNum(stack)\n",
    "                flag = flag and b != 0\n",
    "                ret = a / b\n",
    "                stack.append(ret)\n",
    "            else:\n",
    "                try:\n",
    "                    a = int(ch)\n",
    "                    stack.append(a)\n",
    "                    flag = True\n",
    "                except:\n",
    "                    print('Wrong')\n",
    "                    flag = False\n",
    "            if(not flag):\n",
    "                break\n",
    "        if(flag and len(stack) == 1):\n",
    "            print(stack[0])"
   ]
  },
  {
   "cell_type": "code",
   "execution_count": 1,
   "metadata": {},
   "outputs": [
    {
     "ename": "NameError",
     "evalue": "name 'solve' is not defined",
     "output_type": "error",
     "traceback": [
      "\u001b[1;31m---------------------------------------------------------------------------\u001b[0m",
      "\u001b[1;31mNameError\u001b[0m                                 Traceback (most recent call last)",
      "\u001b[1;32m<ipython-input-1-9f795d281437>\u001b[0m in \u001b[0;36m<module>\u001b[1;34m()\u001b[0m\n\u001b[0;32m     54\u001b[0m         \u001b[0my\u001b[0m\u001b[1;33m.\u001b[0m\u001b[0mappend\u001b[0m\u001b[1;33m(\u001b[0m\u001b[0mnums\u001b[0m\u001b[1;33m[\u001b[0m\u001b[1;33m-\u001b[0m\u001b[1;36m1\u001b[0m\u001b[1;33m]\u001b[0m\u001b[1;33m)\u001b[0m\u001b[1;33m\u001b[0m\u001b[0m\n\u001b[0;32m     55\u001b[0m \u001b[1;33m\u001b[0m\u001b[0m\n\u001b[1;32m---> 56\u001b[1;33m     \u001b[0mcoefs\u001b[0m \u001b[1;33m=\u001b[0m \u001b[0msolve\u001b[0m\u001b[1;33m(\u001b[0m\u001b[0mX\u001b[0m\u001b[1;33m,\u001b[0m\u001b[0my\u001b[0m\u001b[1;33m)\u001b[0m\u001b[1;33m\u001b[0m\u001b[0m\n\u001b[0m\u001b[0;32m     57\u001b[0m     \u001b[0mformatted_coefs\u001b[0m \u001b[1;33m=\u001b[0m \u001b[1;33m[\u001b[0m\u001b[1;33m]\u001b[0m\u001b[1;33m\u001b[0m\u001b[0m\n\u001b[0;32m     58\u001b[0m     \u001b[1;32mfor\u001b[0m \u001b[0mcoef\u001b[0m \u001b[1;32min\u001b[0m \u001b[0mcoefs\u001b[0m\u001b[1;33m:\u001b[0m\u001b[1;33m\u001b[0m\u001b[0m\n",
      "\u001b[1;31mNameError\u001b[0m: name 'solve' is not defined"
     ]
    }
   ],
   "source": [
    "import sys, math\n",
    "def mysum(X):\n",
    "    s = [0.0,0.0]\n",
    "    for xi in X:\n",
    "        s[0] += xi[0]\n",
    "        s[1] += xi[1]\n",
    "    return s\n",
    "def mysub(src, dst):\n",
    "    for i in range(len(src)):\n",
    "        src[i] -= dst[i]\n",
    "    return src\n",
    "\n",
    "def mydiv1(src, dst):\n",
    "    for i in range(len(src)):\n",
    "        src[i] /= dst\n",
    "    return src\n",
    "\n",
    "def mydiv2(src, dst):\n",
    "    for i in range(len(src)):\n",
    "        src[i] /= dst[i]\n",
    "    return src\n",
    "\n",
    "def mymulti(src, dst):\n",
    "    for i in range(len(src)):\n",
    "        src[i] *= dst[i]\n",
    "    return src\n",
    "\n",
    "def slove(X,y):\n",
    "    if(len(X) == 0):\n",
    "        return []\n",
    "    s = mysum(X)\n",
    "    mean_x = mydiv1(s , len(X))\n",
    "\n",
    "    w1 = mysum([mymulti(yi, mysub(xi, mean_x)) for xi, yi in zip(X, y)])\n",
    "    s2 = mydiv1(mymulti(s, s), len(X))\n",
    "    w2 = mysum([mysub(mymulti(xi, xi), s2) for xi in X])\n",
    "    w = mydiv2(w1, w2)\n",
    "    mean_y = sum(y) / len(y)\n",
    "    b = mean_y - (w[0] * mean_x[0] + w[1] * mean_x[1])\n",
    "    return w + [b,]\n",
    "\n",
    "if __name__ == '__main__':\n",
    "    X = []\n",
    "    y = []\n",
    "    while True:\n",
    "        line = sys.stdin.readline().strip('\\r\\n')\n",
    "        if line == '':\n",
    "            break\n",
    "            \n",
    "        nums = line.split(',')\n",
    "        nums = [float(n) for n in nums]\n",
    "        \n",
    "        X.append([1.0] + nums[:-1])\n",
    "        y.append(nums[-1])\n",
    "        \n",
    "    coefs = solve(X,y)\n",
    "    formatted_coefs = []\n",
    "    for coef in coefs:\n",
    "        coef = math.floor(coef * 100) / 100\n",
    "        formatted_coefs.append('%.2f' % coef)\n",
    "        \n",
    "    print(','.join(formatted_coefs))"
   ]
  },
  {
   "cell_type": "code",
   "execution_count": 2,
   "metadata": {},
   "outputs": [
    {
     "name": "stdout",
     "output_type": "stream",
     "text": [
      "[1, 2, 3, 4, 8, 12, 16, 15, 14, 13, 9, 5, 6, 7, 11, 10]\n"
     ]
    }
   ],
   "source": [
    "class Solution(object):\n",
    "    def printMatrix(self, matrix):\n",
    "        # 打印矩阵\n",
    "        result = []\n",
    "        while matrix:\n",
    "            result += matrix.pop(0)\n",
    "            if matrix:\n",
    "                matrix = self.rotate(matrix)\n",
    "        return result\n",
    "\n",
    "    def rotate(self, matrix):\n",
    "        # 逆时针旋转矩阵\n",
    "        row = len(matrix)\n",
    "        col = len(matrix[0])\n",
    "        # 存放旋转后的矩阵\n",
    "        new_matrix = []\n",
    "        # 行列调换\n",
    "        for i in range(col):\n",
    "            new_line = []\n",
    "            for j in range(row):\n",
    "                new_line.append(matrix[j][col-1-i])\n",
    "            new_matrix.append(new_line)\n",
    "        return new_matrix\n",
    "\n",
    "if __name__ == '__main__':\n",
    "    # 测试代码\n",
    "    matrix = [\n",
    "        [1,2,3,4],\n",
    "        [5,6,7,8],\n",
    "        [9,10,11,12],\n",
    "        [13,14,15,16]\n",
    "    ]\n",
    "    solution = Solution()\n",
    "    result = solution.printMatrix(matrix)\n",
    "    print(result)"
   ]
  },
  {
   "cell_type": "code",
   "execution_count": 4,
   "metadata": {},
   "outputs": [
    {
     "name": "stdout",
     "output_type": "stream",
     "text": [
      "[1, 2, 3, 4, 8, 12, 16, 15, 14, 13, 9, 5, 6, 7, 11, 10]\n"
     ]
    }
   ],
   "source": [
    "def getmatrix(matrix):\n",
    "    rows = len(matrix)\n",
    "    cols = len(matrix[0])\n",
    "    ansm = []\n",
    "    for i in range(cols):\n",
    "        nextl = []\n",
    "        for j in range(rows):\n",
    "            nextl.append(matrix[j][cols-1-i])\n",
    "        ansm.append(nextl)\n",
    "    return ansm\n",
    "test = '[[1, 2, 3, 4],[5, 6, 7, 8],[9, 10, 11, 12],[13, 14, 15, 16]]'\n",
    "matrix=test[2:-2].split(\"],[\")\n",
    "for i in range(len(matrix)):\n",
    "    matrix[i]=list(map(int,matrix[i].split(\", \")))\n",
    "resmat = []\n",
    "while matrix:\n",
    "    resmat += matrix.pop(0)\n",
    "    if matrix:\n",
    "        matrix = getmatrix(matrix)\n",
    "print(resmat)"
   ]
  },
  {
   "cell_type": "code",
   "execution_count": 6,
   "metadata": {},
   "outputs": [],
   "source": [
    "import mmh3\n",
    "from bitarray import bitarray"
   ]
  },
  {
   "cell_type": "code",
   "execution_count": 42,
   "metadata": {},
   "outputs": [],
   "source": [
    "class BloomFilter:\n",
    "    def __init__(self):\n",
    "        self.__BIT_SIZE = 5000\n",
    "        bit_array = bitarray(self.__BIT_SIZE)\n",
    "        bit_array.setall(0)\n",
    "        self.bit_array = bit_array\n",
    "    \n",
    "    def add(self, url):\n",
    "        point_list = self.get_position(url)\n",
    "        for b in point_list:\n",
    "            self.bit_array[b] = 1\n",
    "\n",
    "    def contains(self, url):\n",
    "        point_list = self.get_position(url)\n",
    "        result = True\n",
    "        for b in point_list:\n",
    "            result = result and self.bit_array[b]\n",
    "        return result\n",
    "    \n",
    "    def get_position(self, url):\n",
    "        ret = []\n",
    "        for i in range(8):\n",
    "            p = mmh3.hash(url, i + 40) % self.__BIT_SIZE\n",
    "            ret.append(p)\n",
    "        return ret"
   ]
  },
  {
   "cell_type": "code",
   "execution_count": 43,
   "metadata": {},
   "outputs": [],
   "source": [
    "url_list=[\n",
    "    'https://www.cnblogs.com/cpselvis/p/6265825.html',\n",
    "    'https://www.sczyh30.com/posts/C-C/cpp-stl-hashmap/',\n",
    "    'https://blog.csdn.net/xia_yu_mao_fa/article/details/23914055',\n",
    "    'https://blog.csdn.net/10km/article/details/52072061',\n",
    "    'https://blog.csdn.net/10km/article/details/49847271',\n",
    "    'https://china.googleblog.com/2007/07/bloom-filter_7469.html'\n",
    "]\n",
    "bloom = BloomFilter()\n",
    "for url in url_list:\n",
    "    bloom.add(url)"
   ]
  },
  {
   "cell_type": "code",
   "execution_count": 51,
   "metadata": {},
   "outputs": [
    {
     "name": "stdout",
     "output_type": "stream",
     "text": [
      "https://blog.csdn.net/xia_yu_mao_fa/article/details/23914055\n",
      "True\n",
      "https://blog.csdn.net/xia_yu_mao_fa/article/details/23914045\n",
      "False\n"
     ]
    }
   ],
   "source": [
    "url = url_list[2]\n",
    "print(url)\n",
    "f1 = bloom.contains(url)\n",
    "print(f1)\n",
    "url = url[:-2]+'4'+url[-1]\n",
    "print(url)\n",
    "f2 = bloom.contains(url)\n",
    "print(f2)"
   ]
  },
  {
   "cell_type": "code",
   "execution_count": null,
   "metadata": {},
   "outputs": [],
   "source": []
  },
  {
   "cell_type": "code",
   "execution_count": null,
   "metadata": {},
   "outputs": [],
   "source": []
  }
 ],
 "metadata": {
  "kernelspec": {
   "display_name": "Python 3",
   "language": "python",
   "name": "python3"
  },
  "language_info": {
   "codemirror_mode": {
    "name": "ipython",
    "version": 3
   },
   "file_extension": ".py",
   "mimetype": "text/x-python",
   "name": "python",
   "nbconvert_exporter": "python",
   "pygments_lexer": "ipython3",
   "version": "3.6.4"
  }
 },
 "nbformat": 4,
 "nbformat_minor": 2
}
