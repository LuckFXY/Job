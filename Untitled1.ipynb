{
 "cells": [
  {
   "cell_type": "code",
   "execution_count": 2,
   "metadata": {},
   "outputs": [
    {
     "name": "stdout",
     "output_type": "stream",
     "text": [
      "1 2 3 "
     ]
    }
   ],
   "source": [
    "class NodeType():\n",
    "    def __init__(self, val):\n",
    "        self.val = val\n",
    "        self.next = None\n",
    "        \n",
    "def createList(arr):\n",
    "    if not arr:\n",
    "        return None\n",
    "    head = NodeType(arr[0])\n",
    "    tail = head\n",
    "    for val in arr[1:]:\n",
    "        newone = NodeType(val)\n",
    "        tail.next = newone\n",
    "        tail = newone\n",
    "    return head\n",
    "\n",
    "def printList(head):\n",
    "    if not arr :\n",
    "        return\n",
    "    ptr = head\n",
    "    while ptr:\n",
    "        print(ptr.val, end=' ')\n",
    "        ptr = ptr.next\n",
    "\n",
    "head = createList(arr)\n",
    "printList(head)"
   ]
  },
  {
   "cell_type": "code",
   "execution_count": 3,
   "metadata": {},
   "outputs": [
    {
     "data": {
      "text/plain": [
       "19"
      ]
     },
     "execution_count": 3,
     "metadata": {},
     "output_type": "execute_result"
    }
   ],
   "source": [
    "a1 = [1,3,5,7,8,10,13,16,19,20]\n",
    "a2 = [2,4,6,12,17,19]\n",
    "h1 = createList(a1)\n",
    "h2 = createList(a2)\n",
    "def findSameNode(h1, h2):\n",
    "    if not h1 or not h2:\n",
    "        if not h1 and not h2:\n",
    "            return True\n",
    "        else:\n",
    "            return False\n",
    "    p1, p2 = h1, h2\n",
    "    ret = None\n",
    "    while p1 and p2:\n",
    "        if p1.val == p2.val:\n",
    "            ret = p1.val\n",
    "            break\n",
    "        elif p1.val < p2.val:\n",
    "            p1 = p1.next\n",
    "        else:\n",
    "            p2 = p2.next\n",
    "    return ret\n",
    "\n",
    "findSameNode(h1, h2)"
   ]
  },
  {
   "cell_type": "code",
   "execution_count": 8,
   "metadata": {},
   "outputs": [
    {
     "name": "stdout",
     "output_type": "stream",
     "text": [
      "[3, 3, 4, 5, 5, 5, 6, 8, 9]\n"
     ]
    }
   ],
   "source": [
    "def quickSort(nums, left, right):\n",
    "    if left >= right:\n",
    "        return\n",
    "    i, j = left, right\n",
    "    mid = nums[left]\n",
    "    while i < j:\n",
    "        while i < j and nums[j] > mid:\n",
    "            j -= 1\n",
    "        while i < j and nums[i] <= mid:\n",
    "            i += 1\n",
    "            \n",
    "        nums[i], nums[j] = nums[j], nums[i]\n",
    "        \n",
    "    nums[left] = nums[i]\n",
    "    nums[i] = mid\n",
    "    quickSort(nums, left, i-1)\n",
    "    quickSort(nums, i+1, right)\n",
    "    \n",
    "nums = [5,4,3,5,8,9,3,5,6]\n",
    "quickSort(nums, 0, len(nums)-1)  \n",
    "print(nums)"
   ]
  },
  {
   "cell_type": "code",
   "execution_count": 10,
   "metadata": {},
   "outputs": [
    {
     "name": "stdout",
     "output_type": "stream",
     "text": [
      "[3, 3, 4, 5, 5, 5, 6, 8, 9]\n"
     ]
    }
   ],
   "source": [
    "def popSort(nums):\n",
    "    if not nums:\n",
    "        return \n",
    "    length = len(nums)\n",
    "    sortedFlag = False\n",
    "    while not sortedFlag:\n",
    "        sortedFlag = True\n",
    "        for i in range(length-1):\n",
    "            if nums[i] > nums[i+1]:\n",
    "                nums[i], nums[i+1] =nums[i+1], nums[i]\n",
    "                sortedFlag = False\n",
    "\n",
    "nums = [5,4,3,5,8,9,3,5,6]\n",
    "popSort(nums)\n",
    "print(nums)"
   ]
  },
  {
   "cell_type": "code",
   "execution_count": 23,
   "metadata": {},
   "outputs": [
    {
     "name": "stdout",
     "output_type": "stream",
     "text": [
      "[9, 8, 5, 6, 4, 3, 3, 5, 5]\n"
     ]
    }
   ],
   "source": [
    "def maxHeapify(array, index, heapsize):\n",
    "    left, right = index * 2 + 1, index * 2 + 2\n",
    "    maxchild = left\n",
    "    if right <= heapsize and array[right] > array[left]:\n",
    "        maxchild = right\n",
    "    if left <= heapsize:\n",
    "        if array[maxchild] > array[index]:\n",
    "            array[maxchild], array[index] = array[index], array[maxchild]\n",
    "        maxHeapify(array, maxchild, heapsize)\n",
    "\n",
    "def buildMaxHeap(array, heapsize):\n",
    "    if not array:\n",
    "        return\n",
    "    for i in range(len(array)//2, -1, -1):\n",
    "        maxHeapify(array, i, heapsize)\n",
    "        \n",
    "nums = [5,4,3,5,8,9,3,5,6]\n",
    "buildMaxHeap(nums, len(nums)-1)\n",
    "print(nums)"
   ]
  },
  {
   "cell_type": "code",
   "execution_count": 29,
   "metadata": {},
   "outputs": [
    {
     "name": "stdout",
     "output_type": "stream",
     "text": [
      "[9, 8, 5, 6, 4, 3, 3, 5, 5]\n",
      "[3, 3, 4, 5, 5, 5, 6, 8, 9]\n"
     ]
    }
   ],
   "source": [
    "\n",
    "def heapSort(array):\n",
    "    buildMaxHeap(array, len(array)-1)\n",
    "    for i in range(len(array)-1, 0, -1):\n",
    "        array[i], array[0] = array[0], array[i]\n",
    "        maxHeapify(array, 0, i-1)\n",
    "    return array\n",
    "\n",
    "nums = [5,4,3,5,8,9,3,5,6]\n",
    "heapSort(nums)\n",
    "print(nums)"
   ]
  },
  {
   "cell_type": "code",
   "execution_count": null,
   "metadata": {},
   "outputs": [],
   "source": []
  }
 ],
 "metadata": {
  "kernelspec": {
   "display_name": "Python 3",
   "language": "python",
   "name": "python3"
  },
  "language_info": {
   "codemirror_mode": {
    "name": "ipython",
    "version": 3
   },
   "file_extension": ".py",
   "mimetype": "text/x-python",
   "name": "python",
   "nbconvert_exporter": "python",
   "pygments_lexer": "ipython3",
   "version": "3.6.4"
  }
 },
 "nbformat": 4,
 "nbformat_minor": 2
}
