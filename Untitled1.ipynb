{
 "cells": [
  {
   "cell_type": "code",
   "execution_count": 1,
   "metadata": {},
   "outputs": [],
   "source": [
    "s = []"
   ]
  },
  {
   "cell_type": "code",
   "execution_count": null,
   "metadata": {},
   "outputs": [
    {
     "name": "stdout",
     "output_type": "stream",
     "text": [
      "2 1 + 3 *\n",
      "9\n"
     ]
    }
   ],
   "source": [
    "import sys\n",
    "\n",
    "def popNum(stack):\n",
    "    a = b = 0\n",
    "    flag = False;\n",
    "    if(stack):\n",
    "        a = stack.pop()\n",
    "        \n",
    "        if(stack):\n",
    "            b = stack.pop()\n",
    "            flag = True\n",
    "         \n",
    "    return flag, a, b\n",
    "    \n",
    "if True:\n",
    "    while(True):\n",
    "        tmp = input()\n",
    "        if(tmp == ''):\n",
    "            break\n",
    "        s = tmp.split(' ')\n",
    "        \n",
    "        stack = []\n",
    "        ret = 0\n",
    "        flag = False;\n",
    "        for ch in s:\n",
    "            if ch == '+':\n",
    "                flag, a, b = popNum(stack)\n",
    "                ret = a + b\n",
    "                stack.append(ret)\n",
    "                \n",
    "            elif ch == '-':\n",
    "                flag, a, b = popNum(stack)\n",
    "                ret = a - b\n",
    "                stack.append(ret)\n",
    "                \n",
    "            elif ch == '*':\n",
    "                flag, a, b = popNum(stack)\n",
    "                ret = a * b\n",
    "                stack.append(ret)\n",
    "                \n",
    "            elif ch == '/':\n",
    "                flag, a, b = popNum(stack)\n",
    "                flag = flag and b != 0\n",
    "                ret = a / b\n",
    "                stack.append(ret)\n",
    "            else:\n",
    "                try:\n",
    "                    a = int(ch)\n",
    "                    stack.append(a)\n",
    "                    flag = True\n",
    "                except:\n",
    "                    print('Wrong')\n",
    "                    flag = False\n",
    "            if(not flag):\n",
    "                break\n",
    "        if(flag and len(stack) == 1):\n",
    "            print(stack[0])"
   ]
  },
  {
   "cell_type": "code",
   "execution_count": null,
   "metadata": {},
   "outputs": [],
   "source": [
    "2 1 + 3 *"
   ]
  }
 ],
 "metadata": {
  "kernelspec": {
   "display_name": "Python 3",
   "language": "python",
   "name": "python3"
  },
  "language_info": {
   "codemirror_mode": {
    "name": "ipython",
    "version": 3
   },
   "file_extension": ".py",
   "mimetype": "text/x-python",
   "name": "python",
   "nbconvert_exporter": "python",
   "pygments_lexer": "ipython3",
   "version": "3.6.4"
  }
 },
 "nbformat": 4,
 "nbformat_minor": 2
}
