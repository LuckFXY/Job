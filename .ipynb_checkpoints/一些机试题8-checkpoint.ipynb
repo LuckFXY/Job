{
 "cells": [
  {
   "cell_type": "code",
   "execution_count": 1,
   "metadata": {},
   "outputs": [
    {
     "name": "stdout",
     "output_type": "stream",
     "text": [
      "[1, 2, 3, 4, 5, 6]\n"
     ]
    }
   ],
   "source": [
    "a = [1,2,3]\n",
    "a.extend([4,5,6])\n",
    "print(a)"
   ]
  },
  {
   "cell_type": "code",
   "execution_count": 3,
   "metadata": {},
   "outputs": [
    {
     "data": {
      "text/plain": [
       "['right', 'left', 'root']"
      ]
     },
     "execution_count": 3,
     "metadata": {},
     "output_type": "execute_result"
    }
   ],
   "source": [
    "c=['root','left','right']\n",
    "m=[2,1,0]\n",
    "[c[mi] for mi in m]"
   ]
  },
  {
   "cell_type": "code",
   "execution_count": 4,
   "metadata": {},
   "outputs": [
    {
     "data": {
      "text/plain": [
       "[]"
      ]
     },
     "execution_count": 4,
     "metadata": {},
     "output_type": "execute_result"
    }
   ],
   "source": [
    "[][::-1]"
   ]
  },
  {
   "cell_type": "code",
   "execution_count": 1,
   "metadata": {},
   "outputs": [
    {
     "name": "stdout",
     "output_type": "stream",
     "text": [
      "[2, 9, 1]\n",
      "[7, 3]\n"
     ]
    }
   ],
   "source": [
    "a = [2,7,9,3,1]\n",
    "print(a[::2])\n",
    "print(a[1::2])"
   ]
  },
  {
   "cell_type": "code",
   "execution_count": 22,
   "metadata": {},
   "outputs": [
    {
     "name": "stdout",
     "output_type": "stream",
     "text": [
      "5 25g3J\n",
      "1 3\n",
      "3 5\n",
      "['5g', 'g3J']\n"
     ]
    },
    {
     "data": {
      "text/plain": [
       "'5G-G3J'"
      ]
     },
     "execution_count": 22,
     "metadata": {},
     "output_type": "execute_result"
    }
   ],
   "source": [
    "S=\"2-5g-3-J\"\n",
    "\n",
    "K = 2\n",
    "N = len(S)\n",
    "\n",
    "char_list = S.split('-')\n",
    "N = N - len(char_list) + 1\n",
    "chars = S.replace('-','')\n",
    "print(N, chars)\n",
    "first = N % K\n",
    "\n",
    "pre = chars[:first]\n",
    "ret =[]\n",
    "for i in range(0, N//K):\n",
    "    print(first+i*K,first+(i+1)*K)\n",
    "    ret.append(chars[first+i:first+(i+1)*K])\n",
    "print(ret)\n",
    "'-'.join(ret).upper()"
   ]
  },
  {
   "cell_type": "code",
   "execution_count": 38,
   "metadata": {},
   "outputs": [
    {
     "data": {
      "text/plain": [
       "True"
      ]
     },
     "execution_count": 38,
     "metadata": {},
     "output_type": "execute_result"
    }
   ],
   "source": [
    "def isPowerOfFour(num):\n",
    "    \"\"\"\n",
    "    :type num: int\n",
    "    :rtype: bool\n",
    "    \"\"\"\n",
    "    if num <= 0: return False\n",
    "    n1 = 0\n",
    "    mask = 3\n",
    "    for step in range(0,32,2):\n",
    "        test = (num & (mask << step))>>step\n",
    "        if test == 1:\n",
    "            n1 += 1\n",
    "            if n1 == 2:\n",
    "                return False\n",
    "        elif test != 0:\n",
    "            return False\n",
    "\n",
    "    return True\n",
    "\n",
    "isPowerOfFour(64)"
   ]
  },
  {
   "cell_type": "code",
   "execution_count": 26,
   "metadata": {},
   "outputs": [
    {
     "data": {
      "text/plain": [
       "20"
      ]
     },
     "execution_count": 26,
     "metadata": {},
     "output_type": "execute_result"
    }
   ],
   "source": [
    "16 ^ 4"
   ]
  },
  {
   "cell_type": "code",
   "execution_count": null,
   "metadata": {},
   "outputs": [],
   "source": []
  }
 ],
 "metadata": {
  "kernelspec": {
   "display_name": "Python 3",
   "language": "python",
   "name": "python3"
  },
  "language_info": {
   "codemirror_mode": {
    "name": "ipython",
    "version": 3
   },
   "file_extension": ".py",
   "mimetype": "text/x-python",
   "name": "python",
   "nbconvert_exporter": "python",
   "pygments_lexer": "ipython3",
   "version": "3.6.4"
  }
 },
 "nbformat": 4,
 "nbformat_minor": 2
}
