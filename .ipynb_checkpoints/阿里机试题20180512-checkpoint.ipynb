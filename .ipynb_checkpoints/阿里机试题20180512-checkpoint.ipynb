{
 "cells": [
  {
   "cell_type": "code",
   "execution_count": 2,
   "metadata": {},
   "outputs": [],
   "source": [
    "node = 4\n",
    "edge = [(0,1),(1,2),(2,3),(0,2)]"
   ]
  },
  {
   "cell_type": "code",
   "execution_count": 4,
   "metadata": {},
   "outputs": [
    {
     "name": "stdout",
     "output_type": "stream",
     "text": [
      "{0: [1, 2], 1: [2], 2: [3]}\n"
     ]
    }
   ],
   "source": [
    "class imap(object):\n",
    "    def __init__(self, cur_node):\n",
    "        pass\n",
    "imap = dict()\n",
    "for ed in edge:\n",
    "    cur, sub = ed\n",
    "    if cur not in imap:\n",
    "        imap[cur] = [sub]\n",
    "    else:\n",
    "        imap[cur].append(sub)\n",
    "        \n",
    "for start in imap:\n",
    "    #search\n",
    "    \n",
    "print(imap)"
   ]
  },
  {
   "cell_type": "code",
   "execution_count": 12,
   "metadata": {},
   "outputs": [
    {
     "name": "stdout",
     "output_type": "stream",
     "text": [
      "child: 3\n",
      "child: 3\n"
     ]
    },
    {
     "data": {
      "text/plain": [
       "6"
      ]
     },
     "execution_count": 12,
     "metadata": {},
     "output_type": "execute_result"
    }
   ],
   "source": [
    "def search(root):\n",
    "    stack = [root]\n",
    "    ihash = 0\n",
    "    res = set()\n",
    "    count = 0\n",
    "    while stack:\n",
    "        cur = stack.pop()\n",
    "        child = imap.get(cur, None)\n",
    "        count += 1\n",
    "        if not child :\n",
    "            \n",
    "            print(\"child:\",cur)\n",
    "            continue\n",
    "        else:\n",
    "            stack += child\n",
    "    return count\n",
    "search(0)"
   ]
  },
  {
   "cell_type": "code",
   "execution_count": 45,
   "metadata": {},
   "outputs": [],
   "source": [
    "import numpy as np"
   ]
  },
  {
   "cell_type": "code",
   "execution_count": 103,
   "metadata": {},
   "outputs": [
    {
     "name": "stdout",
     "output_type": "stream",
     "text": [
      "{0: [0, 3], 1: [2.5, 1.5], 2: [5, 3], 3: [4, 0], 4: [0, 0]}\n"
     ]
    }
   ],
   "source": [
    "a, b, c, d, e = range(5)\n",
    "G = {\n",
    "    a: {b, c,  e,},\n",
    "    b: {a,c,d,e},\n",
    "    c: {a,b,d},\n",
    "    d: {b,c,e},\n",
    "    e: {a,b,d},\n",
    "}\n",
    "# from scipy.stats import uniform\n",
    "\n",
    "# rv = uniform(loc=0, scale=1)\n",
    "#V = {i: rv.rvs(size=2) for i in range(5)}\n",
    "V = {\n",
    "    0:[0,3],\n",
    "    1:[2.5,1.5],\n",
    "    2:[5,3],\n",
    "    3:[4,0],\n",
    "    4:[0,0]\n",
    "}\n",
    "print(V)"
   ]
  },
  {
   "cell_type": "code",
   "execution_count": 104,
   "metadata": {},
   "outputs": [
    {
     "name": "stdout",
     "output_type": "stream",
     "text": [
      "{0: {1: 2.9154759474226504, 2: 5.0, 4: 3.0}, 1: {0: 2.9154759474226504, 2: 2.9154759474226504, 3: 2.1213203435596424, 4: 2.9154759474226504}, 2: {0: 5.0, 1: 2.9154759474226504, 3: 3.1622776601683795}, 3: {1: 2.1213203435596424, 2: 3.1622776601683795, 4: 4.0}, 4: {0: 3.0, 1: 2.9154759474226504, 3: 4.0}}\n"
     ]
    }
   ],
   "source": [
    "def dist(a,b):\n",
    "    x1, y1 = a\n",
    "    x2, y2 = b\n",
    "    dx, dy = x1 - x2, y1 - y2\n",
    "    return pow(dx * dx + dy * dy, 0.5)\n",
    "G = {u: {v: dist(V[u], V[v]) for v in G[u]} for u in G}\n",
    "print(G)"
   ]
  },
  {
   "cell_type": "code",
   "execution_count": 117,
   "metadata": {},
   "outputs": [
    {
     "name": "stdout",
     "output_type": "stream",
     "text": [
      "{0: [1], 1: [3, 2, 4]}\n"
     ]
    }
   ],
   "source": [
    "from heapq import heappop, heappush\n",
    "\n",
    "def prim(G, start):\n",
    "    T, Q = {}, []\n",
    "    close = set([start,])\n",
    "    for v, w in G[start].items():\n",
    "            heappush(Q, (w, start, v))\n",
    "    while Q:\n",
    "        _, u, v = heappop(Q)\n",
    "        if v in close or u not in close:\n",
    "            continue\n",
    "        if u not in T:\n",
    "            T[u] = [v,]\n",
    "        else:\n",
    "            T[u].append(v)\n",
    "        close.add(v)\n",
    "\n",
    "        for nb, w in G[v].items():\n",
    "            heappush(Q, (w, v, nb))\n",
    "    return T\n",
    "\n",
    "k = prim(G, 0)\n",
    "print(k)"
   ]
  },
  {
   "cell_type": "code",
   "execution_count": 119,
   "metadata": {},
   "outputs": [
    {
     "data": {
      "image/png": "[encoded data removed]",
      "text/plain": [
       "<matplotlib.figure.Figure at 0x25511a90>"
      ]
     },
     "metadata": {},
     "output_type": "display_data"
    }
   ],
   "source": [
    "import matplotlib.pyplot as plt\n",
    "\n",
    "for i in V:\n",
    "    #print(V[i])\n",
    "    plt.scatter(V[i][0], V[i][1])\n",
    "for i in G:\n",
    "    for j in G[i]:\n",
    "        temp = list(zip(V[i], V[j]))\n",
    "        plt.plot(temp[0], temp[1], 'k')\n",
    "for i,j in k.items():\n",
    "    for i_neight in j:\n",
    "        xy = list(zip(V[i], V[i_neight]))\n",
    "        plt.plot(xy[0], xy[1], 'r', lw=8, alpha=0.6)\n",
    "plt.show()\n"
   ]
  },
  {
   "cell_type": "code",
   "execution_count": 125,
   "metadata": {},
   "outputs": [
    {
     "name": "stdout",
     "output_type": "stream",
     "text": [
      "{(0, 1), (1, 4), (1, 3), (1, 2)}\n"
     ]
    }
   ],
   "source": [
    "def find(C, u):\n",
    "    if C[u] != u:\n",
    "        C[u] = find(C, C[u])\n",
    "    return C[u]\n",
    "\n",
    "\n",
    "def union(C, R, u, v):\n",
    "    u, v = find(C, u), find(C, v)\n",
    "    if R[u] > R[v]:\n",
    "        C[v] = u\n",
    "    else:\n",
    "        C[u] = v\n",
    "    if R[u] == R[v]:\n",
    "        R[v] += 1\n",
    "\n",
    "\n",
    "def kruskal(G):\n",
    "    E = [(G[u][v], u, v) for u in G for v in G[u]]\n",
    "    T = set()\n",
    "    C, R = {u: u for u in G}, {u: 0 for u in G}\n",
    "    for _, u, v in sorted(E):\n",
    "        if find(C, u) != find(C, v):\n",
    "            T.add((u, v))\n",
    "            union(C, R, u, v)\n",
    "    return T\n",
    "\n",
    "k = kruskal(G)\n",
    "print(k)"
   ]
  },
  {
   "cell_type": "code",
   "execution_count": null,
   "metadata": {},
   "outputs": [],
   "source": []
  },
  {
   "cell_type": "code",
   "execution_count": 126,
   "metadata": {},
   "outputs": [
    {
     "data": {
      "image/png": "[encoded data removed]",
      "text/plain": [
       "<matplotlib.figure.Figure at 0x12e93470>"
      ]
     },
     "metadata": {},
     "output_type": "display_data"
    }
   ],
   "source": [
    "import matplotlib.pyplot as plt\n",
    "\n",
    "for i in V:\n",
    "    #print(V[i])\n",
    "    plt.scatter(V[i][0], V[i][1])\n",
    "for i in G:\n",
    "    for j in G[i]:\n",
    "        temp = list(zip(V[i], V[j]))\n",
    "        plt.plot(temp[0], temp[1], 'k')\n",
    "for i,j in k:\n",
    "    xy = list(zip(V[i], V[j]))\n",
    "    plt.plot(xy[0], xy[1], 'r', lw=8, alpha=0.6)\n",
    "plt.show()"
   ]
  },
  {
   "cell_type": "code",
   "execution_count": null,
   "metadata": {},
   "outputs": [],
   "source": []
  }
 ],
 "metadata": {
  "kernelspec": {
   "display_name": "Python 3",
   "language": "python",
   "name": "python3"
  },
  "language_info": {
   "codemirror_mode": {
    "name": "ipython",
    "version": 3
   },
   "file_extension": ".py",
   "mimetype": "text/x-python",
   "name": "python",
   "nbconvert_exporter": "python",
   "pygments_lexer": "ipython3",
   "version": "3.6.4"
  }
 },
 "nbformat": 4,
 "nbformat_minor": 2
}
