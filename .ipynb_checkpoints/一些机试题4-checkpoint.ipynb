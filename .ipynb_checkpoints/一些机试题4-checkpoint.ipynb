{
 "cells": [
  {
   "cell_type": "code",
   "execution_count": 10,
   "metadata": {},
   "outputs": [],
   "source": [
    "import time"
   ]
  },
  {
   "cell_type": "code",
   "execution_count": 20,
   "metadata": {},
   "outputs": [
    {
     "name": "stdout",
     "output_type": "stream",
     "text": [
      "used time :  3.7747151996702257\n",
      "used time :  3.0101130496976936\n"
     ]
    }
   ],
   "source": [
    "def root(num):\n",
    "    if num == 0:\n",
    "        return 0\n",
    "    digit=[9,1,2,3,4,5,6,7,8,9]\n",
    "    return digit[num%9]\n",
    "def root2(num):\n",
    "    if num == 0:\n",
    "        return 0\n",
    "    else:\n",
    "        return (num-1)%9 + 1\n",
    "c = time.clock()    \n",
    "for i in range(9999999):\n",
    "    root(i)\n",
    "print(\"used time : \",time.clock() - c)\n",
    "\n",
    "c = time.clock()    \n",
    "for i in range(9999999):\n",
    "    root2(i)\n",
    "print(\"used time : \",time.clock() - c)"
   ]
  },
  {
   "cell_type": "code",
   "execution_count": 39,
   "metadata": {},
   "outputs": [
    {
     "data": {
      "text/plain": [
       "4"
      ]
     },
     "execution_count": 39,
     "metadata": {},
     "output_type": "execute_result"
    }
   ],
   "source": [
    "class Solution:\n",
    "    def getNexts(self, i, j):\n",
    "        candidates = [[i+1,j], [i,j-1],[i,j + 1]]\n",
    "        ret = []\n",
    "        for c in candidates:\n",
    "            if 0 <= c[0] < self.N and 0 <= c[1] < self.M:\n",
    "                key = c[0] *self.M + c[1]\n",
    "                if key not in self.duplicate:\n",
    "                    ret.append(c)\n",
    "                    self.duplicate.add(key)\n",
    "        return ret\n",
    "    \n",
    "    def maxAreaOfIsland(self, grid):\n",
    "        \"\"\"\n",
    "        :type grid: List[List[int]]\n",
    "        :rtype: int\n",
    "        \"\"\"\n",
    "        if not grid:\n",
    "            return 0\n",
    "        self.N = len(grid)\n",
    "        self.M = len(grid[0])\n",
    "        if self.M == 0:\n",
    "            return 0\n",
    "        max_area = 0\n",
    "        area = 0\n",
    "        self.duplicate = set()\n",
    "        self.duplicate.add(0)\n",
    "        for i in range(self.N):\n",
    "            for j in range(self.M):\n",
    "                candidates = [[i,j], ]\n",
    "                area = 0\n",
    "                while len(candidates) != 0:\n",
    "                    cur = candidates.pop()\n",
    "                    if grid[cur[0]][cur[1]] == 1:\n",
    "                        grid[cur[0]][cur[1]] = 0\n",
    "                        area += 1\n",
    "                        candidates += self.getNexts(cur[0],cur[1])\n",
    "                max_area = max(max_area, area)\n",
    "        return max_area\n",
    "s = Solution()\n",
    "grid = [[1,1,0,0,0],[1,1,0,0,0],[0,0,0,1,1],[0,0,0,1,1]]\n",
    "s.maxAreaOfIsland(grid)"
   ]
  },
  {
   "cell_type": "code",
   "execution_count": 46,
   "metadata": {},
   "outputs": [
    {
     "name": "stdout",
     "output_type": "stream",
     "text": [
      "{1: [1, 2, 3, 4], 2: [5, 6, 7, 8]}\n"
     ]
    }
   ],
   "source": [
    "a= [1,2,3,4]\n",
    "b= [5,6,7,8]\n",
    "c = {1:a, 2:b}\n",
    "print(c)"
   ]
  },
  {
   "cell_type": "code",
   "execution_count": 47,
   "metadata": {},
   "outputs": [
    {
     "name": "stdout",
     "output_type": "stream",
     "text": [
      "100649224\n",
      "100649224\n"
     ]
    }
   ],
   "source": [
    "print(id(a))\n",
    "print(id(c[1]))"
   ]
  },
  {
   "cell_type": "code",
   "execution_count": 48,
   "metadata": {},
   "outputs": [
    {
     "name": "stdout",
     "output_type": "stream",
     "text": [
      "[10, 2, 3, 4]\n"
     ]
    }
   ],
   "source": [
    "c[1][0] = 10\n",
    "print(a)"
   ]
  },
  {
   "cell_type": "code",
   "execution_count": 2,
   "metadata": {},
   "outputs": [
    {
     "name": "stdout",
     "output_type": "stream",
     "text": [
      "[0, 1, 0, 3, 12]\n"
     ]
    }
   ],
   "source": [
    "def moveZeroes(nums):\n",
    "    \"\"\"\n",
    "    :type nums: List[int]\n",
    "    :rtype: void Do not return anything, modify nums in-place instead.\n",
    "    \"\"\"\n",
    "    i = j = 0\n",
    "    N =  len(nums)\n",
    "    while j != N:\n",
    "        if nums[j] != 0:\n",
    "            nums[i] == nums[j]\n",
    "            i += 1\n",
    "        j += 1\n",
    "    while i != N:\n",
    "        nums[i] = 0\n",
    "        i+= 1\n",
    "        \n",
    "nums = [0,1,0,3,12]\n",
    "moveZeroes(nums)\n",
    "print(nums)"
   ]
  },
  {
   "cell_type": "code",
   "execution_count": 3,
   "metadata": {},
   "outputs": [
    {
     "data": {
      "text/plain": [
       "{'1', '2', '3', '4', '5'}"
      ]
     },
     "execution_count": 3,
     "metadata": {},
     "output_type": "execute_result"
    }
   ],
   "source": [
    "s='123354'\n",
    "set(s)"
   ]
  },
  {
   "cell_type": "code",
   "execution_count": 5,
   "metadata": {},
   "outputs": [],
   "source": [
    "ans = 0\n",
    "for ti in s: ans += ord(ti)"
   ]
  },
  {
   "cell_type": "code",
   "execution_count": 20,
   "metadata": {},
   "outputs": [
    {
     "data": {
      "text/plain": [
       "[5, 6]"
      ]
     },
     "execution_count": 20,
     "metadata": {},
     "output_type": "execute_result"
    }
   ],
   "source": [
    "nums = [4,3,2,7,8,2,3,1]\n",
    "def func(nums):\n",
    "    N = len(nums)\n",
    "    for i in range(N):\n",
    "        val = abs(nums[i]) - 1\n",
    "        nums[val] = -abs(nums[val])\n",
    "    ret =[i+1 for i, val in enumerate(nums) if val > 0]\n",
    "    return ret\n",
    "                \n",
    "func(nums)\n",
    "            "
   ]
  },
  {
   "cell_type": "code",
   "execution_count": 79,
   "metadata": {},
   "outputs": [
    {
     "name": "stdout",
     "output_type": "stream",
     "text": [
      "MAX 0b1111111111111111111111111111111\n",
      "0b1100 0b11111111111111111111111111100000\n",
      "0b11111111111111111111111111101100 0b0\n",
      "overflow\n"
     ]
    },
    {
     "data": {
      "text/plain": [
       "4294967276"
      ]
     },
     "execution_count": 79,
     "metadata": {},
     "output_type": "execute_result"
    }
   ],
   "source": [
    "def getSum(a,b):\n",
    "    # 32 bits integer max\n",
    "    MAX = 0x7FFFFFFF\n",
    "    print(\"MAX\",bin(MAX))\n",
    "    # 32 bits interger min\n",
    "    MIN = 0x80000000\n",
    "    # mask to get last 32 bits\n",
    "    mask = 0xFFFFFFFF\n",
    "    while b:\n",
    "        a,b = (a^b) & mask, ((a&b)<<1) & mask\n",
    "        print(bin(a), bin(b))\n",
    "    if a > MAX:\n",
    "        print(\"overflow\")\n",
    "        a = a & mask\n",
    "    return a\n",
    "\n",
    "getSum(-12,-8)"
   ]
  },
  {
   "cell_type": "code",
   "execution_count": 53,
   "metadata": {},
   "outputs": [
    {
     "name": "stdout",
     "output_type": "stream",
     "text": [
      "4 -6\n",
      "8 -14\n",
      "16 -30\n",
      "32 -62\n",
      "64 -126\n",
      "128 -254\n",
      "256 -510\n",
      "512 -1022\n",
      "1024 -2046\n",
      "2048 -4094\n"
     ]
    },
    {
     "data": {
      "text/plain": [
       "-4094"
      ]
     },
     "execution_count": 53,
     "metadata": {},
     "output_type": "execute_result"
    }
   ],
   "source": [
    "def getSum(a, b):\n",
    "    \"\"\"\n",
    "    :type a: int\n",
    "    :type b: int\n",
    "    :rtype: int\n",
    "    \"\"\"\n",
    "    tmp = a & b\n",
    "    b =  a ^ b\n",
    "    a = tmp\n",
    "    max = 10\n",
    "    while a:\n",
    "        a <<= 1\n",
    "        tmp = a & b\n",
    "        b = a ^ b\n",
    "        print(tmp, b)\n",
    "        a = tmp\n",
    "        max -= 1\n",
    "        if max == 0:\n",
    "            break\n",
    "    return b\n",
    "getSum(-1,3)"
   ]
  },
  {
   "cell_type": "code",
   "execution_count": 28,
   "metadata": {},
   "outputs": [
    {
     "data": {
      "text/plain": [
       "-4"
      ]
     },
     "execution_count": 28,
     "metadata": {},
     "output_type": "execute_result"
    }
   ],
   "source": [
    "(-1) ^ 3"
   ]
  },
  {
   "cell_type": "code",
   "execution_count": null,
   "metadata": {},
   "outputs": [],
   "source": []
  }
 ],
 "metadata": {
  "kernelspec": {
   "display_name": "Python 3",
   "language": "python",
   "name": "python3"
  },
  "language_info": {
   "codemirror_mode": {
    "name": "ipython",
    "version": 3
   },
   "file_extension": ".py",
   "mimetype": "text/x-python",
   "name": "python",
   "nbconvert_exporter": "python",
   "pygments_lexer": "ipython3",
   "version": "3.6.4"
  }
 },
 "nbformat": 4,
 "nbformat_minor": 2
}
