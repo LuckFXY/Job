{
 "cells": [
  {
   "cell_type": "code",
   "execution_count": 2,
   "metadata": {},
   "outputs": [],
   "source": [
    "class BNode:\n",
    "    def __init__(self, val):\n",
    "        self.val = val\n",
    "        self.left = None\n",
    "        self.right = None"
   ]
  },
  {
   "cell_type": "code",
   "execution_count": 3,
   "metadata": {},
   "outputs": [],
   "source": [
    "def preOrderPrint(root):\n",
    "    if root != None:\n",
    "        print(root.val, end = ' ')\n",
    "        preOrderPrint(root.left)\n",
    "        preOrderPrint(root.right)"
   ]
  },
  {
   "cell_type": "code",
   "execution_count": 4,
   "metadata": {},
   "outputs": [
    {
     "name": "stdout",
     "output_type": "stream",
     "text": [
      "1 2 4 7 3 5 6 8 "
     ]
    }
   ],
   "source": [
    "def ConstructCore(preOrder, inOrder):\n",
    "    if preOrder == None or len(preOrder) == 0:\n",
    "        return None\n",
    "    if len(preOrder) == 1 or len(inOrder) == 1:\n",
    "        if len(preOrder) ==  len(inOrder) and preOrder[0] == inOrder[0]:\n",
    "            return BNode(preOrder[0])\n",
    "        else:\n",
    "            raise RuntimeError(\"The preOrder: {} unmatched the inOrder: {}\".format(str(preOrder), str(inOrder)))\n",
    "    \n",
    "    p_val = preOrder[0]; mid = 0\n",
    "    while mid != len(inOrder):\n",
    "        if inOrder[mid] == p_val: break\n",
    "        mid += 1\n",
    "    root = BNode(p_val)\n",
    "    if mid > 0:\n",
    "        root.left = ConstructCore(preOrder[1:mid+1], inOrder[:mid])\n",
    "    if mid+1 < len(preOrder):\n",
    "        root.right = ConstructCore(preOrder[mid+1:], inOrder[mid+1:])\n",
    "    return root\n",
    "\n",
    "p = [1,2,4,7,3,5,6,8] \n",
    "i = [4,7,2,1,5,3,8,6]\n",
    "root = ConstructCore(p, i)\n",
    "preOrderPrint(root)"
   ]
  },
  {
   "cell_type": "code",
   "execution_count": 5,
   "metadata": {},
   "outputs": [
    {
     "name": "stdout",
     "output_type": "stream",
     "text": [
      "1 (2, 5)\n",
      "2 (2, 1)\n",
      "3 (2, 8)\n",
      "4 (2, 7)\n",
      "5 (2, 3)\n",
      "6 (1, None)\n",
      "7 (2, 2)\n",
      "8 (2, 6)\n"
     ]
    }
   ],
   "source": [
    "\n",
    "def PrintNext(root, val, flag=0):\n",
    "    ret = None\n",
    "    if flag ==2 :\n",
    "        pass\n",
    "    else :\n",
    "        if root.left:\n",
    "            flag, ret = PrintNext(root.left, val, flag)\n",
    "        if root.val == val:\n",
    "            flag = 1\n",
    "        elif flag == 1:\n",
    "            #print(\"next node \",root.val)\n",
    "            ret = root.val\n",
    "            flag = 2\n",
    "        if root.right:\n",
    "            flag2, ret2 = PrintNext(root.right, val, flag) \n",
    "            flag = max(flag, flag2)\n",
    "            if ret == None:\n",
    "                ret = ret2\n",
    "    return flag, ret\n",
    "for i in range(1,9):\n",
    "    print(i, end=' ')\n",
    "    print(PrintNext(root, i))\n",
    "    "
   ]
  },
  {
   "cell_type": "code",
   "execution_count": 6,
   "metadata": {},
   "outputs": [
    {
     "data": {
      "text/plain": [
       "True"
      ]
     },
     "execution_count": 6,
     "metadata": {},
     "output_type": "execute_result"
    }
   ],
   "source": [
    "def rotateString(A, B):\n",
    "    \"\"\"\n",
    "    :type A: str\n",
    "    :type B: str\n",
    "    :rtype: bool\n",
    "    \"\"\"\n",
    "    if not A and not B:\n",
    "        return True\n",
    "    if not A and B != None:\n",
    "        return False\n",
    "    if A != None and not B:\n",
    "        return False\n",
    "\n",
    "    na = len(A)\n",
    "    nb = len(B)\n",
    "\n",
    "    if na != nb:\n",
    "        return False\n",
    "\n",
    "    start = 0\n",
    "    i = 0\n",
    "\n",
    "    while start < nb:\n",
    "\n",
    "        while start < na and start < nb:\n",
    "            if A[0] == B[start]:\n",
    "                break\n",
    "            start += 1\n",
    "        if start == na or (start == nb):\n",
    "            print('start==na')\n",
    "            break\n",
    "        count = 0\n",
    "        print(start)\n",
    "        for i in range(1, na):\n",
    "            print(A[i] ,B[(start+i)%nb])\n",
    "            if A[i] != B[(start+i)%nb]:\n",
    "                break\n",
    "            count += 1\n",
    "        start += 1\n",
    "\n",
    "        if count == na-1:\n",
    "            return True\n",
    "        count = 0\n",
    "    return False\n",
    "A = \"\"\n",
    "B = \"\"\n",
    "rotateString(A, B)"
   ]
  },
  {
   "cell_type": "code",
   "execution_count": 7,
   "metadata": {},
   "outputs": [
    {
     "data": {
      "text/plain": [
       "0"
      ]
     },
     "execution_count": 7,
     "metadata": {},
     "output_type": "execute_result"
    }
   ],
   "source": [
    "ord('\\0')"
   ]
  },
  {
   "cell_type": "code",
   "execution_count": 8,
   "metadata": {},
   "outputs": [
    {
     "name": "stdout",
     "output_type": "stream",
     "text": [
      "1 123\n",
      "1 456\n"
     ]
    }
   ],
   "source": [
    "hab = dict(a=0,b=0)\n",
    "for sym in ['a','b']:\n",
    "    hab[sym] += 1\n",
    "for sym, ss in zip(['a','b'],['123','456']):\n",
    "    print(hab[sym],ss)"
   ]
  },
  {
   "cell_type": "code",
   "execution_count": 9,
   "metadata": {},
   "outputs": [],
   "source": [
    "def GetNext(p):\n",
    "    plen = len(p)\n",
    "    next = [-1] * plen\n",
    "    k = -1; j = 0\n",
    "    count = 0\n",
    "    total = 0 \n",
    "    while j < plen -1:\n",
    "        if k == -1 or p[k] == p[j]:\n",
    "            k += 1\n",
    "            j += 1\n",
    "            next[j] = k\n",
    "            print(\"\",end='\\t'*4)\n",
    "        else:\n",
    "            print(p[:k+1], p[j-k:j+1],\"\\tj = %d back: %d -> %d\"%(j, k, next[k]), end='\\t')\n",
    "            count += 1\n",
    "            k = next[k]\n",
    "        total += 1\n",
    "        print('next: '+' '.join([str(i) for i in next]).replace('-1','_'))\n",
    "    print(\"count = %d\"%(count))\n",
    "    print(\"total = %d\"%(total))\n",
    "    return next"
   ]
  },
  {
   "cell_type": "code",
   "execution_count": 10,
   "metadata": {},
   "outputs": [],
   "source": [
    "def GetNext2(p):\n",
    "    plen = len(p)\n",
    "    next = [-1] * plen\n",
    "    k = -1; j = 0\n",
    "    count = 0\n",
    "    total = 0 \n",
    "    while j < plen -1:\n",
    "        if k == -1 or p[k] == p[j]:\n",
    "            k += 1\n",
    "            j += 1\n",
    "            if p[j] != p[k]:\n",
    "                next[j] = k\n",
    "            else:\n",
    "                next[j] = next[k]\n",
    "            print(\"\",end='\\t'*4)\n",
    "            \n",
    "        else:\n",
    "            print(p[:k+1], p[j-k:j+1],\"\\tj = %d back: %d -> %d\"%(j, k, next[k]), end='\\t')\n",
    "            count += 1\n",
    "            k = next[k]\n",
    "        total += 1\n",
    "        print('next: '+' '.join([str(i) for i in next]).replace('-1','_'))\n",
    "    print(\"count = %d\"%(count))\n",
    "    print(\"total = %d\"%(total))\n",
    "    return next"
   ]
  },
  {
   "cell_type": "code",
   "execution_count": 11,
   "metadata": {},
   "outputs": [
    {
     "name": "stdout",
     "output_type": "stream",
     "text": [
      "aababcabcdabcde\n",
      "15\n"
     ]
    }
   ],
   "source": [
    "a=''\n",
    "for i in range(6):\n",
    "    for j in range(i):\n",
    "        a += chr(j+97)\n",
    "print(a)\n",
    "print(len(a))"
   ]
  },
  {
   "cell_type": "code",
   "execution_count": 12,
   "metadata": {},
   "outputs": [
    {
     "name": "stdout",
     "output_type": "stream",
     "text": [
      "\t\t\t\tnext: _ _ _ _ _ _ _ _ _ _ _ _ _ _ _\n",
      "\t\t\t\tnext: _ _ 1 _ _ _ _ _ _ _ _ _ _ _ _\n",
      "aa ab \tj = 2 back: 1 -> -1\tnext: _ _ 1 _ _ _ _ _ _ _ _ _ _ _ _\n",
      "\t\t\t\tnext: _ _ 1 _ _ _ _ _ _ _ _ _ _ _ _\n",
      "\t\t\t\tnext: _ _ 1 _ 1 _ _ _ _ _ _ _ _ _ _\n",
      "aa ab \tj = 4 back: 1 -> -1\tnext: _ _ 1 _ 1 _ _ _ _ _ _ _ _ _ _\n",
      "\t\t\t\tnext: _ _ 1 _ 1 0 _ _ _ _ _ _ _ _ _\n",
      "a c \tj = 5 back: 0 -> -1\tnext: _ _ 1 _ 1 0 _ _ _ _ _ _ _ _ _\n",
      "\t\t\t\tnext: _ _ 1 _ 1 0 _ _ _ _ _ _ _ _ _\n",
      "\t\t\t\tnext: _ _ 1 _ 1 0 _ 1 _ _ _ _ _ _ _\n",
      "aa ab \tj = 7 back: 1 -> -1\tnext: _ _ 1 _ 1 0 _ 1 _ _ _ _ _ _ _\n",
      "\t\t\t\tnext: _ _ 1 _ 1 0 _ 1 0 _ _ _ _ _ _\n",
      "a c \tj = 8 back: 0 -> -1\tnext: _ _ 1 _ 1 0 _ 1 0 _ _ _ _ _ _\n",
      "\t\t\t\tnext: _ _ 1 _ 1 0 _ 1 0 0 _ _ _ _ _\n",
      "a d \tj = 9 back: 0 -> -1\tnext: _ _ 1 _ 1 0 _ 1 0 0 _ _ _ _ _\n",
      "\t\t\t\tnext: _ _ 1 _ 1 0 _ 1 0 0 _ _ _ _ _\n",
      "\t\t\t\tnext: _ _ 1 _ 1 0 _ 1 0 0 _ 1 _ _ _\n",
      "aa ab \tj = 11 back: 1 -> -1\tnext: _ _ 1 _ 1 0 _ 1 0 0 _ 1 _ _ _\n",
      "\t\t\t\tnext: _ _ 1 _ 1 0 _ 1 0 0 _ 1 0 _ _\n",
      "a c \tj = 12 back: 0 -> -1\tnext: _ _ 1 _ 1 0 _ 1 0 0 _ 1 0 _ _\n",
      "\t\t\t\tnext: _ _ 1 _ 1 0 _ 1 0 0 _ 1 0 0 _\n",
      "a d \tj = 13 back: 0 -> -1\tnext: _ _ 1 _ 1 0 _ 1 0 0 _ 1 0 0 _\n",
      "\t\t\t\tnext: _ _ 1 _ 1 0 _ 1 0 0 _ 1 0 0 0\n",
      "count = 9\n",
      "total = 23\n"
     ]
    }
   ],
   "source": [
    "next = GetNext2(a)"
   ]
  },
  {
   "cell_type": "code",
   "execution_count": 13,
   "metadata": {},
   "outputs": [
    {
     "data": {
      "text/plain": [
       "1"
      ]
     },
     "execution_count": 13,
     "metadata": {},
     "output_type": "execute_result"
    }
   ],
   "source": [
    "def modexp(a,b,n):\n",
    "    ret = 1; \n",
    "    while b:\n",
    "        if b & 1:\n",
    "            ret = ret * a % n\n",
    "        a = a * a % n\n",
    "        b >>= 1\n",
    "    return ret\n",
    "modexp(2,10000,3)"
   ]
  },
  {
   "cell_type": "code",
   "execution_count": 14,
   "metadata": {},
   "outputs": [],
   "source": [
    "class TreeNode():\n",
    "    def __init__(self, x):\n",
    "        self.val = x\n",
    "        self.left = None\n",
    "        self.right = None"
   ]
  },
  {
   "cell_type": "code",
   "execution_count": 15,
   "metadata": {},
   "outputs": [],
   "source": [
    "def prePrint(root):\n",
    "    print(root.val, end=' ')\n",
    "    if root.left:\n",
    "        prePrint(root.left)\n",
    "    if root.right:\n",
    "        prePrint(root.right)"
   ]
  },
  {
   "cell_type": "code",
   "execution_count": 16,
   "metadata": {},
   "outputs": [
    {
     "name": "stdout",
     "output_type": "stream",
     "text": [
      "1 2 "
     ]
    }
   ],
   "source": [
    "root = TreeNode(1)\n",
    "root.left = TreeNode(2)\n",
    "prePrint(root)"
   ]
  },
  {
   "cell_type": "code",
   "execution_count": 17,
   "metadata": {},
   "outputs": [],
   "source": [
    "def invertTree(root):\n",
    "    \"\"\"\n",
    "    :type root: TreeNode\n",
    "    :rtype: TreeNode\n",
    "    \"\"\"\n",
    "    if not root:\n",
    "        print('123')\n",
    "        return None\n",
    "\n",
    "    if root.left and root.right:\n",
    "        tmp = root.left\n",
    "        root.left = root.right\n",
    "        root.right = tmp\n",
    "        root.left = invertTree(root.left)\n",
    "        root.right = invertTree(root.right)\n",
    "    else:\n",
    "        if root.left:\n",
    "            root.left = invertTree(root.left)\n",
    "            root.right = root.left\n",
    "            root.left = None\n",
    "            print(root.left, root.right)\n",
    "        elif root.right:\n",
    "            root.right = invertTree(root.right)\n",
    "            root.left = root.right\n",
    "            root.right = None\n",
    "    print(root.left, root.right)\n",
    "    return root"
   ]
  },
  {
   "cell_type": "code",
   "execution_count": 18,
   "metadata": {},
   "outputs": [
    {
     "name": "stdout",
     "output_type": "stream",
     "text": [
      "None None\n",
      "None <__main__.TreeNode object at 0x0000000005ED4D30>\n",
      "None <__main__.TreeNode object at 0x0000000005ED4D30>\n"
     ]
    }
   ],
   "source": [
    "root2 = invertTree(root)"
   ]
  },
  {
   "cell_type": "code",
   "execution_count": 19,
   "metadata": {},
   "outputs": [],
   "source": [
    "root2.left"
   ]
  },
  {
   "cell_type": "code",
   "execution_count": 20,
   "metadata": {},
   "outputs": [],
   "source": [
    "word = \"Bob hit a ball, the\\' hit, BALL. flew! far; after? it was hit.\""
   ]
  },
  {
   "cell_type": "code",
   "execution_count": 21,
   "metadata": {},
   "outputs": [],
   "source": [
    "def mostCommonWord(paragraph, banned):\n",
    "    \"\"\"\n",
    "    :type paragraph: str\n",
    "    :type banned: List[str]\n",
    "    :rtype: str\n",
    "    \"\"\"\n",
    "    counter = collections.Counter(filter(lambda v: v not in \"!?',;.\", paragraph.lower()).split())\n",
    "    banned = set(banned)\n",
    "    return sorted({k: v for k, v in counter.items() if k not in banned}.items(), key=lambda v: v[1], reverse=True)[0][0]"
   ]
  },
  {
   "cell_type": "code",
   "execution_count": 22,
   "metadata": {},
   "outputs": [
    {
     "ename": "NameError",
     "evalue": "name 'collections' is not defined",
     "output_type": "error",
     "traceback": [
      "\u001b[1;31m---------------------------------------------------------------------------\u001b[0m",
      "\u001b[1;31mNameError\u001b[0m                                 Traceback (most recent call last)",
      "\u001b[1;32m<ipython-input-22-3d971051fec4>\u001b[0m in \u001b[0;36m<module>\u001b[1;34m()\u001b[0m\n\u001b[1;32m----> 1\u001b[1;33m \u001b[0mcollections\u001b[0m\u001b[1;33m.\u001b[0m\u001b[0mCounter\u001b[0m\u001b[1;33m(\u001b[0m\u001b[0mfilter\u001b[0m\u001b[1;33m(\u001b[0m\u001b[1;32mlambda\u001b[0m \u001b[0mv\u001b[0m\u001b[1;33m:\u001b[0m \u001b[0mv\u001b[0m \u001b[1;32mnot\u001b[0m \u001b[1;32min\u001b[0m \u001b[1;34m\"!?',;.\"\u001b[0m\u001b[1;33m,\u001b[0m \u001b[0mword\u001b[0m\u001b[1;33m.\u001b[0m\u001b[0mlower\u001b[0m\u001b[1;33m(\u001b[0m\u001b[1;33m)\u001b[0m\u001b[1;33m)\u001b[0m\u001b[1;33m.\u001b[0m\u001b[0msplit\u001b[0m\u001b[1;33m(\u001b[0m\u001b[1;33m)\u001b[0m\u001b[1;33m)\u001b[0m\u001b[1;33m\u001b[0m\u001b[0m\n\u001b[0m",
      "\u001b[1;31mNameError\u001b[0m: name 'collections' is not defined"
     ]
    }
   ],
   "source": [
    "collections.Counter(filter(lambda v: v not in \"!?',;.\", word.lower()).split())"
   ]
  },
  {
   "cell_type": "code",
   "execution_count": 23,
   "metadata": {},
   "outputs": [],
   "source": [
    "b= [\"a1b2\", \"a1B2\", \"A1b2\", \"A1B2\"]"
   ]
  },
  {
   "cell_type": "code",
   "execution_count": 24,
   "metadata": {},
   "outputs": [
    {
     "name": "stdout",
     "output_type": "stream",
     "text": [
      "C\n"
     ]
    },
    {
     "data": {
      "text/plain": [
       "['C', 'C']"
      ]
     },
     "execution_count": 24,
     "metadata": {},
     "output_type": "execute_result"
    }
   ],
   "source": [
    "def letterCasePermutation(S):\n",
    "    \"\"\"\n",
    "    :type S: str\n",
    "    :rtype: List[str]\n",
    "    \"\"\"\n",
    "    mylist = []\n",
    "    numChars = set([str(i) for i in range(10)])\n",
    "    s = [i for i in S]\n",
    "    for i, si in enumerate(S):\n",
    "        if si not in numChars:\n",
    "            mylist.append(i)\n",
    "\n",
    "    ret = []\n",
    "\n",
    "    mylen = len(mylist)\n",
    "    total = 1 << mylen\n",
    "    \n",
    "    for flag in range(total):\n",
    "        tmp = flag\n",
    "        ptr = mylen - 1\n",
    "        while tmp:\n",
    "            idx = mylist[ptr]\n",
    "            if tmp & 1: #lower\n",
    "                print(s[idx])\n",
    "                s[idx] = s[idx].upper()\n",
    "            else: #upper\n",
    "                print(\"upper\")\n",
    "                s[idx] = s[idx].lower()\n",
    "            ptr -= 1\n",
    "            tmp >>= 1\n",
    "        ret.append(''.join(s))\n",
    "\n",
    "    return ret\n",
    "letterCasePermutation('C')"
   ]
  },
  {
   "cell_type": "code",
   "execution_count": 25,
   "metadata": {},
   "outputs": [],
   "source": [
    "import time"
   ]
  },
  {
   "cell_type": "code",
   "execution_count": 26,
   "metadata": {},
   "outputs": [],
   "source": [
    "def getArea(p1, p2, p3):\n",
    "    area = -1\n",
    "    s1 = pow((p1[0] - p2[0]) ** 2 +(p1[1] - p2[1]) ** 2, 0.5)\n",
    "    s2 = pow((p1[0] - p3[0]) ** 2 +(p1[1] - p3[1]) ** 2, 0.5)\n",
    "    s3 = pow((p2[0] - p3[0]) ** 2 +(p2[1] - p3[1]) ** 2, 0.5)\n",
    "    if s1 + s2 <= s3 or s1 + s3 <= s2 or s2 + s3 <= s1:\n",
    "        pass\n",
    "    else:\n",
    "        area = 0.25 * pow((s1+s2+s3) * (s1+s2-s3) * (s1-s2+s3) * (-s1+s2+s3), 0.5)\n",
    "    return area\n",
    "\n",
    "def getArea2(a, b, c):\n",
    "    ab = [b[i] -  a[i] for i in [0,1]]\n",
    "    ac = [c[i] -  a[i] for i in [0,1]]\n",
    "    cross = ab[0] * ac[1] - ab[1] * ac[0]\n",
    "    return cross\n"
   ]
  },
  {
   "cell_type": "code",
   "execution_count": 27,
   "metadata": {},
   "outputs": [],
   "source": [
    "def largestTriangleArea(points):\n",
    "    \"\"\"\n",
    "    :type points: List[List[int]]\n",
    "    :rtype: float\n",
    "    \"\"\"\n",
    "    if not points:\n",
    "        return 0.0\n",
    "    pLen = len(points)\n",
    "\n",
    "    max_s = 0.0\n",
    "    ret = []\n",
    "    for i in range(pLen):\n",
    "        for j in range(i+1, pLen):\n",
    "            for k in range(j+1, pLen):\n",
    "                p1, p2, p3 = [points[ii] for ii in [i,j,k]]\n",
    "                s = getArea2(p1, p2, p3)\n",
    "                if s > max_s:\n",
    "                    max_s = s\n",
    "                    ret = [p1,p2,p3]\n",
    "    print(ret)\n",
    "    return max_s"
   ]
  },
  {
   "cell_type": "code",
   "execution_count": 28,
   "metadata": {},
   "outputs": [],
   "source": [
    "def largestTriangleArea_org(points):\n",
    "    \"\"\"\n",
    "    :type points: List[List[int]]\n",
    "    :rtype: float\n",
    "    \"\"\"\n",
    "    if not points:\n",
    "        return 0.0\n",
    "    pLen = len(points)\n",
    "\n",
    "    max_s = 0.0\n",
    "    ret = []\n",
    "    from math import sqrt\n",
    "\n",
    "    for i in range(pLen):\n",
    "        for j in range(i+1, pLen):\n",
    "\n",
    "            for k in range(j+1, pLen):\n",
    "\n",
    "                a,b,c = [points[ii] for ii in [i,j,k]]\n",
    "                s1 = sqrt( (a[0] - b[0])**2 + (a[1] - b[1])**2)\n",
    "                s2 = sqrt( (a[0] - c[0])**2 + (a[1] - c[1])**2)\n",
    "                s3 = sqrt( (b[0] - c[0])**2 + (b[1] - c[1])**2)\n",
    "                if s1 * s2 * s3 == 0:\n",
    "                    continue\n",
    "                if s1 + s2 <= s3 or s1 + s3 <= s2 or s2 + s3 <= s1:\n",
    "                    continue\n",
    "                s = 0.25 * sqrt((s1+s2+s3) * (s1+s2-s3) * (s1-s2+s3) * (-s1+s2+s3))\n",
    "                if s > max_s:\n",
    "                    max_s = s\n",
    "                    ret = [a,b,c]\n",
    "    print(ret)\n",
    "    return max_s"
   ]
  },
  {
   "cell_type": "code",
   "execution_count": 29,
   "metadata": {},
   "outputs": [],
   "source": [
    "points = [[50,12],[0,8],[20,-12],[-32,-34],[-46,-9],[35,49],[35,-37],[-32,28],[0,-13],[17,-43],[-25,2],[-37,-28],[-14,-34],[-47,25],[-6,20],[9,22],[-7,-9],[17,-10],[-24,29],[-41,21],[-32,15],[-12,35],[15,48],[-18,-26],[-27,-28],[-18,-7],[-16,-24],[10,11],[-27,45],[6,-40],[33,-12],[-48,-42],[11,37],[-26,1],[25,40],[4,27],[-2,-9],[29,32],[5,34],[1,-35],[-49,23],[27,2],[13,14],[-44,8],[-45,11],[-16,-41],[38,-43],[-16,11],[-10,35],[-3,-27]]"
   ]
  },
  {
   "cell_type": "code",
   "execution_count": 30,
   "metadata": {},
   "outputs": [
    {
     "name": "stdout",
     "output_type": "stream",
     "text": [
      "[[35, 49], [-48, -42], [38, -43]]\n",
      "3954.5000000000005\n",
      "Time used  0.13737176492035116\n"
     ]
    }
   ],
   "source": [
    "start = time.clock()\n",
    "s = largestTriangleArea_org(points)\n",
    "print(s)\n",
    "elapsed = time.clock() - start\n",
    "print(\"Time used \", elapsed)"
   ]
  },
  {
   "cell_type": "code",
   "execution_count": 31,
   "metadata": {},
   "outputs": [
    {
     "name": "stdout",
     "output_type": "stream",
     "text": [
      "[[35, 49], [-48, -42], [38, -43]]\n",
      "3954.5\n",
      "Time used  0.06558064942604713\n"
     ]
    }
   ],
   "source": [
    "start = time.clock()\n",
    "s = largestTriangleArea(points)\n",
    "print(s/2.0)\n",
    "elapsed = time.clock() - start\n",
    "print(\"Time used \", elapsed)"
   ]
  },
  {
   "cell_type": "code",
   "execution_count": 32,
   "metadata": {},
   "outputs": [],
   "source": [
    "import math\n",
    "import numpy as np\n",
    "import matplotlib.pyplot as plt\n"
   ]
  },
  {
   "cell_type": "code",
   "execution_count": 33,
   "metadata": {},
   "outputs": [
    {
     "data": {
      "image/png": "[encoded data removed]",
      "text/plain": [
       "<matplotlib.figure.Figure at 0x115af390>"
      ]
     },
     "metadata": {},
     "output_type": "display_data"
    }
   ],
   "source": [
    "\n",
    "test = []\n",
    "for i in range(0, 180,10):\n",
    "    y = math.sin(i/180 * math.pi)\n",
    "    x = math.cos(i/180 * math.pi)\n",
    "    test.append([x,y])\n",
    "def draw_point(data, convex = None):\n",
    "    test = [[d[i] for d in data] for i in [0,1]]\n",
    "    fig, ax = plt.subplots()\n",
    "    ax.scatter(test[0], test[1])\n",
    "    n = [i for i in range(len(data))]\n",
    "    for i,txt in enumerate(n):\n",
    "        ax.annotate(txt, (test[0][i], test[1][i]))\n",
    "    if convex != None:\n",
    "        for i in range(0, len(convex)-1):\n",
    "            xs, yx = [[convex[i][j], convex[i+1][j]] for j in [0,1]]\n",
    "            ax.plot(xs, yx)\n",
    "    plt.show()\n",
    "    \n",
    "draw_point(test)"
   ]
  },
  {
   "cell_type": "code",
   "execution_count": 39,
   "metadata": {},
   "outputs": [
    {
     "name": "stdout",
     "output_type": "stream",
     "text": [
      "[[0.18593621757262768, -0.47828229880990336], [0.20966492359095645, -0.4621135848733646], [0.35339516206401766, -0.13683159499394293], [0.4022869900898367, -0.015954321534523808], [0.33601243187726326, -0.07768310401905909], [0.4997306283691155, 0.40296685405395605], [0.43428504007604185, 0.3882026621281167], [0.44187304215293766, 0.4603128397735319], [0.2928892544889454, 0.18756896050186755], [0.2455044015761182, 0.06480482755623485], [0.24459147782683321, 0.26135141368218573], [0.22140634720364027, 0.42916180529166237], [0.21889254583769602, 0.483912271284904], [0.16380150112988778, 0.4028547701994989], [0.14226496667277444, -0.10659482827157885], [0.08743331229948748, 0.26669188199937555], [0.05058588045521306, 0.39975937721838917], [0.01361985543480937, 0.2582475614887938], [-0.021547209726111127, 0.3421278129370441], [0.011028740758040279, 0.19700035977087038], [0.06830259208380218, -0.03141026032683192], [0.09951476150328253, -0.15353310621506966], [0.01596122991769866, 0.046878712700910596], [-0.0920438955581393, 0.3248267755896789], [-0.24995364952981802, 0.37771818546675173], [-0.27480676806295623, 0.38498028836167697], [-0.2538285374537458, 0.3229188471669918], [-0.23279473108986704, 0.2422387335560301], [-0.2374106298966152, 0.20015100465114166], [-0.20962056177106703, 0.12278288078171229], [-0.12160969299503754, -0.024899865024967105], [-0.2134583403810183, 0.11044589317834386], [-0.3687631461641565, 0.33344059933907366], [-0.46023233396169005, 0.45824134199217104], [-0.13199057092361244, -0.03208862701239279], [-0.45876228681182263, 0.33750890546527024], [-0.3159435678564485, 0.09564061900115739], [-0.19777246885686695, -0.06744308143240618], [0.017018618513407358, -0.3078585740820251], [-0.3670851304614321, -0.009038169303961174], [-0.1562253619452847, -0.19067938524142558], [-0.45363060284637247, 0.05487409182148173], [0.05267861947413144, -0.3705355029287154], [-0.31676258710424643, -0.11185530665355015], [-0.23641419057795643, -0.17456460555275488], [0.007813761498421057, -0.3506813850675763], [-0.17796179893121167, -0.416719697571292], [-0.47048488935115884, -0.3734163308258778], [-0.3283091544559803, -0.4451090463558578], [-0.32343704645371574, -0.46978972081978243]]\n",
      "[0, 1]\n",
      "[49, 0, 1, 2, 3, 5, 7, 12, 33, 47]\n"
     ]
    },
    {
     "data": {
      "image/png": "[encoded data removed]",
      "text/plain": [
       "<matplotlib.figure.Figure at 0x135e25c0>"
      ]
     },
     "metadata": {},
     "output_type": "display_data"
    }
   ],
   "source": [
    "from math import sqrt, acos\n",
    "class ConvexHull():\n",
    "    def getAngle(self, p):\n",
    "        dx = p[0] - self.p0[0]\n",
    "        dy = p[1] - self.p0[1]\n",
    "#         if dy < 0:\n",
    "#             dx = -abs(dx)\n",
    "        assert dy >= 0, \"The y of p should bigger than that of p0\"\n",
    "        plen = sqrt(dx ** 2 + dy ** 2)\n",
    "        return acos(dx / (plen + 1e-12))\n",
    "    \n",
    "    def isLeft(self, o, a, b):\n",
    "        #等于0是共线，大于零左旋\n",
    "        aoX = a[0] - o[0]\n",
    "        aoY = a[1] - o[1]\n",
    "        baX = b[0] - a[0]\n",
    "        baY = b[1] - a[1]\n",
    "        return aoX * baY - aoY * baX\n",
    "    def smaller(self, p1, p2):\n",
    "        a = [p1[i] - self.p0[i] for i in [0, 1]]\n",
    "        b = [p2[i] - self.p0[i] for i in [0, 1]]\n",
    "        ma = a[0] **2 + a[1] **2\n",
    "        mb = b[0] **2 + b[1] **2\n",
    "        return ma < mb\n",
    "        \n",
    "    def Melkman(self, points):\n",
    "        \n",
    "\n",
    "        #交换拥有最小y值得点px 与 p(-1)\n",
    "        plen = len(points)\n",
    "        min_i = 0; i =1\n",
    "        while i < plen:\n",
    "            if points[i][1] < points[min_i][1]:\n",
    "                min_i = i\n",
    "            i += 1\n",
    "        \n",
    "        self.p0  = points[min_i]\n",
    "        points[min_i] = points[0]\n",
    "        points[0] = self.p0\n",
    "        \n",
    "        #以p0为坐标原点，建立坐标系, 根据每个点的角度排序\n",
    "        points[1:] = sorted(points[1:], key=lambda p: self.getAngle(p))\n",
    "        print(points)\n",
    "        N = len(points)\n",
    "        bot = N-1\n",
    "        top = N\n",
    "        D = [0]*2*N #数据索引， 双向表\n",
    "        D[top] = 0; top += 1\n",
    "        D[top] = 1; top += 1\n",
    "        \n",
    "        #第三个点p2 不能与前两个点p0,p1共线, 否则第二个点p1外延\n",
    "        p2_i = 2\n",
    "        while p2_i < N:\n",
    "            if self.isLeft(points[D[top-2]], points[D[top-1]], points[p2_i]) != 0:\n",
    "                break\n",
    "            #共线，将第二个点替换为更远的点\n",
    "            if self.smaller(points[D[top-1]], points[D[p2_i]]) == True:\n",
    "                D[top - 1] = p2_i    \n",
    "            p2_i += 1\n",
    "            \n",
    "        print(D[N:N+2])\n",
    "        D[bot] = p2_i; bot -= 1\n",
    "        D[top] = p2_i; top += 1\n",
    "        #top = N+ 3  bot = N - 2\n",
    "        #所有点都是按角度排列的，所以依次选择\n",
    "        i = p2_i + 1\n",
    "        while i < N:\n",
    "            if self.isLeft(points[D[top-2]], points[D[top-1]], points[i]) > 0 and \\\n",
    "            self.isLeft(points[D[bot+1]], points[D[bot+2]], points[i]) > 0 :\n",
    "                continue #i在包内，跳过\n",
    "            while self.isLeft(points[D[top-2]], points[D[top-1]], points[i]) <= 0:\n",
    "                top -= 1 # 正向表非左转， top端出队\n",
    "            D[top] = i; top += 1 #合法的入队\n",
    "            \n",
    "            while self.isLeft(points[D[bot+1]], points[D[bot+2]], points[i]) <= 0 :\n",
    "                bot += 1 # 反向表非左转， bot端出队\n",
    "            D[bot] = i; bot -= 1\n",
    "            \n",
    "            i+= 1\n",
    "        ret_idx = D[bot+1 : top-1]\n",
    "        print(ret_idx)\n",
    "        ret = [points[i] for i in ret_idx]\n",
    "        return ret\n",
    "        \n",
    "            \n",
    "#np.random.seed(0)\n",
    "random_points = (np.random.random_sample([50,2]) - 0.5)\n",
    "random_points = [[i,j] for i,j in random_points]\n",
    "#draw_point(random_points)\n",
    "#random_points = [[0,0],[0,1],[1,0],[0,2],[2,0]]\n",
    "c = ConvexHull()\n",
    "ret = c.Melkman(random_points)\n",
    "draw_point(random_points, ret)\n"
   ]
  },
  {
   "cell_type": "code",
   "execution_count": 40,
   "metadata": {},
   "outputs": [
    {
     "name": "stdout",
     "output_type": "stream",
     "text": [
      "[[0, 2], [0, 0], [2, 0]]\n",
      "[0, 2] [0, 0] [2, 0]\n"
     ]
    },
    {
     "data": {
      "text/plain": [
       "4"
      ]
     },
     "execution_count": 40,
     "metadata": {},
     "output_type": "execute_result"
    }
   ],
   "source": [
    "from math import sqrt, acos\n",
    "class Solution:\n",
    "    \n",
    "    def getAngle(self, p):\n",
    "        dx = p[0] - self.p0[0]\n",
    "        dy = p[1] - self.p0[1]\n",
    "        assert dy >= 0, \"The y of p should bigger than that of p0\"\n",
    "        plen = sqrt(dx ** 2 + dy ** 2)\n",
    "        return acos(dx / (plen + 1e-12))\n",
    "    \n",
    "    def isLeft(self, o, a, b):\n",
    "        #等于0是共线，大于零左旋\n",
    "        aoX = a[0] - o[0]\n",
    "        aoY = a[1] - o[1]\n",
    "        baX = b[0] - a[0]\n",
    "        baY = b[1] - a[1]\n",
    "        return aoX * baY - aoY * baX\n",
    "    \n",
    "    def smaller(self, p1, p2):\n",
    "        a = [p1[i] - self.p0[i] for i in [0, 1]]\n",
    "        b = [p2[i] - self.p0[i] for i in [0, 1]]\n",
    "        ma = a[0] **2 + a[1] **2\n",
    "        mb = b[0] **2 + b[1] **2\n",
    "        return ma < mb\n",
    "    \n",
    "    def Melkman(self, points):\n",
    "        #交换拥有最小y值得点px 与 p(-1)\n",
    "        plen = len(points)\n",
    "        min_i = 0; i =1\n",
    "        while i < plen:\n",
    "            if points[i][1] < points[min_i][1]:\n",
    "                min_i = i\n",
    "            i += 1\n",
    "        \n",
    "        self.p0  = points[min_i]\n",
    "        points[min_i] = points[0]\n",
    "        points[0] = self.p0\n",
    "        \n",
    "        #以p0为坐标原点，建立坐标系, 根据每个点的角度排序\n",
    "        points[1:] = sorted(points[1:], key=lambda p: self.getAngle(p))\n",
    "        \n",
    "        N = len(points)\n",
    "        bot = N-1\n",
    "        top = N\n",
    "        D = [0]*2*N #数据索引， 双向表\n",
    "        D[top] = 0; top += 1\n",
    "        D[top] = 1; top += 1\n",
    "        \n",
    "        #第三个点p2 不能与前两个点p0,p1共线, 否则第二个点p1外延\n",
    "        p2_i = 2\n",
    "        while p2_i < N:\n",
    "            \n",
    "            if self.isLeft(points[D[top-2]], points[D[top-1]], points[p2_i]) != 0:\n",
    "                break\n",
    "            #共线，将第二个点替换为更远的点\n",
    "            if self.smaller(points[D[top-1]], points[D[p2_i]]) == True:\n",
    "                D[top - 1] = p2_i\n",
    "            p2_i += 1\n",
    "            \n",
    "        D[bot] = p2_i; bot -= 1\n",
    "        D[top] = p2_i; top += 1\n",
    "        #top = N+ 3  bot = N - 2\n",
    "        #所有点都是按角度排列的，所以依次选择\n",
    "            \n",
    "        i = p2_i + 1\n",
    "        while i < N:\n",
    "            if self.isLeft(points[D[top-2]], points[D[top-1]], points[i]) > 0 and \\\n",
    "            self.isLeft(points[D[bot+1]], points[D[bot+2]], points[i]) > 0 :\n",
    "                continue #i在包内，跳过\n",
    "            while self.isLeft(points[D[top-2]], points[D[top-1]], points[i]) <= 0:\n",
    "                top -= 1 # 正向表非左转， top端出队\n",
    "            D[top] = i; top += 1 #合法的入队\n",
    "            \n",
    "            while self.isLeft(points[D[bot+1]], points[D[bot+2]], points[i]) <= 0 :\n",
    "                bot += 1 # 反向表非左转， bot端出队\n",
    "            D[bot] = i; bot -= 1\n",
    "            \n",
    "            i+= 1\n",
    "        ret_idx = D[bot+1 : top-1]\n",
    "        #print(ret_idx)\n",
    "        ret = [points[i] for i in ret_idx]\n",
    "        return ret\n",
    "    \n",
    "    def getArea(self, a, b, c):\n",
    "        ab = [b[i] -  a[i] for i in [0,1]]\n",
    "        ac = [c[i] -  a[i] for i in [0,1]]\n",
    "        cross = ab[0] * ac[1] - ab[1] * ac[0]\n",
    "        return cross\n",
    "    def largestTriangleArea(self, points):\n",
    "        \"\"\"\n",
    "        :type points: List[List[int]]\n",
    "        :rtype: float\n",
    "        \"\"\"\n",
    "        if not points:\n",
    "            return 0.0\n",
    "        \n",
    "        points = self.Melkman(points)\n",
    "        print(points)\n",
    "        pLen = len(points)\n",
    "        max_s = 0.0\n",
    "        for i in range(pLen):\n",
    "            for j in range(i+1, pLen):\n",
    "                for k in range(j+1, pLen):\n",
    "                    a,b,c = [points[ii] for ii in [i,j,k]]\n",
    "                    print(a,b,c)\n",
    "                    s=self.getArea(a,b,c)\n",
    "                    max_s = max(max_s, s)\n",
    "        return max_s\n",
    "    \n",
    "s = Solution()\n",
    "points = [[0,0],[0,1],[1,0],[0,2],[2,0]]\n",
    "s.largestTriangleArea(points)"
   ]
  },
  {
   "cell_type": "code",
   "execution_count": 36,
   "metadata": {},
   "outputs": [
    {
     "data": {
      "text/plain": [
       "[[0.2876519495790585, 0.08310407961032107],\n",
       " [0.47018622826334766, -0.15357112708171938],\n",
       " [0.14912318705411776, -0.33724519648777007],\n",
       " [-0.1207711896819682, -0.15335566753118768],\n",
       " [-0.385775554674217, 0.007498324957668667],\n",
       " [-0.34624664265639304, 0.219652305377539],\n",
       " [-0.1634802131423777, -0.17159999877913767],\n",
       " [0.0490023048878121, -0.4411084450806747],\n",
       " [-0.31796046905667585, -0.25880760067166875],\n",
       " [0.49525384855846033, 0.42347856773329295],\n",
       " [0.1837019873522472, 0.13085856581588462],\n",
       " [0.09088945508885049, -0.23533088489315124],\n",
       " [0.36440129621144757, -0.42832973252489015],\n",
       " [-0.11772829810299468, 0.34179010544402066],\n",
       " [0.26733818171500856, 0.21927225472366474],\n",
       " [-0.43723626364846124, -0.22491968019333042],\n",
       " [0.42569113596457553, -0.21509887902106128],\n",
       " [0.014487725800006679, -0.42051814231207096],\n",
       " [-0.058834999675349886, -0.18238107132090908],\n",
       " [-0.3814396349230188, -0.26159234552002364]]"
      ]
     },
     "execution_count": 36,
     "metadata": {},
     "output_type": "execute_result"
    }
   ],
   "source": [
    "random_points = (np.random.random_sample([20,2]) - 0.5)\n",
    "[[i,j] for i,j in random_points]"
   ]
  },
  {
   "cell_type": "code",
   "execution_count": 37,
   "metadata": {},
   "outputs": [
    {
     "ename": "NameError",
     "evalue": "name 't' is not defined",
     "output_type": "error",
     "traceback": [
      "\u001b[1;31m---------------------------------------------------------------------------\u001b[0m",
      "\u001b[1;31mNameError\u001b[0m                                 Traceback (most recent call last)",
      "\u001b[1;32m<ipython-input-37-147dfb005468>\u001b[0m in \u001b[0;36m<module>\u001b[1;34m()\u001b[0m\n\u001b[1;32m----> 1\u001b[1;33m \u001b[1;32mfor\u001b[0m \u001b[0mti\u001b[0m \u001b[1;32min\u001b[0m \u001b[0mt\u001b[0m\u001b[1;33m:\u001b[0m\u001b[1;33m\u001b[0m\u001b[0m\n\u001b[0m\u001b[0;32m      2\u001b[0m     \u001b[0ma\u001b[0m \u001b[1;33m=\u001b[0m \u001b[0mgetAngle\u001b[0m\u001b[1;33m(\u001b[0m\u001b[0mti\u001b[0m\u001b[1;33m)\u001b[0m\u001b[1;33m/\u001b[0m\u001b[0mpi\u001b[0m\u001b[1;33m\u001b[0m\u001b[0m\n\u001b[0;32m      3\u001b[0m     \u001b[0mprint\u001b[0m\u001b[1;33m(\u001b[0m\u001b[0mti\u001b[0m\u001b[1;33m,\u001b[0m \u001b[0ma\u001b[0m\u001b[1;33m)\u001b[0m\u001b[1;33m\u001b[0m\u001b[0m\n",
      "\u001b[1;31mNameError\u001b[0m: name 't' is not defined"
     ]
    }
   ],
   "source": [
    "for ti in t:\n",
    "    a = getAngle(ti)/pi\n",
    "    print(ti, a)"
   ]
  },
  {
   "cell_type": "code",
   "execution_count": 38,
   "metadata": {},
   "outputs": [
    {
     "name": "stdout",
     "output_type": "stream",
     "text": [
      "[0, 6, 3, 8, 3, 7, 3, 0]\n"
     ]
    }
   ],
   "source": [
    "a = [0,6,3,8,3,7,3,0]\n",
    "a[1:].sort()\n",
    "print(a)"
   ]
  },
  {
   "cell_type": "code",
   "execution_count": null,
   "metadata": {},
   "outputs": [],
   "source": []
  }
 ],
 "metadata": {
  "kernelspec": {
   "display_name": "Python 3",
   "language": "python",
   "name": "python3"
  },
  "language_info": {
   "codemirror_mode": {
    "name": "ipython",
    "version": 3
   },
   "file_extension": ".py",
   "mimetype": "text/x-python",
   "name": "python",
   "nbconvert_exporter": "python",
   "pygments_lexer": "ipython3",
   "version": "3.6.4"
  }
 },
 "nbformat": 4,
 "nbformat_minor": 2
}
