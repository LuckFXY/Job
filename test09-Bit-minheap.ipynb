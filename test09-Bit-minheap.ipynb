{
 "cells": [
  {
   "cell_type": "code",
   "execution_count": 19,
   "metadata": {},
   "outputs": [
    {
     "name": "stdout",
     "output_type": "stream",
     "text": [
      "1 1 0b1 True\n",
      "3 3 0b10 True\n",
      "3 3 0b11 False\n",
      "6 7 0b100 False\n",
      "7 7 0b101 True\n",
      "7 7 0b110 False\n",
      "7 7 0b111 False\n",
      "12 15 0b1000 False\n",
      "13 15 0b1001 False\n",
      "15 15 0b1010 True\n",
      "15 15 0b1011 False\n",
      "14 15 0b1100 False\n",
      "15 15 0b1101 False\n",
      "15 15 0b1110 False\n",
      "15 15 0b1111 False\n",
      "24 31 0b10000 False\n",
      "25 31 0b10001 False\n",
      "27 31 0b10010 False\n",
      "27 31 0b10011 False\n"
     ]
    }
   ],
   "source": [
    "def hasAlternatingBits( n):\n",
    "    \"\"\"\n",
    "    :type n: int\n",
    "    :rtype: bool\n",
    "    \"\"\"\n",
    "    count = 0\n",
    "    t= n\n",
    "    while t :\n",
    "        count += 1\n",
    "        t >>=1\n",
    "    print((n | (n>>1)), (1<<count)-1, end=' ')\n",
    "    return (n & (n>>1)) == 0 and (n | (n>>1)) == (1<<count)-1\n",
    "\n",
    "for i in range(1,20):\n",
    "    print(bin(i), hasAlternatingBits(i))"
   ]
  },
  {
   "cell_type": "code",
   "execution_count": 41,
   "metadata": {
    "scrolled": false
   },
   "outputs": [
    {
     "name": "stdout",
     "output_type": "stream",
     "text": [
      "369001\n"
     ]
    }
   ],
   "source": [
    "def countBits(n, start = 0):\n",
    "    \n",
    "    if n == 0:\n",
    "        return [1]\n",
    "    first = start >> 1\n",
    "    dp = [0] * (n-first+1)\n",
    "    for i in range(first, start+1):\n",
    "        dp[i-first] = bin(i).count('1')\n",
    "   \n",
    "    for i in range(start, n+1):\n",
    "        dp[i-first] = dp[(i >> 1)-first] + (i & 1)       \n",
    "\n",
    "    return dp\n",
    "\n",
    "def countPrimeSetBits(L, R):\n",
    "    cnt = 0\n",
    "    listPrime = set([2,3,5,7,9,11,13,17,19,23,29])\n",
    "    res = countBits(R+1)\n",
    "    for i in range(L, R+1):\n",
    "        if res[i] in listPrime:\n",
    "            cnt += 1\n",
    "    return cnt\n",
    "\n",
    "ret = countBits(729000,720000)\n",
    "print(len(ret))"
   ]
  },
  {
   "cell_type": "code",
   "execution_count": 78,
   "metadata": {},
   "outputs": [
    {
     "name": "stdout",
     "output_type": "stream",
     "text": [
      "-6 12\n",
      "-6 1\n"
     ]
    },
    {
     "data": {
      "text/plain": [
       "[-6, 1, -5, 12]"
      ]
     },
     "execution_count": 78,
     "metadata": {},
     "output_type": "execute_result"
    }
   ],
   "source": [
    "heap = [1,12,-5,-6]\n",
    "def minHeapInit(heap):\n",
    "    size = len(heap)\n",
    "    for parent in range(size//2, -1, -1 ):\n",
    "        p = parent; child = p * 2 + 1\n",
    "        if child+1 < size and heap[child+1] > heap[child]:\n",
    "            child += 1\n",
    "        while child < size and heap[child] < heap[p]:\n",
    "\n",
    "            heap[child] , heap[p] = heap[p] , heap[child]\n",
    "            print(heap[p] , heap[child])\n",
    "            p = child; child = p * 2 + 1\n",
    "            if child+1 < size and heap[child+1] < heap[child]:\n",
    "                child += 1\n",
    "            \n",
    "    return heap\n",
    "\n",
    "MinHeapInit(heap)"
   ]
  },
  {
   "cell_type": "code",
   "execution_count": 76,
   "metadata": {},
   "outputs": [
    {
     "name": "stdout",
     "output_type": "stream",
     "text": [
      "[-6, 1, -5, 12]\n",
      "-5 50\n",
      "50 [-5, 1, 50, 12]\n",
      "1 3\n",
      "3 [1, 3, 50, 12]\n"
     ]
    }
   ],
   "source": [
    "def updateMinHeap(heap, e):\n",
    "    if e > heap[0]:\n",
    "        heap[0] = e\n",
    "    p = 0; child = p * 2 + 1\n",
    "    size = len(heap)\n",
    "    if child +1 < size and heap[child + 1] < heap[child]:\n",
    "        child += 1\n",
    "    while child < size and heap[child] < heap[p]:\n",
    "            if child+1 < size and heap[child+1] < heap[child]:\n",
    "            child += 1\n",
    "        heap[child] , heap[p] = heap[p] , heap[child]\n",
    "        print(heap[p] , heap[child])\n",
    "        p = child; child = p * 2 + 1\n",
    "\n",
    "    return heap\n",
    "\n",
    "print(heap)\n",
    "for i in range(10):\n",
    "    h = updateMinHeap(heap, i)\n",
    "    print(i, h)"
   ]
  },
  {
   "cell_type": "code",
   "execution_count": 107,
   "metadata": {},
   "outputs": [
    {
     "name": "stdout",
     "output_type": "stream",
     "text": [
      "[2, 1]\n",
      "[1, 2, 1, 1]\n",
      "[1, 1, 1, 2, 2, 1]\n",
      "[3, 1, 2, 2, 1, 1]\n",
      "[1, 3, 1, 1, 2, 2, 2, 1]\n",
      "[1, 1, 1, 3, 2, 1, 3, 2, 1, 1]\n",
      "[3, 1, 1, 3, 1, 2, 1, 1, 1, 3, 1, 2, 2, 1]\n",
      "[1, 3, 2, 1, 1, 3, 1, 1, 1, 2, 3, 1, 1, 3, 1, 1, 2, 2, 1, 1]\n"
     ]
    },
    {
     "data": {
      "text/plain": [
       "[1, 3, 2, 1, 1, 3, 1, 1, 1, 2, 3, 1, 1, 3, 1, 1, 2, 2, 1, 1]"
      ]
     },
     "execution_count": 107,
     "metadata": {},
     "output_type": "execute_result"
    }
   ],
   "source": [
    "def countAndSay(n):\n",
    "    \"\"\"\n",
    "    :type n: int\n",
    "    :rtype: str\n",
    "    \"\"\"\n",
    "    if not n:\n",
    "        return 0\n",
    "    ret = [[1],[1,1]]\n",
    "    \n",
    "    if n <= 2:\n",
    "        return ''.join(ret[n-1])\n",
    "    cur = 0; old = 1\n",
    "    for i in range(2, n):\n",
    "        ret[cur].clear()\n",
    "        N = len(ret[old])\n",
    "        old_list = ret[old]\n",
    "        p = ret[old][0]; cnt = 1\n",
    "        j = 1\n",
    "        while j < N:\n",
    "            if ret[old][j] == p:\n",
    "                cnt += 1\n",
    "                j += 1\n",
    "            else:\n",
    "                ret[cur] += [cnt, p]\n",
    "                cnt = 0\n",
    "                p = ret[old][j]\n",
    "        if cnt:\n",
    "            ret[cur] += [cnt, p]\n",
    "        print(ret[cur])\n",
    "        old ^= 1; cur ^= 1\n",
    "    \n",
    "    return ret[old]\n",
    "\n",
    "countAndSay(10)"
   ]
  },
  {
   "cell_type": "code",
   "execution_count": 115,
   "metadata": {},
   "outputs": [
    {
     "name": "stdout",
     "output_type": "stream",
     "text": [
      "flag= -1\n",
      "flag= 1\n",
      "flag= 0\n"
     ]
    },
    {
     "data": {
      "text/plain": [
       "6"
      ]
     },
     "execution_count": 115,
     "metadata": {},
     "output_type": "execute_result"
    }
   ],
   "source": [
    "def guess(n):\n",
    "    if n < 6:\n",
    "        return -1\n",
    "    elif n > 6:\n",
    "        return 1\n",
    "    else:\n",
    "        return 0\n",
    "    \n",
    "def guessNumber(n):\n",
    "    \"\"\"\n",
    "    :type n: int\n",
    "    :rtype: int\n",
    "    \"\"\"\n",
    "    left = 0; right = n;\n",
    "    flag = 1\n",
    "    while flag:\n",
    "        mid = (left + right) // 2; \n",
    "        flag = guess(mid)\n",
    "        print(\"flag=\",flag)\n",
    "        if flag == -1:\n",
    "            left = mid + 1\n",
    "        elif flag == 1:\n",
    "            right = mid - 1\n",
    "        else:\n",
    "            return mid\n",
    "    return mid\n",
    "guessNumber(10)"
   ]
  },
  {
   "cell_type": "code",
   "execution_count": 122,
   "metadata": {},
   "outputs": [
    {
     "name": "stdout",
     "output_type": "stream",
     "text": [
      "[0, 1, 2, 3, 4, 2, 2, 3, 3, 4]\n"
     ]
    }
   ],
   "source": [
    "def removeDuplicates(nums):\n",
    "    \"\"\"\n",
    "    :type nums: List[int]\n",
    "    :rtype: int\n",
    "    \"\"\"\n",
    "    if not nums:\n",
    "        return 0\n",
    "    i, j = 0, 0\n",
    "    N = len(nums)\n",
    "    last = None\n",
    "    while j < N:\n",
    "        if nums[j] != last:\n",
    "            last = nums[j]\n",
    "            nums[i] = nums[j]\n",
    "            i += 1\n",
    "        j += 1\n",
    "    nums = [nums:i]\n",
    "    return i\n",
    "\n",
    "n = [0,0,1,1,1,2,2,3,3,4]\n",
    "removeDuplicates(n)\n",
    "print(n)"
   ]
  },
  {
   "cell_type": "code",
   "execution_count": 126,
   "metadata": {},
   "outputs": [
    {
     "data": {
      "text/plain": [
       "0"
      ]
     },
     "execution_count": 126,
     "metadata": {},
     "output_type": "execute_result"
    }
   ],
   "source": [
    "s = \"                \"\n",
    "len([i for i in s.split(' ') if i])"
   ]
  },
  {
   "cell_type": "code",
   "execution_count": 132,
   "metadata": {},
   "outputs": [
    {
     "data": {
      "text/plain": [
       "60070"
      ]
     },
     "execution_count": 132,
     "metadata": {},
     "output_type": "execute_result"
    }
   ],
   "source": [
    "def arrangeCoins(n):\n",
    "    \"\"\"\n",
    "    :type n: int\n",
    "    :rtype: int\n",
    "    \"\"\"\n",
    "    ret = int(pow(2 * n, 0.5)) + 1\n",
    "    while ret * (ret+1) / 2 > n:\n",
    "        ret -=1\n",
    "    return ret\n",
    "\n",
    "arrangeCoins(1804289383)"
   ]
  },
  {
   "cell_type": "code",
   "execution_count": 129,
   "metadata": {},
   "outputs": [
    {
     "data": {
      "text/plain": [
       "42476.92765490461"
      ]
     },
     "execution_count": 129,
     "metadata": {},
     "output_type": "execute_result"
    }
   ],
   "source": [
    "pow(1804289383,0.5)"
   ]
  },
  {
   "cell_type": "code",
   "execution_count": 131,
   "metadata": {},
   "outputs": [
    {
     "data": {
      "text/plain": [
       "1804232485.0"
      ]
     },
     "execution_count": 131,
     "metadata": {},
     "output_type": "execute_result"
    }
   ],
   "source": [
    "60070 * 60071 / 2"
   ]
  },
  {
   "cell_type": "code",
   "execution_count": null,
   "metadata": {},
   "outputs": [],
   "source": []
  }
 ],
 "metadata": {
  "kernelspec": {
   "display_name": "Python 3",
   "language": "python",
   "name": "python3"
  },
  "language_info": {
   "codemirror_mode": {
    "name": "ipython",
    "version": 3
   },
   "file_extension": ".py",
   "mimetype": "text/x-python",
   "name": "python",
   "nbconvert_exporter": "python",
   "pygments_lexer": "ipython3",
   "version": "3.6.4"
  }
 },
 "nbformat": 4,
 "nbformat_minor": 2
}
