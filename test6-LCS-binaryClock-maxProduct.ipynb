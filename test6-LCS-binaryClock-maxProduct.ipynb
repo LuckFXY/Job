{
 "cells": [
  {
   "cell_type": "code",
   "execution_count": 12,
   "metadata": {},
   "outputs": [
    {
     "name": "stdout",
     "output_type": "stream",
     "text": [
      "0 0 0 0 0 0 0 0 0 0 0 0 0 0 0 0 0 0 0 0 0 0 0 0 0 0 0 0 0 0 0 0 0 0 0 0 0 0 0 0 0 0 0 0 0 0 0 0 0 0 0 0 0 0 0 0 0 0 0 0 0 0 0 0 0 0 0 0 0 0 0 0 0 0 0 0 0 0 0 0 0 \n",
      "0 0 0 0 0 0 0 0 0 0 1 1 1 1 1 1 1 1 1 1 1 1 1 1 1 1 1 1 1 1 1 1 1 1 1 1 1 1 1 1 1 1 1 1 1 1 1 1 1 1 1 1 1 1 1 1 1 1 1 1 1 1 1 1 1 1 1 1 1 1 1 1 1 1 1 1 1 1 1 1 1 \n",
      "0 0 0 0 0 0 0 0 0 0 1 1 1 1 1 1 1 1 1 1 1 1 1 1 2 2 2 2 2 2 2 2 2 2 2 2 2 2 2 2 2 2 2 2 2 2 2 2 2 2 2 2 2 2 2 2 2 2 2 2 2 2 2 2 2 2 2 2 2 2 2 2 2 2 2 2 2 2 2 2 2 \n",
      "0 1 1 1 1 1 1 1 1 1 1 1 1 1 1 1 1 1 1 1 1 1 1 1 2 2 2 2 2 2 2 2 2 2 2 2 2 2 2 3 3 3 3 3 3 3 3 3 3 3 3 3 3 3 3 3 3 3 3 3 3 3 3 3 3 3 3 3 3 3 3 3 3 3 3 3 3 3 3 3 3 \n",
      "0 1 1 1 1 1 1 1 1 2 2 2 2 2 2 2 2 2 2 2 2 2 2 2 2 2 2 2 2 2 2 2 2 2 2 2 2 2 2 3 3 3 3 3 3 3 3 3 3 3 3 3 3 3 3 3 3 4 4 4 4 4 4 4 4 4 4 4 4 4 4 4 4 4 4 4 4 4 4 4 4 \n",
      "0 1 1 1 1 1 1 1 1 2 2 2 2 2 2 2 2 2 2 2 2 2 2 2 3 3 3 3 3 3 3 3 3 3 3 3 3 3 3 3 4 4 4 4 4 4 4 4 4 4 4 4 4 4 4 4 4 4 4 4 4 4 4 4 4 4 4 4 4 4 5 5 5 5 5 5 5 5 5 5 5 \n",
      "0 1 1 1 1 1 1 1 1 2 2 2 2 2 2 2 2 2 2 3 3 3 3 3 3 3 3 3 3 3 3 3 3 3 3 4 4 4 4 4 4 4 4 4 4 4 4 4 4 4 4 4 4 4 4 5 5 5 5 5 5 5 5 5 5 5 5 5 5 5 5 5 5 6 6 6 6 6 6 6 6 \n",
      "0 1 1 1 1 1 1 1 1 2 2 2 2 2 2 2 2 2 2 3 3 3 3 3 3 3 3 3 3 3 3 3 4 4 4 4 4 4 4 4 4 4 4 4 4 4 4 4 4 5 5 5 5 5 5 5 6 6 6 6 6 6 6 6 6 6 6 6 6 6 6 6 6 6 6 6 6 6 6 7 7 \n",
      "0 1 1 1 1 1 1 1 1 2 2 2 2 2 2 2 2 2 2 3 3 3 3 3 3 3 3 3 3 3 3 3 4 4 4 4 4 4 4 5 5 5 5 5 5 5 5 5 5 5 5 5 5 5 5 5 6 7 7 7 7 7 7 7 7 7 7 7 7 7 7 7 7 7 7 7 7 7 7 7 7 \n",
      "bjaajge\n"
     ]
    },
    {
     "data": {
      "text/plain": [
       "7"
      ]
     },
     "execution_count": 12,
     "metadata": {},
     "output_type": "execute_result"
    }
   ],
   "source": [
    "def mprint(data):\n",
    "    for row in data:\n",
    "        for col in row:\n",
    "            print(col,end=' ')\n",
    "        print('')\n",
    "        \n",
    "def LCS(s1, s2):\n",
    "    if not s1 or not s2:\n",
    "        return 0\n",
    "    m = len(s1)\n",
    "    n = len(s2)\n",
    "    table = [[0]*(n+1) for _ in range(m+1)]\n",
    "    for i in range(1, m+1):\n",
    "        for j in range(1, n+1):\n",
    "            if s1[i-1] == s2[j-1]:\n",
    "                table[i][j] = table[i-1][j-1] + 1\n",
    "            else:\n",
    "                table[i][j] = max(table[i][j-1], table[i-1][j])\n",
    "    mprint(table)\n",
    "    i = m; j = n\n",
    "    comm = []\n",
    "    while table[i][j] != 0:\n",
    "        #print('table[%d][%d]=%d'%(i,j,table[i][j]))\n",
    "        if s1[i-1] == s2[j-1]:\n",
    "            comm.append(s1[i-1])\n",
    "            i -= 1\n",
    "            j -= 1\n",
    "        elif table[i-1][j] >= table[i][j-1]:\n",
    "            i -= 1\n",
    "        else :\n",
    "            j -= 1\n",
    "    print(''.join(comm[::-1]))\n",
    "        \n",
    "    return table[m][n]\n",
    "\n",
    "s1 = \"bjaajgea\"\n",
    "s2 = \"affhiiicabhbdchbidghccijjbfjfhjeddgggbajhidhjchiedhdibgeaecffbbbefiabjdhggihccec\"\n",
    "LCS(s1,s2)"
   ]
  },
  {
   "cell_type": "code",
   "execution_count": 13,
   "metadata": {},
   "outputs": [
    {
     "name": "stdout",
     "output_type": "stream",
     "text": [
      "[2, 1, 0, 0, 0, 0, 0, 0, 0, 0, 0, 0, 0, 0, 0, 0, 0, 0, 0, 0, 0, 0, 0, 0, 0, 0]\n",
      "[1, 1, 0, 0, 0, 0, 0, 0, 0, 0, 0, 0, 0, 0, 0, 0, 0, 0, 0, 0, 0, 0, 0, 0, 0, 0]\n",
      "[0, 1, 0, 0, 0, 0, 0, 0, 0, 0, 0, 0, 0, 0, 0, 0, 0, 0, 0, 0, 0, 0, 0, 0, 0, 0]\n"
     ]
    },
    {
     "data": {
      "text/plain": [
       "False"
      ]
     },
     "execution_count": 13,
     "metadata": {},
     "output_type": "execute_result"
    }
   ],
   "source": [
    "def canConstruct(ransomNote, magazine):\n",
    "    \"\"\"\n",
    "    :type ransomNote: str\n",
    "    :type magazine: str\n",
    "    :rtype: bool\n",
    "    \"\"\"\n",
    "    if not ransomNote:\n",
    "        return True\n",
    "\n",
    "\n",
    "    alphabet = [0] * 26\n",
    "    for m in magazine:\n",
    "        alphabet[ord(m)-97] += 1\n",
    "    ret = 0\n",
    "    print(alphabet)\n",
    "    for r in ransomNote:\n",
    "        alphabet[ord(r) - 97] -= 1\n",
    "        print(alphabet)\n",
    "        if alphabet[ord(r) - 97] <= 0:\n",
    "            return False\n",
    "    return True\n",
    "\n",
    "canConstruct('aa', 'aab')"
   ]
  },
  {
   "cell_type": "code",
   "execution_count": 15,
   "metadata": {},
   "outputs": [
    {
     "data": {
      "text/plain": [
       "True"
      ]
     },
     "execution_count": 15,
     "metadata": {},
     "output_type": "execute_result"
    }
   ],
   "source": [
    "d = dict(a=1,b=2)\n",
    "'a' in d"
   ]
  },
  {
   "cell_type": "code",
   "execution_count": 24,
   "metadata": {},
   "outputs": [
    {
     "data": {
      "text/plain": [
       "2"
      ]
     },
     "execution_count": 24,
     "metadata": {},
     "output_type": "execute_result"
    }
   ],
   "source": [
    "def firstUniqChar(s):\n",
    "    \"\"\"\n",
    "    :type s: str\n",
    "    :rtype: int\n",
    "    \"\"\"\n",
    "    alphabet = [0] * 26\n",
    "    slen = len(s)\n",
    "    i = 0; j = slen-1\n",
    "    ci = s[i]\n",
    "    cj = s[j]\n",
    "    while i < j:\n",
    "\n",
    "        while i < j and ci != cj:\n",
    "            alphabet[ord(cj) - 97] = 1\n",
    "\n",
    "            j -= 1\n",
    "            cj = s[j]\n",
    "        alphabet[ord(cj) - 97] = 1\n",
    "\n",
    "        while i< slen and alphabet[ord(ci) - 97] != 0:\n",
    "            i += 1\n",
    "            ci = s[i]\n",
    "       \n",
    "        if alphabet[ord(ci) - 97] == 0:\n",
    "            return i\n",
    "\n",
    "    if i< slen:\n",
    "        return i\n",
    "    else :\n",
    "        return -1\n",
    "s = \"loveleetcode\"\n",
    "firstUniqChar(s)"
   ]
  },
  {
   "cell_type": "code",
   "execution_count": 1,
   "metadata": {},
   "outputs": [],
   "source": [
    "import numpy as np"
   ]
  },
  {
   "cell_type": "code",
   "execution_count": 4,
   "metadata": {},
   "outputs": [],
   "source": [
    "def comb(m,n):\n",
    "    if n > m // 2:\n",
    "        n = m - n\n",
    "\n",
    "    numerator = 1\n",
    "    denominator = 1\n",
    "    for i in range(1,n+1):\n",
    "        numerator *= m-i+1\n",
    "        denominator *= i\n",
    "    return numerator // denominator"
   ]
  },
  {
   "cell_type": "code",
   "execution_count": 8,
   "metadata": {},
   "outputs": [
    {
     "data": {
      "text/plain": [
       "0.172483152755415"
      ]
     },
     "execution_count": 8,
     "metadata": {},
     "output_type": "execute_result"
    }
   ],
   "source": [
    "def getP(n, a, b):\n",
    "    return comb(n, a) * comb(n, b) / comb(2*n, (a+b))\n"
   ]
  },
  {
   "cell_type": "code",
   "execution_count": 10,
   "metadata": {},
   "outputs": [
    {
     "name": "stdout",
     "output_type": "stream",
     "text": [
      "0.4137584236222925\n"
     ]
    }
   ],
   "source": [
    "s = 0\n",
    "for a in range(15):\n",
    "    p = getP(50,a,30-a)\n",
    "    s += p\n",
    "print(s)"
   ]
  },
  {
   "cell_type": "code",
   "execution_count": 11,
   "metadata": {},
   "outputs": [
    {
     "data": {
      "text/plain": [
       "1.0"
      ]
     },
     "execution_count": 11,
     "metadata": {},
     "output_type": "execute_result"
    }
   ],
   "source": [
    "s * 2 + getP(50,15,15)"
   ]
  },
  {
   "cell_type": "code",
   "execution_count": 19,
   "metadata": {},
   "outputs": [
    {
     "name": "stdout",
     "output_type": "stream",
     "text": [
      "{'a': [0, 10], 'b': [1, 9], 'c': [2, 8], 'd': [3, 7], 'e': [4, 6], 'f': [5, 5], 'g': [6, 4], 'h': [7, 3], 'i': [8, 2], 'j': [9, 1]}\n"
     ]
    }
   ],
   "source": [
    "res = dict()\n",
    "for i in range(10):\n",
    "    res[chr(i+97)] = [i, 10-i]\n",
    "print(res)"
   ]
  },
  {
   "cell_type": "code",
   "execution_count": 20,
   "metadata": {},
   "outputs": [
    {
     "data": {
      "text/plain": [
       "[[0, 10],\n",
       " [1, 9],\n",
       " [2, 8],\n",
       " [3, 7],\n",
       " [4, 6],\n",
       " [5, 5],\n",
       " [6, 4],\n",
       " [7, 3],\n",
       " [8, 2],\n",
       " [9, 1]]"
      ]
     },
     "execution_count": 20,
     "metadata": {},
     "output_type": "execute_result"
    }
   ],
   "source": [
    "list(res.values() )"
   ]
  },
  {
   "cell_type": "code",
   "execution_count": 16,
   "metadata": {},
   "outputs": [
    {
     "data": {
      "text/plain": [
       "dict_items([('a', 0), ('b', 1), ('c', 2), ('d', 3), ('e', 4), ('f', 5), ('g', 6), ('h', 7), ('i', 8), ('j', 9)])"
      ]
     },
     "execution_count": 16,
     "metadata": {},
     "output_type": "execute_result"
    }
   ],
   "source": [
    "res.items()"
   ]
  },
  {
   "cell_type": "code",
   "execution_count": 25,
   "metadata": {
    "scrolled": true
   },
   "outputs": [],
   "source": [
    "res=dict(b=1,a=2,f=3, d=4,c=5)"
   ]
  },
  {
   "cell_type": "code",
   "execution_count": 26,
   "metadata": {},
   "outputs": [
    {
     "data": {
      "text/plain": [
       "dict_keys(['b', 'a', 'f', 'd', 'c'])"
      ]
     },
     "execution_count": 26,
     "metadata": {},
     "output_type": "execute_result"
    }
   ],
   "source": [
    "res.keys()"
   ]
  },
  {
   "cell_type": "code",
   "execution_count": 31,
   "metadata": {},
   "outputs": [
    {
     "data": {
      "text/plain": [
       "122"
      ]
     },
     "execution_count": 31,
     "metadata": {},
     "output_type": "execute_result"
    }
   ],
   "source": [
    "ord('z')"
   ]
  },
  {
   "cell_type": "code",
   "execution_count": 34,
   "metadata": {},
   "outputs": [
    {
     "name": "stdout",
     "output_type": "stream",
     "text": [
      "A B C D E F G H I J K L M N O P Q R S T U V W X Y Z [ \\ ] ^ _ ` a b c d e f g h i j k l m n o p q r s t u v w x y z "
     ]
    }
   ],
   "source": [
    "for i in range(65, 123):\n",
    "    print(chr(i),end=' ')"
   ]
  },
  {
   "cell_type": "code",
   "execution_count": 37,
   "metadata": {},
   "outputs": [
    {
     "name": "stdout",
     "output_type": "stream",
     "text": [
      "[None, 0, 4, 4, 3, 5, 5, 0, 1, 9]\n",
      "[0, None, 4, 4, 3, 5, 5, 0, 1, 9]\n",
      "[0, None, 3, 4, 4, 5, 5, 0, 1, 9]\n",
      "[0, None, 4, 3, 4, 5, 5, 0, 1, 9]\n",
      "[0, None, None, 3, 4, 5, 5, 0, 1, 9]\n",
      "[0, None, None, 3, 4, 5, None, 0, 1, 9]\n",
      "[0, None, None, 3, 4, 5, None, None, 1, 9]\n",
      "[0, 1, None, 3, 4, 5, None, None, None, 9]\n"
     ]
    },
    {
     "data": {
      "text/plain": [
       "[2, 6, 7, 8]"
      ]
     },
     "execution_count": 37,
     "metadata": {},
     "output_type": "execute_result"
    }
   ],
   "source": [
    "def mprint(nums):\n",
    "    if nums:\n",
    "        for n in nums:\n",
    "            print(n, end=' ')\n",
    "        print('')\n",
    "def missingNumber(nums):\n",
    "    \"\"\"\n",
    "    :type nums: List[int]\n",
    "    :rtype: int\n",
    "    \"\"\"\n",
    "    nums.append(None)\n",
    "    i = 0\n",
    "    N = len(nums)\n",
    "    while i < N:\n",
    "        cur = nums[i]\n",
    "        while cur != None and cur != i:\n",
    "            if cur !=  nums[cur]:\n",
    "                tmp = nums[cur]; nums[cur] = cur; nums[i] = tmp\n",
    "            else:\n",
    "                nums[i] = None\n",
    "            cur = nums[i]\n",
    "            print(nums)\n",
    "        i += 1\n",
    "    ret = []\n",
    "    for i in range(N):\n",
    "        if nums[i] == None:\n",
    "            ret.append(i)\n",
    "    return ret\n",
    "nums = [9,0,4,4,3,5,5,0,1]\n",
    "\n",
    "missingNumber(nums)"
   ]
  },
  {
   "cell_type": "code",
   "execution_count": 42,
   "metadata": {},
   "outputs": [],
   "source": [
    "# Definition for a binary tree node.\n",
    "# class TreeNode:\n",
    "#     def __init__(self, x):\n",
    "#         self.val = x\n",
    "#         self.left = None\n",
    "#         self.right = None\n",
    "\n",
    "class Solution:\n",
    "    def __init__(self):\n",
    "        self.visited_map = dict()\n",
    "    def maxDegreeOfTree(self, root):\n",
    "        if root not in self.visited_map:\n",
    "            ld = rd = 0\n",
    "            if root.left:\n",
    "                ld = self.maxDegreeOfTree(root.left)\n",
    "            if root.right:\n",
    "                rd = self.maxDegreeOfTree(root.right)\n",
    "            degree = max(rd, ld) + 1\n",
    "            self.visited_map[root] = degree\n",
    "        else:\n",
    "            degree = self.visited_map[root]\n",
    "        return degree\n",
    "    \n",
    "    def diameterOfBinaryTree(self, root, maxdegree=0):\n",
    "        \"\"\"\n",
    "        :type root: TreeNode\n",
    "        :rtype: int\n",
    "        \"\"\"\n",
    "        if not root:\n",
    "            return 0\n",
    "        degree = 0\n",
    "\n",
    "        ld = rd = 0\n",
    "        if root.left:\n",
    "            ld = self.maxDegreeOfTree(root.left)\n",
    "        if root.right:\n",
    "            rd = self.maxDegreeOfTree(root.right)\n",
    "        degree = ld + rd\n",
    "\n",
    "        maxdegree = max(maxdegree, degree)\n",
    "        \n",
    "        lmd = rmd = 0\n",
    "        if root.left:\n",
    "            lmd = self.diameterOfBinaryTree(root.left, maxdegree)\n",
    "\n",
    "        maxdegree = max(maxdegree, lmd)\n",
    "\n",
    "        if root.right:\n",
    "            rmd = self.diameterOfBinaryTree(root.right, maxdegree)\n",
    "\n",
    "        maxdegree = max(maxdegree, rmd)\n",
    "            \n",
    "        return maxdegree"
   ]
  },
  {
   "cell_type": "code",
   "execution_count": 90,
   "metadata": {},
   "outputs": [
    {
     "data": {
      "text/plain": [
       "['12:59',\n",
       " '12:55',\n",
       " '12:47',\n",
       " '12:31',\n",
       " '11:60',\n",
       " '11:58',\n",
       " '11:57',\n",
       " '11:54',\n",
       " '11:53',\n",
       " '11:51',\n",
       " '11:46',\n",
       " '11:45',\n",
       " '11:43',\n",
       " '11:39',\n",
       " '11:30',\n",
       " '11:29',\n",
       " '11:27',\n",
       " '11:23',\n",
       " '11:15',\n",
       " '10:59',\n",
       " '10:55',\n",
       " '10:47',\n",
       " '10:31',\n",
       " '9:59',\n",
       " '9:55',\n",
       " '9:47',\n",
       " '9:31',\n",
       " '7:60',\n",
       " '7:58',\n",
       " '7:57',\n",
       " '7:54',\n",
       " '7:53',\n",
       " '7:51',\n",
       " '7:46',\n",
       " '7:45',\n",
       " '7:43',\n",
       " '7:39',\n",
       " '7:30',\n",
       " '7:29',\n",
       " '7:27',\n",
       " '7:23',\n",
       " '7:15',\n",
       " '6:59',\n",
       " '6:55',\n",
       " '6:47',\n",
       " '6:31',\n",
       " '5:59',\n",
       " '5:55',\n",
       " '5:47',\n",
       " '5:31',\n",
       " '3:59',\n",
       " '3:55',\n",
       " '3:47',\n",
       " '3:31']"
      ]
     },
     "execution_count": 90,
     "metadata": {},
     "output_type": "execute_result"
    }
   ],
   "source": [
    "def readBinaryWatch(num):\n",
    "    \"\"\"\n",
    "    :type num: int\n",
    "    :rtype: List[str]\n",
    "    \"\"\"\n",
    "    if num == 0:\n",
    "        return []\n",
    "\n",
    "    clock_bit = [None, 1,2,4,8,16,32, 1,2,4,8]\n",
    "    N = 10\n",
    "    ret = []\n",
    "    a = list(range(N+1))\n",
    "    a[0] = num\n",
    "    ret = []\n",
    "    def comb(m, k):\n",
    "        for i in range(m, k-1, -1):\n",
    "            a[k] = i\n",
    "            if k > 1:\n",
    "                comb(i-1, k-1)\n",
    "            else:\n",
    "                bit = a[1:a[0]+1][::-1]\n",
    "                hour = 0\n",
    "                minute = 0\n",
    "                for b in bit:\n",
    "                    if b < 7:\n",
    "                        minute |= clock_bit[b]\n",
    "                    else:\n",
    "                        hour |= clock_bit[b]\n",
    "                if hour <= 12 and minute < 60:\n",
    "                    ret.append(\"%d:%02d\"%(hour, minute))\n",
    "    comb(N, num)\n",
    "    return ret\n",
    "    \n",
    "readBinaryWatch(7)"
   ]
  },
  {
   "cell_type": "code",
   "execution_count": 102,
   "metadata": {},
   "outputs": [
    {
     "name": "stdout",
     "output_type": "stream",
     "text": [
      "[-1, -3]\n",
      "cur= -5\n",
      "choose : -5 [-3, -5]\n",
      "cur= 5\n",
      "cur= -8\n",
      "choose : -8 [-5, -8]\n",
      "cur= 2\n",
      "cur= 4\n",
      "cur= 6\n",
      "[4, 5, 6]\n",
      "[-5, -8]\n"
     ]
    },
    {
     "data": {
      "text/plain": [
       "240"
      ]
     },
     "execution_count": 102,
     "metadata": {},
     "output_type": "execute_result"
    }
   ],
   "source": [
    "def maximumProduct(nums):\n",
    "    \"\"\"\n",
    "    :type nums: List[int]\n",
    "    :rtype: int\n",
    "    \"\"\"\n",
    "    if not nums: return 0\n",
    "\n",
    "    N = len(nums)\n",
    "    if N < 3: return 0\n",
    "\n",
    "    smallHeap = nums[:3]\n",
    "    bigHeap = nums[:2]\n",
    "\n",
    "    def adjustHeap(heap, isSmall=True):\n",
    "        if isSmall:\n",
    "            if heap[2] < heap[0]:\n",
    "                tmp = heap[2]; heap[2] = heap[0]; heap[0] = tmp\n",
    "            if heap[1] < heap[0]:\n",
    "                tmp = heap[1]; heap[1] = heap[0]; heap[0] = tmp\n",
    "        else:\n",
    "            if heap[0] < heap[1]:\n",
    "                tmp = heap[1]; heap[1] = heap[0]; heap[0] = tmp\n",
    "\n",
    "\n",
    "    adjustHeap(smallHeap, isSmall = True)\n",
    "    adjustHeap(bigHeap, isSmall = False)\n",
    "    print(bigHeap)\n",
    "    neg = []\n",
    "    for num in nums[2:] :\n",
    "        if smallHeap[0] < num:\n",
    "            smallHeap[0] = num\n",
    "        adjustHeap(smallHeap, isSmall = True)\n",
    "        print(\"cur=\",num)\n",
    "        if num < bigHeap[0]:\n",
    "            bigHeap[0] = num\n",
    "            adjustHeap(bigHeap, isSmall = False)\n",
    "            print(\"choose :\",num, bigHeap)\n",
    "\n",
    "\n",
    "    smallHeap_product = bigHeap[0] * bigHeap[1] * max(smallHeap)\n",
    "    print(smallHeap)\n",
    "    bigHeap_product = smallHeap[0] * smallHeap[1] * smallHeap[2]\n",
    "    print(bigHeap)\n",
    "    return max(smallHeap_product, bigHeap_product)\n",
    "\n",
    "nums = [-1,-3,-5,5,-8,2,4,6]\n",
    "maximumProduct(nums)"
   ]
  },
  {
   "cell_type": "code",
   "execution_count": 103,
   "metadata": {},
   "outputs": [
    {
     "data": {
      "text/plain": [
       "True"
      ]
     },
     "execution_count": 103,
     "metadata": {},
     "output_type": "execute_result"
    }
   ],
   "source": [
    "'a'<'b'"
   ]
  },
  {
   "cell_type": "code",
   "execution_count": 94,
   "metadata": {},
   "outputs": [
    {
     "data": {
      "text/plain": [
       "False"
      ]
     },
     "execution_count": 94,
     "metadata": {},
     "output_type": "execute_result"
    }
   ],
   "source": [
    "a = list(range(10))\n",
    "b = a[:4]\n",
    "c = a[:4]\n",
    "id(b) == id(c)"
   ]
  },
  {
   "cell_type": "code",
   "execution_count": 106,
   "metadata": {},
   "outputs": [
    {
     "data": {
      "text/plain": [
       "67108863"
      ]
     },
     "execution_count": 106,
     "metadata": {},
     "output_type": "execute_result"
    }
   ],
   "source": [
    "def nextGreatestLetter(letters, target):\n",
    "    \"\"\"\n",
    "    :type letters: List[str]\n",
    "    :type target: str\n",
    "    :rtype: str\n",
    "    \"\"\"\n",
    "    char_bit = 0\n",
    "    for l in letters:\n",
    "        char_bit |= 1 << (ord(l) - 97)\n",
    "        if char_bit == 67108863:\n",
    "            break\n",
    "    t = ord(target) - 97 + 1\n",
    "\n",
    "    char_bit >>= t\n",
    "    while char_bit:\n",
    "        if char_bit & 1:\n",
    "            return chr(97 + t)\n",
    "        t += 1\n",
    "        char_bit >>= 1\n",
    "\n",
    "    return letters[0]"
   ]
  },
  {
   "cell_type": "code",
   "execution_count": null,
   "metadata": {},
   "outputs": [],
   "source": []
  }
 ],
 "metadata": {
  "kernelspec": {
   "display_name": "Python 3",
   "language": "python",
   "name": "python3"
  },
  "language_info": {
   "codemirror_mode": {
    "name": "ipython",
    "version": 3
   },
   "file_extension": ".py",
   "mimetype": "text/x-python",
   "name": "python",
   "nbconvert_exporter": "python",
   "pygments_lexer": "ipython3",
   "version": "3.6.4"
  }
 },
 "nbformat": 4,
 "nbformat_minor": 2
}
