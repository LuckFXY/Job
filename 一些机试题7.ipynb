{
 "cells": [
  {
   "cell_type": "code",
   "execution_count": 15,
   "metadata": {},
   "outputs": [
    {
     "name": "stdout",
     "output_type": "stream",
     "text": [
      "[9, 5, 6, 4, 4, 3, 1] 184\n",
      "[4, 8, 1] 81\n",
      "[1, 8] 65\n",
      "[5, 6] 61\n",
      "[1, 6] 37\n",
      "[7, 3] 58\n",
      "[8, 5] 89\n",
      "[9, 8] 145\n",
      "[5, 4, 1] 42\n",
      "[2, 4] 20\n",
      "[0, 2] 4\n",
      "[4] 16\n",
      "[6, 1] 37\n",
      "[7, 3] 58\n",
      "[8, 5] 89\n"
     ]
    },
    {
     "data": {
      "text/plain": [
       "False"
      ]
     },
     "execution_count": 15,
     "metadata": {},
     "output_type": "execute_result"
    }
   ],
   "source": [
    "def get_digits(num):\n",
    "    ret = []\n",
    "    while(num):\n",
    "        ret.append(num % 10)\n",
    "        num = num // 10\n",
    "    return ret\n",
    "\n",
    "def get_sum(digits):\n",
    "    res = 0\n",
    "    for d in digits:\n",
    "        res += d * d\n",
    "    return res\n",
    "\n",
    "\n",
    "def isHappy(n):\n",
    "    num = n\n",
    "\n",
    "    loop =[0] * 100\n",
    "    i = 0; j = 1\n",
    "    while(num != 1):\n",
    "        ds = get_digits(num)\n",
    "        num = get_sum(ds)\n",
    "        loop[j] = num\n",
    "        print(ds, num)\n",
    "        if loop[j] == loop[i]:\n",
    "            return False\n",
    "        j += 1\n",
    "        if j % 2== 0:\n",
    "            i += 1\n",
    "        \n",
    "        \n",
    "    return True\n",
    "        \n",
    "isHappy(1344659)"
   ]
  },
  {
   "cell_type": "code",
   "execution_count": 17,
   "metadata": {},
   "outputs": [
    {
     "data": {
      "text/plain": [
       "'1->2->3'"
      ]
     },
     "execution_count": 17,
     "metadata": {},
     "output_type": "execute_result"
    }
   ],
   "source": [
    "'->'.join(['1','2','3'])"
   ]
  },
  {
   "cell_type": "code",
   "execution_count": 19,
   "metadata": {},
   "outputs": [
    {
     "data": {
      "text/plain": [
       "['a', 'ap', 'app', 'appl', 'apple', 'apply', 'ba', 'ban', 'bana', 'banana']"
      ]
     },
     "execution_count": 19,
     "metadata": {},
     "output_type": "execute_result"
    }
   ],
   "source": [
    "words = [\"a\", \"banana\", \"app\", \"ba\",\"ban\",\"bana\",\"appl\", \"ap\", \"apply\",\"apple\"]\n",
    "sorted(words)"
   ]
  },
  {
   "cell_type": "code",
   "execution_count": 58,
   "metadata": {},
   "outputs": [
    {
     "name": "stdout",
     "output_type": "stream",
     "text": [
      "ew e\n",
      "{'y'}\n",
      "ewq ew\n",
      "{'y'}\n",
      "ewqz ewq\n",
      "{'y'}\n",
      "fc f\n",
      "{'y'}\n",
      "fcm fc\n",
      "{'y'}\n",
      "fcmz fcm\n",
      "{'y'}\n",
      "qm q\n",
      "{'y'}\n",
      "qmo qm\n",
      "{'y'}\n",
      "y \n",
      "{'y'}\n",
      "yo y\n",
      "{'y'}\n",
      "yod yo\n",
      "{'yo', 'y'}\n",
      "yodn yod\n",
      "{'yo', 'yod', 'y'}\n",
      "z \n",
      "{'yo', 'yod', 'y', 'yodn'}\n",
      "zrc zr\n",
      "{'yodn', 'y', 'yo', 'z', 'yod'}\n"
     ]
    },
    {
     "data": {
      "text/plain": [
       "'yodn'"
      ]
     },
     "execution_count": 58,
     "metadata": {},
     "output_type": "execute_result"
    }
   ],
   "source": [
    "def longestWord(words):\n",
    "    \"\"\"\n",
    "    :type words: List[str]\n",
    "    :rtype: str\n",
    "    \"\"\"\n",
    "    if not words: return ''\n",
    "    words.sort()\n",
    "    target = ''\n",
    "    for w in words:\n",
    "        if len(w) == 1:\n",
    "            target = w\n",
    "            break\n",
    "    v = set()\n",
    "    v.add(target)\n",
    "    mcount = len(target)\n",
    "    for w in words:\n",
    "        print(w, w[:-1])\n",
    "        print(v)\n",
    "        if w[:-1] in v:\n",
    "            wlen = len(w)\n",
    "            v.add(w)\n",
    "            if wlen > mcount: \n",
    "                target = w\n",
    "                mcount = wlen\n",
    "        elif len(w) == 1:\n",
    "            v.add(w)\n",
    "            \n",
    "    return target\n",
    "\n",
    "words = [\"rac\",\"rs\",\"ra\",\"on\",\"r\",\"otif\",\"o\",\"onpdu\",\"rsf\",\"rs\",\"ot\",\"oti\",\"racy\",\"onpd\"]\n",
    "words = [\"m\",\"mo\",\"moc\",\"moch\",\"mocha\",\"l\",\"la\",\"lat\",\"latt\",\"latte\",\"c\",\"ca\",\"cat\"]\n",
    "words = [\"yo\",\"ew\",\"fc\",\"zrc\",\"yodn\",\"fcm\",\"qm\",\"qmo\",\"fcmz\",\"z\",\"ewq\",\"yod\",\"ewqz\",\"y\"]\n",
    "longestWord(words)"
   ]
  },
  {
   "cell_type": "code",
   "execution_count": 71,
   "metadata": {},
   "outputs": [
    {
     "name": "stdout",
     "output_type": "stream",
     "text": [
      "8 10 12 15 17 19 21 22 25 \n",
      "2 3 4 5 6 7 8 9 11 \n",
      "9 9\n",
      "8 2\n",
      "ptr2= 3\n",
      "ptr2= 4\n",
      "ptr2= 5\n",
      "ptr2= 6\n",
      "ptr2= 7\n",
      "ptr2= 8\n",
      "10 9\n",
      "12 11\n",
      "2 3 4 5 6 7 8 8 9 10 11 12 15 17 19 21 22 25 \n"
     ]
    }
   ],
   "source": [
    "class ListNode(object):\n",
    "    def __init__(self, x):\n",
    "        self.val = x\n",
    "        self.next = None\n",
    "        \n",
    "def createList(nums):\n",
    "    if not nums: return ListNode(None)\n",
    "    head = ListNode(nums[0])\n",
    "    tail = head\n",
    "    for n in nums[1:]:\n",
    "        tmp = ListNode(n)\n",
    "        tail.next = tmp\n",
    "        tail = tmp\n",
    "    return head\n",
    "\n",
    "def mprint(head):\n",
    "    ptr = head\n",
    "    while ptr:\n",
    "        print(ptr.val, end = ' ')\n",
    "        ptr = ptr.next\n",
    "    print('')\n",
    "def mergeTwoLists(l1, l2):\n",
    "    \"\"\"\n",
    "    :type l1: ListNode\n",
    "    :type l2: ListNode\n",
    "    :rtype: ListNode\n",
    "    \"\"\"\n",
    "    N1 = N2 = 0\n",
    "    p1, p2 = l1, l2\n",
    "    while p1:\n",
    "        N1 += 1\n",
    "        p1 = p1.next\n",
    "    while p2:\n",
    "        N2 += 1\n",
    "        p2 = p2.next\n",
    "    #print(N1, N2)\n",
    "    if N1 >= N2:\n",
    "        p1, p2 = l1, l2\n",
    "    else:\n",
    "        p1, p2 = l2, l1\n",
    "\n",
    "    head = ListNode(None)\n",
    "    head.next = p1\n",
    "    pre = head\n",
    "    while p1 and p2:    \n",
    "        #print(p1.val, p2.val)\n",
    "        if p1.val > p2.val:\n",
    "            pre2 = p2\n",
    "            ptr2 = p2.next\n",
    "            while ptr2 and ptr2.val <= p1.val:\n",
    "                #print(\"ptr2=\",ptr2.val)\n",
    "                pre2 = ptr2\n",
    "                ptr2 = ptr2.next\n",
    "            pre.next = p2\n",
    "            pre2.next = p1\n",
    "            \n",
    "            p2 = ptr2\n",
    "            \n",
    "        pre = p1\n",
    "        p1 = p1.next\n",
    "    \n",
    "    if p2:\n",
    "        pre.next = p2\n",
    "            \n",
    "    return head.next\n",
    "\n",
    "n1 = [8,10,12,15,17,19,21,22,25]\n",
    "n2=[2,3,4,5,6,7,8,9,11]\n",
    "l1 = createList(n1)\n",
    "l2 = createList(n2)\n",
    "mprint(l1)\n",
    "mprint(l2)\n",
    "l3 = mergeTwoLists(l1,l2)\n",
    "mprint(l3)"
   ]
  },
  {
   "cell_type": "code",
   "execution_count": 74,
   "metadata": {},
   "outputs": [
    {
     "name": "stdout",
     "output_type": "stream",
     "text": [
      "2 {1: 1, 2: 1}\n",
      "count ++  2\n",
      "2 {1: 1, 2: 2}\n",
      "count ++  3\n",
      "2 {1: 1, 2: 3}\n",
      "count ++  4\n",
      "3 {1: 1, 2: 3, 3: 1}\n",
      "new count =  4\n",
      "3 {1: 1, 2: 3, 3: 2}\n",
      "count ++  5\n",
      "5 {1: 1, 2: 3, 3: 2, 5: 1}\n",
      "new count =  2\n",
      "6 {1: 1, 2: 3, 3: 2, 5: 1, 6: 1}\n",
      "new count =  1\n",
      "6 {1: 1, 2: 3, 3: 2, 5: 1, 6: 2}\n",
      "count ++  2\n",
      "6 {1: 1, 2: 3, 3: 2, 5: 1, 6: 3}\n",
      "count ++  3\n",
      "6 {1: 1, 2: 3, 3: 2, 5: 1, 6: 4}\n",
      "count ++  4\n",
      "6 {1: 1, 2: 3, 3: 2, 5: 1, 6: 5}\n",
      "count ++  5\n",
      "7 {1: 1, 2: 3, 3: 2, 5: 1, 6: 5, 7: 1}\n",
      "new count =  5\n",
      "7 {1: 1, 2: 3, 3: 2, 5: 1, 6: 5, 7: 2}\n",
      "count ++  6\n"
     ]
    },
    {
     "data": {
      "text/plain": [
       "6"
      ]
     },
     "execution_count": 74,
     "metadata": {},
     "output_type": "execute_result"
    }
   ],
   "source": [
    "def findLHS(nums):\n",
    "    \"\"\"\n",
    "    :type nums: List[int]\n",
    "    :rtype: int\n",
    "    \"\"\"\n",
    "    if not nums: return 0\n",
    "    nums.sort()\n",
    "    mcount = count = 1\n",
    "\n",
    "    last = nums[0]\n",
    "    v = dict()\n",
    "    v[last] = 1\n",
    "    for i in range(1, len(nums)):\n",
    "        n = nums[i]\n",
    "        v[n] = v.get(n, 0) + 1\n",
    "        print(n, v)\n",
    "        if n == last or n-1 == last:\n",
    "            count += 1\n",
    "            print(\"count ++ \",count)\n",
    "        else:\n",
    "            mcount = max(mcount, count)\n",
    "            count -= v[last]\n",
    "            last = nums[i-1]\n",
    "            if n == last or n-1 == last:\n",
    "                count += 1\n",
    "            print(\"new count = \",count)\n",
    "    mcount = max(mcount, count)\n",
    "    return mcount\n",
    "nums = [1,3,2,2,5,2,3,7,6,6,6,6,6,7]\n",
    "findLHS(nums)"
   ]
  },
  {
   "cell_type": "code",
   "execution_count": 75,
   "metadata": {},
   "outputs": [
    {
     "data": {
      "text/plain": [
       "[1, 3, 2, 5, 7, 6]"
      ]
     },
     "execution_count": 75,
     "metadata": {},
     "output_type": "execute_result"
    }
   ],
   "source": [
    "nums = [1,3,2,2,5,2,3,7,6,6,6,6,6,7]\n",
    "v = dict()\n",
    "for n in nums:\n",
    "    v[n] = v.get(n,0) + 1\n",
    "list(v.keys())"
   ]
  },
  {
   "cell_type": "code",
   "execution_count": 13,
   "metadata": {},
   "outputs": [
    {
     "name": "stdout",
     "output_type": "stream",
     "text": [
      "------------begin = 0, end = 2--------\n",
      "begin = 0, i= 0\n",
      "--------begin = 1, end = 2--------\n",
      "begin = 1, i= 1\n",
      "[1, 2, 3]\n",
      "begin = 1, i= 2\n",
      "[1, 3, 2]\n",
      "--------begin = 1, end = 2--------\n",
      "begin = 0, i= 1\n",
      "--------begin = 1, end = 2--------\n",
      "begin = 1, i= 1\n",
      "[2, 1, 3]\n",
      "begin = 1, i= 2\n",
      "[2, 3, 1]\n",
      "--------begin = 1, end = 2--------\n",
      "begin = 0, i= 2\n",
      "--------begin = 1, end = 2--------\n",
      "begin = 1, i= 1\n",
      "[3, 2, 1]\n",
      "begin = 1, i= 2\n",
      "[3, 1, 2]\n",
      "--------begin = 1, end = 2--------\n",
      "------------begin = 0, end = 2--------\n"
     ]
    }
   ],
   "source": []
  },
  {
   "cell_type": "code",
   "execution_count": 25,
   "metadata": {},
   "outputs": [
    {
     "name": "stdout",
     "output_type": "stream",
     "text": [
      "['0', '1', '2', '3', '4', '5', '6', '7', '8', '9', 'a', 'b', 'c', 'd', 'e', 'f']\n",
      "15\n",
      "10\n",
      "240\n",
      "1\n",
      "3840\n",
      "0\n",
      "61440\n",
      "0\n",
      "983040\n",
      "0\n",
      "15728640\n",
      "0\n",
      "251658240\n",
      "0\n",
      "4026531840\n",
      "0\n"
     ]
    },
    {
     "data": {
      "text/plain": [
       "'0000001a'"
      ]
     },
     "execution_count": 25,
     "metadata": {},
     "output_type": "execute_result"
    }
   ],
   "source": [
    "def toHex(num):\n",
    "    \"\"\"\n",
    "    :type num: int\n",
    "    :rtype: str\n",
    "    \"\"\"\n",
    "    rets=[0] * 8\n",
    "    symbol = [str(i) for i in range(10)] + [chr(97+i) for i in range(6)]\n",
    "    print(symbol)\n",
    "    for i in range(8):\n",
    "        step = 4*i\n",
    "        mask = 15 << step\n",
    "        print(mask)\n",
    "        h = (num & mask) >> step\n",
    "        print(h)\n",
    "        rets[i] = symbol[h]\n",
    "\n",
    "    ret = ''.join(i for i in rets[::-1])\n",
    "    return ret\n",
    "\n",
    "toHex(26)"
   ]
  },
  {
   "cell_type": "code",
   "execution_count": 29,
   "metadata": {},
   "outputs": [
    {
     "name": "stdout",
     "output_type": "stream",
     "text": [
      "0 2 [2, 3, 3, 2]\n",
      "0 1 [3, 3, 3, 2]\n",
      "1 1 [3, 3, 3, 2]\n",
      "2 1 [3, 3, 3, 2]\n"
     ]
    },
    {
     "data": {
      "text/plain": [
       "2"
      ]
     },
     "execution_count": 29,
     "metadata": {},
     "output_type": "execute_result"
    }
   ],
   "source": [
    "def removeElement(nums, val):\n",
    "    \"\"\"\n",
    "    :type nums: List[int]\n",
    "    :type val: int\n",
    "    :rtype: int\n",
    "    \"\"\"\n",
    "    if not nums:\n",
    "        return 0\n",
    "    i = 0; end = len(nums)-1\n",
    "    while i <= end:\n",
    "        if nums[i] == val:\n",
    "            nums[i] = nums[end]\n",
    "            end -= 1\n",
    "        else:\n",
    "            i += 1\n",
    "        print(i, end, nums)\n",
    "    nums = nums[:end+1]\n",
    "    return end+1\n",
    "nums= [2,3,3,2]\n",
    "val = 2\n",
    "removeElement(nums, val)"
   ]
  },
  {
   "cell_type": "code",
   "execution_count": 40,
   "metadata": {},
   "outputs": [
    {
     "name": "stdout",
     "output_type": "stream",
     "text": [
      "243 81\n",
      "81 27\n",
      "27 9\n",
      "9 3\n",
      "3 1\n"
     ]
    },
    {
     "data": {
      "text/plain": [
       "True"
      ]
     },
     "execution_count": 40,
     "metadata": {},
     "output_type": "execute_result"
    }
   ],
   "source": [
    "def isPowerOfThree(n):\n",
    "    \"\"\"\n",
    "    :type n: int\n",
    "    :rtype: bool\n",
    "    \"\"\"\n",
    "    if n ==0 : return False\n",
    "    while n != 1:\n",
    "        if n % 3 != 0:\n",
    "            return False\n",
    "        print(n, n//3)\n",
    "        n = n // 3\n",
    "\n",
    "    return True\n",
    "\n",
    "isPowerOfThree(243)"
   ]
  },
  {
   "cell_type": "code",
   "execution_count": 41,
   "metadata": {},
   "outputs": [
    {
     "data": {
      "text/plain": [
       "32"
      ]
     },
     "execution_count": 41,
     "metadata": {},
     "output_type": "execute_result"
    }
   ],
   "source": [
    "len('00000000000000000000000000001011')"
   ]
  },
  {
   "cell_type": "code",
   "execution_count": 53,
   "metadata": {},
   "outputs": [
    {
     "name": "stdout",
     "output_type": "stream",
     "text": [
      "[0, 1, 1, 2, 1, 2, 2, 3, 1, 2, 2, 3, 2, 3, 3, 4]\n"
     ]
    }
   ],
   "source": [
    "def count_bit(n):\n",
    "    cnt = 0\n",
    "    for i in range(4):\n",
    "        mask = 1 << i\n",
    "        if n & mask:\n",
    "            cnt += 1\n",
    "    return cnt\n",
    "ret = []\n",
    "for i in range(16):\n",
    "    ret.append(count_bit(i))\n",
    "print(ret)"
   ]
  },
  {
   "cell_type": "code",
   "execution_count": 57,
   "metadata": {},
   "outputs": [
    {
     "name": "stdout",
     "output_type": "stream",
     "text": [
      "1 [[1], [1, 1]]\n",
      "[1, 1]\n",
      "2 [[1], [1, 1], [1, 2, 1]]\n",
      "[1, 2, 1]\n",
      "3 [[1], [1, 1], [1, 2, 1], [1, 3, 3, 1]]\n",
      "[1, 3, 3, 1]\n"
     ]
    },
    {
     "data": {
      "text/plain": [
       "[[1], [1, 1], [1, 2, 1], [1, 3, 3, 1], [1, 4, 6, 4, 1]]"
      ]
     },
     "execution_count": 57,
     "metadata": {},
     "output_type": "execute_result"
    }
   ],
   "source": [
    "def generate(numRows):\n",
    "    \"\"\"\n",
    "    :type numRows: int\n",
    "    :rtype: List[List[int]]\n",
    "    \"\"\"\n",
    "    ret = [[1],[1,1]]\n",
    "    for n in range(2,numRows):\n",
    "        row = [1,]\n",
    "        print(n-1, ret)\n",
    "        last_row = ret[n-1]\n",
    "        print(last_row)\n",
    "        for i in range(1, n):\n",
    "            row.append(last_row[i-1] + last_row[i])\n",
    "        row.append(1)\n",
    "        ret.append(row)\n",
    "\n",
    "    return ret[:numRows]\n",
    "generate(5)"
   ]
  },
  {
   "cell_type": "code",
   "execution_count": 65,
   "metadata": {},
   "outputs": [
    {
     "data": {
      "text/plain": [
       "-1"
      ]
     },
     "execution_count": 65,
     "metadata": {},
     "output_type": "execute_result"
    }
   ],
   "source": [
    "def maxSubArray(nums):\n",
    "    \"\"\"\n",
    "    :type nums: List[int]\n",
    "    :rtype: int\n",
    "    \"\"\"\n",
    "    if not nums:\n",
    "        return 0\n",
    "\n",
    "    i = 0; s = nums[0]; max_s = s\n",
    "    N = len(nums)\n",
    "    for j in range(1, N):\n",
    "        if nums[j] >=0:\n",
    "            s += nums[j]\n",
    "            if nums[i] <0:\n",
    "                s = s - nums[i]\n",
    "                i += 1\n",
    "        elif s > 0:\n",
    "            s += nums[j]\n",
    "            nums[j] = s\n",
    "        else:\n",
    "            i = j\n",
    "            s = nums[j]\n",
    "            \n",
    "        max_s = max(max_s, s)\n",
    "\n",
    "    return max_s\n",
    "\n",
    "nums = [-2,-1]#[-2,1,-3,4,-1,2,1,-5,4]\n",
    "maxSubArray(nums)"
   ]
  },
  {
   "cell_type": "code",
   "execution_count": 1,
   "metadata": {},
   "outputs": [],
   "source": [
    "import matplotlib.pyplot as plt\n",
    "import matplotlib.image as mpimg\n",
    "import numpy as np"
   ]
  },
  {
   "cell_type": "code",
   "execution_count": 2,
   "metadata": {},
   "outputs": [],
   "source": [
    "path = r'C:\\Users\\Administrator\\Documents\\WeChat Files\\wxid_sor0tb1zkfka22\\Files\\project6\\data\\run_1\\frame00000.jpg'\n",
    "img = mpimg.imread(path)"
   ]
  },
  {
   "cell_type": "code",
   "execution_count": 3,
   "metadata": {},
   "outputs": [],
   "source": [
    "mix = np.array([0.299, 0.587, 0.114]).reshape(3)"
   ]
  },
  {
   "cell_type": "code",
   "execution_count": 14,
   "metadata": {},
   "outputs": [
    {
     "name": "stdout",
     "output_type": "stream",
     "text": [
      "(480, 640)\n",
      "348\n"
     ]
    }
   ],
   "source": [
    "mixed_img = np.dot(img, mix)\n",
    "\n",
    "print(mixed_img.shape)\n",
    "print(np.sum(mixed_img >180))"
   ]
  },
  {
   "cell_type": "code",
   "execution_count": 17,
   "metadata": {},
   "outputs": [
    {
     "name": "stdout",
     "output_type": "stream",
     "text": [
      "480 640\n",
      "32 475.5 44.5\n",
      "37 220.02702702702703 122.89189189189189\n",
      "35 632.7714285714286 154.57142857142853\n",
      "39 312.3076923076924 215.82051282051282\n",
      "31 433.7741935483871 375.48387096774195\n",
      "36 297.8333333333333 394.5\n",
      "31 525.2903225806452 443.2903225806452\n"
     ]
    }
   ],
   "source": [
    "class Blob():\n",
    "    def __init__(self, img):\n",
    "        self.N, self.M = img.shape\n",
    "        print(self.N, self.M)\n",
    "        self.img = img\n",
    "\n",
    "    def getNexts(self, i,j):\n",
    "        cand = [[i+1,j], [i-1,j], [i,j+1] , [i,j-1]]\n",
    "        ret = []\n",
    "        for c in cand:\n",
    "            a , b = c\n",
    "            if 0 <= a and a < self.N and 0 <= b and b < self.M and (not self.marked[a][b]) and self.img[a,b] > 180:\n",
    "                ret.append(c)\n",
    "        return ret\n",
    "\n",
    "    def findBead(self, i, j):\n",
    "        cand = [(i,j)]\n",
    "        count = 0\n",
    "        x, y = 0, 0\n",
    "        \n",
    "        while(len(cand)):\n",
    "            i,j = cand.pop()\n",
    "            \n",
    "            if self.marked[i][j]:\n",
    "                continue\n",
    "            self.marked[i][j] = True\n",
    "            \n",
    "            cand += self.getNexts(i,j)\n",
    "            x = (x*count+i) / (count + 1)\n",
    "            y = (y*count+j) / (count + 1)\n",
    "            count += 1\n",
    "        \n",
    "        return count, x, y\n",
    "    def findBlob(self):\n",
    "        \n",
    "        self.marked = [[False] * self.M for _ in range(self.N)]\n",
    "        ret= []\n",
    "        for i in range(self.N):\n",
    "            for j in range(self.M):\n",
    "                if self.img[i,j] > 180:\n",
    "                    count, r, c = self.findBead(i, j)\n",
    "\n",
    "                    if count >= 25:\n",
    "                        print(count, c, r)\n",
    "                        ret.append((c,r))\n",
    "        return ret\n",
    "                    \n",
    "b = Blob(mixed_img)\n",
    "r = b.findBlob()"
   ]
  },
  {
   "cell_type": "code",
   "execution_count": 19,
   "metadata": {},
   "outputs": [
    {
     "data": {
      "text/plain": [
       "<matplotlib.collections.PathCollection at 0xf0dc4a8>"
      ]
     },
     "execution_count": 19,
     "metadata": {},
     "output_type": "execute_result"
    },
    {
     "data": {
      "image/png": "[encoded data removed]",
      "text/plain": [
       "<matplotlib.figure.Figure at 0x12a0fcc0>"
      ]
     },
     "metadata": {},
     "output_type": "display_data"
    }
   ],
   "source": [
    "xx = [i[0] for i in r]\n",
    "yy = [480 - i[1] for i in r]\n",
    "plt.scatter(xx, yy)"
   ]
  },
  {
   "cell_type": "code",
   "execution_count": 20,
   "metadata": {},
   "outputs": [
    {
     "data": {
      "image/png": "[encoded data removed]",
      "text/plain": [
       "<matplotlib.figure.Figure at 0xedd3780>"
      ]
     },
     "metadata": {},
     "output_type": "display_data"
    }
   ],
   "source": [
    "img2 = mixed_img.copy()\n",
    "img2[img2 < 180] = 0\n",
    "plt.imshow(img2,cmap='gray')\n",
    "plt.show()"
   ]
  },
  {
   "cell_type": "code",
   "execution_count": 21,
   "metadata": {},
   "outputs": [
    {
     "data": {
      "text/plain": [
       "str"
      ]
     },
     "execution_count": 21,
     "metadata": {},
     "output_type": "execute_result"
    }
   ],
   "source": [
    "s = '%d'%(4)\n",
    "type(s)"
   ]
  },
  {
   "cell_type": "code",
   "execution_count": 24,
   "metadata": {},
   "outputs": [
    {
     "data": {
      "text/plain": [
       "b'123'"
      ]
     },
     "execution_count": 24,
     "metadata": {},
     "output_type": "execute_result"
    }
   ],
   "source": [
    "bytes('123','ascii')"
   ]
  },
  {
   "cell_type": "code",
   "execution_count": 26,
   "metadata": {},
   "outputs": [
    {
     "data": {
      "text/plain": [
       "13"
      ]
     },
     "execution_count": 26,
     "metadata": {},
     "output_type": "execute_result"
    }
   ],
   "source": [
    "ord('\\r')"
   ]
  },
  {
   "cell_type": "code",
   "execution_count": 27,
   "metadata": {},
   "outputs": [
    {
     "data": {
      "text/plain": [
       "'3'"
      ]
     },
     "execution_count": 27,
     "metadata": {},
     "output_type": "execute_result"
    }
   ],
   "source": [
    "chr(51)"
   ]
  },
  {
   "cell_type": "code",
   "execution_count": null,
   "metadata": {},
   "outputs": [],
   "source": []
  }
 ],
 "metadata": {
  "kernelspec": {
   "display_name": "Python 3",
   "language": "python",
   "name": "python3"
  },
  "language_info": {
   "codemirror_mode": {
    "name": "ipython",
    "version": 3
   },
   "file_extension": ".py",
   "mimetype": "text/x-python",
   "name": "python",
   "nbconvert_exporter": "python",
   "pygments_lexer": "ipython3",
   "version": "3.6.4"
  }
 },
 "nbformat": 4,
 "nbformat_minor": 2
}
