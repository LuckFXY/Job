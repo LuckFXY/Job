{
 "cells": [
  {
   "cell_type": "code",
   "execution_count": 11,
   "metadata": {},
   "outputs": [],
   "source": [
    "def quicksort(nums, left, right):\n",
    "    if(left == right+1):\n",
    "        return\n",
    "    i = left\n",
    "    j = right\n",
    "    mid = nums[left]\n",
    "    while(i<j):\n",
    "        while(nums[j] > mid and i<j):\n",
    "            j -= 1\n",
    "        while(nums[i] <= mid and i<j):\n",
    "            i += 1\n",
    "        \n",
    "        tmp = nums[j]\n",
    "        nums[j] = nums[i]\n",
    "        nums[i] = tmp\n",
    "    nums[left] = nums[i]\n",
    "    nums[i] = mid\n",
    "    print(nums[left:right+1])\n",
    "    quicksort(nums, left, i-1)\n",
    "    quicksort(nums, i+1, right)"
   ]
  },
  {
   "cell_type": "code",
   "execution_count": 12,
   "metadata": {},
   "outputs": [
    {
     "name": "stdout",
     "output_type": "stream",
     "text": [
      "[3, 4, 3, 5, 5, 5, 9, 8, 6]\n",
      "[3, 3, 4, 5, 5]\n",
      "[3]\n",
      "[4, 5, 5]\n",
      "[5, 5]\n",
      "[5]\n",
      "[6, 8, 9]\n",
      "[6, 8]\n",
      "[8]\n"
     ]
    }
   ],
   "source": [
    "nums = [5,4,3,5,8,9,3,5,6]\n",
    "quicksort(nums, 0, len(nums)-1)"
   ]
  },
  {
   "cell_type": "code",
   "execution_count": 46,
   "metadata": {},
   "outputs": [
    {
     "data": {
      "text/plain": [
       "{3: 1, 41: 1}"
      ]
     },
     "execution_count": 46,
     "metadata": {},
     "output_type": "execute_result"
    }
   ],
   "source": [
    "import math\n",
    "def generater_primes_list(n):\n",
    "    is_prime = [0 if i % 2 == 0 else 1 for i in range(n+1)]\n",
    "    for i in range(3, int(math.sqrt(n))+1, 2):\n",
    "        if is_prime[i]:\n",
    "            for m in range( i*i, n, 2*i):\n",
    "                #print(m,end=' ')\n",
    "                is_prime[m] = 0\n",
    "            #print('')\n",
    "    primes_list = [i for i in range(n+1) if is_prime[i] == 1]\n",
    "    primes_list[0] = 2\n",
    "    return primes_list\n",
    "\n",
    "def PR(n):  \n",
    "    primes = generater_primes_list(100)\n",
    "    k = 0\n",
    "    ret = []\n",
    "    while(k != n):\n",
    "        for p in primes:\n",
    "            if n % p == 0:\n",
    "                k=p\n",
    "                break\n",
    "        if(k != n):\n",
    "            n = n // k\n",
    "            ret.append(k)\n",
    "    if(n>1):\n",
    "        ret.append(n)\n",
    "    return ret\n",
    "    \n",
    "primes = generater_primes_list(100000)\n",
    "def PR(primes, n):  \n",
    "    \n",
    "    k = 1\n",
    "    ret = dict()\n",
    "    while(k != n):\n",
    "        for p in primes:\n",
    "            if n % p == 0:\n",
    "                k=p\n",
    "                break\n",
    "        if(k != n):\n",
    "            n = n / k\n",
    "            if k not in ret:\n",
    "                ret[k] = 1\n",
    "            else:\n",
    "                ret[k] += 1\n",
    "                \n",
    "    if k not in ret:\n",
    "        ret[k] = 1\n",
    "    else:\n",
    "        ret[k] += 1\n",
    "    return ret\n",
    "\n",
    "PR(primes, 123)   "
   ]
  },
  {
   "cell_type": "code",
   "execution_count": 50,
   "metadata": {},
   "outputs": [
    {
     "name": "stdout",
     "output_type": "stream",
     "text": [
      "{2: 6, 3: 4, 5: 2, 7: 2, 11: 1, 13: 1, 17: 1, 19: 1, 23: 1, 29: 1, 31: 1, 37: 1, 41: 1, 43: 1, 47: 1, 53: 1, 59: 1, 61: 1, 67: 1, 71: 1, 73: 1, 79: 1, 83: 1, 89: 1, 97: 1}\n",
      "445989033\n"
     ]
    }
   ],
   "source": [
    "prime_dict = dict()\n",
    "for num in range(2, 100):\n",
    "    pd = PR(primes, num)\n",
    "    for k, v in pd.items():\n",
    "        if k not in prime_dict:\n",
    "            prime_dict[k] = v\n",
    "        elif prime_dict[k] < v:\n",
    "                prime_dict[k] = v\n",
    "print(prime_dict)\n",
    "res = 1\n",
    "for k, v in prime_dict.items():\n",
    "    res = (res * (k ** v))%987654321\n",
    "print(res)"
   ]
  },
  {
   "cell_type": "code",
   "execution_count": 54,
   "metadata": {},
   "outputs": [],
   "source": [
    "def gcb(a,b):\n",
    "    c = a%b\n",
    "    while(c != 0):\n",
    "        a = b\n",
    "        b = c\n",
    "        c = a % b\n",
    "    return b\n",
    "\n",
    "def gcb_2(a,b):\n",
    "    return a if b == 0 else gcb_2(b, a%b)\n"
   ]
  },
  {
   "cell_type": "code",
   "execution_count": 55,
   "metadata": {},
   "outputs": [],
   "source": [
    "import numpy as np"
   ]
  },
  {
   "cell_type": "code",
   "execution_count": 92,
   "metadata": {},
   "outputs": [
    {
     "name": "stdout",
     "output_type": "stream",
     "text": [
      "[[0 1 2]\n",
      " [3 4 5]\n",
      " [6 7 8]]\n"
     ]
    }
   ],
   "source": [
    "data = np.arange(9).reshape(3,3)\n",
    "print(data)"
   ]
  },
  {
   "cell_type": "code",
   "execution_count": 95,
   "metadata": {},
   "outputs": [
    {
     "name": "stdout",
     "output_type": "stream",
     "text": [
      "[[57 50 59 18 31 13]\n",
      " [67 86 93 86  4  9]\n",
      " [38 98 83 56 82 90]\n",
      " [66 50 67 11  7 69]\n",
      " [20 58 55 24 66 10]\n",
      " [43 26 65  0 64 28]\n",
      " [62 86 38 19 37 98]]\n"
     ]
    }
   ],
   "source": [
    "data =[[57,50,59,18,31,13],[67,86,93,86,4,9],[38,98,83,56,82,90],[66,50,67,11,7,69],[20,58,55,24,66,10],[43,26,65,0,64,28],[62,86,38,19,37,98]]\n",
    "data = np.array(data)\n",
    "print(data)"
   ]
  },
  {
   "cell_type": "code",
   "execution_count": 96,
   "metadata": {},
   "outputs": [
    {
     "data": {
      "text/plain": [
       "[57,\n",
       " 50,\n",
       " 59,\n",
       " 18,\n",
       " 31,\n",
       " 13,\n",
       " 9,\n",
       " 90,\n",
       " 69,\n",
       " 10,\n",
       " 28,\n",
       " 98,\n",
       " 37,\n",
       " 19,\n",
       " 38,\n",
       " 86,\n",
       " 62,\n",
       " 43,\n",
       " 20,\n",
       " 66,\n",
       " 38,\n",
       " 67,\n",
       " 86,\n",
       " 93,\n",
       " 86,\n",
       " 4,\n",
       " 82,\n",
       " 7,\n",
       " 66,\n",
       " 64,\n",
       " 0,\n",
       " 65,\n",
       " 26,\n",
       " 58,\n",
       " 50,\n",
       " 98,\n",
       " 83,\n",
       " 56,\n",
       " 11,\n",
       " 24,\n",
       " 55,\n",
       " 67]"
      ]
     },
     "execution_count": 96,
     "metadata": {},
     "output_type": "execute_result"
    }
   ],
   "source": [
    "def print_order(data):\n",
    "    n,m = data.shape\n",
    "    flag = 1\n",
    "    ret = []\n",
    "    r = 0\n",
    "    c = -1\n",
    "    while(n!= 0 and m != 0):\n",
    "        for flag in [1, -1]:\n",
    "            for j in range(m):\n",
    "                c += flag\n",
    "                ret.append((r, c))\n",
    "                \n",
    "            for i in range(n-1):\n",
    "                r += flag\n",
    "                ret.append((r, c))\n",
    "            m -= 1\n",
    "            n -= 1\n",
    "            \n",
    "            if m == 0 or n == 0:\n",
    "                break\n",
    "            #print(m,n)\n",
    "            #print(ret,r,c)\n",
    "    return [data[i,j] for i,j in ret]\n",
    "print_order(data)"
   ]
  },
  {
   "cell_type": "code",
   "execution_count": 102,
   "metadata": {},
   "outputs": [
    {
     "data": {
      "text/plain": [
       "16050006"
      ]
     },
     "execution_count": 102,
     "metadata": {},
     "output_type": "execute_result"
    }
   ],
   "source": [
    "def Add(num1, num2):\n",
    "        # write code here\n",
    "        carry = num1 & num2\n",
    "        while(carry != 0):\n",
    "            num1 = num1 ^ num2\n",
    "            num2 = carry << 1\n",
    "            carry = num1 & num2\n",
    "        return num1 | num2\n",
    "Add(1050000,15000006)"
   ]
  },
  {
   "cell_type": "code",
   "execution_count": 104,
   "metadata": {},
   "outputs": [
    {
     "data": {
      "text/plain": [
       "[1, 2, 4, 12, 40]"
      ]
     },
     "execution_count": 104,
     "metadata": {},
     "output_type": "execute_result"
    }
   ],
   "source": [
    "def jumpFloorII( number):\n",
    "    # write code here\n",
    "    if number == 1:\n",
    "        return 1\n",
    "    catalan = [0] * number\n",
    "    catalan[0] = 1\n",
    "    catalan[1] = 2\n",
    "    for i in range(2, number):\n",
    "        for j in range(i):\n",
    "            catalan[i] += catalan[j] * catalan[i-1-j]\n",
    "    return catalan\n",
    "jumpFloorII(5)"
   ]
  },
  {
   "cell_type": "code",
   "execution_count": 108,
   "metadata": {},
   "outputs": [
    {
     "name": "stdout",
     "output_type": "stream",
     "text": [
      "[[0, 0], [0, 0], [0, 0]]\n"
     ]
    }
   ],
   "source": [
    "a = [[0,0]] * 3\n",
    "print(a)"
   ]
  },
  {
   "cell_type": "code",
   "execution_count": 109,
   "metadata": {},
   "outputs": [
    {
     "name": "stdout",
     "output_type": "stream",
     "text": [
      "[[0, 1], [0, 1], [0, 1]]\n"
     ]
    }
   ],
   "source": [
    "a[0][1] =1\n",
    "print(a)"
   ]
  },
  {
   "cell_type": "code",
   "execution_count": 114,
   "metadata": {},
   "outputs": [],
   "source": [
    "def f(x):\n",
    "    return ((x&1)<<31)>>31"
   ]
  },
  {
   "cell_type": "code",
   "execution_count": 115,
   "metadata": {},
   "outputs": [
    {
     "name": "stdout",
     "output_type": "stream",
     "text": [
      "0   0\n",
      "1   1\n",
      "2   0\n",
      "3   1\n",
      "4   0\n",
      "5   1\n",
      "6   0\n",
      "7   1\n",
      "8   0\n",
      "9   1\n"
     ]
    }
   ],
   "source": [
    "for i in range(10):\n",
    "    print(i,' ',f(i))"
   ]
  },
  {
   "cell_type": "code",
   "execution_count": 233,
   "metadata": {},
   "outputs": [],
   "source": [
    "import numpy as np"
   ]
  },
  {
   "cell_type": "code",
   "execution_count": 239,
   "metadata": {},
   "outputs": [
    {
     "name": "stdout",
     "output_type": "stream",
     "text": [
      "[[ 1  3  5  6  7  8]\n",
      " [ 8  9 10 13 15 15]\n",
      " [17 18 19 23 24 26]\n",
      " [27 28 29 31 32 33]\n",
      " [33 33 33 37 38 39]\n",
      " [42 43 45 46 47 48]]\n",
      "[[1, 3, 5, 6, 7, 8], [8, 9, 10, 13, 15, 15], [17, 18, 19, 23, 24, 26], [27, 28, 29, 31, 32, 33], [33, 33, 33, 37, 38, 39], [42, 43, 45, 46, 47, 48]]\n"
     ]
    }
   ],
   "source": [
    "a = [1,3,5,6,7,8,8,9,10,13,15,15,17,18,19,23,24,26,27,28,29,31,32,33,33,33,33,37,38,39,42,43,45,46,47,48]\n",
    "a = np.array(a).reshape(6,6)\n",
    "print(a)\n",
    "array = []\n",
    "for r in a:\n",
    "    array.append(list(r))\n",
    "print(array)"
   ]
  },
  {
   "cell_type": "code",
   "execution_count": 246,
   "metadata": {},
   "outputs": [
    {
     "name": "stdout",
     "output_type": "stream",
     "text": [
      "[[ 1  2  8  9]\n",
      " [ 2  4  9 12]\n",
      " [ 4  7 10 13]\n",
      " [ 6  8 11 15]]\n",
      "True\n",
      "True\n"
     ]
    }
   ],
   "source": [
    "class Solution:\n",
    "    # array 二维列表\n",
    "    def binarySearch(self, target, array):\n",
    "        left = 0\n",
    "        right = len(array) - 1\n",
    "        while(left <= right):\n",
    "            mid = (right + left) // 2\n",
    "            if array[mid] == target:\n",
    "                return True\n",
    "            elif array[mid] < target:\n",
    "                left = mid + 1\n",
    "            else:\n",
    "                right = mid - 1\n",
    "\n",
    "        return False\n",
    "    def Find(self, target, array):\n",
    "        # write code here\n",
    "        n = len(array)\n",
    "        m = len(array[0])\n",
    "        for row in array:\n",
    "            res = self.binarySearch(target, row)\n",
    "            if res:\n",
    "                return True\n",
    "        return False\n",
    "s = Solution()\n",
    "array = [[1,2,8,9],[2,4,9,12],[4,7,10,13],[6,8,11,15]]\n",
    "print(np.array(array))\n",
    "\n",
    "res = s.Find(1, array)\n",
    "print(res)\n",
    "print(s.binarySearch(1,[1,2,8,9]))\n"
   ]
  },
  {
   "cell_type": "code",
   "execution_count": 247,
   "metadata": {},
   "outputs": [
    {
     "name": "stdout",
     "output_type": "stream",
     "text": [
      "27 [1, 2, 3, 4, 5, 6]\n"
     ]
    }
   ],
   "source": [
    "class MonoSum:\n",
    "    def __init__(self):\n",
    "        self.count = 0\n",
    "        \n",
    "    def merge(self, arr, start, mid, end):\n",
    "        res = []\n",
    "        left = start\n",
    "        right = mid+1\n",
    "        while (left <= mid and right <= end):\n",
    "            if arr[left] <= arr[right]:\n",
    "                self.count += arr[left] * (end-right+1)\n",
    "                res.append(arr[left])\n",
    "                left += 1\n",
    "            else:\n",
    "                res.append(arr[right])\n",
    "                right += 1\n",
    "        res += arr[left : mid+1]\n",
    "        res += arr[right : end+1]\n",
    "        arr[start: end+1] = res\n",
    "    def mergeSort(self, arr, start, end):\n",
    "        mid = (start+end) // 2\n",
    "        if mid > start:\n",
    "            self.mergeSort(arr, start, mid)\n",
    "        if mid+1 < end:\n",
    "            self.mergeSort(arr, mid+1, end)\n",
    "        self.merge(arr, start, mid, end)\n",
    "        \n",
    "    def calcMonoSum(self, A, n):\n",
    "        # write code here\n",
    "        self.count = 0 \n",
    "        self.mergeSort(A, 0, n-1)\n",
    "        return self.count\n",
    "\n",
    "        \n",
    "arr = [1,3,5,2,4,6]\n",
    "s = MonoSum()\n",
    "s.mergeSort(arr, 0, len(arr)-1)\n",
    "print(s.count, arr)"
   ]
  },
  {
   "cell_type": "code",
   "execution_count": 263,
   "metadata": {},
   "outputs": [
    {
     "name": "stdout",
     "output_type": "stream",
     "text": [
      "[5, 3, 2, 4, 0, 1, 6, 7]\n",
      "[1, 3, 2, 4, 0, 5, 6, 7]\n",
      "[3, 1, 2, 4, 0, 5, 6, 7]\n",
      "[4, 1, 2, 3, 0, 5, 6, 7]\n",
      "[0, 1, 2, 3, 4, 5, 6, 7]\n"
     ]
    }
   ],
   "source": [
    "def duplicate(arr):\n",
    "    if arr == None or len(arr) == 0:\n",
    "        return False\n",
    "    max_len = len(arr) - 1\n",
    "    for a in arr:\n",
    "        if a < 0 or a > max_len:\n",
    "            return False\n",
    "    for i in range(len(arr)):\n",
    "        while(arr[i] != i):\n",
    "            cur = arr[i]\n",
    "            if arr[i] != arr[cur]:\n",
    "                tmp = arr[cur]\n",
    "                arr[cur] = arr[i]\n",
    "                arr[i] = tmp\n",
    "            else:\n",
    "                print(\"find the 1st duplicated number %d in arr[%d]\"%(arr[i], i))\n",
    "                return True\n",
    "                break\n",
    "            print(arr)\n",
    "def duplicate_2(arr):\n",
    "    if arr == None or len(arr) == 0:\n",
    "        return False\n",
    "    max_len = len(arr) - 1\n",
    "    for a in arr:\n",
    "        if a < 0 or a > max_len:\n",
    "            return False \n",
    "    temp = [0] * (len(arr) + 1)\n",
    "    for i in range(len(arr)):\n",
    "        if temp[arr[i]] != 0:\n",
    "            print(\"find the 1st duplicated number %d in arr[%d]\"%(arr[i], i))\n",
    "            del temp\n",
    "            return True\n",
    "        else:\n",
    "            temp[arr[i]] += 1\n",
    "        print(temp)\n",
    "    del temp\n",
    "    return False\n",
    "\n",
    "def duplicate_3(arr):\n",
    "\n",
    "    return False\n",
    "        \n",
    "        \n",
    "#arr = [2,3,5,4,3,2,6,7]\n",
    "arr = [2,3,5,4,0,1,6,7]\n",
    "#duplicate(arr)\n",
    "duplicate(arr)"
   ]
  },
  {
   "cell_type": "code",
   "execution_count": 264,
   "metadata": {},
   "outputs": [
    {
     "name": "stdout",
     "output_type": "stream",
     "text": [
      "[[ 0  1  2  3]\n",
      " [ 4  5  6  7]\n",
      " [ 8  9 10 11]\n",
      " [12 13 14 15]]\n"
     ]
    }
   ],
   "source": [
    "a = np.arange(16).reshape(4,4)\n",
    "print(a)"
   ]
  },
  {
   "cell_type": "code",
   "execution_count": 268,
   "metadata": {},
   "outputs": [
    {
     "data": {
      "text/plain": [
       "True"
      ]
     },
     "execution_count": 268,
     "metadata": {},
     "output_type": "execute_result"
    }
   ],
   "source": [
    "def Find(A, row, col, num):\n",
    "    found = False\n",
    "    if row * col != 0:\n",
    "        n = 0; m = col - 1\n",
    "        while(n < row and col >= 0):\n",
    "            if num == A[n,m]:\n",
    "                found = True\n",
    "                break\n",
    "            elif num < A[n, m]:\n",
    "                m -= 1\n",
    "            else:\n",
    "                n += 1\n",
    "    return found\n",
    "Find(a, a.shape[0], a.shape[1], 5)"
   ]
  },
  {
   "cell_type": "code",
   "execution_count": null,
   "metadata": {},
   "outputs": [],
   "source": []
  }
 ],
 "metadata": {
  "kernelspec": {
   "display_name": "Python 3",
   "language": "python",
   "name": "python3"
  },
  "language_info": {
   "codemirror_mode": {
    "name": "ipython",
    "version": 3
   },
   "file_extension": ".py",
   "mimetype": "text/x-python",
   "name": "python",
   "nbconvert_exporter": "python",
   "pygments_lexer": "ipython3",
   "version": "3.6.4"
  }
 },
 "nbformat": 4,
 "nbformat_minor": 2
}
