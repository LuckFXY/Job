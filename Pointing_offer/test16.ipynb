{
 "cells": [
  {
   "cell_type": "code",
   "execution_count": 1,
   "metadata": {},
   "outputs": [],
   "source": [
    "import random"
   ]
  },
  {
   "cell_type": "code",
   "execution_count": 2,
   "metadata": {},
   "outputs": [],
   "source": [
    "def findGreatestSumOfSubArray(array):\n",
    "    if not array:\n",
    "        return -0x800000000\n",
    "    max_sum = -0x800000000\n",
    "    cur_sum = 0\n",
    "    for num in array:\n",
    "        if cur_sum < 0:\n",
    "            cur_sum = num\n",
    "        else:\n",
    "            cur_sum += num\n",
    "        max_sum = max(max_sum, cur_sum)\n",
    "    return max_sum\n",
    "\n",
    "def findGreatestSumOfSubArray2(array):\n",
    "    if not array:\n",
    "        return 0\n",
    "    if len(array) == 1:\n",
    "        return array[0]\n",
    "    for i in range(1, len(array)):\n",
    "        array[i] = array[i] if array[i-1] < 0 else array[i-1] + array[i]\n",
    "    return max(array)\n",
    "\n",
    "array = [1, -2, 3, 10, -4, 7, 2, -5]\n"
   ]
  },
  {
   "cell_type": "code",
   "execution_count": 3,
   "metadata": {},
   "outputs": [
    {
     "name": "stdout",
     "output_type": "stream",
     "text": [
      "[37, -49, -20, -37, -24, -22, -7, -47, 30, 22]\n",
      "[37, -12, -20, -37, -24, -22, -7, -47, 30, 52]\n",
      "52 52\n",
      "[6, 7, -27, -17, 33, -7, -45, 41, 13, 15]\n",
      "[6, 13, -14, -17, 33, 26, -19, 41, 54, 69]\n",
      "69 69\n",
      "[48, 46, 2, 0, 34, -23, 3, -30, 17, 27]\n",
      "[48, 94, 96, 96, 130, 107, 110, 80, 97, 124]\n",
      "130 130\n",
      "[7, 17, 42, 10, -7, 21, -23, -47, -15, 11]\n",
      "[7, 24, 66, 76, 69, 90, 67, 20, 5, 16]\n",
      "90 90\n",
      "[0, -47, 14, -7, 9, 23, -5, -32, -27, -17]\n",
      "[0, -47, 14, 7, 16, 39, 34, 2, -25, -17]\n",
      "39 39\n",
      "[40, 26, -49, 8, -7, 37, -16, 30, -22, -40]\n",
      "[40, 66, 17, 25, 18, 55, 39, 69, 47, 7]\n",
      "69 69\n",
      "[8, 2, 42, -11, 4, 41, -25, 5, -14, 30]\n",
      "[8, 10, 52, 41, 45, 86, 61, 66, 52, 82]\n",
      "86 86\n",
      "[37, 30, -1, -21, -24, -48, -34, -30, -4, 15]\n",
      "[37, 67, 66, 45, 21, -27, -34, -30, -4, 15]\n",
      "67 67\n",
      "[-42, -49, 17, -15, 9, -12, -41, -4, 35, -23]\n",
      "[-42, -49, 17, 2, 11, -1, -41, -4, 35, 12]\n",
      "35 35\n",
      "[32, -34, 33, -46, -19, 15, 49, -23, -2, -8]\n",
      "[32, -2, 33, -13, -19, 15, 64, 41, 39, 31]\n",
      "64 64\n"
     ]
    }
   ],
   "source": [
    "array = [i-50 for i in range(100)]\n",
    "for i in range(10):\n",
    "    random.shuffle(array)\n",
    "    a = array[:10]\n",
    "    print(a)\n",
    "    r1 = findGreatestSumOfSubArray(a)\n",
    "    r2 = findGreatestSumOfSubArray2(a)\n",
    "    print(a)\n",
    "    print(r1, r2)"
   ]
  },
  {
   "cell_type": "code",
   "execution_count": 4,
   "metadata": {},
   "outputs": [
    {
     "data": {
      "text/plain": [
       "18821"
      ]
     },
     "execution_count": 4,
     "metadata": {},
     "output_type": "execute_result"
    }
   ],
   "source": [
    "def NumberOfOne(n):\n",
    "    num = 0\n",
    "    while n:\n",
    "        if n % 10 == 1:\n",
    "            num += 1\n",
    "        n = n // 10\n",
    "    return num\n",
    "def NumberOfOneBeteenInterval(left, right):\n",
    "    count = 0\n",
    "    for i in range(left, right+1):\n",
    "        count += NumberOfOne(i)\n",
    "    return count\n",
    "NumberOfOneBeteenInterval(0,21345)"
   ]
  },
  {
   "cell_type": "code",
   "execution_count": 5,
   "metadata": {},
   "outputs": [
    {
     "name": "stdout",
     "output_type": "stream",
     "text": [
      "45 10 4 1\n",
      "345 100 60 15\n",
      "1345 346 300 175\n",
      "21345 10000 8000 821\n"
     ]
    },
    {
     "data": {
      "text/plain": [
       "18821"
      ]
     },
     "execution_count": 5,
     "metadata": {},
     "output_type": "execute_result"
    }
   ],
   "source": [
    "def NumberOfOneBetween1toN(n):\n",
    "    if n <= 0 :\n",
    "        return 0\n",
    "    strN = str(n)\n",
    "    return NumberOfOne(strN)\n",
    "\n",
    "def NumberOfOne(strN):\n",
    "    first = int(strN[0])\n",
    "    length = len(strN)\n",
    "    if length == 1 and first == 0:\n",
    "        return 0\n",
    "    if length == 1 and first > 0:\n",
    "        return 1\n",
    "    #strN = 21345\n",
    "    numFirstDigit = 0\n",
    "    # the number of one in first digit in range of 10000 - 19999 \n",
    "    if first > 1:\n",
    "        # 第一位大于1，第一位数字置1，后面4位随便，一共 10^4\n",
    "        numFirstDigit = pow(10, length-1)\n",
    "    elif first == 1:\n",
    "       \n",
    "        # 第一位等于一，第一位数字置1，后面数字可以用1345个选择再加上0000这一种情况\n",
    "        numFirstDigit = int(strN[1:]) + 1\n",
    "    # 第一位之外的1的个数 1346 - 21345， 最高位2种选择， 后四位中选一位置1，其他3位全排列 10 ^ 3\n",
    "    numOtherDigit = first * (length-1) * pow(10, length-2)\n",
    "    # 1 -1345 中1的个数\n",
    "    numRecursive = NumberOfOne(strN[1:])\n",
    "    print(strN, numFirstDigit, numOtherDigit, numRecursive)\n",
    "    return numFirstDigit + numOtherDigit + numRecursive\n",
    "\n",
    "NumberOfOneBetween1toN(21345)"
   ]
  },
  {
   "cell_type": "code",
   "execution_count": 6,
   "metadata": {
    "scrolled": false
   },
   "outputs": [
    {
     "name": "stdout",
     "output_type": "stream",
     "text": [
      "True\n",
      "01234567891011121314151617181920212223242526272829303132333435363738394041424344454647484950515253545556575859606162636465666768697071727374757677787980818283848586878889909192939495969798991001011021031041051061071081091101111121131141151161171181191201211221231241251261271281291301311321331341351361371381391401411421431441451461471481491501511521531541551561571581591601611621631641651661671681691701711721731741751761771781791801811821831841851861871881891901911921931941951961971981992002012022032042052062072082092102112122132142152162172182192202212222232242252262272282292302312322332342352362372382392402412422432442452462472482492502512522532542552562572582592602612622632642652662672682692702712722732742752762772782792802812822832842852862872882892902912922932942952962972982993003013023033043053063073083093103113123133143153163173183193203213223233243253263273283293303313323333343353363373383393403413423433443453463473483493503513523533543553563573583593603613623633643653663673683693\n",
      "01234567891011121314151617181920212223242526272829303132333435363738394041424344454647484950515253545556575859606162636465666768697071727374757677787980818283848586878889909192939495969798991001011021031041051061071081091101111121131141151161171181191201211221231241251261271281291301311321331341351361371381391401411421431441451461471481491501511521531541551561571581591601611621631641651661671681691701711721731741751761771781791801811821831841851861871881891901911921931941951961971981992002012022032042052062072082092102112122132142152162172182192202212222232242252262272282292302312322332342352362372382392402412422432442452462472482492502512522532542552562572582592602612622632642652662672682692702712722732742752762772782792802812822832842852862872882892902912922932942952962972982993003013023033043053063073083093103113123133143153163173183193203213223233243253263273283293303313323333343353363373383393403413423433443453463473483493503513523533543553563573583593603613623633643653663673683693\n"
     ]
    }
   ],
   "source": [
    "def digitAtIndex(index):\n",
    "    if index < 10:\n",
    "        return str(index)\n",
    "    \n",
    "    nInteger = 0\n",
    "    \n",
    "    cur = index\n",
    "    if cur >= 10:\n",
    "        nInteger += 1\n",
    "        cur -= 10\n",
    "        index = cur\n",
    "        \n",
    "    while cur > 0:\n",
    "        nInteger += 1\n",
    "        index = cur\n",
    "        cur -= nInteger * pow(10, nInteger - 1) * 9\n",
    "    #print(nInteger, index)\n",
    "    num = pow(10, nInteger-1) + index // nInteger\n",
    "    #print(num)\n",
    "    idx = index % nInteger\n",
    "    digit = str(num)[idx]\n",
    "    return digit\n",
    "\n",
    "digitAtIndex(1001)\n",
    "ret = []\n",
    "N = 1001\n",
    "for i in range(N):\n",
    "    ret.append(digitAtIndex(i))\n",
    "    \n",
    "ret = ''.join(ret)\n",
    "\n",
    "right = ''.join([str(i) for i in range(N)])[:N]\n",
    "print(ret==right)\n",
    "print(ret)\n",
    "print(right)"
   ]
  },
  {
   "cell_type": "code",
   "execution_count": 7,
   "metadata": {},
   "outputs": [
    {
     "data": {
      "text/plain": [
       "'9534330'"
      ]
     },
     "execution_count": 7,
     "metadata": {},
     "output_type": "execute_result"
    }
   ],
   "source": [
    "class LargerNumKey(str):\n",
    "    def __lt__(x, y):\n",
    "        return x+y > y+x\n",
    "def printMinNumber(array):\n",
    "    strArr = [str(i) for i in array]\n",
    "    strArr = sorted(strArr, key=LargerNumKey)\n",
    "    strArr = ''.join(strArr)\n",
    "    return strArr if strArr[0] != '0' else '0'\n",
    "array = [3,30,34,5,9]\n",
    "printMinNumber(array)"
   ]
  },
  {
   "cell_type": "code",
   "execution_count": 8,
   "metadata": {},
   "outputs": [
    {
     "data": {
      "text/plain": [
       "2"
      ]
     },
     "execution_count": 8,
     "metadata": {},
     "output_type": "execute_result"
    }
   ],
   "source": [
    "def GetTranslationCount(num):\n",
    "    if num is None or num <= 0 :\n",
    "        return 0\n",
    "    strNum = str(num)\n",
    "    length = len(strNum)\n",
    "    count = [1] * length\n",
    "    if length >= 2:\n",
    "        tmp = int(strNum[:2])\n",
    "        if 10 <= tmp and tmp <= 25:\n",
    "            count[1] += 1\n",
    "    for i in range(2, length):\n",
    "        tmp = int(strNum[i-1:i+1])\n",
    "        count[i] = count[i-1]\n",
    "        if 10 <= tmp and tmp <= 25:\n",
    "            count[i] += count[i-2]\n",
    "    #print(count)\n",
    "    return count[-1]\n",
    "GetTranslationCount(10)"
   ]
  },
  {
   "cell_type": "code",
   "execution_count": 9,
   "metadata": {},
   "outputs": [
    {
     "name": "stdout",
     "output_type": "stream",
     "text": [
      "...................................................................................................."
     ]
    }
   ],
   "source": [
    "def GetTranslationCount2(num):\n",
    "    if not num or num <= 0:\n",
    "        return 0\n",
    "    num = str(num)\n",
    "    length = len(num)\n",
    "    count = [0] * length\n",
    "    count[length-1] = 1\n",
    "    for i in range(length-2, -1, -1):\n",
    "        cur = count[i+1]\n",
    "        tmp = int(num[i:i+2])\n",
    "        if 10 <= tmp and tmp <= 25:\n",
    "            if i < length -2:\n",
    "                cur += count[i+2]\n",
    "            else:\n",
    "                cur += 1\n",
    "        count[i] = cur\n",
    "    #print(count)\n",
    "    return count[0]\n",
    "\n",
    "for i in range(100):\n",
    "    print('.',end='')\n",
    "    num = random.randint(100,100000)\n",
    "    r1 = GetTranslationCount(num)\n",
    "    r2 = GetTranslationCount2(num)\n",
    "    if (r1 == r2) == False:\n",
    "        print(\"\\n num = %d r1 = %d, r2 = %d\"%(num, r1, r2))"
   ]
  },
  {
   "cell_type": "code",
   "execution_count": 10,
   "metadata": {},
   "outputs": [
    {
     "name": "stdout",
     "output_type": "stream",
     "text": [
      "[13, 15, 24, 30]\n",
      "[18, 25, 29, 41]\n",
      "[21, 32, 48, 53]\n"
     ]
    },
    {
     "data": {
      "text/plain": [
       "53"
      ]
     },
     "execution_count": 10,
     "metadata": {},
     "output_type": "execute_result"
    }
   ],
   "source": [
    "def getMaxValue_solution(table):\n",
    "    if not table or not table[0]:\n",
    "        return 0\n",
    "    rows, cols, cur = len(table), len(table[0]), 0\n",
    "    maxValues = [table[0].copy() for _ in range(2)]\n",
    "    for i in range(1, rows):\n",
    "        last, cur = cur, (cur+1)%2\n",
    "        maxValues[cur][0] = table[i][0] + maxValues[last][0]\n",
    "        for j in range(1, cols):\n",
    "            maxValues[cur][j] = max(maxValues[last][j], maxValues[cur][j-1]) + table[i][j]\n",
    "        print(maxValues[cur])\n",
    "    return maxValues[cur][cols-1]\n",
    "\n",
    "table=[\n",
    "    [1,10,3,8],\n",
    "    [12,2,9,6],\n",
    "    [5,7,4,11],\n",
    "    [3,7,16,5]\n",
    "]\n",
    "getMaxValue_solution(table)"
   ]
  },
  {
   "cell_type": "code",
   "execution_count": 20,
   "metadata": {},
   "outputs": [
    {
     "name": "stdout",
     "output_type": "stream",
     "text": [
      "0 a -1 1 0\n",
      "1 r -1 2 0\n",
      "2 a 0 2 2\n",
      "3 b -1 3 2\n",
      "4 c -1 4 2\n",
      "5 a 2 3 4\n",
      "6 c 4 2 4\n",
      "7 f -1 3 4\n",
      "8 r 1 4 4\n"
     ]
    },
    {
     "data": {
      "text/plain": [
       "4"
      ]
     },
     "execution_count": 20,
     "metadata": {},
     "output_type": "execute_result"
    }
   ],
   "source": [
    "def longestSubstringWithoutDuplication(string):\n",
    "    curLen = maxLen = 0\n",
    "    pos = [-1] * 26\n",
    "    for i in range(len(string)):\n",
    "        prevIndex = pos[ord(string[i])-97]\n",
    "        if prevIndex == -1 or i - prevIndex > curLen:\n",
    "            curLen += 1\n",
    "        else:\n",
    "            maxLen = max(maxLen, curLen)\n",
    "            curLen = i - prevIndex\n",
    "        pos[ord(string[i]) - 97] = i\n",
    "        print(i, string[i], prevIndex, curLen, maxLen)\n",
    "        \n",
    "    maxLen = max(maxLen, curLen)\n",
    "    return maxLen\n",
    "\n",
    "string = 'arabcacfr'\n",
    "longestSubstringWithoutDuplication(string)"
   ]
  },
  {
   "cell_type": "code",
   "execution_count": 48,
   "metadata": {},
   "outputs": [
    {
     "name": "stdout",
     "output_type": "stream",
     "text": [
      "[2, 5, 4, 6, 3, 1, 7]\n",
      "[2, 4, 5, 3, 1, 6, 7]\n",
      "[2, 4, 3, 1, 5, 6, 7]\n",
      "[2, 3, 1, 4, 5, 6, 7]\n",
      "[2, 1, 3, 4, 5, 6, 7]\n",
      "[1, 2, 3, 4, 5, 6, 7]\n",
      "[1, 2, 3, 4, 5, 6, 7]\n"
     ]
    }
   ],
   "source": [
    "def bubblesort(a):\n",
    "    sorted = False\n",
    "    n = len(a)\n",
    "    while not sorted:\n",
    "        sorted = True\n",
    "        for i in range(1, n):\n",
    "            if a[i-1] > a[i]:\n",
    "                a[i-1], a[i] = a[i], a[i-1]\n",
    "                sorted = False\n",
    "        print(a)\n",
    "        n -= 1\n",
    "a=[5,2,7,4,6,3,1]\n",
    "bubblesort(a)"
   ]
  },
  {
   "cell_type": "code",
   "execution_count": 31,
   "metadata": {},
   "outputs": [
    {
     "name": "stdout",
     "output_type": "stream",
     "text": [
      "9512 9233 8891\n"
     ]
    },
    {
     "data": {
      "text/plain": [
       "288325195312500000"
      ]
     },
     "execution_count": 31,
     "metadata": {},
     "output_type": "execute_result"
    }
   ],
   "source": [
    "def getUglyNum(index):\n",
    "    if index <= 0:\n",
    "        return 0\n",
    "    uglyArr = [0] * index\n",
    "    uglyArr[0] = 1\n",
    "    p2 = p3 = p5 = 0\n",
    "    for nextUglyIdx in range(1, index):\n",
    "        t2, t3, t5 = [uglyArr[i] * j for i, j in zip ((p2, p3, p5), (2,3,5))]\n",
    "        nextUgly = min(t2, t3, t5)\n",
    "        uglyArr[nextUglyIdx] = nextUgly\n",
    "        while uglyArr[p2] * 2 <= nextUgly:\n",
    "            p2 += 1\n",
    "        while uglyArr[p3] * 3 <= nextUgly:\n",
    "            p3 += 1\n",
    "        while uglyArr[p5] * 5 <= nextUgly:\n",
    "            p5 += 1\n",
    "    print(p2, p3, p5)\n",
    "    #print(uglyArr)\n",
    "    return uglyArr[index-1]\n",
    "\n",
    "getUglyNum(10000)"
   ]
  },
  {
   "cell_type": "code",
   "execution_count": 44,
   "metadata": {},
   "outputs": [
    {
     "name": "stdout",
     "output_type": "stream",
     "text": [
      "6 [6, 6, 6, 6, 6, 6, 0, 6, 6, 6, 6, 6, 6, 6, 6, 6, 6, 6, 6, 6, 6, 6, 6, 6, 6, 6]\n",
      "14 [6, 6, 6, 6, 6, 6, 0, 6, 6, 6, 6, 6, 6, 6, 1, 6, 6, 6, 6, 6, 6, 6, 6, 6, 6, 6]\n",
      "14 [6, 6, 6, 6, 6, 6, 0, 6, 6, 6, 6, 6, 6, 6, 7, 6, 6, 6, 6, 6, 6, 6, 6, 6, 6, 6]\n",
      "6 [6, 6, 6, 6, 6, 6, 7, 6, 6, 6, 6, 6, 6, 6, 7, 6, 6, 6, 6, 6, 6, 6, 6, 6, 6, 6]\n",
      "11 [6, 6, 6, 6, 6, 6, 7, 6, 6, 6, 6, 4, 6, 6, 7, 6, 6, 6, 6, 6, 6, 6, 6, 6, 6, 6]\n",
      "4 [6, 6, 6, 6, 5, 6, 7, 6, 6, 6, 6, 4, 6, 6, 7, 6, 6, 6, 6, 6, 6, 6, 6, 6, 6, 6]\n"
     ]
    },
    {
     "data": {
      "text/plain": [
       "'l'"
      ]
     },
     "execution_count": 44,
     "metadata": {},
     "output_type": "execute_result"
    }
   ],
   "source": [
    "def firstNotRepeatingChar(string):\n",
    "    if not string:\n",
    "        return ''\n",
    "    slen = len(string)\n",
    "    table = [slen] * 26 \n",
    "    for i in range(slen):\n",
    "        k = ord(string[i]) - 97\n",
    "        if table[k] == slen:\n",
    "            table[k] = i\n",
    "        else:\n",
    "            table[k] = slen+1\n",
    "        print(k,table)\n",
    "    noRepetIdx = min(table)\n",
    "    \n",
    "    if noRepetIdx != slen+1:\n",
    "        return string[noRepetIdx]\n",
    "    else:\n",
    "        return ''\n",
    "\n",
    "string='google'\n",
    "firstNotRepeatingChar(string)"
   ]
  },
  {
   "cell_type": "code",
   "execution_count": null,
   "metadata": {},
   "outputs": [],
   "source": []
  }
 ],
 "metadata": {
  "kernelspec": {
   "display_name": "Python 3",
   "language": "python",
   "name": "python3"
  },
  "language_info": {
   "codemirror_mode": {
    "name": "ipython",
    "version": 3
   },
   "file_extension": ".py",
   "mimetype": "text/x-python",
   "name": "python",
   "nbconvert_exporter": "python",
   "pygments_lexer": "ipython3",
   "version": "3.6.4"
  }
 },
 "nbformat": 4,
 "nbformat_minor": 2
}
