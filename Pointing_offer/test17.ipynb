{
 "cells": [
  {
   "cell_type": "code",
   "execution_count": 2,
   "metadata": {},
   "outputs": [],
   "source": [
    "from copy import deepcopy"
   ]
  },
  {
   "cell_type": "code",
   "execution_count": 14,
   "metadata": {},
   "outputs": [],
   "source": [
    "def InversePairsCore(data, copy, start, end):\n",
    "    if start == end:\n",
    "        #copy[start] = data[start]\n",
    "        return 0\n",
    "    length = (end - start) // 2\n",
    "    left = InversePairsCore(copy, data, start, start + length)\n",
    "    right = InversePairsCore(copy, data, start + length + 1, end)\n",
    "    i, j = start+length, end\n",
    "    indexCopy = end\n",
    "    count = 0\n",
    "    print(\"----------------------------------\")\n",
    "    while i >= start and j >= start+length+1:\n",
    "        if data[i] > data[j]:\n",
    "            copy[indexCopy] = data[i]\n",
    "            count += j - (start+length)\n",
    "            i -= 1\n",
    "        else:\n",
    "            copy[indexCopy] = data[j]\n",
    "            j -= 1\n",
    "        print(copy[start:end+1])\n",
    "        indexCopy -= 1\n",
    "    while i >= start:\n",
    "        copy[indexCopy] = data[i]\n",
    "        i -= 1\n",
    "        indexCopy -= 1\n",
    "        print(print(copy[start:end+1]))\n",
    "    while j >= start+length+1:\n",
    "        copy[indexCopy] = data[j]\n",
    "        j -= 1\n",
    "        indexCopy -= 1\n",
    "        print(copy[start:end+1])\n",
    "    return left + right + count"
   ]
  },
  {
   "cell_type": "code",
   "execution_count": 17,
   "metadata": {},
   "outputs": [],
   "source": [
    "def InversePairs(data):\n",
    "    if not data or len(data) == 0:\n",
    "        return\n",
    "    length = len(data)\n",
    "    copy = [None] * length #deepcopy(data)\n",
    "    count = InversePairsCore(data, copy, 0, length-1)\n",
    "    del copy\n",
    "    return count"
   ]
  },
  {
   "cell_type": "code",
   "execution_count": 18,
   "metadata": {},
   "outputs": [
    {
     "name": "stdout",
     "output_type": "stream",
     "text": [
      "----------------------------------\n",
      "[None, 9]\n",
      "[3, 9]\n",
      "None\n",
      "----------------------------------\n",
      "[None, 7]\n",
      "[1, 7]\n",
      "None\n",
      "----------------------------------\n",
      "[3, 9, 1, 9]\n",
      "[3, 9, 7, 9]\n",
      "[3, 3, 7, 9]\n",
      "[1, 3, 7, 9]\n",
      "----------------------------------\n",
      "[None, 5]\n",
      "[2, 5]\n",
      "----------------------------------\n",
      "[None, 6]\n",
      "[4, 6]\n",
      "----------------------------------\n",
      "[5, 2, 6, 6]\n",
      "[5, 2, 5, 6]\n",
      "[5, 4, 5, 6]\n",
      "[2, 4, 5, 6]\n",
      "None\n",
      "----------------------------------\n",
      "[3, 9, 1, 7, 2, 5, 4, 9]\n",
      "[3, 9, 1, 7, 2, 5, 7, 9]\n",
      "[3, 9, 1, 7, 2, 6, 7, 9]\n",
      "[3, 9, 1, 7, 5, 6, 7, 9]\n",
      "[3, 9, 1, 4, 5, 6, 7, 9]\n",
      "[3, 9, 3, 4, 5, 6, 7, 9]\n",
      "[3, 2, 3, 4, 5, 6, 7, 9]\n",
      "[1, 2, 3, 4, 5, 6, 7, 9]\n",
      "None\n"
     ]
    },
    {
     "data": {
      "text/plain": [
       "15"
      ]
     },
     "execution_count": 18,
     "metadata": {},
     "output_type": "execute_result"
    }
   ],
   "source": [
    "arr = [3,9,1,7,5,2,6,4]\n",
    "InversePairs(arr)"
   ]
  },
  {
   "cell_type": "code",
   "execution_count": 2,
   "metadata": {},
   "outputs": [],
   "source": [
    "import numpy as np"
   ]
  },
  {
   "cell_type": "code",
   "execution_count": 16,
   "metadata": {},
   "outputs": [
    {
     "name": "stdout",
     "output_type": "stream",
     "text": [
      "[[ 0  1  2  3  4  5]\n",
      " [ 6  7  8  9 10 11]\n",
      " [12 13 14 15 16 17]\n",
      " [18 19 20 21 22 23]\n",
      " [24 25 26 27 28 29]\n",
      " [30 31 32 33 34 35]]\n"
     ]
    }
   ],
   "source": [
    "a = np.arange(36).reshape(6,6)\n",
    "#np.random.shuffle(a)\n",
    "print(a)"
   ]
  },
  {
   "cell_type": "code",
   "execution_count": 27,
   "metadata": {},
   "outputs": [
    {
     "name": "stdout",
     "output_type": "stream",
     "text": [
      "[[  0   1   3   6  10  15]\n",
      " [  6  14  24  36  50  66]\n",
      " [ 18  39  63  90 120 153]\n",
      " [ 36  76 120 168 220 276]\n",
      " [ 60 125 195 270 350 435]\n",
      " [ 90 186 288 396 510 630]]\n",
      "2 3 90\n",
      "3 2 120\n"
     ]
    },
    {
     "data": {
      "text/plain": [
       "21"
      ]
     },
     "execution_count": 27,
     "metadata": {},
     "output_type": "execute_result"
    }
   ],
   "source": [
    "def get_S(matrix):\n",
    "    if matrix is None:\n",
    "        return None\n",
    "    if len(matrix[0]) == 0:\n",
    "        return None\n",
    "    n, m = len(matrix), len(matrix[0])\n",
    "    s = [[0] * m for _ in range(n)]\n",
    "    s[0][0] = matrix[0][0]\n",
    "    for j in range(1,m):\n",
    "        s[0][j] = s[0][j-1] + matrix[0][j]\n",
    "    for i in range(1, n):\n",
    "        row_sum = 0\n",
    "        for j in range(0, m):\n",
    "            row_sum += matrix[i][j]\n",
    "            s[i][j] = s[i-1][j] + row_sum\n",
    "    return s\n",
    "\n",
    "s = get_S(a)\n",
    "print(np.array(s))\n",
    "\n",
    "def get_sum(s, r1, c1, r2, c2):\n",
    "    if r1 < 0 or r2 < 0 or  r1 > r2 or c1 > c2:\n",
    "        return 0\n",
    "    ret = s[r2][c2]\n",
    "    flag = False\n",
    "    if r1 >= 1:\n",
    "        ret -= s[r1-1][c2]\n",
    "        flag = True\n",
    "    if c1 >= 1:\n",
    "        ret -= s[r2][c1-1]\n",
    "        if flag:\n",
    "            ret += s[r1-1][c1-1]\n",
    "    return ret\n",
    "\n",
    "get_sum(s, 3,3,3,3)"
   ]
  },
  {
   "cell_type": "code",
   "execution_count": 1,
   "metadata": {},
   "outputs": [
    {
     "ename": "SyntaxError",
     "evalue": "invalid syntax (<ipython-input-1-3bf62ab07e60>, line 2)",
     "output_type": "error",
     "traceback": [
      "\u001b[1;36m  File \u001b[1;32m\"<ipython-input-1-3bf62ab07e60>\"\u001b[1;36m, line \u001b[1;32m2\u001b[0m\n\u001b[1;33m    if start < end;\u001b[0m\n\u001b[1;37m                  ^\u001b[0m\n\u001b[1;31mSyntaxError\u001b[0m\u001b[1;31m:\u001b[0m invalid syntax\n"
     ]
    }
   ],
   "source": [
    "def getFirstK(data, k, start, end):\n",
    "    if start >= end:\n",
    "        return -1\n",
    "    mid = (start + end) >> 1\n",
    "    \n",
    "arr = [1,2,3,3,3,3,4,5]\n"
   ]
  },
  {
   "cell_type": "code",
   "execution_count": null,
   "metadata": {},
   "outputs": [],
   "source": []
  }
 ],
 "metadata": {
  "kernelspec": {
   "display_name": "Python 3",
   "language": "python",
   "name": "python3"
  },
  "language_info": {
   "codemirror_mode": {
    "name": "ipython",
    "version": 3
   },
   "file_extension": ".py",
   "mimetype": "text/x-python",
   "name": "python",
   "nbconvert_exporter": "python",
   "pygments_lexer": "ipython3",
   "version": "3.6.4"
  }
 },
 "nbformat": 4,
 "nbformat_minor": 2
}
