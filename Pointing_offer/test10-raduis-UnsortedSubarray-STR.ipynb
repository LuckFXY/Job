{
 "cells": [
  {
   "cell_type": "code",
   "execution_count": 35,
   "metadata": {},
   "outputs": [
    {
     "name": "stdout",
     "output_type": "stream",
     "text": [
      "0 146319451\n",
      "146319451 102246882 269406752 44072569 123087301 62739516\n",
      "1 500782188\n",
      "500782188 269406752 578354438 231375436 77572250 346308345\n",
      "557810404 269406752 578354438 288403652 20544034 403336561\n",
      "3 581030105\n",
      "581030105 578354438 807130337 2675667 226100232 466642156\n",
      "657821123 578354438 807130337 79466685 149309214 543433174\n",
      "5 908194298\n",
      "5 908194298\n"
     ]
    },
    {
     "data": {
      "text/plain": [
       "79466685"
      ]
     },
     "execution_count": 35,
     "metadata": {},
     "output_type": "execute_result"
    }
   ],
   "source": [
    "def findRadius(houses, heaters):\n",
    "    \"\"\"\n",
    "    :type houses: List[int]\n",
    "    :type heaters: List[int]\n",
    "    :rtype: int\n",
    "    \"\"\"\n",
    "    if not houses or not heaters:\n",
    "        return 0\n",
    "    houses.sort()\n",
    "    heaters.sort()\n",
    "\n",
    "    N = len(houses)\n",
    "    spacing = 0\n",
    "\n",
    "    hi = 0\n",
    "    \n",
    "    for i,j in zip(heaters[:-1],heaters[1:]):\n",
    "        mid = (j-i)>>1\n",
    "        while hi < N and houses[hi] <= i:\n",
    "            hi += 1\n",
    "        if hi < N:\n",
    "            p = houses[hi]\n",
    "        print(hi, houses[hi])\n",
    "        mid_dist = 0x7FFFFFFF\n",
    "        while hi < N and houses[hi] < j:  \n",
    "            p = houses[hi]\n",
    "            \n",
    "            dist = abs(mid-p)\n",
    "            print(p,i,j, (p-i),j-p, dist)\n",
    "\n",
    "            spacing = max(spacing, min(p-i, j-p))\n",
    "            hi += 1\n",
    "    \n",
    "    radius = max(heaters[0] - houses[0], houses[-1] - heaters[-1], spacing)\n",
    "\n",
    "    return radius\n",
    "\n",
    "houses = [282475249,622650073,984943658,144108930,470211272,101027544,457850878,458777923]\n",
    "heaters = [823564440,115438165,784484492,74243042,114807987,137522503,441282327,16531729,823378840,143542612]\n",
    "houses = [581030105,557810404,146319451,908194298,500782188,657821123]\n",
    "heaters = [102246882,269406752,816731566,884936716,807130337,578354438]\n",
    "findRadius(houses, heaters)"
   ]
  },
  {
   "cell_type": "code",
   "execution_count": 5,
   "metadata": {},
   "outputs": [
    {
     "data": {
      "text/plain": [
       "964176192"
      ]
     },
     "execution_count": 5,
     "metadata": {},
     "output_type": "execute_result"
    }
   ],
   "source": [
    "def reverseBits(n):\n",
    "    ret = 0\n",
    "    t=[]\n",
    "    for i in range(32):\n",
    "        bit = (n & (1<<i))>>i\n",
    "        t.append(bit)\n",
    "        ret = (ret << 1) | bit\n",
    "    return ret\n",
    "\n",
    "reverseBits(43261596)"
   ]
  },
  {
   "cell_type": "code",
   "execution_count": 23,
   "metadata": {},
   "outputs": [
    {
     "name": "stdout",
     "output_type": "stream",
     "text": [
      "1 6\n",
      "[6, 5, 11, 4, 1]\n"
     ]
    }
   ],
   "source": [
    "def findUnsortedSubarray(nums):\n",
    "    N = len(nums)\n",
    "    i = j = 0\n",
    "    while j < N and nums[i] <= nums[j]:\n",
    "        i =j \n",
    "        j += 1\n",
    "    start = i\n",
    "    i = j = N-1\n",
    "    while 0 < i and nums[i] <= nums[j]:\n",
    "        j = i\n",
    "        i -=1\n",
    "    end = j\n",
    "    if start != end:\n",
    "        end += 1\n",
    "    print(start, end)\n",
    "    print(nums[start:end])\n",
    "nums = [2, 6, 5, 11,4,1,8,9,10]\n",
    "findUnsortedSubarray(nums)"
   ]
  },
  {
   "cell_type": "code",
   "execution_count": 86,
   "metadata": {
    "scrolled": false
   },
   "outputs": [
    {
     "name": "stdout",
     "output_type": "stream",
     "text": [
      "62.0\n",
      "31.991935483870968\n",
      "17.91832720752661\n",
      "12.391403638657124\n",
      "11.158819944876512\n",
      "11.090745427603231\n",
      "11.090536508377188\n",
      "11.090536506409418\n",
      "11.090536506409418 11.090536506409418\n"
     ]
    },
    {
     "data": {
      "text/plain": [
       "123"
      ]
     },
     "execution_count": 86,
     "metadata": {},
     "output_type": "execute_result"
    }
   ],
   "source": [
    "def mySqrt(x):\n",
    "    \"\"\"\n",
    "    :type x: int\n",
    "    :rtype: int\n",
    "    \"\"\"\n",
    "    b = x\n",
    "    if x == 0:\n",
    "        return 0\n",
    "    r = x\n",
    "    count = 0\n",
    "    x2 = x + 1e-8\n",
    "    while r * r > x2:\n",
    "        r = (r +x/r)/2\n",
    "        count += 1\n",
    "        if count == 26:\n",
    "            break\n",
    "        print(r)\n",
    "        \n",
    "    print(r, pow(b, 0.5))\n",
    "    return int(x)\n",
    "\n",
    "mySqrt(123)"
   ]
  },
  {
   "cell_type": "code",
   "execution_count": 71,
   "metadata": {},
   "outputs": [
    {
     "name": "stdout",
     "output_type": "stream",
     "text": [
      "n -2147483648 -2147483648\n",
      "1 -2147483648 -2147483648\n",
      "[0, 0, 0]\n",
      "1 -2147483648 -2147483648\n",
      "[0, 1, 0]\n",
      "n -2147483648 -2147483648\n",
      "2 1 -2147483648\n",
      "[0, 1, 0]\n"
     ]
    },
    {
     "data": {
      "text/plain": [
       "2"
      ]
     },
     "execution_count": 71,
     "metadata": {},
     "output_type": "execute_result"
    }
   ],
   "source": [
    "def thirdMax(nums):\n",
    "    \"\"\"\n",
    "    :type nums: List[int]\n",
    "    :rtype: int\n",
    "    \"\"\"\n",
    "    n1, n2, n3 = [None] * 3\n",
    "    for n in nums:\n",
    "        if n ==n1 or n== n2 or n== n3: continue\n",
    "        if n1 == None or n > n1:\n",
    "            n3 = n2\n",
    "            n2 = n1\n",
    "            n1 = n1\n",
    "        elif n2 == None or n > n2:\n",
    "            n3 = n2\n",
    "            n2 = n\n",
    "        elif n3 == None or n > n3:\n",
    "            n3 = n\n",
    "    return n1 if n3 == None else n3\n",
    "\n",
    "nums = [1,-2147483648,2]\n",
    "thirdMax(nums)"
   ]
  },
  {
   "cell_type": "code",
   "execution_count": 95,
   "metadata": {},
   "outputs": [
    {
     "name": "stdout",
     "output_type": "stream",
     "text": [
      "0 0\n",
      "0 -1\n",
      "1 0\n",
      "1 -1\n",
      "2 0\n",
      "3 1\n",
      "4 2\n",
      "5 3\n",
      "6 4\n",
      "7 5\n"
     ]
    },
    {
     "data": {
      "text/plain": [
       "2"
      ]
     },
     "execution_count": 95,
     "metadata": {},
     "output_type": "execute_result"
    }
   ],
   "source": [
    "class Solution(object):\n",
    "    def getNext(self, p):\n",
    "        N = len(p)\n",
    "        nextArr = [0] * N\n",
    "        nextArr[0] = -1\n",
    "        j,k = 0, -1\n",
    "        while j < N-1:\n",
    "            if k == -1 or p[k] == p[j]:\n",
    "                k += 1\n",
    "                j += 1\n",
    "                nextArr[j] = k\n",
    "            else:\n",
    "                k =nextArr[k]\n",
    "        return nextArr\n",
    "    \n",
    "    def strStr(self, haystack, needle):\n",
    "        \"\"\"\n",
    "        :type haystack: str\n",
    "        :type needle: str\n",
    "        :rtype: int\n",
    "        \"\"\"\n",
    "        if not haystack:\n",
    "            return -1\n",
    "        nextArr = self.getNext(needle)\n",
    "        i = j = 0\n",
    "        N1, N2 = len(haystack), len(needle)\n",
    "        while i < N1 and j < N2:\n",
    "            print(i,j)\n",
    "            if j== -1 or haystack[i] == needle[j]:\n",
    "                i += 1\n",
    "                j += 1\n",
    "            else:\n",
    "                j = nextArr[j]\n",
    "        if j == N2:\n",
    "            return i-j\n",
    "        \n",
    "        return -1\n",
    "s = Solution()\n",
    "s1 = 'hello123'\n",
    "s2 = 'llo123'\n",
    "s.strStr(s1, s2)"
   ]
  },
  {
   "cell_type": "code",
   "execution_count": 76,
   "metadata": {},
   "outputs": [
    {
     "name": "stdout",
     "output_type": "stream",
     "text": [
      "run\n",
      "0 1 [7, 1]\n"
     ]
    },
    {
     "data": {
      "text/plain": [
       "6"
      ]
     },
     "execution_count": 76,
     "metadata": {},
     "output_type": "execute_result"
    }
   ],
   "source": [
    "def findUnsortedSubarray(nums):\n",
    "        \"\"\"\n",
    "        :type nums: List[int]\n",
    "        :rtype: int\n",
    "        \"\"\"\n",
    "        i, j = 0, len(nums) - 1\n",
    "        length = len(nums)\n",
    "        while i < length - 1 and nums[i] <= nums[i + 1]:\n",
    "            i += 1\n",
    "        if i == len(nums) - 1:\n",
    "            return 0\n",
    "        while j > 0 and nums[j - 1] <= nums[j]:\n",
    "            j -= 1\n",
    "        print(i,j,nums[i: (j + 1)])\n",
    "        curmin, curmax = min(nums[i: (j + 1)]), max(nums[i:(j + 1)])\n",
    "        while i >= 0 and nums[i] > curmin:\n",
    "            i -= 1\n",
    "        while j <= length -1 and nums[j] < curmax:\n",
    "            j += 1\n",
    "        return j - i - 1\n",
    "\n",
    "print('run')\n",
    "nums=[7,1,2,3,4,5]#[1,3,6,4,5,7,8,9]\n",
    "findUnsortedSubarray(nums)"
   ]
  },
  {
   "cell_type": "code",
   "execution_count": 78,
   "metadata": {},
   "outputs": [],
   "source": [
    "a = set([1,2,3,4,6])"
   ]
  },
  {
   "cell_type": "code",
   "execution_count": 79,
   "metadata": {},
   "outputs": [
    {
     "data": {
      "text/plain": [
       "{1, 2, 4, 6}"
      ]
     },
     "execution_count": 79,
     "metadata": {},
     "output_type": "execute_result"
    }
   ],
   "source": [
    "a.discard(3)\n",
    "a"
   ]
  },
  {
   "cell_type": "code",
   "execution_count": 102,
   "metadata": {},
   "outputs": [
    {
     "name": "stdout",
     "output_type": "stream",
     "text": [
      "3 1\n",
      "4 2\n",
      "5 3\n",
      "6 4\n"
     ]
    },
    {
     "data": {
      "text/plain": [
       "4"
      ]
     },
     "execution_count": 102,
     "metadata": {},
     "output_type": "execute_result"
    }
   ],
   "source": [
    "def findPairs(nums, k):\n",
    "    \"\"\"\n",
    "    :type nums: List[int]\n",
    "    :type k: int\n",
    "    :rtype: int\n",
    "    \"\"\"\n",
    "    count = 0\n",
    "    nums.sort()\n",
    "    N = len(nums)\n",
    "    i, j = 0, 1\n",
    "    h = set()\n",
    "    while i < N and j < N:\n",
    "        a,b  = nums[j], nums[i]\n",
    "        if a - b == k:\n",
    "            key = '%d%d'%(a,b)\n",
    "            if key not in h:\n",
    "                count += 1\n",
    "                print(a,b)\n",
    "                h.add(key)\n",
    "            i += 1\n",
    "        elif a - b > k:\n",
    "            i += 1\n",
    "            j = i\n",
    "\n",
    "        j += 1\n",
    "    \n",
    "    return count\n",
    "                \n",
    "\n",
    "nums = [1,1,1,1,2,2,3,4,5,6]\n",
    "k = 2\n",
    "findPairs(nums, k)"
   ]
  },
  {
   "cell_type": "code",
   "execution_count": 103,
   "metadata": {},
   "outputs": [
    {
     "data": {
      "text/plain": [
       "4"
      ]
     },
     "execution_count": 103,
     "metadata": {},
     "output_type": "execute_result"
    }
   ],
   "source": [
    "def findPairs(nums, k):\n",
    "    \"\"\"\n",
    "    :type nums: List[int]\n",
    "    :type k: int\n",
    "    :rtype: int\n",
    "    \"\"\"\n",
    "    if k<0:return 0\n",
    "    elif k==0:\n",
    "        l=[]\n",
    "        for i in nums:\n",
    "            nums.remove(i)\n",
    "            if i in nums and i not in l:\n",
    "                l.append(i)\n",
    "        return len(l)\n",
    "    nums=set(nums)\n",
    "    l=0\n",
    "    for i in nums:\n",
    "        if i+k in nums:\n",
    "            l+=1\n",
    "    return l\n",
    "    \n",
    "nums = [1,1,1,1,2,2,3,4,5,6]\n",
    "k = 2\n",
    "findPairs(nums, k)"
   ]
  },
  {
   "cell_type": "code",
   "execution_count": 24,
   "metadata": {},
   "outputs": [
    {
     "name": "stdout",
     "output_type": "stream",
     "text": [
      "101 101\n"
     ]
    },
    {
     "data": {
      "text/plain": [
       "True"
      ]
     },
     "execution_count": 24,
     "metadata": {},
     "output_type": "execute_result"
    }
   ],
   "source": [
    "def isPalindrome(x):\n",
    "    \"\"\"\n",
    "    :type x: int\n",
    "    :rtype: bool\n",
    "    \"\"\"\n",
    "    if x < 0:\n",
    "        return False\n",
    "    if x == 0:\n",
    "        return True\n",
    "    \n",
    "    digits = []\n",
    "    tmp = x\n",
    "    while tmp:\n",
    "        digits.append(tmp %10)\n",
    "        tmp //= 10\n",
    "    N = len(digits)\n",
    "    rx = 0\n",
    "    for i in range(N // 2):\n",
    "        \n",
    "        rx = rx * 10 + digits[i]\n",
    "    if N % 2 == 0: \n",
    "        tmp = x // (10 **( N // 2))\n",
    "    else:\n",
    "        tmp = x // (10 **( N // 2 + 1))\n",
    "    print(rx, tmp)\n",
    "    return rx == tmp\n",
    "        \n",
    "isPalindrome(1013101)"
   ]
  },
  {
   "cell_type": "code",
   "execution_count": 25,
   "metadata": {},
   "outputs": [],
   "source": [
    "def isPalindrome(x):\n",
    "    \"\"\"\n",
    "    :type x: int\n",
    "    :rtype: bool\n",
    "    \"\"\"\n",
    "    if x < 0:\n",
    "        return False\n",
    "    if x == 0:\n",
    "        return True\n",
    "    if x % 10 == 0:\n",
    "        return False\n",
    "    y = 0\n",
    "    while(x > y):\n",
    "        y = y * 10 + x % 10\n",
    "        x = x / 10\n",
    "    return y == x or (y > x and y / 10 == x)"
   ]
  },
  {
   "cell_type": "code",
   "execution_count": 64,
   "metadata": {},
   "outputs": [
    {
     "name": "stdout",
     "output_type": "stream",
     "text": [
      "['a', '3', 'a', 'b', 'b', 'c', 'c']\n",
      "['a', '3', 'b', '2', 'b', 'c', 'c']\n",
      "['a', '3', 'b', '2', 'c', '2', 'c']\n",
      "['a', '3', 'b', '2', 'c', '2']\n"
     ]
    },
    {
     "data": {
      "text/plain": [
       "6"
      ]
     },
     "execution_count": 64,
     "metadata": {},
     "output_type": "execute_result"
    }
   ],
   "source": [
    "def compress(chars):\n",
    "    if not chars: return 0\n",
    "    N = len(chars)\n",
    "    inchor = w = 0\n",
    "    for i, c in enumerate(chars):\n",
    "        if i == N-1 or chars[i] != chars[i+1]:\n",
    "            chars[w] = chars[i]\n",
    "            w += 1\n",
    "            if inchor < i:\n",
    "                for d in str(i-inchor+1):\n",
    "                    chars[w] = d\n",
    "                    w += 1\n",
    "            inchor = i+1    \n",
    "            print(chars)\n",
    "\n",
    "    chars = chars[:w]\n",
    "    print(chars)\n",
    "    return len(chars)\n",
    "\n",
    "\n",
    "compress(list('aaabbcc'))"
   ]
  },
  {
   "cell_type": "code",
   "execution_count": 65,
   "metadata": {},
   "outputs": [
    {
     "name": "stdout",
     "output_type": "stream",
     "text": [
      "['3', 'a', 'a', 'b', 'b', 'c', 'c']\n",
      "['3', '2', 'a', 'b', 'b', 'c', 'c']\n",
      "['3', '2', '2', 'b', 'b', 'c', 'c']\n",
      "['3', '2', '2']\n"
     ]
    },
    {
     "data": {
      "text/plain": [
       "3"
      ]
     },
     "execution_count": 65,
     "metadata": {},
     "output_type": "execute_result"
    }
   ],
   "source": [
    "def compress(chars):\n",
    "    if not chars: return 0\n",
    "    N = len(chars)\n",
    "    inchor = w = 0\n",
    "    for i, c in enumerate(chars):\n",
    "        if i == N-1 or chars[i] != chars[i+1]:\n",
    "\n",
    "            if inchor < i:\n",
    "                for d in str(i-inchor+1):\n",
    "                    chars[w] = d\n",
    "                    w += 1\n",
    "            inchor = i+1    \n",
    "            print(chars)\n",
    "\n",
    "    chars = chars[:w]\n",
    "    print(chars)\n",
    "    return len(chars)\n",
    "\n",
    "\n",
    "compress(list('aaabbcc'))"
   ]
  },
  {
   "cell_type": "code",
   "execution_count": 4,
   "metadata": {},
   "outputs": [
    {
     "name": "stdout",
     "output_type": "stream",
     "text": [
      "dict_values([1, 3, 2])\n"
     ]
    }
   ],
   "source": [
    "a={'a':1,'b':3,'c':2}\n",
    "type(a.values())\n",
    "print(a.values().)"
   ]
  },
  {
   "cell_type": "code",
   "execution_count": 63,
   "metadata": {},
   "outputs": [
    {
     "name": "stdout",
     "output_type": "stream",
     "text": [
      "[[0, 2], [1, 3]]\n",
      "[[0, 3], [1, 2]]\n"
     ]
    },
    {
     "data": {
      "text/plain": [
       "True"
      ]
     },
     "execution_count": 63,
     "metadata": {},
     "output_type": "execute_result"
    }
   ],
   "source": [
    "def isIsomorphic(s, t):\n",
    "    \"\"\"\n",
    "    :type s: str\n",
    "    :type t: str\n",
    "    :rtype: bool\n",
    "    \"\"\"\n",
    "    smap, tmap = dict(), dict()\n",
    "    for i, si in enumerate(s):\n",
    "        if si in smap:\n",
    "            smap[si].append(i)\n",
    "        else:\n",
    "            smap[si] = [i,]\n",
    "    for i, ti in enumerate(t):\n",
    "        if ti in tmap:\n",
    "            tmap[ti].append(i)\n",
    "        else:\n",
    "            tmap[ti] = [i,]\n",
    "    key = smap.keys()\n",
    "    N = len(s)\n",
    "    sq = list(smap.values())\n",
    "    tq = list(tmap.values())\n",
    "    sq = sorted(sq, key=lambda x: len(x))\n",
    "    tq = sorted(tq, key=lambda x: len(x))\n",
    "    \n",
    "    print(sq)\n",
    "    print(tq)\n",
    "    \n",
    "    start_s = start_t = 0\n",
    "\n",
    "    while start_s < N and len(sq[start_s]) == 1:\n",
    "        start_s += 1\n",
    "    while start_t < N and len(tq[start_t]) == 1:\n",
    "        start_t += 1\n",
    "    if start_s != start_t:\n",
    "        return False\n",
    "    \n",
    "    i = start_s\n",
    "    last_len = 0\n",
    "    tmp=[0]\n",
    "\n",
    "\n",
    "    return True\n",
    "s = \"abab\"; t = \"abba\"\n",
    "isIsomorphic(s, t)"
   ]
  },
  {
   "cell_type": "code",
   "execution_count": 76,
   "metadata": {},
   "outputs": [
    {
     "name": "stdout",
     "output_type": "stream",
     "text": [
      "['{']\n",
      "['{', '{']\n",
      ") { -82\n"
     ]
    },
    {
     "data": {
      "text/plain": [
       "False"
      ]
     },
     "execution_count": 76,
     "metadata": {},
     "output_type": "execute_result"
    }
   ],
   "source": [
    "def isValid(s):\n",
    "    \"\"\"\n",
    "    :type s: str\n",
    "    :rtype: bool\n",
    "    \"\"\"\n",
    "    left = set(list('{[('))\n",
    "\n",
    "    stack = []\n",
    "    for si in s:\n",
    "        if si in left:\n",
    "            stack.append(si)\n",
    "            print(stack)\n",
    "        else:\n",
    "            if len(stack) == 0:\n",
    "                return False\n",
    "            l = stack.pop()\n",
    "            print(si,l, ord(si) - ord(l))\n",
    "            if abs(ord(si) - ord(l)) > 2:\n",
    "                \n",
    "                return False\n",
    "\n",
    "    if len(stack) != 0:\n",
    "        return False\n",
    "    return True\n",
    "\n",
    "isValid(\"{{)}\")"
   ]
  },
  {
   "cell_type": "code",
   "execution_count": 85,
   "metadata": {},
   "outputs": [
    {
     "name": "stdout",
     "output_type": "stream",
     "text": [
      "5\n",
      "0\n",
      "1\n",
      "2\n",
      "3\n",
      "4\n"
     ]
    }
   ],
   "source": [
    "import queue\n",
    "q = queue.Queue()\n",
    "for i in range(5):\n",
    "    q.put(i)\n",
    "print(q.qsize())\n",
    "while not q.empty():\n",
    "    print (q.get())"
   ]
  },
  {
   "cell_type": "code",
   "execution_count": 94,
   "metadata": {},
   "outputs": [
    {
     "data": {
      "text/plain": [
       "{('a', 'c'), ('b', 'd'), ('c', 'f'), ('d', 'e')}"
      ]
     },
     "execution_count": 94,
     "metadata": {},
     "output_type": "execute_result"
    }
   ],
   "source": [
    "s='abccdd'; t='cdffee'\n",
    "set(zip(s,t))"
   ]
  },
  {
   "cell_type": "code",
   "execution_count": 95,
   "metadata": {},
   "outputs": [
    {
     "data": {
      "text/plain": [
       "[0, 1, 2, 2, 4, 4]"
      ]
     },
     "execution_count": 95,
     "metadata": {},
     "output_type": "execute_result"
    }
   ],
   "source": [
    "[s.find(i) for i in s]"
   ]
  },
  {
   "cell_type": "code",
   "execution_count": 97,
   "metadata": {},
   "outputs": [
    {
     "data": {
      "text/plain": [
       "[0, 1, 2, 2, 4, 4]"
      ]
     },
     "execution_count": 97,
     "metadata": {},
     "output_type": "execute_result"
    }
   ],
   "source": [
    "[t.find(j) for j in t]"
   ]
  },
  {
   "cell_type": "code",
   "execution_count": 99,
   "metadata": {},
   "outputs": [
    {
     "data": {
      "text/plain": [
       "[0, 1, 2, 2, 4, 4]"
      ]
     },
     "execution_count": 99,
     "metadata": {},
     "output_type": "execute_result"
    }
   ],
   "source": [
    "list(map(s.find, s))"
   ]
  },
  {
   "cell_type": "code",
   "execution_count": 15,
   "metadata": {},
   "outputs": [
    {
     "data": {
      "text/plain": [
       "[]"
      ]
     },
     "execution_count": 15,
     "metadata": {},
     "output_type": "execute_result"
    }
   ],
   "source": [
    "s= \"\"; p= \"ab\"\n",
    "def findAnagrams(s, p):\n",
    "    target = sum([1<<(ord(i)-97) for i in p])\n",
    "    plen = len(p)\n",
    "    h = sum([1<<(ord(i)-97) for i in s[:plen]])\n",
    "    ret = []\n",
    "    for i in range(plen, len(s)):\n",
    "        if h ==  target:\n",
    "            ret.append(i-plen)\n",
    "        h += (1<<(ord(s[i]) - 97)) - (1<<(ord(s[i-plen]) - 97))\n",
    "    if h == target:\n",
    "        ret.append(len(s)-plen)\n",
    "    return ret\n",
    "findAnagrams(s,p)"
   ]
  },
  {
   "cell_type": "code",
   "execution_count": 5,
   "metadata": {},
   "outputs": [
    {
     "data": {
      "text/plain": [
       "[1, 2, 4]"
      ]
     },
     "execution_count": 5,
     "metadata": {},
     "output_type": "execute_result"
    }
   ],
   "source": [
    "[1<<(ord(i)-97) for i in p]"
   ]
  },
  {
   "cell_type": "code",
   "execution_count": 8,
   "metadata": {},
   "outputs": [
    {
     "name": "stdout",
     "output_type": "stream",
     "text": [
      "3\n",
      "[1, 11, 111]\n"
     ]
    }
   ],
   "source": [
    "def countDigitone(n):\n",
    "    cnt = 0\n",
    "    t = n\n",
    "    if n <= 0 : return 0\n",
    "    while t:\n",
    "        cnt += 1\n",
    "        t //= 10\n",
    "    print(cnt)\n",
    "    dp = [0] * cnt\n",
    "    dp[:2] = [1, 1]\n",
    "    for i in range(1, cnt):\n",
    "        dp[i] = pow(10,i) + dp[i-1]\n",
    "    print(dp)\n",
    "    \n",
    "countDigitone(100)"
   ]
  },
  {
   "cell_type": "code",
   "execution_count": 10,
   "metadata": {},
   "outputs": [
    {
     "name": "stdout",
     "output_type": "stream",
     "text": [
      "21\n"
     ]
    }
   ],
   "source": [
    "cnt = 0\n",
    "for i in range(101):\n",
    "    cnt += str(i).count('1')\n",
    "print(cnt)"
   ]
  },
  {
   "cell_type": "code",
   "execution_count": 9,
   "metadata": {},
   "outputs": [
    {
     "data": {
      "text/plain": [
       "1"
      ]
     },
     "execution_count": 9,
     "metadata": {},
     "output_type": "execute_result"
    }
   ],
   "source": [
    "'123'.count('1')"
   ]
  },
  {
   "cell_type": "code",
   "execution_count": null,
   "metadata": {},
   "outputs": [],
   "source": []
  }
 ],
 "metadata": {
  "kernelspec": {
   "display_name": "Python 3",
   "language": "python",
   "name": "python3"
  },
  "language_info": {
   "codemirror_mode": {
    "name": "ipython",
    "version": 3
   },
   "file_extension": ".py",
   "mimetype": "text/x-python",
   "name": "python",
   "nbconvert_exporter": "python",
   "pygments_lexer": "ipython3",
   "version": "3.6.4"
  }
 },
 "nbformat": 4,
 "nbformat_minor": 2
}
