{
 "cells": [
  {
   "cell_type": "code",
   "execution_count": 4,
   "metadata": {},
   "outputs": [],
   "source": [
    "from sklearn import model_selection\n",
    "from sklearn.discriminant_analysis import LinearDiscriminantAnalysis\n",
    "from sklearn import metrics\n",
    "import matplotlib.pyplot as plt\n",
    "import numpy as np"
   ]
  },
  {
   "cell_type": "code",
   "execution_count": 13,
   "metadata": {},
   "outputs": [
    {
     "data": {
      "image/png": "[encoded data removed]",
      "text/plain": [
       "<matplotlib.figure.Figure at 0x100875c0>"
      ]
     },
     "metadata": {},
     "output_type": "display_data"
    }
   ],
   "source": [
    "'''\n",
    "data importion\n",
    "''' \n",
    "\n",
    "# load the CSV file as a numpy matrix\n",
    "dataset = np.loadtxt('data\\watermelon_3a.csv', delimiter=\",\")\n",
    "# separate the data from the target attributes\n",
    "X = dataset[:,1:3]\n",
    "y = dataset[:,3]\n",
    "\n",
    "# draw scatter diagram to show the raw data\n",
    "f1 = plt.figure(1)   \n",
    "plt.title('watermelon_3a')  \n",
    "plt.xlabel('density')  \n",
    "plt.ylabel('ratio_sugar')  \n",
    "plt.scatter(X[y == 0,0], X[y == 0,1], marker = 'o', color = 'k', s=100, label = 'bad')\n",
    "plt.scatter(X[y == 1,0], X[y == 1,1], marker = 'o', color = 'g', s=100, label = 'good')\n",
    "plt.legend(loc = 'upper right')  \n",
    "plt.show()"
   ]
  },
  {
   "cell_type": "code",
   "execution_count": 26,
   "metadata": {},
   "outputs": [
    {
     "name": "stdout",
     "output_type": "stream",
     "text": [
      "[[3 2]\n",
      " [1 3]]\n",
      "             precision    recall  f1-score   support\n",
      "\n",
      "        0.0       0.75      0.60      0.67         5\n",
      "        1.0       0.60      0.75      0.67         4\n",
      "\n",
      "avg / total       0.68      0.67      0.67         9\n",
      "\n"
     ]
    }
   ],
   "source": [
    "''' \n",
    "using sklearn lib for logistic regression\n",
    "'''\n",
    "from sklearn import model_selection\n",
    "from sklearn.linear_model import LogisticRegression\n",
    "from sklearn import metrics\n",
    "\n",
    "\n",
    "# generalization of test and train set\n",
    "X_train, X_test, y_train, y_test = model_selection.train_test_split(X, y, test_size=0.5, random_state=0)\n",
    "\n",
    "# model training\n",
    "log_model = LogisticRegression() \n",
    "log_model.fit(X_train, y_train) \n",
    "\n",
    "# model testing\n",
    "y_pred = log_model.predict(X_test)\n",
    "\n",
    "# summarize the accuracy of fitting\n",
    "print(metrics.confusion_matrix(y_test, y_pred))\n",
    "print(metrics.classification_report(y_test, y_pred))\n",
    "\n",
    "precision, recall, thresholds = metrics.precision_recall_curve(y_test, y_pred)    \n"
   ]
  },
  {
   "cell_type": "code",
   "execution_count": 28,
   "metadata": {},
   "outputs": [
    {
     "data": {
      "text/plain": [
       "<matplotlib.collections.PathCollection at 0x13df74e0>"
      ]
     },
     "execution_count": 28,
     "metadata": {},
     "output_type": "execute_result"
    },
    {
     "data": {
      "image/png": "[encoded data removed]",
      "text/plain": [
       "<matplotlib.figure.Figure at 0x83e50b8>"
      ]
     },
     "metadata": {},
     "output_type": "display_data"
    }
   ],
   "source": [
    "# show decision boundary in plt\n",
    "# X - some data in 2dimensional np.array\n",
    "f2 = plt.figure(2) \n",
    "h = 0.001\n",
    "x0_min, x0_max = X[:, 0].min()-0.1, X[:, 0].max()+0.1\n",
    "x1_min, x1_max = X[:, 1].min()-0.1, X[:, 1].max()+0.1\n",
    "x0, x1 = np.meshgrid(np.arange(x0_min, x0_max, h),\n",
    "                     np.arange(x1_min, x1_max, h))\n",
    "\n",
    "# here \"model\" is your model's prediction (classification) function\n",
    "z = log_model.predict(np.c_[x0.ravel(), x1.ravel()]) \n",
    "\n",
    "\n",
    "# Put the result into a color plot\n",
    "z = z.reshape(x0.shape)\n",
    "plt.contourf(x0, x1, z, cmap = plt.cm.Paired )\n",
    "\n",
    "# Plot also the training pointsplt.title('watermelon_3a')  \n",
    "plt.title('watermelon_3a')  \n",
    "plt.xlabel('density')  \n",
    "plt.ylabel('ratio_sugar')  \n",
    "plt.scatter(X[y == 0,0], X[y == 0,1], marker = 'o', color = 'k', s=100, label = 'bad')\n",
    "plt.scatter(X[y == 1,0], X[y == 1,1], marker = 'o', color = 'g', s=100, label = 'good')\n",
    "# plt.show()"
   ]
  },
  {
   "cell_type": "code",
   "execution_count": 29,
   "metadata": {},
   "outputs": [
    {
     "ename": "ModuleNotFoundError",
     "evalue": "No module named 'self_def'",
     "output_type": "error",
     "traceback": [
      "\u001b[1;31m---------------------------------------------------------------------------\u001b[0m",
      "\u001b[1;31mModuleNotFoundError\u001b[0m                       Traceback (most recent call last)",
      "\u001b[1;32m<ipython-input-29-cc909b5b7e34>\u001b[0m in \u001b[0;36m<module>\u001b[1;34m()\u001b[0m\n\u001b[0;32m      1\u001b[0m \u001b[1;32mfrom\u001b[0m \u001b[0msklearn\u001b[0m \u001b[1;32mimport\u001b[0m \u001b[0mmodel_selection\u001b[0m\u001b[1;33m\u001b[0m\u001b[0m\n\u001b[0;32m      2\u001b[0m \u001b[1;33m\u001b[0m\u001b[0m\n\u001b[1;32m----> 3\u001b[1;33m \u001b[1;32mimport\u001b[0m \u001b[0mself_def\u001b[0m\u001b[1;33m\u001b[0m\u001b[0m\n\u001b[0m\u001b[0;32m      4\u001b[0m \u001b[1;33m\u001b[0m\u001b[0m\n\u001b[0;32m      5\u001b[0m \u001b[1;31m# X_train, X_test, y_train, y_test\u001b[0m\u001b[1;33m\u001b[0m\u001b[1;33m\u001b[0m\u001b[0m\n",
      "\u001b[1;31mModuleNotFoundError\u001b[0m: No module named 'self_def'"
     ]
    }
   ],
   "source": [
    "from sklearn import model_selection\n",
    "\n",
    "import self_def\n",
    "\n",
    "# X_train, X_test, y_train, y_test\n",
    "np.ones(n)\n",
    "m,n = np.shape(X)\n",
    "X_ex = np.c_[X, np.ones(m)]  # extend the variable matrix to [x, 1]\n",
    "X_train, X_test, y_train, y_test = model_selection.train_test_split(X_ex, y, test_size=0.5, random_state=0)\n",
    "\n",
    "\n",
    "# using gradDescent to get the optimal parameter beta = [w, b] in page-59 \n",
    "beta = self_def.gradDscent_2(X_train, y_train)\n",
    "\n",
    "# prediction, beta mapping to the model\n",
    "y_pred = self_def.predict(X_test, beta)\n",
    "\n",
    "m_test = np.shape(X_test)[0]\n",
    "# calculation of confusion_matrix and prediction accuracy\n",
    "cfmat = np.zeros((2,2))\n",
    "for i in range(m_test):   \n",
    "    if y_pred[i] == y_test[i] == 0: cfmat[0,0] += 1 \n",
    "    elif y_pred[i] == y_test[i] == 1: cfmat[1,1] += 1 \n",
    "    elif y_pred[i] == 0: cfmat[1,0] += 1 \n",
    "    elif y_pred[i] == 1: cfmat[0,1] += 1 \n",
    "                                \n",
    "print(cfmat)"
   ]
  },
  {
   "cell_type": "code",
   "execution_count": null,
   "metadata": {},
   "outputs": [],
   "source": []
  }
 ],
 "metadata": {
  "kernelspec": {
   "display_name": "Python 3",
   "language": "python",
   "name": "python3"
  },
  "language_info": {
   "codemirror_mode": {
    "name": "ipython",
    "version": 3
   },
   "file_extension": ".py",
   "mimetype": "text/x-python",
   "name": "python",
   "nbconvert_exporter": "python",
   "pygments_lexer": "ipython3",
   "version": "3.6.4"
  }
 },
 "nbformat": 4,
 "nbformat_minor": 2
}
