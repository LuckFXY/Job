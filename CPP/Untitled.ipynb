{
 "cells": [
  {
   "cell_type": "code",
   "execution_count": 18,
   "metadata": {
    "scrolled": false
   },
   "outputs": [
    {
     "name": "stdout",
     "output_type": "stream",
     "text": [
      "{'a': {'d', 'b'}, 'b': {'cst', 'c'}, 'd': {'e'}}\n",
      "-------\n",
      "a\n",
      "b\n",
      "c\n",
      "cst\n",
      "d\n",
      "e\n",
      "-------\n",
      "b\n",
      "c\n",
      "cst\n",
      "-------\n",
      "d\n",
      "e\n"
     ]
    }
   ],
   "source": [
    "n = 4 #int(input().strip())\n",
    "tree = dict()\n",
    "s2 = [\n",
    "    \"a\\\\b\\\\c\",\n",
    "    \"a\\\\d\\\\e\",\n",
    "    \"b\\\\cst\",\n",
    "    \"d\\\\\"\n",
    "]\n",
    "for i in range(n):\n",
    "    s = s2[i]#input().strip().split('\\\\')\n",
    "    s = s.split('\\\\')\n",
    "    for i in range(0, len(s)-1):\n",
    "        a, b = s[i], s[i+1]\n",
    "        if b =='' or a=='':\n",
    "            continue\n",
    "        if a not in tree:\n",
    "            newone = set()\n",
    "            newone.add(b)\n",
    "            tree[a] = newone\n",
    "        else:\n",
    "            tree[a].add(b)\n",
    "print(tree)\n",
    "visited = {}\n",
    "def walk(tree, s):\n",
    "    print(s)\n",
    "    if s in tree:\n",
    "        for c in sorted(list(tree[s])):\n",
    "            walk(tree, c)\n",
    "            \n",
    "\n",
    "for p in tree:\n",
    "    print('-------')\n",
    "    \n",
    "    walk(tree, p)"
   ]
  },
  {
   "cell_type": "code",
   "execution_count": null,
   "metadata": {},
   "outputs": [],
   "source": [
    "4\n",
    "a\\b\\c\n",
    "a\\d\\e\n",
    "b\\cst\n",
    "d\\"
   ]
  }
 ],
 "metadata": {
  "kernelspec": {
   "display_name": "Python 3",
   "language": "python",
   "name": "python3"
  },
  "language_info": {
   "codemirror_mode": {
    "name": "ipython",
    "version": 3
   },
   "file_extension": ".py",
   "mimetype": "text/x-python",
   "name": "python",
   "nbconvert_exporter": "python",
   "pygments_lexer": "ipython3",
   "version": "3.6.4"
  }
 },
 "nbformat": 4,
 "nbformat_minor": 2
}
