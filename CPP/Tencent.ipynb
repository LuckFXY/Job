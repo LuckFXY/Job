{
 "cells": [
  {
   "cell_type": "markdown",
   "metadata": {},
   "source": [
    "## 1. 小Q的歌单\n",
    "\n",
    "1. 小Q有X首长度为A的不同歌曲和Y首长度为B的不同歌曲。现在小Q想组成一个长度为K的歌单，\n",
    "2. 在每首歌曲只重复一次，不考虑顺序的情况下该歌单有多少种组合\n",
    "3. X, Y <= 100, A != B 输出结果对 1000000007 取模\n",
    "4. 测试用例:\n",
    "        输入:\n",
    "        5\n",
    "        2 3 3 3\n",
    "        输出:\n",
    "        9\n",
    "        \n",
    "### 分析：\n",
    "\n",
    "    设歌单中长度为A,B的歌曲数量分别为 i,j 则 i * A + j * B <= k and i <= X and j <= y\n",
    "    对于每一组合法的歌单可以简记为(i,j)，此时直接根据题意算出该情况下的组合数 s(i,j) = c(x,i) * c(y,j)\n",
    "    将所有合法的（i,j）找出，并且将total = total + s(i,j)"
   ]
  },
  {
   "cell_type": "code",
   "execution_count": 43,
   "metadata": {},
   "outputs": [
    {
     "name": "stdout",
     "output_type": "stream",
     "text": [
      "1 0 0 0 \n",
      "1 1 0 0 \n",
      "1 2 1 0 \n",
      "1 3 3 1 \n"
     ]
    }
   ],
   "source": [
    "class solution():\n",
    "    \n",
    "    c = [[0] * 105 for _ in range(101)]\n",
    "    init_c = False\n",
    "    mod_num = 1000000007\n",
    "    def __init__(self):\n",
    "        '''\n",
    "            initial the matrix which stored the combination numbers\n",
    "        '''\n",
    "        if not solution.init_c:\n",
    "            solution.init_matrix()\n",
    "            \n",
    "    @classmethod\n",
    "    def init_matrix(cls):\n",
    "        cls.c[0][0] = 1\n",
    "        for i in range(1, 101):\n",
    "            cls.c[i][0] = 1\n",
    "            for j in range(1, i+1):\n",
    "                # c(n,k) = c(n-1, k-1) + c(n-1, k)\n",
    "                # (a*10 + b) % m = ( a% m\n",
    "                cls.c[i][j] = (cls.c[i-1][j-1] + cls.c[i-1][j]) % cls.mod_num \n",
    "        cls.init_c = True\n",
    "    \n",
    "    @classmethod\n",
    "    def get_comb_num(cls, k, a, x, b, y):\n",
    "        ans = 0\n",
    "        for i in range(0, x+1):\n",
    "            sa = i * a\n",
    "            if sa <= k and (k -sa) % b == 0:\n",
    "                \n",
    "                j = (k-sa) // b\n",
    "                if j <= y:\n",
    "                    ans = (ans + (cls.c[x][i] * cls.c[y][j]) % cls.mod_num )% cls.mod_num\n",
    "        return ans\n",
    "    \n",
    "s = solution()\n",
    "for i in range(4):\n",
    "    for j in range(4):\n",
    "        print(s.c[i][j], end=' ')\n",
    "    print(\"\")"
   ]
  },
  {
   "cell_type": "code",
   "execution_count": 44,
   "metadata": {},
   "outputs": [
    {
     "name": "stdout",
     "output_type": "stream",
     "text": [
      "9\n"
     ]
    }
   ],
   "source": [
    "# try:\n",
    "#     k = int(input(\"input k : \"))\n",
    "#     tmp = input(\"input a, x, b, y split by space : \")\n",
    "#     a, x, b, y = list(map(int, tmp.split(' ')))\n",
    "# except Exception as e:\n",
    "#     print(e)\n",
    "k = 5\n",
    "a, x, b, y = 2, 3, 3, 3\n",
    "ans = s.get_comb_num(k, a, x, b, y)\n",
    "print(ans)"
   ]
  },
  {
   "cell_type": "markdown",
   "metadata": {},
   "source": [
    "## 2.  安排机器\n",
    "\n",
    "1. m个机器，每个机器最长工作时间zi, 机器等级wi\n",
    "2. n个任务，每个任务耗时 xi, 难度 yi\n",
    "3. 一个任务只能由一个机器完成， 且 yi <= wi and xi <= cur(zi)\n",
    "4. 完成一个任务的收益 200 * xi + 3 * yi\n",
    "5. 求一天内完成任务的最大数量以及最大收益\n",
    "\n",
    "        输入\n",
    "        1 2 \n",
    "        100 3\n",
    "        100 2 \n",
    "        100 1\n",
    "        输出\n",
    "        1 20006\n",
    "        \n",
    "### 分析\n",
    "因为只求一天的任务数量，时间收益200 > 难度收益3， 而且每个机器只完成一个任务，\n",
    "\n",
    "我们找到空闲时间大于任务的机器，并从它们之中选择难度刚刚好大于等于任务难度去执行该任务\n",
    "\n",
    "用一个cnt数组去记录符合时间要求的机器编号，由于机器编号是按照最大时间排序的，任务也是，所以能满足第i任务的机器同时适用于i+1， i+2 ..之后的任务，虽然这种做法有点浪费，所以我们才执行 for k in range(jobs[i][1], 100) 去找到能满足任务要求但是配置最低的机器去执行它。"
   ]
  },
  {
   "cell_type": "code",
   "execution_count": 76,
   "metadata": {},
   "outputs": [],
   "source": [
    "def arrange_job(workers, jobs):\n",
    "    '''\n",
    "        workers, jobs are lists which contain the information of time and difficult\n",
    "        e.g workers =[[100,3],[100,2]]\n",
    "    '''\n",
    "    n , m = len(workers), len(jobs)\n",
    "    if n * m == 0:\n",
    "        return 0\n",
    "\n",
    "    # sort descending\n",
    "    workers.sort(key = lambda x: [x[0],x[1]], reverse=True)\n",
    "    jobs.sort(key = lambda x: [x[0],x[1]], reverse=True)\n",
    "\n",
    "    #Minimum requirements\n",
    "    cnt = [0] * 105\n",
    "    ans, num =0, 0\n",
    "    j = 0\n",
    "    for i in range(m):\n",
    "       \n",
    "        while j < n and workers[j][0] >= jobs[j][0]:\n",
    "            #cnt records the workers_idx in which working time is greater than job_time\n",
    "            if workers[j][1] >= jobs[i][1]:\n",
    "                cnt[workers[j][i]] += 1\n",
    "            j += 1\n",
    "    \n",
    "        for k in range(jobs[i][1], 101):\n",
    "            #find the first worker which can handle the job\n",
    "            if cnt[k]:\n",
    "                num += 1\n",
    "                cnt[k] -= 1\n",
    "                ans +=  200 * jobs[i][0] + 3 * jobs[i][1]\n",
    "                break\n",
    "    print(\"{} {}\".format(num, ans))\n",
    "    return 0"
   ]
  },
  {
   "cell_type": "code",
   "execution_count": 75,
   "metadata": {},
   "outputs": [
    {
     "name": "stdout",
     "output_type": "stream",
     "text": [
      "[100, 2]\n",
      "1 20006\n"
     ]
    },
    {
     "data": {
      "text/plain": [
       "0"
      ]
     },
     "execution_count": 75,
     "metadata": {},
     "output_type": "execute_result"
    }
   ],
   "source": [
    "workers=[[100,3]]\n",
    "jobs = [[100,1],[100,2]]\n",
    "arrange_job(workers, jobs)"
   ]
  },
  {
   "cell_type": "markdown",
   "metadata": {},
   "source": [
    "## 3. 画家小Q\n",
    "\n",
    "1. 小Q的画长度为 N * M,(N,M <= 50) 用X,B,Y,G 分别表示颜色白，蓝，黄，绿\n",
    "2. 小Q每一笔可以以斜率为1斜线画一段并用B填充，或者以斜率为-1斜线画一段用Y填充\n",
    "3. B + Y -> G\n",
    "4. 小Q最少用几笔画完给定的画\n",
    "5. 实例：\n",
    "        输入\n",
    "        YXXB\n",
    "        XYGX\n",
    "        XBYY\n",
    "        BXXY\n",
    "        输出\n",
    "        3\n",
    "        \n",
    "### 分析\n",
    "\n",
    "由于斜线的只有两种（左斜蓝色，右斜黄色，相交绿色），所以只需枚举即可。"
   ]
  },
  {
   "cell_type": "code",
   "execution_count": 41,
   "metadata": {},
   "outputs": [],
   "source": [
    "class solution():\n",
    "    \n",
    "    def __init__(self):\n",
    "        self.matrix = [[0]* 60 for _ in range(60)]\n",
    "        self.m = self.n = 0\n",
    "        \n",
    "    def dfs_eliminate_line(self, x, y, color, slope):\n",
    "        '''\n",
    "        eliminate the special slope-color line start from (x,y) base on deep first search \n",
    "        \n",
    "        @param x, y : int : coordinate\n",
    "        @param color : str\n",
    "        @param slope : int (1,1) or (1,-1)\n",
    "        '''\n",
    "        open_list = [(x,y)]\n",
    "        close_set = set()\n",
    "        close_set.add((x,y))\n",
    "        other_color = 'B' if color != 'B' else 'Y'\n",
    "        while open_list:\n",
    "            x,y = open_list.pop()\n",
    "            if 0 <= x and x < self.n and 0 <= y and y < self.m:\n",
    "                if self.matrix[x][y] == 'G':\n",
    "                    self.matrix[x][y] = other_color\n",
    "                elif self.matrix[x][y] == color:\n",
    "                    self.matrix[x][y] = 'X'\n",
    "                next_one = [((x+slope[0]*i), (y+slope[1]*i)) for i in [1,-1]]\n",
    "                for one in next_one:\n",
    "                    x,y = one\n",
    "                    if 0 <= x and x < self.n and 0 <= y and y < self.m:\n",
    "                        if one not in close_set:\n",
    "                            open_list.append(one)\n",
    "                            close_set.add(one)\n",
    "        \n",
    "    def painting(self):\n",
    "        cnt = 0\n",
    "        for i in range(self.n):\n",
    "            for j in range(self.m):\n",
    "                if self.matrix[i][j] == 'Y':\n",
    "                    self.dfs_eliminate_line(i, j, 'Y', (1,1))\n",
    "                    cnt += 1\n",
    "                elif self.matrix[i][j] =='B':\n",
    "                    self.dfs_eliminate_line(i, j, 'B', (1,-1))\n",
    "                    cnt += 1\n",
    "                elif self.matrix[i][j] =='G':\n",
    "                    self.dfs_eliminate_line(i, j, 'Y', (1,1))\n",
    "                    self.dfs_eliminate_line(i, j, 'B', (1,-1))\n",
    "                    cnt += 2\n",
    "        print(cnt)\n",
    "        return cnt\n",
    "        \n",
    "    def test(self):\n",
    "        test=\\\n",
    "            [['Y', 'X', 'X', 'B'],\n",
    "             ['X', 'Y', 'G', 'X'],\n",
    "             ['X', 'B', 'Y', 'Y'],\n",
    "             ['B', 'X', 'X', 'Y']]\n",
    "        self.n, self.m = len(test), len(test[0])\n",
    "        self.matrix = test\n",
    "        \n",
    "        self.painting()"
   ]
  },
  {
   "cell_type": "code",
   "execution_count": 42,
   "metadata": {},
   "outputs": [
    {
     "name": "stdout",
     "output_type": "stream",
     "text": [
      "3\n"
     ]
    },
    {
     "data": {
      "text/plain": [
       "[['X', 'X', 'X', 'X'],\n",
       " ['X', 'X', 'X', 'X'],\n",
       " ['X', 'X', 'X', 'X'],\n",
       " ['X', 'X', 'X', 'X']]"
      ]
     },
     "execution_count": 42,
     "metadata": {},
     "output_type": "execute_result"
    }
   ],
   "source": [
    "s=solution()\n",
    "\n",
    "s.test()\n",
    "s.matrix"
   ]
  },
  {
   "cell_type": "markdown",
   "metadata": {},
   "source": [
    "## 4. 贪吃的小Q\n",
    "\n",
    "1. n 天，m个巧克力\n",
    "2. 每天吃巧克力数量 e(t) 不少于 前一天e(t-1)的一半, 既 e(t) >= ( e(t-1) + 1 ) / 2\n",
    "3. 第一天最多吃多少巧克力\n",
    "4. 例子\n",
    "\n",
    "    输入：3 7\n",
    "    输出: 4\n",
    "\n",
    "### 分析\n",
    "\n",
    "设第三天吃a块，则第二天吃 2*a, 第一天吃 4a 4a + 2a + a <= 7 解得 a =1, 第一天吃 4a = 4\n",
    "\n",
    "问题当 n=3, 7 < m < 14 时，有余数，所以只能搜索\n",
    "\n"
   ]
  },
  {
   "cell_type": "code",
   "execution_count": 43,
   "metadata": {},
   "outputs": [
    {
     "data": {
      "text/plain": [
       "4"
      ]
     },
     "execution_count": 43,
     "metadata": {},
     "output_type": "execute_result"
    }
   ],
   "source": [
    "def firstDay(n, m):\n",
    "    l, r = 1, m\n",
    "    ok = None\n",
    "    while l != r:\n",
    "        ok= True\n",
    "        mid = (l + r + 1) >> 1\n",
    "        remain, now = m, mid\n",
    "        # Can you hold on for n days:\n",
    "        for j in range(n):\n",
    "            if remain < now:\n",
    "                ok = False\n",
    "                break\n",
    "            remain -= now\n",
    "            now = (now + 1) >> 1\n",
    "        if ok:\n",
    "            # can you can more chocolate\n",
    "            l = mid\n",
    "        else:\n",
    "            # oh, you get too much\n",
    "            r = mid - 1\n",
    "    return l\n",
    "\n",
    "firstDay(3,7)"
   ]
  },
  {
   "cell_type": "markdown",
   "metadata": {},
   "source": [
    "## 5. 纸牌游戏\n",
    "\n",
    "1. n张牌，甲乙轮流抽牌， 甲前\n",
    "2. 两人尽可能抽最大的牌\n",
    "3. 求两人拥有的牌点数之差\n",
    "\n",
    "### 分析\n",
    "直接排序，奇数归甲，偶数归乙，直接计算即可"
   ]
  },
  {
   "cell_type": "code",
   "execution_count": 64,
   "metadata": {},
   "outputs": [],
   "source": [
    "def get_difference(points):\n",
    "    points.sort(reverse=True)\n",
    "    s = 0\n",
    "    for i, v in enumerate(points):\n",
    "        if i & 1 == 0:\n",
    "            s += v\n",
    "        else:\n",
    "            s -= v\n",
    "    return s"
   ]
  },
  {
   "cell_type": "code",
   "execution_count": 65,
   "metadata": {},
   "outputs": [
    {
     "data": {
      "text/plain": [
       "5"
      ]
     },
     "execution_count": 65,
     "metadata": {},
     "output_type": "execute_result"
    }
   ],
   "source": [
    "points = [2, 7, 4]\n",
    "get_difference(points)"
   ]
  },
  {
   "cell_type": "code",
   "execution_count": null,
   "metadata": {},
   "outputs": [],
   "source": []
  }
 ],
 "metadata": {
  "kernelspec": {
   "display_name": "Python 3",
   "language": "python",
   "name": "python3"
  },
  "language_info": {
   "codemirror_mode": {
    "name": "ipython",
    "version": 3
   },
   "file_extension": ".py",
   "mimetype": "text/x-python",
   "name": "python",
   "nbconvert_exporter": "python",
   "pygments_lexer": "ipython3",
   "version": "3.6.4"
  }
 },
 "nbformat": 4,
 "nbformat_minor": 2
}
