{
 "cells": [
  {
   "cell_type": "markdown",
   "metadata": {},
   "source": [
    "## 1.求幂\n",
    "\n",
    "给定一个整数n，希望你能找出满足 $a^b = c^d$ 式子的个数 $1 \\leq a,b,c,d \\leq n$ 输出结果对1000000007取模\n",
    "\n",
    "例如 n = 2 \n",
    "\n",
    "    1^1 = 1^1\n",
    "    1^2 = 1^1\n",
    "    1^2 = 1^2\n",
    "    2^1 = 2^1\n",
    "    2^2 = 2^2\n",
    "一共有6个式子满足条件\n",
    "\n",
    "分析：\n",
    "\n",
    "#### $a^b = c^d$成立的两种条件\n",
    "\n",
    "#### 第一种情况，$a^b = a^b , a,b \\leq n $ \n",
    "\n",
    "a. 以1为底， 1^a = 1^b 一共 n ^2 \n",
    "\n",
    "b. 不以1为底，所有的底(n-1),指数n，一共 (n-1) * n\n",
    "\n",
    "#### 第二种情况, $(i^x)^c = (i^y)^d，xc =yd \\leq n, x \\neq y$\n",
    "对于每一个(x,y),先解得 x \\* c = y \\* d的最小解\n",
    "$$\n",
    "\\begin {aligned}\n",
    "&最小公倍数 lcm(x,y) = \\frac{x * y}{gcb(x, y)} 取整 \\\\\n",
    "&cc = \\frac{y}{gcb(x,y)} \\\\\n",
    "&dd = \\frac{x}{gcb(x,y)}\\\\\n",
    "&由于倍数也是解，所以:\\\\\n",
    "&c = cc * k\\\\\n",
    "&d = dd * k\\\\\n",
    "&其中k为正整数，k <= \\frac{max(c,d)}{gcb(x, y)}\\\\\n",
    "& 等号左右互换，结果 *2\n",
    "\\end {aligned}\n",
    "$$\n",
    "$i$ 需要从 1 遍历到 $\\sqrt(n) ,而 i^x \\leq n, i^y \\leq n 所以 x,y \\leq \\log_i{n}$"
   ]
  },
  {
   "cell_type": "code",
   "execution_count": 42,
   "metadata": {},
   "outputs": [
    {
     "name": "stdout",
     "output_type": "stream",
     "text": [
      "cnt= 2\n",
      "1 2 2\n"
     ]
    },
    {
     "data": {
      "text/plain": [
       "32.0"
      ]
     },
     "execution_count": 42,
     "metadata": {},
     "output_type": "execute_result"
    }
   ],
   "source": [
    "def gcb(m,n):\n",
    "    while n:\n",
    "        m, n = n, m%n\n",
    "    return m\n",
    "\n",
    "def get_power(n):\n",
    "    mod = 1e9 + 7\n",
    "    close = set()\n",
    "    # a^b = a^b\n",
    "    res = n * (n * 2 - 1) % mod\n",
    "    # (i^x)^c = (i^y)^d, x != y\n",
    "    i = 2\n",
    "    while i <= n:\n",
    "        if i in close:\n",
    "            i = i*i\n",
    "            continue\n",
    "        tmp = i\n",
    "        cnt = 0\n",
    "        \n",
    "        while tmp <= n:\n",
    "            close.add(tmp)\n",
    "            tmp *= i\n",
    "            cnt += 1\n",
    "        print(\"cnt=\",cnt)\n",
    "        for x in range(1, cnt+1):\n",
    "            for y in range(x+1, cnt+1):\n",
    "                print(x,y,n // (y // gcb(x,y)))\n",
    "                res = (res + 2 * n // (y // gcb(x,y)) ) % mod\n",
    "        i = i*i\n",
    "\n",
    "    return res\n",
    "\n",
    "get_power(4)"
   ]
  },
  {
   "cell_type": "code",
   "execution_count": 43,
   "metadata": {},
   "outputs": [
    {
     "name": "stdout",
     "output_type": "stream",
     "text": [
      "2 ^ 2 -> 4 ^ 1\n",
      "2 ^ 4 -> 4 ^ 2\n",
      "4 ^ 1 -> 2 ^ 2\n",
      "4 ^ 2 -> 2 ^ 4\n"
     ]
    },
    {
     "data": {
      "text/plain": [
       "32"
      ]
     },
     "execution_count": 43,
     "metadata": {},
     "output_type": "execute_result"
    }
   ],
   "source": [
    "def get_power_brutelly(n):\n",
    "    cnt = n * (n*2-1)\n",
    "    for a in range(2,n+1):\n",
    "        for b in range(1,n+1):\n",
    "            for c in range(2,n+1):\n",
    "                if c == a:\n",
    "                    continue\n",
    "                for d in range(1,n+1):\n",
    "                    if d ==  b:\n",
    "                        continue\n",
    "                    if a ** b ==  c ** d:\n",
    "                        print(a,'^',b,'->',c,'^',d)\n",
    "                        cnt += 1\n",
    "    return cnt\n",
    "get_power_brutelly(4)                 "
   ]
  },
  {
   "cell_type": "markdown",
   "metadata": {},
   "source": [
    "## 2. 神奇数\n",
    "如果一个数字的数字拆分并且分为两组，如果两组的数字之和相等，则称这个数为神奇的数\n",
    "请统计[1,r]内神奇数字的个数\n",
    "\n",
    "e.g 242 可以拆分为{2,2}和{4}两组组内数字之和都等于4，所以242是一个神奇数\n",
    "\n",
    "### 分析\n",
    "1. 由于两个部分相等，所以所有位数字之和为偶数，奇数pass\n",
    "2. 如果将一个数组划分为和相等的两个部分\n",
    "   1. 所有数字都在0，9之间\n",
    "   2. 数组之和为2 * S，一旦发现数字组合为S，就可以返回True。因为剩下的数字之和一定等于S\n",
    "   3. 最大数字为 1e9 999999990 为最大的神奇数，数字之和 9*8 = 72， S最大为36\n",
    "   \n",
    "通过一个数组ok来记录所有可能的和，每个数字都会与已有的和相加得到新的和，只要有一个和为s，这组数就可以分成两个和相同的集合"
   ]
  },
  {
   "cell_type": "code",
   "execution_count": 71,
   "metadata": {},
   "outputs": [
    {
     "name": "stdout",
     "output_type": "stream",
     "text": [
      "[1, 0, 0, 0, 0, 0, 0, 0, 0, 1, 0, 0, 0, 0, 0, 0, 0, 0, 0, 0, 0, 0, 0, 0, 0, 0, 0, 0, 0, 0, 0, 0, 0, 0, 0, 0, 0, 0, 0, 0, 0]\n",
      "[1, 0, 0, 0, 0, 0, 0, 0, 0, 1, 0, 0, 0, 0, 0, 0, 0, 0, 1, 0, 0, 0, 0, 0, 0, 0, 0, 0, 0, 0, 0, 0, 0, 0, 0, 0, 0, 0, 0, 0, 0]\n",
      "[1, 0, 0, 0, 0, 0, 0, 0, 0, 1, 0, 0, 0, 0, 0, 0, 0, 0, 1, 0, 0, 0, 0, 0, 0, 0, 0, 1, 0, 0, 0, 0, 0, 0, 0, 0, 0, 0, 0, 0, 0]\n",
      "[1, 0, 0, 0, 0, 0, 0, 0, 0, 1, 0, 0, 0, 0, 0, 0, 0, 0, 1, 0, 0, 0, 0, 0, 0, 0, 0, 1, 0, 0, 0, 0, 0, 0, 0, 0, 1, 0, 0, 0, 0]\n"
     ]
    },
    {
     "data": {
      "text/plain": [
       "True"
      ]
     },
     "execution_count": 71,
     "metadata": {},
     "output_type": "execute_result"
    }
   ],
   "source": [
    "def check(num):\n",
    "    length = 0\n",
    "    nums = [0] * 10\n",
    "    while num:\n",
    "        nums[length] = num % 10\n",
    "        length += 1\n",
    "        num = num // 10\n",
    "\n",
    "    s = sum(nums)\n",
    "    if s & 1 == 1:\n",
    "        return False\n",
    "    s = s >> 1\n",
    "    #max sum is 40\n",
    "    ok = [0] * 41\n",
    "    ok[nums[0]] = 1\n",
    "    for i in range(1,length):\n",
    "        cur = nums[i]\n",
    "        for j in range(40, -1, -1):\n",
    "            #最大为40\n",
    "            if ok[j] and j + cur < 41:\n",
    "                #可以拼出的一个和\n",
    "                ok[j+cur] = 1\n",
    "        print(ok)\n",
    "        if ok[s] == 1:\n",
    "            return True\n",
    "            \n",
    "        \n",
    "    return False\n",
    "    \n",
    "check(999999990)\n"
   ]
  },
  {
   "cell_type": "markdown",
   "metadata": {},
   "source": [
    "## 3 整除\n",
    "\n",
    "给定一个n, 能被1到n所有整数整除的最小的数， 结果对987654321取模\n",
    "e.g n=3 最小的数为3 * 2 * 1\n",
    "\n",
    "### 分析\n"
   ]
  }
 ],
 "metadata": {
  "kernelspec": {
   "display_name": "Python 3",
   "language": "python",
   "name": "python3"
  },
  "language_info": {
   "codemirror_mode": {
    "name": "ipython",
    "version": 3
   },
   "file_extension": ".py",
   "mimetype": "text/x-python",
   "name": "python",
   "nbconvert_exporter": "python",
   "pygments_lexer": "ipython3",
   "version": "3.6.4"
  }
 },
 "nbformat": 4,
 "nbformat_minor": 2
}
