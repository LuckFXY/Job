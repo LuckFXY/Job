{
 "cells": [
  {
   "cell_type": "markdown",
   "metadata": {},
   "source": [
    "最长连续子序列的暴力法"
   ]
  },
  {
   "cell_type": "code",
   "execution_count": 1,
   "metadata": {},
   "outputs": [
    {
     "name": "stdout",
     "output_type": "stream",
     "text": [
      "(3, 1, 0, 2, 4)\n",
      "(3, 1, 0, 2)\n",
      "(3, 1, 0, 4)\n",
      "(3, 1, 2, 4)\n",
      "(3, 0, 2, 4)\n",
      "(1, 0, 2, 4)\n",
      "(3, 1, 0)\n",
      "(3, 1, 2)\n",
      "(3, 1, 4)\n",
      "(3, 0, 2)\n",
      "(3, 0, 4)\n",
      "(3, 2, 4)\n",
      "(1, 0, 2)\n",
      "(1, 0, 4)\n",
      "(1, 2, 4)\n"
     ]
    },
    {
     "data": {
      "text/plain": [
       "(1, 2, 4)"
      ]
     },
     "execution_count": 1,
     "metadata": {},
     "output_type": "execute_result"
    }
   ],
   "source": [
    "from itertools import combinations\n",
    "def naive_lis(seq):\n",
    "    for length in range(len(seq), 0, -1):\n",
    "        for sub in combinations(seq, length):\n",
    "            print(sub)\n",
    "            if list(sub) == sorted(sub):\n",
    "                return sub\n",
    "\n",
    "seq = [3,1,0,2,4]\n",
    "naive_lis(seq)"
   ]
  },
  {
   "cell_type": "markdown",
   "metadata": {},
   "source": [
    "## wraps 记忆体的使用\n",
    "\n",
    "    利用wraps包装函数，将函数的返回值缓存在cache中，避免重复子问题造成重复工作的问题"
   ]
  },
  {
   "cell_type": "code",
   "execution_count": 3,
   "metadata": {},
   "outputs": [],
   "source": [
    "from functools import wraps\n",
    "def memo(func):\n",
    "    cache = {}\n",
    "    @wraps(func)\n",
    "    def wrap(*args):\n",
    "        if args not in cache:\n",
    "            cache[args] = func(*args)\n",
    "        return cache[args]\n",
    "    return wrap"
   ]
  },
  {
   "cell_type": "code",
   "execution_count": 4,
   "metadata": {},
   "outputs": [],
   "source": [
    "@memo\n",
    "def fib(i):\n",
    "    if i < 2: return 1\n",
    "    return fib(i-1) + fib(i-2)"
   ]
  },
  {
   "cell_type": "code",
   "execution_count": 5,
   "metadata": {},
   "outputs": [
    {
     "data": {
      "text/plain": [
       "165580141"
      ]
     },
     "execution_count": 5,
     "metadata": {},
     "output_type": "execute_result"
    }
   ],
   "source": [
    "fib(40)"
   ]
  },
  {
   "cell_type": "code",
   "execution_count": 6,
   "metadata": {},
   "outputs": [
    {
     "name": "stdout",
     "output_type": "stream",
     "text": [
      "{1: 5, (4, 5): 3, (1, 2, 3): 4}\n"
     ]
    }
   ],
   "source": [
    "t = {}\n",
    "t[1] = 5\n",
    "a=[4,5]\n",
    "t[a[0], a[1]] = 3\n",
    "t[1,2,3] = 4\n",
    "print(t)"
   ]
  },
  {
   "cell_type": "markdown",
   "metadata": {},
   "source": [
    "collections.defaultdict 的使用\n",
    "\n",
    "    利用defaultdict 函数可以快速计算组合数的结果\n",
    "    它可以将一个设定多个值作为关键字"
   ]
  },
  {
   "cell_type": "code",
   "execution_count": 7,
   "metadata": {},
   "outputs": [
    {
     "name": "stdout",
     "output_type": "stream",
     "text": [
      "defaultdict(<class 'int'>, {(0, 0): 1, (-1, 0): 0, (-1, 1): 0, (0, 1): 0, (-1, 2): 0, (0, 2): 0, (-1, 3): 0, (0, 3): 0, (-1, 4): 0, (0, 4): 0, (-1, 5): 0, (0, 5): 0, (-1, 6): 0, (0, 6): 0, (-1, 7): 0, (0, 7): 0, (1, 0): 1, (1, 1): 1, (1, 2): 0, (1, 3): 0, (1, 4): 0, (1, 5): 0, (1, 6): 0, (1, 7): 0, (2, 0): 1, (2, 1): 2, (2, 2): 1, (2, 3): 0, (2, 4): 0, (2, 5): 0, (2, 6): 0, (2, 7): 0, (3, 0): 1, (3, 1): 3, (3, 2): 3, (3, 3): 1, (3, 4): 0, (3, 5): 0, (3, 6): 0, (3, 7): 0, (4, 0): 1, (4, 1): 4, (4, 2): 6, (4, 3): 4, (4, 4): 1, (4, 5): 0, (4, 6): 0, (4, 7): 0, (5, 0): 1, (5, 1): 5, (5, 2): 10, (5, 3): 10, (5, 4): 5, (5, 5): 1, (5, 6): 0, (5, 7): 0, (6, 0): 1, (6, 1): 6, (6, 2): 15, (6, 3): 20, (6, 4): 15, (6, 5): 6, (6, 6): 1, (6, 7): 0, (7, 0): 1, (7, 1): 7, (7, 2): 21, (7, 3): 35, (7, 4): 35, (7, 5): 21, (7, 6): 7, (7, 7): 1, (8, 0): 1, (8, 1): 8, (8, 2): 28, (8, 3): 56, (8, 4): 70, (8, 5): 56, (8, 6): 28, (8, 7): 8, (9, 0): 1, (9, 1): 9, (9, 2): 36, (9, 3): 84, (9, 4): 126, (9, 5): 126, (9, 6): 84, (9, 7): 36, (10, 0): 1, (10, 1): 10, (10, 2): 45, (10, 3): 120, (10, 4): 210, (10, 5): 252, (10, 6): 210, (10, 7): 120})\n"
     ]
    }
   ],
   "source": [
    "from collections import defaultdict\n",
    "n, k = 10, 7\n",
    "C = defaultdict(int)\n",
    "for row in range(n+1):\n",
    "    C[row, 0] = 1\n",
    "    for col in range(1, k+1):\n",
    "        C[row, col] = C[row-1, col-1] + C[row-1, col]\n",
    "print(C)"
   ]
  },
  {
   "cell_type": "code",
   "execution_count": null,
   "metadata": {},
   "outputs": [],
   "source": [
    "def walk(G, s, banned):\n",
    "    # P[s] means the parent of s,\n",
    "    #   in other word, Remeber where the node s came from \n",
    "    P, Q = dict(), set()\n",
    "    P[s] = None\n",
    "    Q.add(s)\n",
    "    while Q:\n",
    "        u = Q.pop()\n",
    "        for v in G[u].difference(P, S):\n",
    "            Q.add(v)\n",
    "            P[v] = u\n",
    "    return P"
   ]
  },
  {
   "cell_type": "markdown",
   "metadata": {},
   "source": [
    "## 有向无环图的最短路径\n",
    "\n",
    "    循环不变式：d(u) 表示 节点u到t的最短距离\n",
    "    利用隐式DFS，先用递归找到目标节点，然后反向回溯，即逐一遍历指向目标的上一节点的所有出边\n",
    "    从后向前递归结束"
   ]
  },
  {
   "cell_type": "code",
   "execution_count": null,
   "metadata": {},
   "outputs": [],
   "source": [
    "def rec_dag_sp(W, s, t):\n",
    "    @meme\n",
    "    def d(u):\n",
    "        if u == t:\n",
    "            return 0\n",
    "        return min(W[u][v] + d(v) for v in W[u])"
   ]
  },
  {
   "cell_type": "code",
   "execution_count": 10,
   "metadata": {},
   "outputs": [],
   "source": [
    "inf = float('inf')\n",
    "def rec_dag_sp(W, s, t):\n",
    "    @memo\n",
    "    def d(u):\n",
    "        if u == t:\n",
    "            return 0\n",
    "        else:\n",
    "            min_c = inf\n",
    "            for v in range(6):\n",
    "                if W[u][v] == inf:\n",
    "                    continue\n",
    "                print(u, v, W[u][v])\n",
    "                min_c = min(min_c, W[u][v] + d(v))\n",
    "            return min_c\n",
    "    return d(s)"
   ]
  },
  {
   "cell_type": "code",
   "execution_count": 11,
   "metadata": {},
   "outputs": [
    {
     "name": "stdout",
     "output_type": "stream",
     "text": [
      "0 1 2\n",
      "1 2 1\n",
      "2 3 7\n",
      "3 4 2\n",
      "4 5 4\n",
      "3 5 3\n",
      "1 3 2\n",
      "1 5 6\n",
      "0 5 9\n"
     ]
    },
    {
     "data": {
      "text/plain": [
       "7"
      ]
     },
     "execution_count": 11,
     "metadata": {},
     "output_type": "execute_result"
    }
   ],
   "source": [
    "W = [\n",
    "    [inf,   2, inf, inf, inf,   9],\n",
    "    [inf, inf,   1,   2, inf,   6],\n",
    "    [inf, inf, inf,   7, inf, inf],\n",
    "    [inf, inf, inf, inf,   2,   3],\n",
    "    [inf, inf, inf, inf, inf,   4],\n",
    "    [inf, inf, inf, inf, inf, inf],\n",
    "]\n",
    "rec_dag_sp(W, 0, 5)"
   ]
  },
  {
   "cell_type": "code",
   "execution_count": 12,
   "metadata": {},
   "outputs": [],
   "source": [
    "G0 = [\n",
    "    [0,1,0,0,0,1],\n",
    "    [0,0,1,1,0,1],\n",
    "    [0,0,0,1,0,0],\n",
    "    [0,0,0,0,1,1],\n",
    "    [0,0,0,0,0,1],\n",
    "    [0,0,0,0,0,0],\n",
    "]"
   ]
  },
  {
   "cell_type": "code",
   "execution_count": 13,
   "metadata": {},
   "outputs": [
    {
     "name": "stdout",
     "output_type": "stream",
     "text": [
      "{0: {1: 1, 5: 1}, 1: {2: 1, 3: 1, 5: 1}, 2: {3: 1}, 3: {4: 1, 5: 1}, 4: {5: 1}, 5: {}}\n"
     ]
    }
   ],
   "source": [
    "'''\n",
    "用二重字典表示图比邻接矩阵更清晰的表示意图，下面的是转换函数\n",
    "'''\n",
    "def convertNegborDict(m, inf_sym = inf):\n",
    "    negborDict = dict()\n",
    "    for row in range(len(m)):\n",
    "        tmpDict = dict()\n",
    "        for col, val in enumerate(m[row]):\n",
    "            if val != inf_sym:\n",
    "                tmpDict[col] = val\n",
    "        negborDict[row] = tmpDict\n",
    "    return negborDict\n",
    "\n",
    "gg = convertNegborDict(G0, 0)\n",
    "print(gg)"
   ]
  },
  {
   "cell_type": "code",
   "execution_count": 14,
   "metadata": {},
   "outputs": [
    {
     "data": {
      "text/plain": [
       "{0, 1, 2, 3, 4, 5}"
      ]
     },
     "execution_count": 14,
     "metadata": {},
     "output_type": "execute_result"
    }
   ],
   "source": [
    "set(gg)"
   ]
  },
  {
   "cell_type": "code",
   "execution_count": 16,
   "metadata": {},
   "outputs": [
    {
     "name": "stdout",
     "output_type": "stream",
     "text": [
      "1 5 2 3 4 "
     ]
    },
    {
     "data": {
      "text/plain": [
       "{0: None, 1: 0, 5: 0, 2: 1, 3: 1, 4: 3}"
      ]
     },
     "execution_count": 16,
     "metadata": {},
     "output_type": "execute_result"
    }
   ],
   "source": [
    "import collections\n",
    "def bfs(G, s):\n",
    "    P, Q = {s: None}, collections.deque([s])\n",
    "    while Q:\n",
    "        u = Q.popleft()\n",
    "        for v in G[u]:\n",
    "            if v in P :\n",
    "                continue\n",
    "            P[v] = u\n",
    "            print(v, end= ' ')\n",
    "            Q.append(v)\n",
    "    return P\n",
    "\n",
    "bfs(gg, 0)"
   ]
  },
  {
   "cell_type": "markdown",
   "metadata": {},
   "source": [
    "## 拓扑排序\n",
    "\n",
    "    拓扑排序用于对有向无环图依照依赖度（入度）排序，将前驱任务排在前，后续任务排在后\n",
    "    \n",
    "    1. 插入排序\n",
    "\n",
    "        S 保存候选点，v表示当前节点，seq表示有序部分。\n",
    "        逐一检查当前节点v是否在seq中某一个节点后继，如果是，则将当前节点插入其后。否则插入在第一位\n",
    "\n",
    "\n",
    "    2. 计数排序\n",
    "\n",
    "        count 记录所有节点的入度，然后依次将入度为0的点去除，并入队。直到所有节点入队"
   ]
  },
  {
   "cell_type": "code",
   "execution_count": 20,
   "metadata": {},
   "outputs": [],
   "source": [
    "def dfs(G, s, d, f, S = None, t=0):\n",
    "    '''\n",
    "    @param d dict : d[s] means the start time of visiting node s \n",
    "    @param f dict : f[s] means the end time of visiting node s\n",
    "    '''\n",
    "    if S is None: \n",
    "        S = set()\n",
    "    d[s] = t\n",
    "    t += 1\n",
    "    S.add(s)\n",
    "    for u in G[s]:\n",
    "        if u in S: continue\n",
    "        t = dfs(G, u, d, f, S, t)\n",
    "    f[s] = t\n",
    "    t += 1\n",
    "    return t"
   ]
  },
  {
   "cell_type": "code",
   "execution_count": 21,
   "metadata": {},
   "outputs": [],
   "source": [
    "def dfs_topsort(G):\n",
    "    S, res = set(), []\n",
    "    # just a normal deep first traverse\n",
    "    def recurse(u):\n",
    "        if u in S : return \n",
    "        S.add(u)\n",
    "        for v in G[u]:\n",
    "            recurse(v)\n",
    "        # key point \n",
    "        res.append(u)\n",
    "    # apply to the whole graph\n",
    "    for u in G:\n",
    "        recurse(u)\n",
    "    res.reverse()\n",
    "    return res"
   ]
  },
  {
   "cell_type": "code",
   "execution_count": 28,
   "metadata": {},
   "outputs": [
    {
     "name": "stdout",
     "output_type": "stream",
     "text": [
      "3 [1]\n",
      "u = b v = d min_i = 1\n",
      "5 [1, 3]\n",
      "u = b v = f min_i = 1\n",
      "u = d v = f min_i = 2\n",
      "2 [1, 3, 5]\n",
      "u = b v = c min_i = 1\n",
      "4 [1, 2, 3, 5]\n",
      "u = d v = e min_i = 3\n"
     ]
    },
    {
     "data": {
      "text/plain": [
       "[1, 2, 3, 4, 5]"
      ]
     },
     "execution_count": 28,
     "metadata": {},
     "output_type": "execute_result"
    }
   ],
   "source": [
    "def naive_topsort(G, S = None):\n",
    "    if S is None :\n",
    "        S = [1,3,5,2,4]#set(G)\n",
    "    if len(S) == 1:\n",
    "        return list(S)\n",
    "    v = S.pop()\n",
    "    seq = naive_topsort(G, S)\n",
    "    min_i = 0\n",
    "    print(v,seq)\n",
    "    for i, u in enumerate(seq):\n",
    "        if v in G[u]:\n",
    "            min_i = i + 1\n",
    "            print(\"u = %c v = %c min_i = %d\"%(chr(u+97), chr(v+97), min_i))\n",
    "    seq.insert(min_i, v)\n",
    "    return seq\n",
    "gg = {0: {1: 1, 5: 1}, 1: {2: 1, 3: 1, 5: 1}, 2: {3: 1}, 3: {4: 1, 5: 1}, 4: {5: 1}, 5: {}}\n",
    "naive_topsort(gg)"
   ]
  },
  {
   "cell_type": "code",
   "execution_count": 13,
   "metadata": {},
   "outputs": [
    {
     "name": "stdout",
     "output_type": "stream",
     "text": [
      "{0: 0, 1: 1, 2: 1, 3: 2, 4: 1, 5: 4}\n"
     ]
    },
    {
     "data": {
      "text/plain": [
       "[0, 1, 2, 3, 4, 5]"
      ]
     },
     "execution_count": 13,
     "metadata": {},
     "output_type": "execute_result"
    }
   ],
   "source": [
    "def topsort(G):\n",
    "    count = dict((u,0) for u in G)\n",
    "    #calculate the in-degree for each node\n",
    "    for u in G:\n",
    "        for v in G[u]:\n",
    "            count[v] += 1\n",
    "    print(count)\n",
    "    #collect all the start point\n",
    "    Q = [u for u in G if count[u] == 0]\n",
    "    S = []\n",
    "    while Q:\n",
    "        u = Q.pop()\n",
    "        S.append(u)\n",
    "        for v in G[u]:\n",
    "            count[v] -= 1\n",
    "            if count[v] == 0:\n",
    "                # push new start point into stack\n",
    "                Q.append(v)\n",
    "    return S\n",
    "gg = convertNegborDict(G0, inf_sym=0)\n",
    "topsort(gg)"
   ]
  },
  {
   "cell_type": "markdown",
   "metadata": {},
   "source": [
    "再看DAG最短路径\n",
    "\n",
    "    有了拓扑序列的指导，可以更快的找到最短路径"
   ]
  },
  {
   "cell_type": "code",
   "execution_count": 14,
   "metadata": {},
   "outputs": [
    {
     "name": "stdout",
     "output_type": "stream",
     "text": [
      "{0: {1: 2, 5: 9}, 1: {2: 1, 3: 2}, 2: {3: 7}, 3: {4: 2, 5: 3}, 4: {5: 4}, 5: {}}\n",
      "{0: 0, 1: 1, 2: 1, 3: 2, 4: 1, 5: 3}\n",
      "{0: 0, 1: 1, 2: 1, 3: 2, 4: 1, 5: 3}\n",
      "{0: 0, 1: 2, 2: 3, 3: 4, 4: 6, 5: 7}\n"
     ]
    },
    {
     "data": {
      "text/plain": [
       "7"
      ]
     },
     "execution_count": 14,
     "metadata": {},
     "output_type": "execute_result"
    }
   ],
   "source": [
    "def dag_sp(W, s, t):\n",
    "    #Distance estimates\n",
    "    d = dict((u, float('inf')) for u in W)\n",
    "    d[s] = 0\n",
    "    for u in topsort(W):\n",
    "        #u is zero in-degree point, named start point\n",
    "        if u == t:\n",
    "            break\n",
    "        for v in W[u]:\n",
    "            d[v] = min(d[v], d[u]+W[u][v])\n",
    "    print(d)\n",
    "    return d[t]\n",
    "\n",
    "ww = convertNegborDict(W)\n",
    "print(ww)\n",
    "topsort(ww)\n",
    "dag_sp(ww, 0, 5)"
   ]
  },
  {
   "cell_type": "code",
   "execution_count": 19,
   "metadata": {},
   "outputs": [
    {
     "name": "stdout",
     "output_type": "stream",
     "text": [
      "123\n"
     ]
    }
   ],
   "source": [
    "class A():\n",
    "    @staticmethod\n",
    "    def p():\n",
    "        print(\"123\")\n",
    "A.p()"
   ]
  },
  {
   "cell_type": "code",
   "execution_count": 15,
   "metadata": {},
   "outputs": [],
   "source": [
    "a,b,c,d,e,f,g,h = range(8)\n",
    "G={\n",
    "    a: {b:2, c:1, d:3, e:9, f:4},\n",
    "    b: {c:4, e:3},\n",
    "    c: {d:8},\n",
    "    d: {e:7},\n",
    "    e: {f:5},\n",
    "    f: {c:2, g:2, h:2},\n",
    "    g: {f:1, h:6},\n",
    "    h: {f:9, g:8}\n",
    "}\n",
    "\n",
    "G2={\n",
    "    a: {b:3, c:7, d:3, e:9, f:4},\n",
    "    b: {c:4, e:3},\n",
    "    c: {d:-4},\n",
    "    d: {e:7},\n",
    "    e: {f:5},\n",
    "    f: {c:2, g:2, h:2},\n",
    "    g: {f:1, h:6},\n",
    "    h: {f:9, g:8}\n",
    "}\n",
    "G3={\n",
    "    a: {b:3, c:7, d:3, e:9, f:4},\n",
    "    b: {c:4, e:3},\n",
    "    c: {d:-4},\n",
    "    d: {e:7},\n",
    "    e: {f:5},\n",
    "    f: {c:2, g:2, h:2},\n",
    "    g: {f:1, h:-9},\n",
    "    h: {f:9, g:8}\n",
    "}\n",
    "G4={\n",
    "    a: {b:12, c:11, d:13, e:9, f:4},\n",
    "    b: {c:6, e:4},\n",
    "    c: {d:8},\n",
    "    d: {e:7},\n",
    "    e: {f:5},\n",
    "    f: {c:2, g:2, h:2},\n",
    "    g: {f:1, h:6},\n",
    "    h: {f:9, g:8}\n",
    "}"
   ]
  },
  {
   "cell_type": "markdown",
   "metadata": {},
   "source": [
    "## 路径压缩算法\n",
    "\n",
    "    C是一个字典，key表示节点，val 表示元素指向的节点\n",
    "    由于同一个集合的元素都指向一个代表，所以查询每个元素的所属集合的操作就需要从当前元素开始遍历链表直到队尾。\n",
    "    压缩路径的思想就是在遍历链表时，顺便将遍历到的元素的指向修正为队尾，加速下次查询的速度\n",
    "    "
   ]
  },
  {
   "cell_type": "code",
   "execution_count": 16,
   "metadata": {},
   "outputs": [],
   "source": [
    "def find(C, u):\n",
    "    if C[u] != u:\n",
    "        C[u] = find(C, C[u])\n",
    "    return C[u]\n",
    "\n",
    "def union(C, R, u, v):\n",
    "    u, v = find(C, u), find(C, v)\n",
    "    if R[u] > R[v]:\n",
    "        # v -> u\n",
    "        C[v] = u\n",
    "    else:\n",
    "        # u -> v\n",
    "        C[u] = v\n",
    "    if R[u] == R[v]:\n",
    "        R[v] += 1"
   ]
  },
  {
   "cell_type": "markdown",
   "metadata": {},
   "source": [
    "## 最小生成树 -- Kruskas 算法\n",
    "\n",
    "    初始状态，平凡情况下，每一个节点都是以自己为代表的连通分量的唯一节点\n",
    "    在边权值升序排列，将小连通分量合并到大的连通分量中，重复操作直到全部节点处于同一连通分量为止\n",
    "    "
   ]
  },
  {
   "cell_type": "code",
   "execution_count": 17,
   "metadata": {},
   "outputs": [
    {
     "name": "stdout",
     "output_type": "stream",
     "text": [
      "[(1, 0, 2), (1, 6, 5), (2, 0, 1), (2, 5, 2), (2, 5, 6), (2, 5, 7), (3, 0, 3), (3, 1, 4), (4, 0, 5), (4, 1, 2), (5, 4, 5), (6, 6, 7), (7, 3, 4), (8, 2, 3), (8, 7, 6), (9, 0, 4), (9, 7, 5)]\n",
      "a c 0\n",
      "c c 1\n",
      "g f 0\n",
      "f f 1\n",
      "a c 0\n",
      "b c 0\n",
      "f c 1\n",
      "c c 2\n",
      "f c 1\n",
      "h c 0\n",
      "a c 0\n",
      "d c 0\n",
      "b c 0\n",
      "e c 0\n",
      "['a', 'b']\n",
      "['f', 'h']\n",
      "['b', 'e']\n",
      "['a', 'd']\n",
      "['f', 'c']\n",
      "['a', 'c']\n",
      "['g', 'f']\n"
     ]
    }
   ],
   "source": [
    "def kruska(G):\n",
    "    E = [(G[u][v],u,v) for u in G for v in G[u] ]\n",
    "    T = set()\n",
    "    C, R = {u:u for u in G}, {u:0 for u in G}\n",
    "    print(sorted(E))\n",
    "    for _, u, v in sorted(E):\n",
    "        if find(C, u) != find(C, v):\n",
    "            T.add((u,v))\n",
    "            union(C,R, u, v)\n",
    "            print(chr(u+97), chr(C[u]+97), R[u])\n",
    "            print(chr(v+97), chr(C[v]+97), R[v])\n",
    "            #print(\"C=\", C)\n",
    "            #print(\"R=\", R)\n",
    "    return T\n",
    "\n",
    "t = kruska(G)\n",
    "for side in t:\n",
    "    print([chr(i+97) for i in side])"
   ]
  },
  {
   "cell_type": "markdown",
   "metadata": {},
   "source": [
    "## 无向图中最小生成树 -- Prim算法\n",
    "\n",
    "    Prim采用BFS理想，从s开始，逐步合并最小边"
   ]
  },
  {
   "cell_type": "code",
   "execution_count": 18,
   "metadata": {},
   "outputs": [
    {
     "name": "stdout",
     "output_type": "stream",
     "text": [
      "  0 1 2 3 4 5\n",
      "0 0 2 0 0 0 2 \n",
      "1 2 0 4 5 0 3 \n",
      "2 0 4 0 1 0 0 \n",
      "3 0 5 1 0 1 7 \n",
      "4 0 0 0 1 0 8 \n",
      "5 2 3 0 7 8 0 \n",
      "{0: {1: 2, 5: 2}, 1: {0: 2, 2: 4, 3: 5, 5: 3}, 2: {1: 4, 3: 1}, 3: {1: 5, 2: 1, 4: 1, 5: 7}, 4: {3: 1, 5: 8}, 5: {0: 2, 1: 3, 3: 7, 4: 8}}\n"
     ]
    },
    {
     "data": {
      "text/plain": [
       "{0: None, 1: 0, 2: 1, 3: 2, 4: 3, 5: 0}"
      ]
     },
     "execution_count": 18,
     "metadata": {},
     "output_type": "execute_result"
    }
   ],
   "source": [
    "G0=[\n",
    "     [0, 2, 0, 0, 0, 2],\n",
    "     [0, 0, 4, 5, 0, 3],\n",
    "     [0, 0, 0, 1, 0, 0],\n",
    "     [0, 0, 0, 0, 1, 7],\n",
    "     [0, 0, 0, 0, 0, 8],\n",
    "     [0, 0, 0, 0, 0, 0]\n",
    "]\n",
    "\n",
    "G1 = [g.copy() for g in G0]\n",
    "N = len(G1)\n",
    "for i in range(N):\n",
    "    for j in range(i+1, N):\n",
    "        G1[j][i] = G1[i][j]\n",
    "print(\"  0 1 2 3 4 5\")\n",
    "for i, row in enumerate(G1):\n",
    "    print(i,end=' ')\n",
    "    for col in row:\n",
    "        print(col, end=' ')\n",
    "    print('')\n",
    "    \n",
    "gg1 = convertNegborDict(G1, inf_sym=0)\n",
    "print(gg1)\n",
    "\n",
    "from heapq import heappop, heappush\n",
    "def prim(G, s):\n",
    "    P, Q = {}, [(0, None, s)]\n",
    "    while Q:\n",
    "        _, p, u = heappop(Q)\n",
    "        if u in P: continue\n",
    "        P[u] = p\n",
    "        for v, w in G[u].items():\n",
    "            heappush(Q, (w,u,v))\n",
    "    return P\n",
    "\n",
    "prim(gg1, 0)"
   ]
  },
  {
   "cell_type": "markdown",
   "metadata": {},
   "source": [
    "## 松弛技术\n",
    "    \n",
    "    把图表示成为字典的字典，用字典D存放距离估值的上界，\n",
    "    然后用在原有路径中引入新的边u（松弛）来寻找最小距离"
   ]
  },
  {
   "cell_type": "code",
   "execution_count": 19,
   "metadata": {},
   "outputs": [],
   "source": [
    "inf = float('inf')\n",
    "def relax(W, u, v, D, P):\n",
    "    d = D.get(u, inf) + W[u][v]\n",
    "    if d < D.get(v, inf):\n",
    "        D[v], P[v] = d, u\n",
    "        return True\n",
    "    return False"
   ]
  },
  {
   "cell_type": "markdown",
   "metadata": {},
   "source": [
    "## 单源最短路径 -- Bellman_Ford\n",
    "\n",
    "    依次将每个节点作为松弛点，对其出边进行松弛\n",
    "    用松弛后的结果 D.get(u, inf) + w[u][v] 和当前最短距离D.get(v, inf) 比较,择优选择。\n",
    "    \n",
    "    1. 如果每个节点的最短估计值不再变化，算法正常退出\n",
    "    2. 遇到负边，可能会影响D[v]中已经估计的最优值，只能在第二次遇到v时修正\n",
    "    3. 如果循环次数超过 点数 n-1 次，则图中出现负环，报告错误，算法退出。\n",
    "    "
   ]
  },
  {
   "cell_type": "code",
   "execution_count": 20,
   "metadata": {},
   "outputs": [
    {
     "name": "stdout",
     "output_type": "stream",
     "text": [
      "node = a\n",
      "D[b] = 2 D[c] = 1 D[d] = 3 D[e] = 9 D[f] = 4 node = b\n",
      "D[e] = 5 node = c\n",
      "node = d\n",
      "node = e\n",
      "node = f\n",
      "D[g] = 6 D[h] = 6 node = g\n",
      "node = h\n",
      "\n",
      "----------------------------------------\n",
      "node = a\n",
      "node = b\n",
      "node = c\n",
      "node = d\n",
      "node = e\n",
      "node = f\n",
      "node = g\n",
      "node = h\n",
      "\n",
      "----------------------------------------\n"
     ]
    },
    {
     "data": {
      "text/plain": [
       "({0: 0, 1: 2, 2: 1, 3: 3, 4: 5, 5: 4, 6: 6, 7: 6},\n",
       " {1: 0, 2: 0, 3: 0, 4: 1, 5: 0, 6: 5, 7: 5})"
      ]
     },
     "execution_count": 20,
     "metadata": {},
     "output_type": "execute_result"
    }
   ],
   "source": [
    "def bellman_ford(G, s):\n",
    "    D, P = {s:0}, {}\n",
    "    for rnd in G:\n",
    "        changed = False\n",
    "        for u in G:\n",
    "            if type(u) == object:\n",
    "                print(\"node = object\")\n",
    "            else:\n",
    "                print(\"node = %c\"%(chr(u+97)))\n",
    "            for v in G[u]:\n",
    "                if relax(G, u, v, D, P):\n",
    "                    changed = True\n",
    "                    print('D[%c] = %d'%(chr(v+97),D[v]),end=' ')\n",
    "        print('\\n----------------------------------------')\n",
    "        if changed == False:\n",
    "            break\n",
    "    if changed:\n",
    "        raise ValueError('negative cycle')\n",
    "    return D, P\n",
    "\n",
    "bellman_ford(G, a)"
   ]
  },
  {
   "cell_type": "code",
   "execution_count": 21,
   "metadata": {
    "scrolled": false
   },
   "outputs": [
    {
     "name": "stdout",
     "output_type": "stream",
     "text": [
      "node = a\n",
      "D[b] = 12 D[c] = 11 D[d] = 13 D[e] = 9 D[f] = 4 node = b\n",
      "node = c\n",
      "node = d\n",
      "node = e\n",
      "node = f\n",
      "D[c] = 6 D[g] = 6 D[h] = 6 node = g\n",
      "node = h\n",
      "\n",
      "----------------------------------------\n",
      "node = a\n",
      "node = b\n",
      "node = c\n",
      "node = d\n",
      "node = e\n",
      "node = f\n",
      "node = g\n",
      "node = h\n",
      "\n",
      "----------------------------------------\n"
     ]
    },
    {
     "data": {
      "text/plain": [
       "({0: 0, 1: 12, 2: 6, 3: 13, 4: 9, 5: 4, 6: 6, 7: 6},\n",
       " {1: 0, 2: 5, 3: 0, 4: 0, 5: 0, 6: 5, 7: 5})"
      ]
     },
     "execution_count": 21,
     "metadata": {},
     "output_type": "execute_result"
    }
   ],
   "source": [
    "bellman_ford(G4, a)"
   ]
  },
  {
   "cell_type": "markdown",
   "metadata": {},
   "source": [
    "## 非负权重的图中最短路径 -- 戴克斯特拉 \n",
    "\n",
    "    目的是解释一个隐藏的DAG图\n",
    "    在有序情况下，因为右边的节点一定由左边节点出发，而节点非负所以离s最近的节点只能是从左到右依次选择，\n",
    "    依照边权重从小到大的顺序依次出堆并即为u，\n",
    "    松弛u的所有出边"
   ]
  },
  {
   "cell_type": "code",
   "execution_count": 22,
   "metadata": {},
   "outputs": [
    {
     "name": "stdout",
     "output_type": "stream",
     "text": [
      "node = a\n",
      "D[b] = 12 D[c] = 11 D[d] = 13 D[e] = 9 D[f] = 4 node = f\n",
      "D[c] = 6 D[g] = 6 D[h] = 6 node = c\n",
      "node = g\n",
      "node = h\n",
      "node = e\n",
      "node = b\n",
      "node = d\n"
     ]
    },
    {
     "data": {
      "text/plain": [
       "({0: 0, 1: 12, 2: 6, 3: 13, 4: 9, 5: 4, 6: 6, 7: 6},\n",
       " {1: 0, 2: 5, 3: 0, 4: 0, 5: 0, 6: 5, 7: 5})"
      ]
     },
     "execution_count": 22,
     "metadata": {},
     "output_type": "execute_result"
    }
   ],
   "source": [
    "from heapq import heappush, heappop\n",
    "\n",
    "def dijkstra(G, s):\n",
    "    D, P, Q, S = {s:0}, {}, [(0,s)], set()\n",
    "    while Q:\n",
    "        _, u = heappop(Q)\n",
    "        if u in S:\n",
    "            continue\n",
    "        S.add(u)\n",
    "        print(\"node = %c\"%(chr(u+97)))\n",
    "        for v in G[u]:\n",
    "            r = relax(G, u, v, D, P)\n",
    "            if r:\n",
    "                print(\"D[%c] = %d\"%(chr(v+97), D[v]),end=' ')\n",
    "            heappush(Q, (D[v], v))\n",
    "    return D, P\n",
    "dijkstra(G4, 0)"
   ]
  },
  {
   "cell_type": "markdown",
   "metadata": {},
   "source": [
    "# 多对多问题\n",
    "\n",
    "1. Johnson 算法\n",
    "2. rec_floyd_warshall\n",
    "3. Folyd_Warshall\n",
    "4. idijkstra\n",
    "5. bidir_dijkstra"
   ]
  },
  {
   "cell_type": "markdown",
   "metadata": {},
   "source": [
    "### 稀疏图多元最短路径 - Johnson \n",
    "\n",
    "    1. 从对各个节点出发的情况下用 Dijkstra。 但是迪杰斯特拉要求边非负，\n",
    "    所以 w'(u, v) = w(u, v) + h(u) - h(v)。其中 h(u) 表示新节点ss到u的距离, \n",
    "    而ss到每一个节点的权值为0， 所以 h(u)就记录从u出发的负边的权重，否则为0\n",
    "    \n",
    "    2. 根据套筒求和， (a-b) + (b-c) + (c-d) = a - e 中间边的权值均被抵消，\n",
    "    w' = w + 第一个h(u) - 最后一个h(v)。上述变化使用与所有点与点之间的权重求和，易知这对于最短路径没有影响。\n",
    "    \n",
    "    3. 当然最后通过 D[u][v] += h[v] - h[u]还原"
   ]
  },
  {
   "cell_type": "code",
   "execution_count": 88,
   "metadata": {
    "scrolled": false
   },
   "outputs": [
    {
     "name": "stdout",
     "output_type": "stream",
     "text": [
      "node = a\n",
      "node = b\n",
      "node = c\n",
      "node = d\n",
      "node = e\n",
      "node = f\n",
      "node = g\n",
      "node = h\n",
      "node = i\n",
      "D[a] = 0 D[b] = 0 D[c] = 0 D[d] = 0 D[e] = 0 D[f] = 0 D[g] = 0 D[h] = 0 \n",
      "----------------------------------------\n",
      "node = a\n",
      "node = b\n",
      "node = c\n",
      "D[d] = -4 node = d\n",
      "node = e\n",
      "node = f\n",
      "node = g\n",
      "node = h\n",
      "node = i\n",
      "\n",
      "----------------------------------------\n",
      "node = a\n",
      "node = b\n",
      "node = c\n",
      "node = d\n",
      "node = e\n",
      "node = f\n",
      "node = g\n",
      "node = h\n",
      "node = i\n",
      "\n",
      "----------------------------------------\n",
      "{8: 0, 0: 0, 1: 0, 2: 0, 3: -4, 4: 0, 5: 0, 6: 0, 7: 0}\n",
      "adjust node u = a\n",
      "node = a\n",
      "D[b] = 3 D[c] = 7 D[d] = 7 D[e] = 9 D[f] = 4 node = b\n",
      "D[e] = 6 node = f\n",
      "D[c] = 6 D[g] = 6 D[h] = 6 node = c\n",
      "D[d] = 6 node = d\n",
      "node = e\n",
      "node = g\n",
      "node = h\n",
      "adjust node u = b\n",
      "node = b\n",
      "D[c] = 4 D[e] = 3 node = e\n",
      "D[f] = 8 node = c\n",
      "D[d] = 4 node = d\n",
      "node = f\n",
      "D[g] = 10 D[h] = 10 node = g\n",
      "node = h\n",
      "adjust node u = c\n",
      "node = c\n",
      "D[d] = 0 node = d\n",
      "D[e] = 3 node = e\n",
      "D[f] = 8 node = f\n",
      "D[g] = 10 D[h] = 10 node = g\n",
      "node = h\n",
      "adjust node u = d\n",
      "node = d\n",
      "D[e] = 3 node = e\n",
      "D[f] = 8 node = f\n",
      "D[c] = 10 D[g] = 10 D[h] = 10 node = c\n",
      "node = g\n",
      "node = h\n",
      "adjust node u = e\n",
      "node = e\n",
      "D[f] = 5 node = f\n",
      "D[c] = 7 D[g] = 7 D[h] = 7 node = c\n",
      "D[d] = 7 node = d\n",
      "node = g\n",
      "node = h\n",
      "adjust node u = f\n",
      "node = f\n",
      "D[c] = 2 D[g] = 2 D[h] = 2 node = c\n",
      "D[d] = 2 node = d\n",
      "D[e] = 5 node = g\n",
      "node = h\n",
      "node = e\n",
      "adjust node u = g\n",
      "node = g\n",
      "D[f] = 1 D[h] = 6 node = f\n",
      "D[c] = 3 D[h] = 3 node = c\n",
      "D[d] = 3 node = d\n",
      "D[e] = 6 node = h\n",
      "node = e\n",
      "adjust node u = h\n",
      "node = h\n",
      "D[f] = 9 D[g] = 8 node = g\n",
      "node = f\n",
      "D[c] = 11 node = c\n",
      "D[d] = 11 node = d\n",
      "D[e] = 14 node = e\n",
      "result\n",
      "node = a \n",
      "D[a] = 0 D[b] = 3 D[c] = 6 D[d] = 2 D[e] = 6 D[f] = 4 D[g] = 6 D[h] = 6 node = b \n",
      "D[b] = 0 D[c] = 4 D[e] = 3 D[f] = 8 D[d] = 0 D[g] = 10 D[h] = 10 node = c \n",
      "D[c] = 0 D[d] = -4 D[e] = 3 D[f] = 8 D[g] = 10 D[h] = 10 node = d \n",
      "D[d] = 0 D[e] = 7 D[f] = 12 D[c] = 14 D[g] = 14 D[h] = 14 node = e \n",
      "D[e] = 0 D[f] = 5 D[c] = 7 D[g] = 7 D[h] = 7 D[d] = 3 node = f \n",
      "D[f] = 0 D[c] = 2 D[g] = 2 D[h] = 2 D[d] = -2 D[e] = 5 node = g \n",
      "D[g] = 0 D[f] = 1 D[h] = 3 D[c] = 3 D[d] = -1 D[e] = 6 node = h \n",
      "D[h] = 0 D[f] = 9 D[g] = 8 D[c] = 11 D[d] = 7 D[e] = 14 "
     ]
    }
   ],
   "source": [
    "from copy import deepcopy\n",
    "def johonson(G):\n",
    "    G = deepcopy(G)\n",
    "    s = len(G)\n",
    "    G[s] = {v:0 for v in G}\n",
    "    h, _ = bellman_ford(G, s)\n",
    "    del G[s]\n",
    "    print(h)\n",
    "    for u in G:\n",
    "        for v in G[u]:\n",
    "            G[u][v] += h[u] - h[v]\n",
    "    D, P = {}, {}\n",
    "    for u in G:\n",
    "        print(\"adjust node u = %c\"%(chr(u+97)))\n",
    "        D[u], P[u] = dijkstra(G, u)\n",
    "        for v in D[u]:\n",
    "            D[u][v] += h[v] - h[u]\n",
    "    print(\"result\")\n",
    "    for start in D:\n",
    "        print(\"node = %c \"%(chr(start+97)))\n",
    "        for end, val in D[start].items():\n",
    "            print(\"D[%c] = %d\"%(chr(end+97), val), end=' ')\n",
    "    return D, P\n",
    "    \n",
    "D, P = johonson(G2)"
   ]
  },
  {
   "cell_type": "markdown",
   "metadata": {},
   "source": [
    "## Floyd-Warshall\n",
    "    \n",
    "    限制用于构成最短路径的中间节点的个数，将问题参数化为（起点，终点，最大跳跃数）\n",
    "    通过是否包含k已最小化路径 d(u,v,k) = min( d(u,v,k-1), d(u,k,k-1) + d(k,v,k-1) ) 来达到目的\n",
    "    这里用到的G是完整的权值图，当u,v 之间的路径不存在时用inf表示"
   ]
  },
  {
   "cell_type": "code",
   "execution_count": 97,
   "metadata": {},
   "outputs": [
    {
     "name": "stdout",
     "output_type": "stream",
     "text": [
      "\n",
      "node = a\n",
      "D[b] = 3 D[c] = 6 D[d] = 2 D[e] = 6 D[f] = 4 D[g] = 6 D[h] = 6 \n",
      "node = b\n",
      "D[c] = 4 D[d] = 0 D[e] = 3 D[f] = 8 D[g] = 10 D[h] = 10 \n",
      "node = c\n",
      "D[c] = 10 D[d] = -4 D[e] = 3 D[f] = 8 D[g] = 10 D[h] = 10 \n",
      "node = d\n",
      "D[c] = 14 D[d] = 10 D[e] = 7 D[f] = 12 D[g] = 14 D[h] = 14 \n",
      "node = e\n",
      "D[c] = 7 D[d] = 3 D[e] = 10 D[f] = 5 D[g] = 7 D[h] = 7 \n",
      "node = f\n",
      "D[c] = 2 D[d] = -2 D[e] = 5 D[f] = 3 D[g] = 2 D[h] = 2 \n",
      "node = g\n",
      "D[c] = 3 D[d] = -1 D[e] = 6 D[f] = 1 D[g] = 3 D[h] = 3 \n",
      "node = h\n",
      "D[c] = 11 D[d] = 7 D[e] = 14 D[f] = 9 D[g] = 8 D[h] = 11 "
     ]
    }
   ],
   "source": [
    "def rec_floyd_warshall(G):\n",
    "    @memo\n",
    "    def d(u,v,k):\n",
    "        if k == 0:\n",
    "            if u in G:\n",
    "                return G[u].get(v, inf)\n",
    "            else:\n",
    "                return inf\n",
    "        return min(\n",
    "            d(u, v, k-1),\n",
    "            d(u, k, k-1) + d(k, v, k-1)\n",
    "        )\n",
    "    return{\n",
    "        (u,v): d(u,v,len(G)) for u in G for v in G\n",
    "    }\n",
    "res = rec_floyd_warshall(G2)\n",
    "\n",
    "old_node = None\n",
    "for pair, val in res.items():\n",
    "    if val != inf:\n",
    "        start, end = [chr(i+97) for i in pair]\n",
    "        if start != old_node:\n",
    "            old_node = start\n",
    "            print(\"\\nnode = %c\"%start)\n",
    "        print(\"D[%c] = %d\"%(end, val), end=' ')"
   ]
  },
  {
   "cell_type": "code",
   "execution_count": 102,
   "metadata": {},
   "outputs": [
    {
     "data": {
      "text/plain": [
       "{0: {0: inf, 1: 3, 2: 7, 3: 3, 4: 9, 5: 4, 6: inf, 7: inf},\n",
       " 1: {0: inf, 1: inf, 2: 4, 3: inf, 4: 3, 5: inf, 6: inf, 7: inf},\n",
       " 2: {0: inf, 1: inf, 2: inf, 3: -4, 4: inf, 5: inf, 6: inf, 7: inf},\n",
       " 3: {0: inf, 1: inf, 2: inf, 3: inf, 4: 7, 5: inf, 6: inf, 7: inf},\n",
       " 4: {0: inf, 1: inf, 2: inf, 3: inf, 4: inf, 5: 5, 6: inf, 7: inf},\n",
       " 5: {0: inf, 1: inf, 2: 2, 3: inf, 4: inf, 5: inf, 6: 2, 7: 2},\n",
       " 6: {0: inf, 1: inf, 2: inf, 3: inf, 4: inf, 5: 1, 6: inf, 7: 6},\n",
       " 7: {0: inf, 1: inf, 2: inf, 3: inf, 4: inf, 5: 9, 6: 8, 7: inf}}"
      ]
     },
     "execution_count": 102,
     "metadata": {},
     "output_type": "execute_result"
    }
   ],
   "source": [
    "def getCompleteMatrix(G):\n",
    "    nodes = list(G.keys())\n",
    "    new_G = deepcopy(G)\n",
    "    for node in new_G:\n",
    "        for out in nodes:\n",
    "            if out not in new_G[node]:\n",
    "                new_G[node][out] = inf\n",
    "    return new_G\n",
    "getCompleteMatrix(G2)"
   ]
  },
  {
   "cell_type": "code",
   "execution_count": 103,
   "metadata": {},
   "outputs": [
    {
     "data": {
      "text/plain": [
       "{0: {0: inf, 1: 3, 2: 6, 3: 2, 4: 6, 5: 4, 6: 6, 7: 6},\n",
       " 1: {0: inf, 1: inf, 2: 4, 3: 0, 4: 3, 5: 8, 6: 10, 7: 10},\n",
       " 2: {0: inf, 1: inf, 2: 10, 3: -4, 4: 3, 5: 8, 6: 10, 7: 10},\n",
       " 3: {0: inf, 1: inf, 2: 14, 3: 10, 4: 7, 5: 12, 6: 14, 7: 14},\n",
       " 4: {0: inf, 1: inf, 2: 7, 3: 3, 4: 10, 5: 5, 6: 7, 7: 7},\n",
       " 5: {0: inf, 1: inf, 2: 2, 3: -2, 4: 5, 5: 3, 6: 2, 7: 2},\n",
       " 6: {0: inf, 1: inf, 2: 3, 3: -1, 4: 6, 5: 1, 6: 3, 7: 3},\n",
       " 7: {0: inf, 1: inf, 2: 11, 3: 7, 4: 14, 5: 9, 6: 8, 7: 11}}"
      ]
     },
     "execution_count": 103,
     "metadata": {},
     "output_type": "execute_result"
    }
   ],
   "source": [
    "def floyd_warshall(G):\n",
    "    D = deepcopy(G)\n",
    "    for k in G:\n",
    "        for u in G:\n",
    "            for v in G:\n",
    "                D[u][v] = min(D[u][v], D[u][k] + D[k][v])\n",
    "    return D\n",
    "gg2 = getCompleteMatrix(G2)\n",
    "floyd_warshall(gg2)"
   ]
  },
  {
   "cell_type": "code",
   "execution_count": 104,
   "metadata": {},
   "outputs": [
    {
     "data": {
      "text/plain": [
       "({0: {0: inf, 1: 3, 2: 6, 3: 2, 4: 6, 5: 4, 6: 6, 7: 6},\n",
       "  1: {0: inf, 1: inf, 2: 4, 3: 0, 4: 3, 5: 8, 6: 10, 7: 10},\n",
       "  2: {0: inf, 1: inf, 2: 10, 3: -4, 4: 3, 5: 8, 6: 10, 7: 10},\n",
       "  3: {0: inf, 1: inf, 2: 14, 3: 10, 4: 7, 5: 12, 6: 14, 7: 14},\n",
       "  4: {0: inf, 1: inf, 2: 7, 3: 3, 4: 10, 5: 5, 6: 7, 7: 7},\n",
       "  5: {0: inf, 1: inf, 2: 2, 3: -2, 4: 5, 5: 3, 6: 2, 7: 2},\n",
       "  6: {0: inf, 1: inf, 2: 3, 3: -1, 4: 6, 5: 1, 6: 3, 7: 3},\n",
       "  7: {0: inf, 1: inf, 2: 11, 3: 7, 4: 14, 5: 9, 6: 8, 7: 11}},\n",
       " {(0, 0): None,\n",
       "  (0, 1): 0,\n",
       "  (0, 2): 5,\n",
       "  (0, 3): 2,\n",
       "  (0, 4): 1,\n",
       "  (0, 5): 0,\n",
       "  (0, 6): 5,\n",
       "  (0, 7): 5,\n",
       "  (1, 0): None,\n",
       "  (1, 1): None,\n",
       "  (1, 2): 1,\n",
       "  (1, 3): 2,\n",
       "  (1, 4): 1,\n",
       "  (1, 5): 4,\n",
       "  (1, 6): 5,\n",
       "  (1, 7): 5,\n",
       "  (2, 0): None,\n",
       "  (2, 1): None,\n",
       "  (2, 2): 5,\n",
       "  (2, 3): 2,\n",
       "  (2, 4): 3,\n",
       "  (2, 5): 4,\n",
       "  (2, 6): 5,\n",
       "  (2, 7): 5,\n",
       "  (3, 0): None,\n",
       "  (3, 1): None,\n",
       "  (3, 2): 5,\n",
       "  (3, 3): 2,\n",
       "  (3, 4): 3,\n",
       "  (3, 5): 4,\n",
       "  (3, 6): 5,\n",
       "  (3, 7): 5,\n",
       "  (4, 0): None,\n",
       "  (4, 1): None,\n",
       "  (4, 2): 5,\n",
       "  (4, 3): 2,\n",
       "  (4, 4): 3,\n",
       "  (4, 5): 4,\n",
       "  (4, 6): 5,\n",
       "  (4, 7): 5,\n",
       "  (5, 0): None,\n",
       "  (5, 1): None,\n",
       "  (5, 2): 5,\n",
       "  (5, 3): 2,\n",
       "  (5, 4): 3,\n",
       "  (5, 5): 6,\n",
       "  (5, 6): 5,\n",
       "  (5, 7): 5,\n",
       "  (6, 0): None,\n",
       "  (6, 1): None,\n",
       "  (6, 2): 5,\n",
       "  (6, 3): 2,\n",
       "  (6, 4): 3,\n",
       "  (6, 5): 6,\n",
       "  (6, 6): 5,\n",
       "  (6, 7): 5,\n",
       "  (7, 0): None,\n",
       "  (7, 1): None,\n",
       "  (7, 2): 5,\n",
       "  (7, 3): 2,\n",
       "  (7, 4): 3,\n",
       "  (7, 5): 7,\n",
       "  (7, 6): 7,\n",
       "  (7, 7): 5})"
      ]
     },
     "execution_count": 104,
     "metadata": {},
     "output_type": "execute_result"
    }
   ],
   "source": [
    "def floyd_warshall_path(G):\n",
    "    D, P = deepcopy(G), {}\n",
    "    for u in G:\n",
    "        for v in G:\n",
    "            if u==v or G[u][v] == inf:\n",
    "                P[u,v] = None\n",
    "            else:\n",
    "                P[u,v] = u\n",
    "    for k in G:\n",
    "        for u in G:\n",
    "            for v in G:\n",
    "                shortcut = D[u][k] + D[k][v]\n",
    "                if shortcut < D[u][v]:\n",
    "                    D[u][v] = shortcut\n",
    "                    P[u,v] = P[k,v]\n",
    "    return D, P\n",
    "\n",
    "floyd_warshall_path(gg2)"
   ]
  },
  {
   "cell_type": "code",
   "execution_count": null,
   "metadata": {},
   "outputs": [],
   "source": []
  }
 ],
 "metadata": {
  "kernelspec": {
   "display_name": "Python 3",
   "language": "python",
   "name": "python3"
  },
  "language_info": {
   "codemirror_mode": {
    "name": "ipython",
    "version": 3
   },
   "file_extension": ".py",
   "mimetype": "text/x-python",
   "name": "python",
   "nbconvert_exporter": "python",
   "pygments_lexer": "ipython3",
   "version": "3.6.4"
  }
 },
 "nbformat": 4,
 "nbformat_minor": 2
}
