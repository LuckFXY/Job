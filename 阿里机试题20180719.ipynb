{
 "cells": [
  {
   "cell_type": "markdown",
   "metadata": {},
   "source": [
    "题目1:\n",
    "\n",
    "    所有的同学都站在坐标系上的整数点,由原点看每个点,有的点被视线挡住了,求(长度为N时)原点能看到多少点,如下图所示:比如N = 1时 输出3; N=2时 输出5; N=3时 输出9; N = 4时,输出13\n",
    "\n",
    "思路：\n",
    "\n",
    "    1. 对于坐标（x,y）可约分，可被遮挡。反之，能被看见\n",
    "    2. 因为是正方形，沿着对角线对称，对角线只有(1,1)可以被看见。总数 = 下三角 * 2 + 1"
   ]
  },
  {
   "cell_type": "code",
   "execution_count": 12,
   "metadata": {},
   "outputs": [
    {
     "name": "stdout",
     "output_type": "stream",
     "text": [
      "3\n",
      "5\n",
      "9\n",
      "13\n"
     ]
    }
   ],
   "source": [
    "#站在原点能看几个其他的点\n",
    "def checkReduce(a, b):\n",
    "    #检查坐标是否可以约分\n",
    "    minone = min(a,b)\n",
    "    maxone = max(a,b)\n",
    "    if minone >1 and maxone % minone == 0:\n",
    "        return True\n",
    "    for i in range(2, int(pow(minone,0.5)+1)):\n",
    "        if a % i == 0 and b % i == 0:\n",
    "            return True\n",
    "    return False\n",
    "\n",
    "def FindStar(N):\n",
    "    count = 1\n",
    "    for i in range(1, N+1):\n",
    "        for j in range(i+1, N+1):\n",
    "            if checkReduce(i,j) == False:\n",
    "                count += 1\n",
    "    return count * 2 + 1\n",
    "\n",
    "for i in [1,2,3,4]:\n",
    "    print(FindStar(i))"
   ]
  },
  {
   "cell_type": "markdown",
   "metadata": {},
   "source": [
    "题目2 ：\n",
    "    \n",
    "    一个圆分成n个扇形，用m种颜色上色，要求相邻两个颜色不同。求有多少种不同的方法。\n",
    "分析：\n",
    "\n",
    "    特殊：\n",
    "    1. n = 1 有 m 种填法\n",
    "    2. n = 2 有 m * (m - 1) 种\n",
    "    3. m < 2 and n > 2 无解\n",
    "    \n",
    "    一般：\n",
    "    对于S(n,m) 来说，第一个扇面有m种选择，之后 n-1 个扇面各有 m - 1 中选择。由于最后一个和第一个相邻，所以存在重复。\n",
    "    重复的个数刚好是S(n-1, m). 于是有递推公式 \n",
    "$$ S(n - m) = m * (m-1)^{(n-1)} - S(n-1, m) $$"
   ]
  },
  {
   "cell_type": "code",
   "execution_count": 27,
   "metadata": {},
   "outputs": [
    {
     "data": {
      "text/plain": [
       "84"
      ]
     },
     "execution_count": 27,
     "metadata": {},
     "output_type": "execute_result"
    }
   ],
   "source": [
    "def filling(n,m, cache=dict()):\n",
    "    if n < 1 or m < 1:\n",
    "        return 0\n",
    "    elif n == 1:\n",
    "        return m\n",
    "    elif n == 2:\n",
    "        return m * (m - 1)\n",
    "    if m < 2:\n",
    "        return 0\n",
    "    key = n *m + m\n",
    "    c = cache.get(key, None)\n",
    "    if c is not None:\n",
    "        ret = c\n",
    "    else:\n",
    "        ret = m * pow(m-1, n-1) - filling(n-1,m, cache)\n",
    "        cache[key] = ret\n",
    "    return ret\n",
    "\n",
    "filling(4,4)"
   ]
  },
  {
   "cell_type": "markdown",
   "metadata": {},
   "source": [
    "题目3\n",
    "\n",
    "    对于一个长度为N的整形数组A,数组里所有的数都是正数,用三个下标m1,m2,m3\n",
    "    (满足条件 0<m1<m1+1<m2<m2+1<m3<N-1)\n",
    "    将数组A分成(0,m1-1),(m1+1,m2-1),(m2+1,m3-1),(m3+1,N-1)四个切片;\n",
    "    如果这四个切片中的正数求和相等,则为\"四等分\".\n",
    "    编写一个函数,求一个给定的整形数组是否可以四等分,可以返回true,不可以返回false.\n",
    "    限制条件: N<= 1000000;\n",
    "    要求:空间复杂度最多为O(n);时间复杂度为O(n);\n",
    "    例子:\n",
    "    [2,5,1,1,1,1,4,1,7,3,7] true\n",
    "    [10,2,11,13,1,1,1,1] false\n",
    "    \n",
    "分析： \n",
    "    1. 设置首尾两个指针 low, high , 切片的和为sum1 ~ sum4, 如果有解，必定在high > low 的情况下，存在某两个断点使得sum1 == sum4 = s\n",
    "    2. 如果条件1成立，只需要从上述断点之间再调出一个断点使得s2 ==s3\n",
    "    3. 最后比较 s1 == s2"
   ]
  },
  {
   "cell_type": "code",
   "execution_count": 29,
   "metadata": {},
   "outputs": [
    {
     "data": {
      "text/plain": [
       "False"
      ]
     },
     "execution_count": 29,
     "metadata": {},
     "output_type": "execute_result"
    }
   ],
   "source": [
    "def resolve(A):\n",
    "    if not A or len(A) < 7:\n",
    "        return False\n",
    "    low, high = 0, len(A)-1\n",
    "    s1, s4 = A[low], A[high]\n",
    "    while low < high:\n",
    "        if s1 == s4 :\n",
    "            break\n",
    "        elif s1 < s4:\n",
    "            low += 1\n",
    "            s1 += A[low]\n",
    "        else:\n",
    "            high -= 1\n",
    "            s4 += A[high]\n",
    "    if s1 == s4:\n",
    "        flag1, flag3 = low+1, high-1\n",
    "        low, high = low+2, high-2\n",
    "        if low < high:\n",
    "            s2, s3 = A[low], A[high]\n",
    "            while low < high:\n",
    "                if s2 == s3:\n",
    "                    break\n",
    "                elif s2 < s3:\n",
    "                    low += 1\n",
    "                    s2 += A[low]\n",
    "                else:\n",
    "                    high -= 1\n",
    "                    s3 -= A[high]\n",
    "            if s2 == s3 and s2 == s4:\n",
    "                return True\n",
    "    return False\n",
    "A = [10,2,11,13,1,1,1,1]\n",
    "resolve(A)"
   ]
  },
  {
   "cell_type": "markdown",
   "metadata": {},
   "source": [
    "题目4\n",
    "    \n",
    "    给定一个正整数数组，每个元素大小表示从该元素出发最多可移动几个节点。假设总是从第一个元素开始移动。\n",
    "    问如何移动可以以最少的步数移动到最后。 \n",
    "    Input: [2,3,1,1,4] \n",
    "    Output: 2\n",
    "    \n",
    "分析：\n",
    "    \n",
    "    当前为2时， 最大移动步数为2， 可以移动到3,1。\n",
    "    1. 若移动到3时，最大移动步数为1+3 = 4\n",
    "    2. 若一到到1时，最大移动步数为2+1 = 3\n",
    "    3. 移动步数从下一个位置开始，所以上述样例中，只需要4步移动就可以到达最后一个元素，结束"
   ]
  },
  {
   "cell_type": "code",
   "execution_count": 34,
   "metadata": {},
   "outputs": [
    {
     "name": "stdout",
     "output_type": "stream",
     "text": [
      "0 1\n",
      "0 3\n"
     ]
    },
    {
     "data": {
      "text/plain": [
       "2"
      ]
     },
     "execution_count": 34,
     "metadata": {},
     "output_type": "execute_result"
    }
   ],
   "source": [
    "def jump(nums):\n",
    "    n, start, end, step = len(nums), 0, 0, 0\n",
    "    while end < n-1:\n",
    "        step += 1\n",
    "        maxend = end + 1\n",
    "        print(start, end+1)\n",
    "        for i in range(start, end+1):\n",
    "            if i + nums[i] >= n-1:\n",
    "                return step\n",
    "            maxend = max(maxend, i+nums[i])\n",
    "        start, end = end, maxend\n",
    "    return step\n",
    "A = [2,3,1,1,4]\n",
    "jump(A)"
   ]
  },
  {
   "cell_type": "markdown",
   "metadata": {},
   "source": [
    "题目5\n",
    "\n",
    "    对于一个由一位十进制整数构成的二叉树，如果深度不超过4，可以用一个三位十进制整数构成的数组表示，具体规则如下：\n",
    "    1. 百位数表示树的层次L，1<=L<=4；十位数表示在该层次中的位置P，1<=P<=8；个位数表示数值V。\n",
    "    2. 数组里，L一定是单增的，也就是说后一个数的L大于等于前一个数的L。\n",
    "    3. 对于同一个L，P也是单增的，就是说在L不变的情况下，后一个数的P大于等于前一个数的P。\n",
    "    \n",
    "    例如：\n",
    "    [113, 215, 221]对应的树是：\n",
    "       3\n",
    "      /  \\\n",
    "     5    1\n",
    "     \n",
    "    现在要求这个树所有到叶子节点的路径和，对于[113, 215, 221] 这棵树，有两个路径3-5和 3-1，路径和是(3+5) + (3 + 1) = 12"
   ]
  },
  {
   "cell_type": "code",
   "execution_count": 3,
   "metadata": {},
   "outputs": [
    {
     "name": "stdout",
     "output_type": "stream",
     "text": [
      "[None, 3, 5, 1, 6, 8, None, 2, None, 7, 9, None, None, None, 4, None]\n"
     ]
    },
    {
     "data": {
      "text/plain": [
       "56"
      ]
     },
     "execution_count": 3,
     "metadata": {},
     "output_type": "execute_result"
    }
   ],
   "source": [
    "def TreeRoute(arr):\n",
    "    tree = [None] * 16\n",
    "    for a in arr:\n",
    "        level = a // 100\n",
    "        l_pos = (a//10) % 10\n",
    "        val = a %10\n",
    "        pos = 2 ** (level-1) + l_pos - 1\n",
    "        tree[pos] = val\n",
    "    print(tree)\n",
    "    s = 0\n",
    "    for cur in range(16-8, 16):\n",
    "        while cur !=0 and tree[cur] is not None:\n",
    "            s += tree[cur]\n",
    "            cur = cur // 2\n",
    "    return s\n",
    "arr=[113, 215, 221, 316, 328, 342, 427, 439, 474]\n",
    "TreeRoute(arr)"
   ]
  },
  {
   "cell_type": "markdown",
   "metadata": {},
   "source": [
    "题目6 ： 01 背包的模板\n",
    "\n",
    "    有N件物品和一个容量为V的背包。第i件物品的费用是c[i]，价值是w[i]。求解将哪些物品装入背包可使这些物品的费用总和不超过背包容量，且价值总和最大。 f[i][v]表示前i件物品恰放入一个容量为v的背包可以获得的最大价值。则其状态转移方程便是：f[i][v]=max{f[i-1][v],f[i-1][v-c[i]]+w[i]}。将前i件物品放入容量为v的背包中”这个子问题，若只考虑第i件物品的策略（放或不放），那么就可以转化为一个只牵扯前i-1件物品的问题。如果不放第i件物品，那么问题就转化为“前i-1件物品放入容量为v的背包中”；如果放第i件物品，那么问题就转化为“前i-1件物品放入剩下的容量为v-c[i]的背包中”，此时能获得的最大价值就是f [i-1][v-c[i]]再加上通过放入第i件物品获得的价值w[i]。"
   ]
  },
  {
   "cell_type": "code",
   "execution_count": 1,
   "metadata": {},
   "outputs": [],
   "source": [
    "import numpy as np"
   ]
  },
  {
   "cell_type": "code",
   "execution_count": 11,
   "metadata": {},
   "outputs": [
    {
     "name": "stdout",
     "output_type": "stream",
     "text": [
      "[[ 0  0  0  0  0  0  0  0  0  0  0]\n",
      " [ 0  0  6  6  6  6  6  6  6  6  6]\n",
      " [ 0  0  6  6  9  9  9  9  9  9  9]\n",
      " [ 0  0  6  6  9  9  9  9 11 11 14]\n",
      " [ 0  0  6  6  9  9  9 10 11 13 14]\n",
      " [ 0  0  6  6  9  9 12 12 15 15 15]]\n"
     ]
    },
    {
     "data": {
      "text/plain": [
       "15"
      ]
     },
     "execution_count": 11,
     "metadata": {},
     "output_type": "execute_result"
    }
   ],
   "source": [
    "def backtrack(weights, values, maxWeight):\n",
    "    N = len(weights)\n",
    "    bag = [[0] * (maxWeight+1) for _ in range(N+1)]\n",
    "\n",
    "    for i in range(1, N+1):\n",
    "        for j in range(1,maxWeight+1):\n",
    "            if weights[i-1] <= j:\n",
    "                bag[i][j] = max(bag[i-1][j], bag[i-1][j-weights[i-1]] + values[i-1])\n",
    "            else:\n",
    "                bag[i][j] = bag[i-1][j]\n",
    "    b = np.array(bag)\n",
    "    print(b)\n",
    "    return bag[N][maxWeight]\n",
    "weights = [2,2,6,5,4]\n",
    "values = [6,3,5,4,6]\n",
    "backtrack(weights, values, 10)"
   ]
  },
  {
   "cell_type": "markdown",
   "metadata": {},
   "source": [
    "题目7：\n",
    "\n",
    "给出N个数，每次从中抽出一个数(第一和最后一个不能抽)，该次的得分即为抽出的数与相邻两个数的乘积。一直这样将每次的得分累加直到只剩下首尾两个数为止，问最小得分。"
   ]
  },
  {
   "cell_type": "code",
   "execution_count": null,
   "metadata": {},
   "outputs": [],
   "source": []
  }
 ],
 "metadata": {
  "kernelspec": {
   "display_name": "Python 3",
   "language": "python",
   "name": "python3"
  },
  "language_info": {
   "codemirror_mode": {
    "name": "ipython",
    "version": 3
   },
   "file_extension": ".py",
   "mimetype": "text/x-python",
   "name": "python",
   "nbconvert_exporter": "python",
   "pygments_lexer": "ipython3",
   "version": "3.6.4"
  }
 },
 "nbformat": 4,
 "nbformat_minor": 2
}
