{
 "cells": [
  {
   "cell_type": "markdown",
   "metadata": {},
   "source": [
    "## 1. Magic\n",
    "\n",
    "1. n个正整数集合a, m个正整数的集合b\n",
    "2. 从一个集合移动一个元素到另一个集合中，保证两个集合的平均值变大！\n",
    "3. 求最大移动次数\n",
    "4. 实例\n",
    "        输入：\n",
    "        3 5\n",
    "        1 2 5\n",
    "        2 3 4 5 6\n",
    "        输出：\n",
    "        2\n",
    "        \n",
    "### 分析：\n",
    "平均值的求法 ：\n",
    "定义s(n) 为集合中前n个元素的和，则 s(n) == (s(n-1) * (n-1) + a_n ) / n\n",
    "\n",
    "从平均值大的集合a中去比平均值小且并b平均值大的数放入b中"
   ]
  },
  {
   "cell_type": "code",
   "execution_count": 10,
   "metadata": {},
   "outputs": [
    {
     "data": {
      "text/plain": [
       "2"
      ]
     },
     "execution_count": 10,
     "metadata": {},
     "output_type": "execute_result"
    }
   ],
   "source": [
    "from heapq import heappop, heappush, heapify\n",
    "\n",
    "def find_min(mylist, big_mean, small_mean):\n",
    "    '''\n",
    "    @param mylist : sorted list\n",
    "    @big_mean : int\n",
    "    @small_mean : int\n",
    "    '''\n",
    "    ret, i = -1, 0\n",
    "    while mylist:\n",
    "        cur = heappop(mylist)\n",
    "        if cur < big_mean and cur > small_mean:\n",
    "            ret = cur\n",
    "            break\n",
    "    return ret\n",
    "\n",
    "def magic_move_num(list_a, list_b):\n",
    "    m, n = len(list_a), len(list_b)\n",
    "    sum_a, sum_b = sum(list_a), sum(list_b)\n",
    "    mean_a = sum_a / m\n",
    "    mean_b = sum_b / n\n",
    "    #the average of set a is bigger than that of b\n",
    "    if mean_a < mean_b:\n",
    "        list_a, list_b = list_b, list_a\n",
    "        m, n = n, m\n",
    "        mean_a, mean_b = mean_b, mean_a\n",
    "        sum_a, sum_b = sum_b, sum_a\n",
    "    heapify(list_a)\n",
    "    #calculate the step\n",
    "    step = 0\n",
    "    min_num = find_min(list_a, mean_a, mean_b)\n",
    "    while min_num != -1:\n",
    "        sum_a -= min_num\n",
    "        sum_b += min_num\n",
    "        m, n = m-1, n+1\n",
    "        mean_a = sum_a / m\n",
    "        mean_b = sum_b / n\n",
    "\n",
    "        step += 1\n",
    "        \n",
    "        min_num = find_min(list_a, mean_a, mean_b)\n",
    "    return step\n",
    "\n",
    "\n",
    "list_a = [1, 2, 5]\n",
    "list_b = [2, 3, 4, 5, 6]\n",
    "magic_move_num(list_a, list_b)"
   ]
  },
  {
   "cell_type": "markdown",
   "metadata": {},
   "source": [
    "## 2. 拼硬币\n",
    "\n",
    "    现有n1 + n2中面值的硬币，其中前n1中为普通硬币，可以取任意枚，后n2种为纪念币，每种最多只能取一枚，问能用多少种方法拼出m的面值\n",
    "    输入描述：\n",
    "    第一行有三个整数，n1, n2, m 分别表示普通硬币个数，特殊硬币个数，以及目标面值\n",
    "    第二行有一行整数，表示普通硬币的面值，严格升序\n",
    "    第三行有一行整数，表示特殊硬币的面值，严格升序\n",
    "    输出结果对 1000000007 取模\n",
    "    e.g\n",
    "    输入\n",
    "    3 1 5\n",
    "    1 2 3\n",
    "    1\n",
    "    输出\n",
    "    9\n",
    "    解释：()表示普通，[] 表示特殊\n",
    "    (1)(1)(1)(1)(1)\n",
    "    (1)(1)(1)(2)\n",
    "    (1)(1)(3)\n",
    "    (2)(3)\n",
    "    (1)(1)(1)(1)[1]\n",
    "    (1)(1)(2)[1]\n",
    "    (1)(1)(3)\n",
    "    [1](2)(2)\n",
    "\n",
    "### 分析\n",
    "\n",
    "#### 不会！！！"
   ]
  },
  {
   "cell_type": "markdown",
   "metadata": {},
   "source": [
    "## 3. 矩形游戏\n",
    "\n",
    "1. 规定 u,d,l,r 代表向上一个，向下，向左，向右4种操作\n",
    "2. 给定一个N * M 的空地，起点(x,y), 以及一系列操作集L，如果走出矩形区域则停止\n",
    "3. 输出每种 (N,M,x,y)场景下，按照L操作后可行的步数（包含最后一次）\n",
    "4. 实例\n",
    "        输入\n",
    "        uuurrdddddl\n",
    "        3\n",
    "        5 6 3 3\n",
    "        5 6 4 2\n",
    "        6 6 4 2\n",
    "        输出\n",
    "        3\n",
    "        10\n",
    "        11\n",
    "        \n",
    "### 分析\n",
    "\n",
    "1. 问题不难，可以直接暴力求解，如果想要更快的速度，优化存储和判断的逻辑\n",
    "2. 用四维数组max_size表示U,D,L,R四个方向，每个操作能到达当前方向的最大范围 l[i+1] = max(l[i], -y) r[i+1] = max(r[i], y)\n",
    "3. 用四维数组max_step表示U,D,L,R四个方向, 每增加一个单位能完成的操作数\n",
    "4. 四个方向中的最小值就是最大移动步数"
   ]
  },
  {
   "cell_type": "code",
   "execution_count": 8,
   "metadata": {},
   "outputs": [
    {
     "name": "stdout",
     "output_type": "stream",
     "text": [
      "[0, 1, 2, 3, 3, 3, 3, 3, 3, 3, 3, 3]\n",
      "[0, 0, 0, 0, 0, 0, 0, 0, 0, 1, 2, 2]\n",
      "[0, 0, 0, 0, 0, 0, 0, 0, 0, 0, 0, 0]\n",
      "[0, 0, 0, 0, 1, 2, 2, 2, 2, 2, 2, 2]\n",
      "[0, 1, 2, 3, 11, 11, 11, 11, 11, 11, 11, 0]\n",
      "[0, 9, 10, 11, 11, 11, 11, 11, 11, 11, 11, 0]\n",
      "[0, 11, 11, 11, 11, 11, 11, 11, 11, 11, 11, 0]\n",
      "[0, 4, 5, 11, 11, 11, 11, 11, 11, 11, 11, 0]\n",
      "3\n",
      "10\n",
      "11\n"
     ]
    }
   ],
   "source": [
    "def matrix_game(ops_str, maze_list):\n",
    "    # U D L R\n",
    "    ops_len = len(ops_str)\n",
    "    max_size = [[0] * (ops_len + 1) for _ in range(4)]\n",
    "    x, y = 0, 0\n",
    "    for i, ops in enumerate(ops_str):\n",
    "        if ops == 'u': x -= 1\n",
    "        elif ops == 'd' : x += 1\n",
    "        elif ops == 'l' : y -= 1\n",
    "        elif ops == 'r' : y += 1\n",
    "        for direction, step in enumerate([-x, x, -y, y]):\n",
    "            max_size[direction][i+1] = max(max_size[direction][i], step)\n",
    "    for i in range(4):\n",
    "        print(max_size[i])\n",
    "        \n",
    "    max_step = [[0] * (ops_len+1) for _ in range(4)]\n",
    "    for direction in range(4):\n",
    "        for i in range(1, ops_len):\n",
    "            j = 0\n",
    "            while j < ops_len and max_size[direction][j] < i :\n",
    "                j += 1\n",
    "            max_step[direction][i] = j\n",
    "    for i in range(4):\n",
    "        print(max_step[i])\n",
    "        \n",
    "    for maze in maze_list:\n",
    "        maze = list(map(int, maze.split(' ')))\n",
    "        n, m, x, y = maze\n",
    "        max_u = ops_len if x > ops_len else max_step[0][x]\n",
    "        max_d = ops_len if n - x + 1 > ops_len else max_step[1][n - x + 1]\n",
    "        max_l = ops_len if y > ops_len else max_step[2][y]\n",
    "        max_r = ops_len if m - y + 1 > ops_len else max_step[3][m-y+1]\n",
    "        print(min(max_u, max_d, max_l, max_r))\n",
    "ops = 'uuurrdddddl'\n",
    "maze_list=[\n",
    "    '5 6 3 3',\n",
    "    '5 6 4 2',\n",
    "    '6 6 4 2'\n",
    "]\n",
    "matrix_game(ops, maze_list)"
   ]
  },
  {
   "cell_type": "markdown",
   "metadata": {},
   "source": [
    "## 4. 充电电容\n",
    "1. 有两个空电容，三种操作：清空，充满，转移自身电量直至被充电电容充满，无传输消耗。\n",
    "2. 输入三个数 a, b ,c 分别代表电容A，B的容量，和目标电量。\n",
    "3. 利用已知的三种操作使得其中一个电容电量等于目标电量，求最少操作数M，无解时 M=0\n",
    "4. 实例\n",
    "        输入\n",
    "        2\n",
    "        3 4 2\n",
    "        2 3 4\n",
    "        输出\n",
    "        4 \n",
    "        0\n",
    "        解释\n",
    "        3冲，3转4,3冲，3转4，此时容量为3的电容中只剩下2个单位的电量，最少步骤为4\n",
    "        4 > max(2,3) 无解\n",
    "\n",
    "### 分析\n",
    "\n"
   ]
  },
  {
   "cell_type": "code",
   "execution_count": 23,
   "metadata": {},
   "outputs": [
    {
     "name": "stdout",
     "output_type": "stream",
     "text": [
      "charge the container a with 5\n",
      "a : 5, b = 0\n",
      "after transfer from a to b : a=0 b=5\n",
      "charge the container a with 5\n",
      "a : 5, b = 5\n",
      "after transfer from a to b : a=3 b=7\n",
      "b = 7 reset it\n",
      "a : 3, b = 0\n",
      "after transfer from a to b : a=0 b=3\n",
      "charge the container a with 5\n",
      "a : 5, b = 3\n",
      "after transfer from a to b : a=1 b=7\n",
      "b = 7 reset it\n",
      "a : 1, b = 0\n",
      "after transfer from a to b : a=0 b=1\n",
      "charge the container a with 5\n",
      "a : 5, b = 1\n",
      "after transfer from a to b : a=0 b=6\n"
     ]
    }
   ],
   "source": [
    "\n",
    "def test(ca, cb, target):\n",
    "    step = 0\n",
    "    a, b = 0, 0\n",
    "    while a != target and b != target:\n",
    "        if a == 0:\n",
    "            a = ca\n",
    "            print(\"charge the container a with %d\"%a)\n",
    "        print(\"a : %d, b = %d\"%(a, b))\n",
    "        if a + b <= cb:\n",
    "            b += a\n",
    "            a = 0\n",
    "        else:\n",
    "            a -= (cb - b)\n",
    "            b= cb\n",
    "        print(\"after transfer from a to b : a=%d b=%d\"%(a,b))\n",
    "        if b == cb:\n",
    "            print(\"b = %d reset it\"%b)\n",
    "            b = 0\n",
    "            \n",
    "        step += 1\n",
    "        if step > 100:\n",
    "            break\n",
    "test(5, 7, 6)"
   ]
  },
  {
   "cell_type": "code",
   "execution_count": 43,
   "metadata": {},
   "outputs": [
    {
     "data": {
      "text/plain": [
       "(1, 1.25, -0.75)"
      ]
     },
     "execution_count": 43,
     "metadata": {},
     "output_type": "execute_result"
    }
   ],
   "source": [
    "def gcb(m, n):\n",
    "    '''\n",
    "    扩展欧几里得算法，能求出公倍数gcb,以及 x * a + y * b = gcb 的特解（x,y）\n",
    "    '''\n",
    "    # n = 0, gcb(m,n) = n, 此时 x0 = 1, y0 = 0\n",
    "    x0, y0 = 1, 0\n",
    "    #第一次迭代\n",
    "    x1, y1 = 0, 1\n",
    "    # x * a + y * b = gcb(a,b)\n",
    "    x, y = 0, 1\n",
    "    r = m % n     #m/n的余数\n",
    "    q = (m-r) / n #m/n的倍数\n",
    "    while r:\n",
    "        #\n",
    "        x = x0 - q * x1\n",
    "        y = y0 - q * y1\n",
    "        #更新 x1, y1 的值\n",
    "        x1, y1 = x, y\n",
    "        #欧几里得算法，求gcb\n",
    "        m, n, r = n, r, m%n\n",
    "        q = (m-r)/n\n",
    "    return n, x, y\n",
    "\n",
    "gcb(7,5)"
   ]
  },
  {
   "cell_type": "code",
   "execution_count": 44,
   "metadata": {},
   "outputs": [
    {
     "data": {
      "text/plain": [
       "1.0"
      ]
     },
     "execution_count": 44,
     "metadata": {},
     "output_type": "execute_result"
    }
   ],
   "source": [
    "1.25*5-0.75*7\n"
   ]
  },
  {
   "cell_type": "code",
   "execution_count": 38,
   "metadata": {},
   "outputs": [
    {
     "data": {
      "text/plain": [
       "3.5"
      ]
     },
     "execution_count": 38,
     "metadata": {},
     "output_type": "execute_result"
    }
   ],
   "source": [
    "1.4*2.5"
   ]
  },
  {
   "cell_type": "code",
   "execution_count": null,
   "metadata": {},
   "outputs": [],
   "source": []
  }
 ],
 "metadata": {
  "kernelspec": {
   "display_name": "Python 3",
   "language": "python",
   "name": "python3"
  },
  "language_info": {
   "codemirror_mode": {
    "name": "ipython",
    "version": 3
   },
   "file_extension": ".py",
   "mimetype": "text/x-python",
   "name": "python",
   "nbconvert_exporter": "python",
   "pygments_lexer": "ipython3",
   "version": "3.6.4"
  }
 },
 "nbformat": 4,
 "nbformat_minor": 2
}
