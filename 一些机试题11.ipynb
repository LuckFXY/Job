{
 "cells": [
  {
   "cell_type": "code",
   "execution_count": 23,
   "metadata": {},
   "outputs": [
    {
     "data": {
      "text/plain": [
       "False"
      ]
     },
     "execution_count": 23,
     "metadata": {},
     "output_type": "execute_result"
    }
   ],
   "source": [
    "def containsNearbyDuplicate(nums, k):\n",
    "        \"\"\"\n",
    "        :type nums: List[int]\n",
    "        :type k: int\n",
    "        :rtype: bool\n",
    "        \"\"\"\n",
    "        d = dict()\n",
    "        for i, val in enumerate(nums):\n",
    "\n",
    "            if val not in d:\n",
    "                d[val] = i\n",
    "            else:\n",
    "                if i - d[val] <= k:\n",
    "                    return True\n",
    "                d[val] = i\n",
    "        return False\n",
    "    \n",
    "nums = [1,2,4,1,3,2]; k = 2\n",
    "containsNearbyDuplicate(nums, k)"
   ]
  },
  {
   "cell_type": "code",
   "execution_count": 132,
   "metadata": {
    "scrolled": false
   },
   "outputs": [
    {
     "name": "stdout",
     "output_type": "stream",
     "text": [
      "1 (1, 1)\n",
      "81 (45, 5)\n",
      "161 (85, 5)\n",
      "241 (117, 1)\n",
      "321 (143, 3)\n",
      "401 (170, 7)\n",
      "481 (197, 1)\n",
      "561 (223, 3)\n",
      "641 (250, 5)\n",
      "721 (277, 2)\n",
      "801 (303, 3)\n",
      "881 (330, 3)\n",
      "961 (357, 3)\n"
     ]
    }
   ],
   "source": [
    "def findNthDigit(n):\n",
    "    \"\"\"\n",
    "    :type n: int\n",
    "    :rtype: int\n",
    "    \"\"\"\n",
    "    if n == 0:\n",
    "        return 0\n",
    "    ndigit = 0\n",
    "    s = 0\n",
    "    s2 = 0\n",
    "    while s < n:\n",
    "        s += 9 * pow(10, ndigit) * (ndigit+1)\n",
    "        s2 += 9 * pow(10, ndigit)\n",
    "        ndigit += 1\n",
    "\n",
    "   # print(\"ndigit = \",ndigit)\n",
    "    s2 -= 9 * pow(10, ndigit-1)\n",
    "    last = n - (s - 9 * pow(10, ndigit-1) * ndigit) \n",
    "    #print('last=%d'%last)\n",
    "    num = s2 + (last+ndigit-1)//ndigit\n",
    "    \n",
    "    return num, int(str(num)[(last-1)%ndigit])\n",
    "\n",
    "for i in range(1,1001,80):\n",
    "    print(i, findNthDigit(i))\n",
    "#findNthDigit(190)"
   ]
  },
  {
   "cell_type": "code",
   "execution_count": 133,
   "metadata": {},
   "outputs": [
    {
     "name": "stdout",
     "output_type": "stream",
     "text": [
      "1\n",
      "1 1\n",
      "123456789\n",
      "9 9\n",
      "12345678910\n",
      "10 1\n",
      "12345678910\n",
      "11 0\n",
      "123456789101112131415\n",
      "20 1\n",
      "123456789101112131415161718192021222324252627282930313233343536373839404142434445464748495051525354\n",
      "99 4\n",
      "12345678910111213141516171819202122232425262728293031323334353637383940414243444546474849505152535455\n",
      "100 5\n",
      "12345678910111213141516171819202122232425262728293031323334353637383940414243444546474849505152535455\n",
      "101 5\n"
     ]
    }
   ],
   "source": [
    "def findNthDigit2(n):\n",
    "    s = ''\n",
    "    num = 1\n",
    "    while len(s) < n:\n",
    "        s += str(num)\n",
    "        num += 1\n",
    "    print(s)\n",
    "    return s[n-1]\n",
    "\n",
    "for i in [1,9,10,11,20,99,100,101]:\n",
    "    print(i, findNthDigit2(i))"
   ]
  },
  {
   "cell_type": "code",
   "execution_count": 149,
   "metadata": {},
   "outputs": [
    {
     "name": "stdout",
     "output_type": "stream",
     "text": [
      "[1, 0, 1, 0, 0]\n",
      "[1, 0, 1, 0, 1]\n"
     ]
    },
    {
     "data": {
      "text/plain": [
       "True"
      ]
     },
     "execution_count": 149,
     "metadata": {},
     "output_type": "execute_result"
    }
   ],
   "source": [
    "def canPlaceFlowers(flowerbed, n):\n",
    "    isAdjacent = False\n",
    "    for i,val in enumerate(flowerbed):\n",
    "        if val == 0:\n",
    "            if not isAdjacent and(i+1 == len(flowerbed) or flowerbed[i+1] == 0):\n",
    "                n -= 1\n",
    "                flowerbed[i] = 1\n",
    "                print(flowerbed)\n",
    "                isAdjacent = True\n",
    "            else:\n",
    "                isAdjacent = False\n",
    "        else:\n",
    "            isAdjacent = True\n",
    "\n",
    "    return n <= 0\n",
    "\n",
    "canPlaceFlowers(flowerbed = [0,0,1,0,0], n = 1)"
   ]
  },
  {
   "cell_type": "code",
   "execution_count": 229,
   "metadata": {},
   "outputs": [
    {
     "data": {
      "text/plain": [
       "'AA'"
      ]
     },
     "execution_count": 229,
     "metadata": {},
     "output_type": "execute_result"
    }
   ],
   "source": [
    "def convertToTitle(n):\n",
    "    \"\"\"\n",
    "    :type n: int\n",
    "    :rtype: str\n",
    "    \"\"\"\n",
    "    ret = []\n",
    "    while n:\n",
    "        ret.append((n-1) % 26)\n",
    "        n = (n-1) // 26\n",
    "    return ''.join(chr(65+i) for i in ret[::-1])\n",
    "    \n",
    "\n",
    "convertToTitle(27)"
   ]
  },
  {
   "cell_type": "code",
   "execution_count": 232,
   "metadata": {},
   "outputs": [
    {
     "data": {
      "text/plain": [
       "{' ', ',', '.', ':'}"
      ]
     },
     "execution_count": 232,
     "metadata": {},
     "output_type": "execute_result"
    }
   ],
   "source": [
    "    def isPalindrome(self, s):\n",
    "        \"\"\"\n",
    "        :type s: str\n",
    "        :rtype: bool\n",
    "        \"\"\"\n",
    "        i, j = 0, len(s)-1\n",
    "        s = s.lower()\n",
    "        symbol = set(list(',.: '))\n",
    "        while i < j:\n",
    "            while i < j and s[i] not in symbol:\n",
    "                i += 1\n",
    "            while i < j and s[j] not in symbol:\n",
    "                j -= 1\n",
    "            if s[i] != s[j]:\n",
    "                return False\n",
    "            i += 1\n",
    "            j -= 1\n",
    "        return True"
   ]
  },
  {
   "cell_type": "code",
   "execution_count": 283,
   "metadata": {},
   "outputs": [
    {
     "name": "stdout",
     "output_type": "stream",
     "text": [
      "[6, 6, 6, 6, 6, 6, 7, 1, 1, 2, 3, 4, 5, 6]\n",
      "7 6 6\n",
      "2 7 6\n",
      "1 7 2\n",
      "min= 1\n"
     ]
    }
   ],
   "source": [
    "'''\n",
    "返回循环有序数组中最小值， 4,5,6,1,2,3 => 1\n",
    "'''\n",
    "def getMin(nums):\n",
    "    if not nums: return None\n",
    "    i,j = 0, len(nums)-1\n",
    "    mid = i\n",
    "    while nums[i] >= nums[j]:\n",
    "        if j-i == 1:\n",
    "            mid = j\n",
    "            break\n",
    "        mid = (i+j)//2\n",
    "        print(nums[mid], nums[i], nums[j])\n",
    "        if nums[mid] == nums[i] == nums[j]:\n",
    "            return min(nums)\n",
    "        if nums[mid] > nums[i]:\n",
    "            i = mid\n",
    "        else:\n",
    "            j = mid\n",
    "\n",
    "    return nums[mid]\n",
    "\n",
    "nums = [6,6,6,6,6,6,7,1,1,2,3,4,5,6]\n",
    "door = 4\n",
    "#nums = nums[door:] + nums[:door]\n",
    "print(nums)\n",
    "print(\"min=\", getMin(nums))"
   ]
  },
  {
   "cell_type": "code",
   "execution_count": 13,
   "metadata": {},
   "outputs": [
    {
     "name": "stdout",
     "output_type": "stream",
     "text": [
      "{4: [2, 2], 6: [2, 3], 8: [2, 4], 9: [3, 3], 12: [2, 6]}\n",
      "out\n",
      "[2, 2, 3]\n"
     ]
    },
    {
     "data": {
      "text/plain": [
       "12"
      ]
     },
     "execution_count": 13,
     "metadata": {},
     "output_type": "execute_result"
    }
   ],
   "source": [
    "def maxProductAfterCutting(length):\n",
    "    if length < 2: return 0\n",
    "    if length <= 3: return length-1\n",
    "    product = [0] * (length+1)\n",
    "    \n",
    "    product[:4]=[0,1,2,3]\n",
    "    record = dict()\n",
    "    for i in range(4,length+1):\n",
    "        max_len = 0\n",
    "        for j in range(2, i//2 + 1):\n",
    "            p = product[j] * product[i-j]\n",
    "\n",
    "            if p > max_len:\n",
    "                max_len = p\n",
    "                record[p] = [product[j] ,product[i-j]]\n",
    "        product[i] = max_len\n",
    "\n",
    "    out = []\n",
    "    stack = [product[-1]]\n",
    "    print(record)\n",
    "    while stack:\n",
    "        p = stack.pop()\n",
    "        if p in record:\n",
    "            for val in record[p]:\n",
    "                if val <= length:\n",
    "                    length -= val\n",
    "\n",
    "                    out.append(val)\n",
    "                else:\n",
    "                    stack.append(val)\n",
    "\n",
    "    print(\"out\")\n",
    "    print(out)\n",
    "    return product[-1]\n",
    "\n",
    "maxProductAfterCutting(7)"
   ]
  },
  {
   "cell_type": "code",
   "execution_count": 33,
   "metadata": {},
   "outputs": [
    {
     "name": "stdout",
     "output_type": "stream",
     "text": [
      "12\n",
      "8\n",
      "0\n"
     ]
    },
    {
     "data": {
      "text/plain": [
       "3"
      ]
     },
     "execution_count": 33,
     "metadata": {},
     "output_type": "execute_result"
    }
   ],
   "source": [
    "def numberOf_1(n):\n",
    "    cnt = 0\n",
    "\n",
    "    while n:\n",
    "        cnt += 1\n",
    "        n = n & (n-1) & 0xffffffff\n",
    "\n",
    "        print(n)\n",
    "    \n",
    "    return cnt\n",
    "\n",
    "numberOf_1(14)"
   ]
  },
  {
   "cell_type": "code",
   "execution_count": 28,
   "metadata": {},
   "outputs": [
    {
     "data": {
      "text/plain": [
       "-2"
      ]
     },
     "execution_count": 28,
     "metadata": {},
     "output_type": "execute_result"
    }
   ],
   "source": [
    "def Power(base, exponent):\n",
    "    if base == 0 and exponent < 0:\n",
    "        print(\"base==0 and exponent < 0\")\n",
    "        return 0\n",
    "    "
   ]
  },
  {
   "cell_type": "code",
   "execution_count": 8,
   "metadata": {
    "scrolled": false
   },
   "outputs": [
    {
     "name": "stdout",
     "output_type": "stream",
     "text": [
      " 1 2 3 4 5 6 7 8 9 10 11 12 13 14 15 16 17 18 19 20 21 22 23 24 25 26 27 28 29 30 31 32 33 34 35 36 37 38 39 40 41 42 43 44 45 46 47 48 49 50 51 52 53 54 55 56 57 58 59 60 61 62 63 64 65 66 67 68 69 70 71 72 73 74 75 76 77 78 79 80 81 82 83 84 85 86 87 88 89 90 91 92 93 94 95 96 97 98 99 "
     ]
    }
   ],
   "source": [
    "def printNum(num):\n",
    "    i, N = 0, len(num)\n",
    "    while i < N and num[i] == 0:\n",
    "        i += 1\n",
    "    print(''.join([str(j) for j in num[i:]]), end=' ')\n",
    "def printOneToN_core(number, length, index):\n",
    "    if index == length-1:\n",
    "        printNum(number)\n",
    "        return\n",
    "    for i in range(10):\n",
    "        number[index+1]=i\n",
    "        printOneToN_core(number, length, index+1)\n",
    "def printOneToN(n):\n",
    "    if n <= 0 : return\n",
    "    number = [0] * n\n",
    "    for i in range(10):\n",
    "        number[0]=i\n",
    "        printOneToN_core(number, n, 0)\n",
    "        \n",
    "printOneToN(2)"
   ]
  },
  {
   "cell_type": "code",
   "execution_count": 8,
   "metadata": {},
   "outputs": [],
   "source": []
  },
  {
   "cell_type": "code",
   "execution_count": null,
   "metadata": {},
   "outputs": [],
   "source": []
  }
 ],
 "metadata": {
  "kernelspec": {
   "display_name": "Python 3",
   "language": "python",
   "name": "python3"
  },
  "language_info": {
   "codemirror_mode": {
    "name": "ipython",
    "version": 3
   },
   "file_extension": ".py",
   "mimetype": "text/x-python",
   "name": "python",
   "nbconvert_exporter": "python",
   "pygments_lexer": "ipython3",
   "version": "3.6.4"
  }
 },
 "nbformat": 4,
 "nbformat_minor": 2
}
