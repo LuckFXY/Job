{
 "cells": [
  {
   "cell_type": "code",
   "execution_count": 3,
   "metadata": {},
   "outputs": [
    {
     "data": {
      "text/plain": [
       "[[3, 0.004629629629629629],\n",
       " [4, 0.013888888888888888],\n",
       " [5, 0.027777777777777776],\n",
       " [6, 0.046296296296296294],\n",
       " [7, 0.06944444444444445],\n",
       " [8, 0.09722222222222222],\n",
       " [9, 0.11574074074074074],\n",
       " [10, 0.125],\n",
       " [11, 0.125],\n",
       " [12, 0.11574074074074074],\n",
       " [13, 0.09722222222222222],\n",
       " [14, 0.06944444444444445],\n",
       " [15, 0.046296296296296294],\n",
       " [16, 0.027777777777777776],\n",
       " [17, 0.013888888888888888],\n",
       " [18, 0.004629629629629629]]"
      ]
     },
     "execution_count": 3,
     "metadata": {},
     "output_type": "execute_result"
    }
   ],
   "source": [
    "def dicesSum(n):\n",
    "    length = n* 6 + 1\n",
    "    arr = [[0,0] for _ in range(length)]\n",
    "    now = 1; last = 0\n",
    "    for i in range(1,7):\n",
    "        arr[i][now] = 1\n",
    "    for i in range(2, n+1):\n",
    "        now ^= 1\n",
    "        last ^= 1\n",
    "        arr[i][now] = 1\n",
    "        for j in range(i+1, i+6):\n",
    "            arr[j][now] = arr[j-1][now] + arr[j-1][last]\n",
    "        for j in range(i+6, i * 6 + 1):\n",
    "            arr[j][now] = arr[j-1][now] + arr[j-1][last] - arr[j-1-6][last]\n",
    "    ret = [r[now] for r in arr[n:]]\n",
    "    total = 6 ** n\n",
    "    ret = [[i+n, r/total] for i,r in enumerate(ret)]\n",
    "    return ret\n",
    "dicesSum(3)"
   ]
  },
  {
   "cell_type": "code",
   "execution_count": null,
   "metadata": {},
   "outputs": [],
   "source": [
    "'''\n",
    "Input: Binary tree: [1,2,3,4]\n",
    "       1\n",
    "     /   \\\n",
    "    2     3\n",
    "   /    \n",
    "  4     \n",
    "\n",
    "Output: \"1(2(4))(3)\"\n",
    "\n",
    "Explanation: Originallay it needs to be \"1(2(4)())(3()())\", \n",
    "but you need to omit all the unnecessary empty parenthesis pairs. \n",
    "And it will be \"1(2(4))(3)\".\n",
    "'''\n",
    "class Solution:\n",
    "    def printTree(self, root):\n",
    "        ret=str(root.val)+'('\n",
    "        #print(ret)\n",
    "        if root.left:\n",
    "            ret += self.printTree(root.left)\n",
    "            \n",
    "        ret += ')'\n",
    "        if root.right:\n",
    "            ret += '(' + self.printTree(root.right) + ')'\n",
    "        \n",
    "        if not root.left and not root.right:\n",
    "            ret = ret[:-2]\n",
    "        return ret\n",
    "    def tree2str(self, t):\n",
    "        \"\"\"\n",
    "        :type t: TreeNode\n",
    "        :rtype: str\n",
    "        \"\"\"\n",
    "        if not t:\n",
    "            return \"\"\n",
    "        ret = self.printTree(t)\n",
    "        return ret"
   ]
  },
  {
   "cell_type": "code",
   "execution_count": 6,
   "metadata": {},
   "outputs": [
    {
     "data": {
      "text/plain": [
       "['10', '0', '10', '10', '10', '10', '10', '01', '10', '10', '10', '10']"
      ]
     },
     "execution_count": 6,
     "metadata": {},
     "output_type": "execute_result"
    }
   ],
   "source": [
    "'10010101010100110101010'.replace('10',' 10 ').replace('01',' 01 ').split()"
   ]
  },
  {
   "cell_type": "code",
   "execution_count": 17,
   "metadata": {},
   "outputs": [
    {
     "data": {
      "text/plain": [
       "True"
      ]
     },
     "execution_count": 17,
     "metadata": {},
     "output_type": "execute_result"
    }
   ],
   "source": [
    "def isOneBitCharacter(bits):\n",
    "    length = len(bits) - 1\n",
    "    i = 0\n",
    "    while i != length:\n",
    "        b = bits[i]\n",
    "        if b == 1:\n",
    "            i += 2\n",
    "            if i == length + 1:\n",
    "                return False\n",
    "        else:\n",
    "            i += 1\n",
    "    return True\n",
    "bits =[1,0,0,1,0,0]\n",
    "isOneBitCharacter(bits)            "
   ]
  },
  {
   "cell_type": "code",
   "execution_count": 138,
   "metadata": {},
   "outputs": [
    {
     "name": "stdout",
     "output_type": "stream",
     "text": [
      "0 0\n",
      "0 0\n",
      "[]\n"
     ]
    }
   ],
   "source": [
    "class myHash():\n",
    "    def __init__(self):\n",
    "        self.capacity = 100\n",
    "        self.size = 0\n",
    "        self.table = [None] * self.capacity\n",
    "        self.base = 3\n",
    "    def gethash(self, k, i):\n",
    "        '''\n",
    "        h1(k) = k mod 13\n",
    "        h2(k) = 1+ (k mod 11)。\n",
    "        h(k, i) = (h1(k) + i * h2(k)) mod m\n",
    "        '''\n",
    "        ret = int((0.6180339*k)%1 * 1000 + i)\n",
    "        return ret%self.capacity\n",
    "    \n",
    "    def insert(self, data):\n",
    "        self.size += 1\n",
    "        if self.size == self.capacity:\n",
    "            self.capacity <<= 1\n",
    "            tmp = self.table\n",
    "            self.table = [None] * self.capacity\n",
    "            for i in tmp:\n",
    "                if i : self.insert(i)\n",
    "            del tmp\n",
    "        i = 1; key = self.gethash(data, 0)\n",
    "        while self.table[key] != None and self.table[key] != data:\n",
    "            key = self.gethash(data, i)\n",
    "            print(key,end=' ')\n",
    "            i += 1\n",
    "        self.table[key] = data\n",
    "    \n",
    "    def search(self, data):\n",
    "        i = 1; key = self.gethash(data, 0)\n",
    "        \n",
    "        while self.table[key] != None and self.table[key] != data:\n",
    "\n",
    "            key = self.gethash(data, i)\n",
    "            i += 1\n",
    "        print(key, self.table[key])\n",
    "        return self.table[key] \n",
    "mhash = myHash()\n",
    "\n",
    "L = np.random.randint(low= 0, high=1000, size=100)\n",
    "\n",
    "for i in [8,0,3]:\n",
    "    mhash.insert(i)\n",
    "L2 = np.concatenate([L,  np.random.randint(low= 0, high=1000, size=100)])\n",
    "res = []\n",
    "for i in [0,0]:\n",
    "    r = mhash.search(i)\n",
    "    if r:\n",
    "        res.append(r)\n",
    "\n",
    "print(res)\n",
    "\n"
   ]
  },
  {
   "cell_type": "code",
   "execution_count": 51,
   "metadata": {},
   "outputs": [],
   "source": [
    "import numpy as np"
   ]
  },
  {
   "cell_type": "code",
   "execution_count": 166,
   "metadata": {},
   "outputs": [
    {
     "name": "stdout",
     "output_type": "stream",
     "text": [
      "[997, 1004, 1003, 998, 995, 1003, 1005, 995, 999, 1002, 1002, 999, 995, 1004, 1004, 994, 999, 1003, 1002, 999, 995, 1005, 1003, 995, 998, 1003, 1004, 996, 996, 1004, 1003, 998, 995, 1003, 1005, 995, 998, 1003, 1003, 999, 994, 1003, 1005, 995, 999, 1002, 1002, 999, 995, 1005, 1003, 995, 998, 1003, 1003, 998, 996, 1004, 1003, 995, 998, 1003, 1004, 996, 996, 1004, 1003, 998, 995, 1003, 1005, 995, 999, 1003, 1002, 999, 994, 1004, 1005, 994, 999, 1002, 1002, 999, 995, 1005, 1003, 995, 998, 1003, 1003, 997, 996, 1004, 1003, 997, 996, 1003, 1004, 996]\n"
     ]
    }
   ],
   "source": [
    "capacity = 100\n",
    "\n",
    "arr = test[::1]\n",
    "def gethash(k,i=0):\n",
    "    h = 1 << i\n",
    "    key = int((0.6180339* k )%1 * 1000 + h) %capacity\n",
    "    return key\n",
    "\n",
    "for i in range(100000):\n",
    "    k = gethash(i)\n",
    "    arr[k] += 1\n",
    "print(arr)\n",
    "    \n",
    "    \n"
   ]
  },
  {
   "cell_type": "code",
   "execution_count": 8,
   "metadata": {},
   "outputs": [
    {
     "name": "stdout",
     "output_type": "stream",
     "text": [
      "2.625\n",
      "2.2648809523809526\n",
      "2.2362512514861397\n",
      "2.2360679850099823\n",
      "2.23606797749979\n",
      "2.23606797749979\n",
      "2.23606797749979\n",
      "2.23606797749979\n",
      "2.23606797749979\n",
      "2.23606797749979\n"
     ]
    }
   ],
   "source": [
    "a = 5\n",
    "x = 4\n",
    "\n",
    "for i in range(10):\n",
    "    x = (x+a/x)/2\n",
    "    print(x)\n",
    "    "
   ]
  },
  {
   "cell_type": "code",
   "execution_count": 1,
   "metadata": {},
   "outputs": [
    {
     "name": "stdout",
     "output_type": "stream",
     "text": [
      "[[1, 0, 0], [0, 0, 0], [0, 0, 0]]\n"
     ]
    }
   ],
   "source": [
    "a = 5\n",
    "x = 0x5f3759df\n",
    "for i in range(10):\n",
    "    x = (x+a/x)/2\n",
    "    print(x)"
   ]
  },
  {
   "cell_type": "code",
   "execution_count": 13,
   "metadata": {},
   "outputs": [
    {
     "data": {
      "text/plain": [
       "'0b1011111001101110101100111011111'"
      ]
     },
     "execution_count": 13,
     "metadata": {},
     "output_type": "execute_result"
    }
   ],
   "source": [
    "bin(0x5f3759df)"
   ]
  },
  {
   "cell_type": "code",
   "execution_count": 4,
   "metadata": {},
   "outputs": [
    {
     "ename": "SyntaxError",
     "evalue": "invalid syntax (<ipython-input-4-189c128e25e1>, line 7)",
     "output_type": "error",
     "traceback": [
      "\u001b[1;36m  File \u001b[1;32m\"<ipython-input-4-189c128e25e1>\"\u001b[1;36m, line \u001b[1;32m7\u001b[0m\n\u001b[1;33m    if self.image[cand[0]][cand[1]] == self.color and not in self.dedupliate:\u001b[0m\n\u001b[1;37m                                                           ^\u001b[0m\n\u001b[1;31mSyntaxError\u001b[0m\u001b[1;31m:\u001b[0m invalid syntax\n"
     ]
    }
   ],
   "source": [
    "class Solution:\n",
    "    def getNext(self, i, j):\n",
    "        candidates = [(i-1, j), (i+1, j), (i, j-1), (i, j+1)]\n",
    "        ret = []\n",
    "        for cand in candidates:\n",
    "            i,j = cand\n",
    "            if 0 <= i and i < self.N and 0 <= cand[1] and cand[1] < self.M:\n",
    "                if self.image[cand[0]][cand[1]] == self.color and ()not in self.dedupliate:\n",
    "                    ret.append(cand)\n",
    "        return ret\n",
    "    def mprint(self, image):\n",
    "        for row in image:\n",
    "            for col in row:\n",
    "                print(col, end=' ')\n",
    "            print('')\n",
    "            \n",
    "    def floodFill(self, image, sr, sc, newColor):\n",
    "        \"\"\"\n",
    "        :type image: List[List[int]]\n",
    "        :type sr: int\n",
    "        :type sc: int\n",
    "        :type newColor: int\n",
    "        :rtype: List[List[int]]\n",
    "        \"\"\"\n",
    "        if not image : return None\n",
    "        self.N = len(image)\n",
    "        self.M = len(image[0])\n",
    "        self.image = image\n",
    "        if sr < 0 or sr >= self.N or sc < 0 or sc >= self.N:\n",
    "            return image\n",
    "        self.color = image[sr][sc]\n",
    "        cd_stack = [(sr, sc)]\n",
    "        self.dedupliate = set()\n",
    "        while(len(cd_stack) != 0):\n",
    "            cur = cd_stack.pop()\n",
    "            i,j = cur[0], cur[1]\n",
    "            image[i][j] = newColor\n",
    "            self.dedupliate.add(i*self.M + j)\n",
    "            cd_stack += self.getNext(i,j)\n",
    "            print(\"cd_stack\",cd_stack)\n",
    "            self.mprint(image)\n",
    "        return image\n",
    "s = Solution()\n",
    "image = [[1,1,1],[1,1,0],[1,0,1]]\n",
    "s.floodFill(image, 1, 1, 1)"
   ]
  },
  {
   "cell_type": "code",
   "execution_count": null,
   "metadata": {},
   "outputs": [],
   "source": []
  }
 ],
 "metadata": {
  "kernelspec": {
   "display_name": "Python 3",
   "language": "python",
   "name": "python3"
  },
  "language_info": {
   "codemirror_mode": {
    "name": "ipython",
    "version": 3
   },
   "file_extension": ".py",
   "mimetype": "text/x-python",
   "name": "python",
   "nbconvert_exporter": "python",
   "pygments_lexer": "ipython3",
   "version": "3.6.4"
  }
 },
 "nbformat": 4,
 "nbformat_minor": 2
}
