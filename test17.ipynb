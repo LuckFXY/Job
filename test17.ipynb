{
 "cells": [
  {
   "cell_type": "code",
   "execution_count": 2,
   "metadata": {},
   "outputs": [],
   "source": [
    "from copy import deepcopy"
   ]
  },
  {
   "cell_type": "code",
   "execution_count": 14,
   "metadata": {},
   "outputs": [],
   "source": [
    "def InversePairsCore(data, copy, start, end):\n",
    "    if start == end:\n",
    "        #copy[start] = data[start]\n",
    "        return 0\n",
    "    length = (end - start) // 2\n",
    "    left = InversePairsCore(copy, data, start, start + length)\n",
    "    right = InversePairsCore(copy, data, start + length + 1, end)\n",
    "    i, j = start+length, end\n",
    "    indexCopy = end\n",
    "    count = 0\n",
    "    print(\"----------------------------------\")\n",
    "    while i >= start and j >= start+length+1:\n",
    "        if data[i] > data[j]:\n",
    "            copy[indexCopy] = data[i]\n",
    "            count += j - (start+length)\n",
    "            i -= 1\n",
    "        else:\n",
    "            copy[indexCopy] = data[j]\n",
    "            j -= 1\n",
    "        print(copy[start:end+1])\n",
    "        indexCopy -= 1\n",
    "    while i >= start:\n",
    "        copy[indexCopy] = data[i]\n",
    "        i -= 1\n",
    "        indexCopy -= 1\n",
    "        print(print(copy[start:end+1]))\n",
    "    while j >= start+length+1:\n",
    "        copy[indexCopy] = data[j]\n",
    "        j -= 1\n",
    "        indexCopy -= 1\n",
    "        print(copy[start:end+1])\n",
    "    return left + right + count"
   ]
  },
  {
   "cell_type": "code",
   "execution_count": 17,
   "metadata": {},
   "outputs": [],
   "source": [
    "def InversePairs(data):\n",
    "    if not data or len(data) == 0:\n",
    "        return\n",
    "    length = len(data)\n",
    "    copy = [None] * length #deepcopy(data)\n",
    "    count = InversePairsCore(data, copy, 0, length-1)\n",
    "    del copy\n",
    "    return count"
   ]
  },
  {
   "cell_type": "code",
   "execution_count": 18,
   "metadata": {},
   "outputs": [
    {
     "name": "stdout",
     "output_type": "stream",
     "text": [
      "----------------------------------\n",
      "[None, 9]\n",
      "[3, 9]\n",
      "None\n",
      "----------------------------------\n",
      "[None, 7]\n",
      "[1, 7]\n",
      "None\n",
      "----------------------------------\n",
      "[3, 9, 1, 9]\n",
      "[3, 9, 7, 9]\n",
      "[3, 3, 7, 9]\n",
      "[1, 3, 7, 9]\n",
      "----------------------------------\n",
      "[None, 5]\n",
      "[2, 5]\n",
      "----------------------------------\n",
      "[None, 6]\n",
      "[4, 6]\n",
      "----------------------------------\n",
      "[5, 2, 6, 6]\n",
      "[5, 2, 5, 6]\n",
      "[5, 4, 5, 6]\n",
      "[2, 4, 5, 6]\n",
      "None\n",
      "----------------------------------\n",
      "[3, 9, 1, 7, 2, 5, 4, 9]\n",
      "[3, 9, 1, 7, 2, 5, 7, 9]\n",
      "[3, 9, 1, 7, 2, 6, 7, 9]\n",
      "[3, 9, 1, 7, 5, 6, 7, 9]\n",
      "[3, 9, 1, 4, 5, 6, 7, 9]\n",
      "[3, 9, 3, 4, 5, 6, 7, 9]\n",
      "[3, 2, 3, 4, 5, 6, 7, 9]\n",
      "[1, 2, 3, 4, 5, 6, 7, 9]\n",
      "None\n"
     ]
    },
    {
     "data": {
      "text/plain": [
       "15"
      ]
     },
     "execution_count": 18,
     "metadata": {},
     "output_type": "execute_result"
    }
   ],
   "source": [
    "arr = [3,9,1,7,5,2,6,4]\n",
    "InversePairs(arr)"
   ]
  },
  {
   "cell_type": "code",
   "execution_count": 19,
   "metadata": {},
   "outputs": [],
   "source": [
    "from itertools import cycle"
   ]
  },
  {
   "cell_type": "code",
   "execution_count": 22,
   "metadata": {},
   "outputs": [
    {
     "name": "stdout",
     "output_type": "stream",
     "text": [
      "11 range(0, 3)\n",
      "12 range(3, 6)\n",
      "11 range(0, 3)\n",
      "12 range(3, 6)\n",
      "11 range(0, 3)\n",
      "12 range(3, 6)\n",
      "11 range(0, 3)\n",
      "12 range(3, 6)\n",
      "11 range(0, 3)\n",
      "12 range(3, 6)\n",
      "11 range(0, 3)\n",
      "12 range(3, 6)\n",
      "11 range(0, 3)\n",
      "12 range(3, 6)\n",
      "11 range(0, 3)\n",
      "12 range(3, 6)\n",
      "11 range(0, 3)\n",
      "12 range(3, 6)\n",
      "11 range(0, 3)\n",
      "12 range(3, 6)\n",
      "11 range(0, 3)\n",
      "12 range(3, 6)\n",
      "11 range(0, 3)\n",
      "12 range(3, 6)\n",
      "11 range(0, 3)\n",
      "12 range(3, 6)\n",
      "11 range(0, 3)\n",
      "12 range(3, 6)\n",
      "11 range(0, 3)\n",
      "12 range(3, 6)\n",
      "11 range(0, 3)\n",
      "12 range(3, 6)\n",
      "11 range(0, 3)\n",
      "12 range(3, 6)\n",
      "11 range(0, 3)\n",
      "12 range(3, 6)\n",
      "11 range(0, 3)\n",
      "12 range(3, 6)\n",
      "11 range(0, 3)\n",
      "12 range(3, 6)\n",
      "11 range(0, 3)\n",
      "12 range(3, 6)\n",
      "11 range(0, 3)\n",
      "12 range(3, 6)\n",
      "11 range(0, 3)\n",
      "12 range(3, 6)\n",
      "11 range(0, 3)\n",
      "12 range(3, 6)\n",
      "11 range(0, 3)\n",
      "12 range(3, 6)\n"
     ]
    }
   ],
   "source": [
    "a= range(0,3)\n",
    "b = range(3,6)\n",
    "c=11\n",
    "d=12\n",
    "dirs = (c, a), (d, b)\n",
    "count = 0\n",
    "for i,k in cycle(dirs):\n",
    "    print(i,k)\n",
    "    count += 1\n",
    "    if count == 50:\n",
    "        break"
   ]
  },
  {
   "cell_type": "code",
   "execution_count": null,
   "metadata": {},
   "outputs": [],
   "source": []
  }
 ],
 "metadata": {
  "kernelspec": {
   "display_name": "Python 3",
   "language": "python",
   "name": "python3"
  },
  "language_info": {
   "codemirror_mode": {
    "name": "ipython",
    "version": 3
   },
   "file_extension": ".py",
   "mimetype": "text/x-python",
   "name": "python",
   "nbconvert_exporter": "python",
   "pygments_lexer": "ipython3",
   "version": "3.6.4"
  }
 },
 "nbformat": 4,
 "nbformat_minor": 2
}
