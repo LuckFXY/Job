{
 "cells": [
  {
   "cell_type": "code",
   "execution_count": 2,
   "metadata": {},
   "outputs": [],
   "source": [
    "a = {}\n",
    "b = set()\n",
    "a = {}"
   ]
  },
  {
   "cell_type": "code",
   "execution_count": 13,
   "metadata": {},
   "outputs": [
    {
     "name": "stdout",
     "output_type": "stream",
     "text": [
      "5\n"
     ]
    }
   ],
   "source": [
    "# n = 6 \n",
    "# tree ={1: 2, 2: 3, 3: 1, 4: 1, 5: 4, 6: 2}\n",
    "# weight = {1: -1, 2: 3, 3: -2, 4: -1, 5: 4, 6: 1}\n",
    "\n",
    "n = int(input())\n",
    "weight= {}\n",
    "tree = {}\n",
    "for i in range(1,n+1):\n",
    "    score, dst = list(map(int, input().split(' ')))\n",
    "    weight[i] = score\n",
    "    tree[i] = dst\n",
    "\n",
    "\n",
    "max_score = 0\n",
    "for start in list(tree.keys()):\n",
    "    score = -float(\"inf\")\n",
    "    visited = set()\n",
    "    s = 0\n",
    "    cur = start\n",
    "\n",
    "    while(cur):\n",
    "\n",
    "        if(s <= 0):\n",
    "            s = weight[cur]\n",
    "        else:\n",
    "            s += weight[cur]\n",
    "        score = max(score, s)\n",
    "        visited.add(cur)\n",
    "        if cur in tree and tree[cur] not in visited :\n",
    "            cur = tree[cur]\n",
    "        else:\n",
    "            break\n",
    "    max_score = max(max_score, score)\n",
    "    \n",
    "print(max_score)"
   ]
  },
  {
   "cell_type": "code",
   "execution_count": 12,
   "metadata": {},
   "outputs": [],
   "source": [
    "graph = {\n",
    "    1:{2}, 3:{4}, 2:{5,6}, 6:{7}, 4:{5}\n",
    "}"
   ]
  },
  {
   "cell_type": "code",
   "execution_count": 13,
   "metadata": {},
   "outputs": [
    {
     "data": {
      "text/plain": [
       "{1: {2}, 2: {5, 6}, 3: {4}, 4: {5}, 6: {7}}"
      ]
     },
     "execution_count": 13,
     "metadata": {},
     "output_type": "execute_result"
    }
   ],
   "source": [
    "graph"
   ]
  },
  {
   "cell_type": "code",
   "execution_count": 22,
   "metadata": {},
   "outputs": [
    {
     "name": "stdout",
     "output_type": "stream",
     "text": [
      "{1: 0, 2: 1, 5: 4, 6: 2, 7: 3, 3: 0, 4: 1}\n"
     ]
    }
   ],
   "source": [
    "graph = {}\n",
    "n = int(input())\n",
    "m = int(input())\n",
    "for i in range(m):\n",
    "    a,b = (list(map))\n",
    "\n",
    "count = {}\n",
    "close = set()\n",
    "def walk(start, depth):\n",
    "    if start in close:\n",
    "        return\n",
    "    if start not in count:\n",
    "        count[start] = 0\n",
    "    if(depth != 0):\n",
    "        count[start] += 1\n",
    "    close.add(start)\n",
    "    if start in graph:\n",
    "        for child in graph[start]:\n",
    "            if child not in close:\n",
    "                walk(child, depth+1)\n",
    "    \n",
    "                \n",
    "for start in list(graph.keys()):\n",
    "    close.clear()\n",
    "    walk(start, 0)\n",
    "    \n",
    "print(count)"
   ]
  },
  {
   "cell_type": "code",
   "execution_count": 71,
   "metadata": {},
   "outputs": [
    {
     "name": "stdout",
     "output_type": "stream",
     "text": [
      "   1    2 \n",
      "   3    4 \n",
      "   5    6 \n",
      "   7    8 \n",
      "   9   10 \n",
      "  11   12 \n",
      "  13   14 \n",
      "  15   16 \n",
      "  17   18 \n",
      "  19   20 \n"
     ]
    }
   ],
   "source": [
    "def myprint(n, m):\n",
    "    matrix = [[0] * m for _ in range(n)]\n",
    "    start_x = 1\n",
    "    cnt = 1\n",
    "    for s in range(2, n+m+1):\n",
    "        if(s > m+1):\n",
    "            start_x += 1\n",
    "        for x in range(start_x, s):\n",
    "            if x > n:\n",
    "                break\n",
    "            y = s - x\n",
    "            matrix[x-1][y-1] = cnt\n",
    "            cnt += 1\n",
    "            \n",
    "    for i in range(n):\n",
    "        for j in range(m):\n",
    "            print(\"%4d\"%matrix[i][j],end= ' ')\n",
    "        print()\n",
    "        \n",
    "myprint(10,2)"
   ]
  },
  {
   "cell_type": "code",
   "execution_count": null,
   "metadata": {},
   "outputs": [
    {
     "name": "stdout",
     "output_type": "stream",
     "text": [
      "1\n",
      "3 4\n",
      "4 3\n",
      "3 2\n",
      "1 2\n"
     ]
    }
   ],
   "source": [
    "def search(graph, start, n):\n",
    "    color = [1] * n;\n",
    "    q = []\n",
    "    q.append(start)\n",
    "    v1 = q[0]\n",
    "    if v1 in graph:\n",
    "        for v2 in graph[v1]:\n",
    "            if(color[v2] == -1):\n",
    "                color[v2] = -color[v1]\n",
    "                q.append(v2)\n",
    "            elif(color[v1] == color[v2]):\n",
    "                return False\n",
    "    return True\n",
    "        \n",
    "while True:\n",
    "    tmp = input()\n",
    "    if tmp =='':\n",
    "        break\n",
    "    t = int(tmp)\n",
    "    for _ in range(t):\n",
    "        n, m = list(map(int, input().split(' ')))\n",
    "        graph = {}\n",
    "        for i in range(m):\n",
    "            a,b = list(map(int, input().split(' ')))\n",
    "            if a not in graph:\n",
    "                graph[a] = {}\n",
    "            graph[a][b] = -1\n",
    "        start = list(graph.keys())[0]\n",
    "        if(search(graph, start, v)):\n",
    "            print(\"Yes\")\n",
    "        else:\n",
    "            print(\"No\")"
   ]
  },
  {
   "cell_type": "code",
   "execution_count": 74,
   "metadata": {},
   "outputs": [
    {
     "name": "stdout",
     "output_type": "stream",
     "text": [
      "3 5\n"
     ]
    },
    {
     "data": {
      "text/plain": [
       "[3, 5]"
      ]
     },
     "execution_count": 74,
     "metadata": {},
     "output_type": "execute_result"
    }
   ],
   "source": [
    "list(map(int, input().split(' ')))"
   ]
  },
  {
   "cell_type": "code",
   "execution_count": null,
   "metadata": {},
   "outputs": [],
   "source": []
  }
 ],
 "metadata": {
  "kernelspec": {
   "display_name": "Python 3",
   "language": "python",
   "name": "python3"
  },
  "language_info": {
   "codemirror_mode": {
    "name": "ipython",
    "version": 3
   },
   "file_extension": ".py",
   "mimetype": "text/x-python",
   "name": "python",
   "nbconvert_exporter": "python",
   "pygments_lexer": "ipython3",
   "version": "3.6.4"
  }
 },
 "nbformat": 4,
 "nbformat_minor": 2
}
