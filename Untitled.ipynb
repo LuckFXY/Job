{
 "cells": [
  {
   "cell_type": "code",
   "execution_count": 2,
   "metadata": {},
   "outputs": [],
   "source": [
    "a = {}\n",
    "b = set()\n",
    "a = {}"
   ]
  },
  {
   "cell_type": "code",
   "execution_count": 13,
   "metadata": {},
   "outputs": [
    {
     "name": "stdout",
     "output_type": "stream",
     "text": [
      "5\n"
     ]
    }
   ],
   "source": [
    "# n = 6 \n",
    "# tree ={1: 2, 2: 3, 3: 1, 4: 1, 5: 4, 6: 2}\n",
    "# weight = {1: -1, 2: 3, 3: -2, 4: -1, 5: 4, 6: 1}\n",
    "\n",
    "n = int(input())\n",
    "weight= {}\n",
    "tree = {}\n",
    "for i in range(1,n+1):\n",
    "    score, dst = list(map(int, input().split(' ')))\n",
    "    weight[i] = score\n",
    "    tree[i] = dst\n",
    "\n",
    "\n",
    "max_score = 0\n",
    "for start in list(tree.keys()):\n",
    "    score = -float(\"inf\")\n",
    "    visited = set()\n",
    "    s = 0\n",
    "    cur = start\n",
    "\n",
    "    while(cur):\n",
    "\n",
    "        if(s <= 0):\n",
    "            s = weight[cur]\n",
    "        else:\n",
    "            s += weight[cur]\n",
    "        score = max(score, s)\n",
    "        visited.add(cur)\n",
    "        if cur in tree and tree[cur] not in visited :\n",
    "            cur = tree[cur]\n",
    "        else:\n",
    "            break\n",
    "    max_score = max(max_score, score)\n",
    "    \n",
    "print(max_score)"
   ]
  },
  {
   "cell_type": "code",
   "execution_count": 12,
   "metadata": {},
   "outputs": [],
   "source": [
    "graph = {\n",
    "    1:{2}, 3:{4}, 2:{5,6}, 6:{7}, 4:{5}\n",
    "}"
   ]
  },
  {
   "cell_type": "code",
   "execution_count": 13,
   "metadata": {},
   "outputs": [
    {
     "data": {
      "text/plain": [
       "{1: {2}, 2: {5, 6}, 3: {4}, 4: {5}, 6: {7}}"
      ]
     },
     "execution_count": 13,
     "metadata": {},
     "output_type": "execute_result"
    }
   ],
   "source": [
    "graph"
   ]
  },
  {
   "cell_type": "code",
   "execution_count": 22,
   "metadata": {},
   "outputs": [
    {
     "name": "stdout",
     "output_type": "stream",
     "text": [
      "{1: 0, 2: 1, 5: 4, 6: 2, 7: 3, 3: 0, 4: 1}\n"
     ]
    }
   ],
   "source": [
    "graph = {}\n",
    "n = int(input())\n",
    "m = int(input())\n",
    "for i in range(m):\n",
    "    a,b = (list(map))\n",
    "\n",
    "count = {}\n",
    "close = set()\n",
    "def walk(start, depth):\n",
    "    if start in close:\n",
    "        return\n",
    "    if start not in count:\n",
    "        count[start] = 0\n",
    "    if(depth != 0):\n",
    "        count[start] += 1\n",
    "    close.add(start)\n",
    "    if start in graph:\n",
    "        for child in graph[start]:\n",
    "            if child not in close:\n",
    "                walk(child, depth+1)\n",
    "    \n",
    "                \n",
    "for start in list(graph.keys()):\n",
    "    close.clear()\n",
    "    walk(start, 0)\n",
    "    \n",
    "print(count)"
   ]
  },
  {
   "cell_type": "code",
   "execution_count": 71,
   "metadata": {},
   "outputs": [
    {
     "name": "stdout",
     "output_type": "stream",
     "text": [
      "   1    2 \n",
      "   3    4 \n",
      "   5    6 \n",
      "   7    8 \n",
      "   9   10 \n",
      "  11   12 \n",
      "  13   14 \n",
      "  15   16 \n",
      "  17   18 \n",
      "  19   20 \n"
     ]
    }
   ],
   "source": [
    "def myprint(n, m):\n",
    "    matrix = [[0] * m for _ in range(n)]\n",
    "    start_x = 1\n",
    "    cnt = 1\n",
    "    for s in range(2, n+m+1):\n",
    "        if(s > m+1):\n",
    "            start_x += 1\n",
    "        for x in range(start_x, s):\n",
    "            if x > n:\n",
    "                break\n",
    "            y = s - x\n",
    "            matrix[x-1][y-1] = cnt\n",
    "            cnt += 1\n",
    "            \n",
    "    for i in range(n):\n",
    "        for j in range(m):\n",
    "            print(\"%4d\"%matrix[i][j],end= ' ')\n",
    "        print()\n",
    "        \n",
    "myprint(10,2)"
   ]
  },
  {
   "cell_type": "code",
   "execution_count": null,
   "metadata": {},
   "outputs": [
    {
     "name": "stdout",
     "output_type": "stream",
     "text": [
      "1\n",
      "3 4\n",
      "4 3\n",
      "3 2\n",
      "1 2\n"
     ]
    }
   ],
   "source": [
    "def search(graph, start, n):\n",
    "    color = [1] * n;\n",
    "    q = []\n",
    "    q.append(start)\n",
    "    v1 = q[0]\n",
    "    if v1 in graph:\n",
    "        for v2 in graph[v1]:\n",
    "            if(color[v2] == -1):\n",
    "                color[v2] = -color[v1]\n",
    "                q.append(v2)\n",
    "            elif(color[v1] == color[v2]):\n",
    "                return False\n",
    "    return True\n",
    "        \n",
    "while True:\n",
    "    tmp = input()\n",
    "    if tmp =='':\n",
    "        break\n",
    "    t = int(tmp)\n",
    "    for _ in range(t):\n",
    "        n, m = list(map(int, input().split(' ')))\n",
    "        graph = {}\n",
    "        for i in range(m):\n",
    "            a,b = list(map(int, input().split(' ')))\n",
    "            if a not in graph:\n",
    "                graph[a] = {}\n",
    "            graph[a][b] = -1\n",
    "        start = list(graph.keys())[0]\n",
    "        if(search(graph, start, v)):\n",
    "            print(\"Yes\")\n",
    "        else:\n",
    "            print(\"No\")"
   ]
  },
  {
   "cell_type": "code",
   "execution_count": 74,
   "metadata": {},
   "outputs": [
    {
     "name": "stdout",
     "output_type": "stream",
     "text": [
      "3 5\n"
     ]
    },
    {
     "data": {
      "text/plain": [
       "[3, 5]"
      ]
     },
     "execution_count": 74,
     "metadata": {},
     "output_type": "execute_result"
    }
   ],
   "source": [
    "list(map(int, input().split(' ')))"
   ]
  },
  {
   "cell_type": "code",
   "execution_count": null,
   "metadata": {},
   "outputs": [],
   "source": [
    "1,5,7,9\n",
    "2,3,4,6,8,10"
   ]
  },
  {
   "cell_type": "code",
   "execution_count": 6,
   "metadata": {},
   "outputs": [
    {
     "name": "stdout",
     "output_type": "stream",
     "text": [
      "\n"
     ]
    },
    {
     "ename": "ValueError",
     "evalue": "invalid literal for int() with base 10: ''",
     "output_type": "error",
     "traceback": [
      "\u001b[1;31m---------------------------------------------------------------------------\u001b[0m",
      "\u001b[1;31mValueError\u001b[0m                                Traceback (most recent call last)",
      "\u001b[1;32m<ipython-input-6-17f7c065deba>\u001b[0m in \u001b[0;36m<module>\u001b[1;34m()\u001b[0m\n\u001b[0;32m      1\u001b[0m \u001b[1;32mwhile\u001b[0m \u001b[1;32mTrue\u001b[0m\u001b[1;33m:\u001b[0m\u001b[1;33m\u001b[0m\u001b[0m\n\u001b[0;32m      2\u001b[0m     \u001b[0mtmp\u001b[0m \u001b[1;33m=\u001b[0m \u001b[0minput\u001b[0m\u001b[1;33m(\u001b[0m\u001b[1;33m)\u001b[0m\u001b[1;33m\u001b[0m\u001b[0m\n\u001b[1;32m----> 3\u001b[1;33m     \u001b[0mla\u001b[0m \u001b[1;33m=\u001b[0m \u001b[0mlist\u001b[0m\u001b[1;33m(\u001b[0m\u001b[0mmap\u001b[0m\u001b[1;33m(\u001b[0m\u001b[0mint\u001b[0m\u001b[1;33m,\u001b[0m \u001b[0mtmp\u001b[0m\u001b[1;33m.\u001b[0m\u001b[0msplit\u001b[0m\u001b[1;33m(\u001b[0m\u001b[1;34m','\u001b[0m\u001b[1;33m)\u001b[0m\u001b[1;33m)\u001b[0m\u001b[1;33m)\u001b[0m\u001b[1;33m\u001b[0m\u001b[0m\n\u001b[0m\u001b[0;32m      4\u001b[0m \u001b[1;33m\u001b[0m\u001b[0m\n\u001b[0;32m      5\u001b[0m     \u001b[0mtmp\u001b[0m \u001b[1;33m=\u001b[0m \u001b[0minput\u001b[0m\u001b[1;33m(\u001b[0m\u001b[1;33m)\u001b[0m\u001b[1;33m\u001b[0m\u001b[0m\n",
      "\u001b[1;31mValueError\u001b[0m: invalid literal for int() with base 10: ''"
     ]
    }
   ],
   "source": [
    "while True:\n",
    "    tmp = input()\n",
    "    la = list(map(int, tmp.split(',')))\n",
    "    \n",
    "    tmp = input()\n",
    "    if(tmp == ''):\n",
    "        break\n",
    "    \n",
    "    lb = list(map(int, tmp.split(',')))\n",
    "    lc = []\n",
    "    i = j = 0\n",
    "    len1 = len(la)\n",
    "    len2 = len(lb)\n",
    "    while i != len1 and j != len2:\n",
    "        if(la[i] <= lb[j]):\n",
    "            lc.append(la[i])\n",
    "            i += 1;\n",
    "        else:\n",
    "            lc.append(lb[j])\n",
    "            j += 1;\n",
    "    if i != len1:\n",
    "        lc += la[i:]\n",
    "    if j != len2:\n",
    "        lc += lb[j:]\n",
    "        \n",
    "    for e in lc[:-1]:\n",
    "        print(\"%d,\"%e,end='')\n",
    "    print(lc[-1])\n",
    "    "
   ]
  },
  {
   "cell_type": "code",
   "execution_count": 7,
   "metadata": {},
   "outputs": [
    {
     "name": "stdout",
     "output_type": "stream",
     "text": [
      "abcdefghijklmnopqrstuvwxyz\n"
     ]
    }
   ],
   "source": [
    "s=''\n",
    "for i in range(26):\n",
    "    s += chr(i+97)\n",
    "print(s)"
   ]
  },
  {
   "cell_type": "code",
   "execution_count": 9,
   "metadata": {},
   "outputs": [],
   "source": [
    "a = set(range(5))"
   ]
  },
  {
   "cell_type": "code",
   "execution_count": 14,
   "metadata": {},
   "outputs": [],
   "source": [
    "a.discard(4)"
   ]
  },
  {
   "cell_type": "code",
   "execution_count": 21,
   "metadata": {},
   "outputs": [
    {
     "name": "stdout",
     "output_type": "stream",
     "text": [
      "{'a': {0}, 'b': {1}}\n",
      "75\n"
     ]
    }
   ],
   "source": [
    "s = 'ab'\n",
    "slen = len(s)\n",
    "\n",
    "data = {}\n",
    "for i in range(slen):\n",
    "    if s[i] not in data:\n",
    "        data[s[i]] = set()\n",
    "    data[s[i]].add(i)\n",
    "\n",
    "total = 0\n",
    "for new in \"abcdefghijklmnopqrstuvwxyz\":\n",
    "    flag = set(range(slen+1))\n",
    "    if new in data:\n",
    "        for idx in data[new]:\n",
    "            flag.discard(idx)\n",
    "            if(idx !=0):\n",
    "                flag.discard(idx+1)\n",
    "    total += len(flag)\n",
    "print(total)"
   ]
  },
  {
   "cell_type": "code",
   "execution_count": 25,
   "metadata": {},
   "outputs": [
    {
     "name": "stdout",
     "output_type": "stream",
     "text": [
      "-1\n"
     ]
    }
   ],
   "source": [
    "import sys\n",
    "#line = input()\n",
    "line=\"1.0.2    1.0.2.1\"\n",
    "pair = line.split(\" \")\n",
    "\n",
    "if(pair[0] > pair[-1]):\n",
    "    print(1)\n",
    "elif (pair[0] == pair[-1]):\n",
    "    print(0)\n",
    "else:\n",
    "    print(-1)"
   ]
  },
  {
   "cell_type": "code",
   "execution_count": 39,
   "metadata": {},
   "outputs": [
    {
     "name": "stdout",
     "output_type": "stream",
     "text": [
      "[]\n",
      "1\n"
     ]
    }
   ],
   "source": [
    "\n",
    "# 读取第一行的n\n",
    "line = \"ab ab\"\n",
    "line = line.split(' ')\n",
    "if(line):\n",
    "    a,b = line[0], line[-1]\n",
    "    alen, blen = len(a), len(b)\n",
    "    flag = 1\n",
    "    if(alen != blen):\n",
    "        flag = 0\n",
    "\n",
    "    if flag == 1:\n",
    "        cnt = []\n",
    "        for i in range(alen):\n",
    "            if(a[i] != b[i]):\n",
    "                cnt.append(a[i])\n",
    "                cnt.append(b[i])\n",
    "                if(len(cnt) > 4):\n",
    "                    flag = 0\n",
    "                    break\n",
    "        \n",
    "        if(len(cnt) != 0):\n",
    "            if(len(cnt) != 4 or cnt[0] != cnt[3] or cnt[1] != cnt[2]):\n",
    "                flag = 0\n",
    "        else:\n",
    "            \n",
    "            count = [0] * 26\n",
    "            for i in range(alen):\n",
    "                idx = ord(a[i]) - 97\n",
    "                count[idx] += 1\n",
    "                if(count[idx] > 1):\n",
    "                    flag = 1\n",
    "                    break\n",
    "    print(flag)"
   ]
  },
  {
   "cell_type": "code",
   "execution_count": 48,
   "metadata": {},
   "outputs": [
    {
     "name": "stdout",
     "output_type": "stream",
     "text": [
      "['1', '0']\n",
      "['1']\n",
      "0\n",
      "1\n"
     ]
    }
   ],
   "source": [
    "#coding=utf-8\n",
    "import sys\n",
    "if __name__ == \"__main__\":\n",
    "    \n",
    "    line = \"1.0     1\"\n",
    "    pair = line.split(\" \")\n",
    "    a,b = pair[0], pair[-1]\n",
    "    a = a.split('.')\n",
    "    b = b.split('.')\n",
    "    ret = 0\n",
    "    i = j =0\n",
    "    print(a)\n",
    "    print(b)\n",
    "    while i< len(a) and j < len(b):\n",
    "        ai = int(a[i])\n",
    "        bi = int(b[j])\n",
    "        if(ai == 0):\n",
    "            i += 1\n",
    "            continue\n",
    "        if(bi == 0):\n",
    "            j += 1\n",
    "            continue\n",
    "            \n",
    "        if(ai < bi):\n",
    "            ret = 1\n",
    "            break\n",
    "        elif(ai != bi):\n",
    "            ret = -1\n",
    "            break\n",
    "        i += 1\n",
    "        j += 1\n",
    "    if(ret == 0):\n",
    "        if(i == len(a) and j != len(b)):\n",
    "            tmp = ''.join(b[j:])\n",
    "            print(tmp)\n",
    "        elif(i != len(a) and j == len(b)):\n",
    "            tmp = ''.join(a[i:])\n",
    "            print(tmp)\n",
    "            ret = 1\n",
    "    print(ret)"
   ]
  },
  {
   "cell_type": "code",
   "execution_count": null,
   "metadata": {},
   "outputs": [],
   "source": []
  },
  {
   "cell_type": "code",
   "execution_count": null,
   "metadata": {},
   "outputs": [],
   "source": []
  }
 ],
 "metadata": {
  "kernelspec": {
   "display_name": "Python 3",
   "language": "python",
   "name": "python3"
  },
  "language_info": {
   "codemirror_mode": {
    "name": "ipython",
    "version": 3
   },
   "file_extension": ".py",
   "mimetype": "text/x-python",
   "name": "python",
   "nbconvert_exporter": "python",
   "pygments_lexer": "ipython3",
   "version": "3.6.4"
  }
 },
 "nbformat": 4,
 "nbformat_minor": 2
}
