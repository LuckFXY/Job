{
 "cells": [
  {
   "cell_type": "code",
   "execution_count": 6,
   "metadata": {},
   "outputs": [
    {
     "name": "stdout",
     "output_type": "stream",
     "text": [
      "13 17\n",
      "________________0 17\n",
      "_______________y0 17\n",
      "______________py0 17\n",
      "_____________ppy0 17\n",
      "____________appy0 17\n",
      "___________happy0 17\n",
      "________%20happy0 17\n",
      "_______e%20happy0 17\n",
      "______re%20happy0 17\n",
      "_____are%20happy0 17\n",
      "__%20are%20happy0 17\n",
      "_e%20are%20happy0 17\n",
      "We%20are%20happy0 17\n"
     ]
    }
   ],
   "source": [
    "def replace(s):\n",
    "    count = 0\n",
    "    for si in s:\n",
    "        if si == ' ':\n",
    "            count += 1\n",
    "    new_len = (len(s) + count * 2)\n",
    "    new_s = ['_'] * new_len\n",
    "    i = len(s) - 1\n",
    "    j = len(new_s) - 1\n",
    "    print(len(s),len(new_s))\n",
    "    while i >= 0:\n",
    "        if s[i] != ' ':\n",
    "            new_s[j] = s[i]\n",
    "            j -= 1\n",
    "        else:\n",
    "            new_s[j-2:j+1] = '%20'\n",
    "            j -= 3\n",
    "        i -= 1\n",
    "        print(''.join(new_s),len(new_s))\n",
    "replace('We are happy0')"
   ]
  },
  {
   "cell_type": "code",
   "execution_count": 10,
   "metadata": {},
   "outputs": [
    {
     "name": "stdout",
     "output_type": "stream",
     "text": [
      "0 1 2 3 4 5 6 7 8 9 \b\n"
     ]
    }
   ],
   "source": [
    "class ListNode():\n",
    "    def __init__(self):\n",
    "        self.val = 0\n",
    "        self.next = None\n",
    "    def __init__(self, val):\n",
    "        self.val = val\n",
    "        self.next = None\n",
    "\n",
    "def CreateList(arr):\n",
    "    if arr == None:\n",
    "        return None\n",
    "    head = ListNode(arr[0])\n",
    "    teal = head\n",
    "    for a in arr[1:]:\n",
    "        teal.next = ListNode(a)\n",
    "        teal = teal.next\n",
    "    return head\n",
    "\n",
    "def PrintList(pHead):\n",
    "    ptr = pHead\n",
    "    while(ptr != None):\n",
    "        print(ptr.val, end=' ')\n",
    "        ptr = ptr.next\n",
    "    if(pHead != None):\n",
    "        print('\\b')\n",
    "    else:\n",
    "        print('\\n',end='')\n",
    "\n",
    "arr = [i for i in range(10)]\n",
    "head = CreateList(arr)\n",
    "PrintList(head)"
   ]
  },
  {
   "cell_type": "code",
   "execution_count": 11,
   "metadata": {},
   "outputs": [
    {
     "name": "stdout",
     "output_type": "stream",
     "text": [
      "9 8 7 6 5 4 3 2 1 0 \b\n"
     ]
    }
   ],
   "source": [
    "def reverse(pHead):\n",
    "    if not pHead:\n",
    "        return None\n",
    "    if not pHead.next:\n",
    "        return pHead\n",
    "    \n",
    "    tail = pHead\n",
    "    head = pHead\n",
    "    ptr = head.next\n",
    "    head.next = None\n",
    "    while(ptr != None):\n",
    "        pNext = ptr.next\n",
    "        ptr.next = head\n",
    "        tail.next = pNext\n",
    "        head = ptr\n",
    "        ptr = pNext\n",
    "        \n",
    "    return head\n",
    "r= reverse(head)\n",
    "PrintList(r)"
   ]
  },
  {
   "cell_type": "code",
   "execution_count": 12,
   "metadata": {},
   "outputs": [],
   "source": [
    "head = CreateList(arr)\n",
    "def removeNode(pHead, val):\n",
    "    head = pHead[0]\n",
    "    if head != None:\n",
    "        if head.val == val:\n",
    "            new_head = head.next\n",
    "            head.next = None\n",
    "            del head \n",
    "            pHead[0] = new_head\n",
    "\n",
    "        else:\n",
    "            ptr = head.next\n",
    "            pre = head\n",
    "            while ptr != None:\n",
    "                if ptr.val == val:\n",
    "                    pre.next = ptr.next\n",
    "                    ptr.next = None\n",
    "                    del ptr\n",
    "                    break\n",
    "                pre = ptr\n",
    "\n",
    "\n",
    "# pHead = [head,]\n",
    "# for i in range(10):\n",
    "#     removeNode(pHead, i)\n",
    "#     PrintList(pHead[0])"
   ]
  },
  {
   "cell_type": "code",
   "execution_count": 13,
   "metadata": {},
   "outputs": [
    {
     "name": "stdout",
     "output_type": "stream",
     "text": [
      "9 8 7 6 5 4 3 2 1 0 "
     ]
    }
   ],
   "source": [
    "head = CreateList(arr)\n",
    "def reversePrint(pHead):\n",
    "    if pHead != None:\n",
    "        reversePrint(pHead.next)\n",
    "        print(pHead.val, end=' ')\n",
    "reversePrint(head)"
   ]
  },
  {
   "cell_type": "code",
   "execution_count": 80,
   "metadata": {},
   "outputs": [
    {
     "name": "stdout",
     "output_type": "stream",
     "text": [
      "1 0 0 \b\n"
     ]
    }
   ],
   "source": [
    "def removeElements(head, val):\n",
    "    \"\"\"\n",
    "    :type head: ListNode\n",
    "    :type val: int\n",
    "    :rtype: ListNode\n",
    "    \"\"\"\n",
    "    fake = ListNode(None)\n",
    "    fake.next = head\n",
    "    ptr = head\n",
    "    pre = fake\n",
    "    while ptr :\n",
    "        \n",
    "        if ptr.val == val:\n",
    "            pre.next = ptr.next\n",
    "            print(ptr.val)\n",
    "            del ptr\n",
    "            ptr = pre.next\n",
    "        else:\n",
    "            pre = ptr\n",
    "            ptr = ptr.next\n",
    "    head = fake.next\n",
    "    return fake.next\n",
    "arr = [1,0,0]\n",
    "head = CreateList(arr)\n",
    "dep = removeElements(head, 6)\n",
    "PrintList(dep)"
   ]
  },
  {
   "cell_type": "code",
   "execution_count": 131,
   "metadata": {},
   "outputs": [
    {
     "name": "stdout",
     "output_type": "stream",
     "text": [
      "0 1 2 3 4 5 6 7 8 9 \b\n"
     ]
    }
   ],
   "source": [
    "arr = list(range(10))\n",
    "head = CreateList(arr)\n",
    "PrintList(head)\n",
    "rev = head"
   ]
  },
  {
   "cell_type": "code",
   "execution_count": 137,
   "metadata": {},
   "outputs": [
    {
     "name": "stdout",
     "output_type": "stream",
     "text": [
      "0 1 2 3 4 5 6 7 8 9 \b\n"
     ]
    }
   ],
   "source": [
    "def reverse(head):\n",
    "    if not head or not head.next:\n",
    "        return head\n",
    "    pre, ptr = head, head.next\n",
    "    head.next = None\n",
    "    while ptr:\n",
    "        pro, ptr.next= ptr.next, pre\n",
    "        pre, ptr = ptr, pro\n",
    "    return pre\n",
    "\n",
    "rev = reverse(rev)\n",
    "PrintList(rev)"
   ]
  },
  {
   "cell_type": "code",
   "execution_count": 142,
   "metadata": {},
   "outputs": [
    {
     "name": "stdout",
     "output_type": "stream",
     "text": [
      "1 2 3 4 5 6 7 \b\n",
      "4\n"
     ]
    }
   ],
   "source": [
    "def findmid(head):\n",
    "    slow = fast = head\n",
    "    while fast and fast.next:\n",
    "        fast = fast.next.next\n",
    "        slow = slow.next\n",
    "    return slow\n",
    "arr = list(range(1,8))\n",
    "head = CreateList(arr)\n",
    "PrintList(head)\n",
    "mid = findmid(head)\n",
    "print(mid.val)"
   ]
  },
  {
   "cell_type": "code",
   "execution_count": null,
   "metadata": {},
   "outputs": [],
   "source": []
  }
 ],
 "metadata": {
  "kernelspec": {
   "display_name": "Python 3",
   "language": "python",
   "name": "python3"
  },
  "language_info": {
   "codemirror_mode": {
    "name": "ipython",
    "version": 3
   },
   "file_extension": ".py",
   "mimetype": "text/x-python",
   "name": "python",
   "nbconvert_exporter": "python",
   "pygments_lexer": "ipython3",
   "version": "3.6.4"
  }
 },
 "nbformat": 4,
 "nbformat_minor": 2
}
