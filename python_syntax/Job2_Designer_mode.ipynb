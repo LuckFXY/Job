{
 "cells": [
  {
   "cell_type": "markdown",
   "metadata": {},
   "source": [
    "# 一. 单例模式（Singleton Pattern）\n",
    "\n",
    "    是一种常用的软件设计模式，该模式的主要目的是确保某一个类只有一个实例存在。当你希望在整个系统中，某个类只能出现一个实例时，单例对象就能派上用场。\n",
    "    比如，某个服务器程序的配置信息存放在一个文件中，客户端通过一个 AppConfig 的类来读取配置文件的信息。如果在程序运行期间，有很多地方都需要使用配置文件的内容，也就是说，很多地方都需要创建 AppConfig 对象的实例，这就导致系统中存在多个 AppConfig 的实例对象，而这样会严重浪费内存资源，尤其是在配置文件内容很多的情况下。事实上，类似 AppConfig 这样的类，我们希望在程序运行期间只存在一个实例对象。\n",
    "    \n",
    "在 Python 中，我们可以用多种方法来实现单例模式：\n",
    "1. 使用模块\n",
    "2. 使用 __new__\n",
    "3. 使用装饰器（decorator）\n",
    "4. 使用元类（metaclass）"
   ]
  },
  {
   "cell_type": "markdown",
   "metadata": {},
   "source": [
    "### 1.1 使用模块\n",
    "其实，Python 的模块就是天然的单例模式，因为模块在第一次导入时，会生成 .pyc 文件，当第二次导入时，就会直接加载 .pyc 文件，而不会再次执行模块代码。因此，我们只需把相关的函数和数据定义在一个模块中，就可以获得一个单例对象了。"
   ]
  },
  {
   "cell_type": "code",
   "execution_count": 10,
   "metadata": {},
   "outputs": [
    {
     "name": "stdout",
     "output_type": "stream",
     "text": [
      "2\n"
     ]
    }
   ],
   "source": [
    "import os\n",
    "txt ='''\n",
    "class My_Singleton(object):\n",
    "    def __init__(self):\n",
    "        print(\"create singleton instance\")\n",
    "        self.a = 1\n",
    "    \n",
    "my_singleton = My_Singleton()\n",
    "'''\n",
    "single_py = 'mysingleton.py'\n",
    "with open(single_py, 'w') as f:\n",
    "    f.write(txt)\n",
    "#-----------------------------------\n",
    "# other.py\n",
    "from mysingleton import my_singleton\n",
    "# key point !!!\n",
    "sampe = my_singleton\n",
    "\n",
    "sampe.a = 2\n",
    "print(my_singleton.a)\n",
    "os.remove(single_py)"
   ]
  },
  {
   "cell_type": "markdown",
   "metadata": {},
   "source": [
    "### 1.2 使用 __new__\n",
    "\n",
    "    为了使类只能出现一个实例，我们可以使用 __new__ 来控制实例的创建过程。 \n",
    "    \n",
    "    __new__是在实例创建之前被调用的，因为它的任务就是创建实例然后返回该实例，是个静态方法。\n",
    "    \n",
    "    __new__在__init__之前被调用，它的第一个值cls 是实例变量对于的类， 然后由super(parent, self)函数返回父类的self\n",
    "    \n",
    "    __new__的返回值（实例）将传递给__init__方法的第一个参数，然后__init__给这个实例设置一些参数。\n",
    "    \n",
    "    "
   ]
  },
  {
   "cell_type": "code",
   "execution_count": 6,
   "metadata": {},
   "outputs": [
    {
     "name": "stdout",
     "output_type": "stream",
     "text": [
      "Singleton new\n",
      "cls <class '__main__.MyClass'>\n",
      "f <super: <class 'Singleton'>, <MyClass object>> 94125576\n",
      "<built-in method __new__ of type object at 0x000000005742C580>\n",
      "MyClass initialize\n",
      "Singleton new\n",
      "cls <class '__main__.MyClass'>\n",
      "MyClass initialize\n",
      "True\n"
     ]
    }
   ],
   "source": [
    "class Singleton(object):\n",
    "    _instance = None\n",
    "    def __init__(self):\n",
    "        print(\"Singleton init\")\n",
    "    def __new__(cls, *args, **kw):\n",
    "        print(\"Singleton new\")\n",
    "        print('cls',cls)\n",
    "        if not cls._instance:\n",
    "            f = super(Singleton, cls)\n",
    "            print('f',f)\n",
    "            print(f.__new__)\n",
    "            cls._instance = f.__new__(cls, *args, **kw)\n",
    "\n",
    "        return cls._instance\n",
    "    \n",
    "class MyClass(Singleton):  \n",
    "    def __init__(self):\n",
    "        print(\"MyClass initialize\")\n",
    "    a = 1\n",
    "    \n",
    "one = MyClass()\n",
    "two = MyClass()\n",
    "print(one is two)\n"
   ]
  },
  {
   "cell_type": "markdown",
   "metadata": {},
   "source": [
    "### 1.3 使用装饰器\n",
    "\n",
    "    我们知道，装饰器（decorator）可以动态地修改一个类或函数的功能。\n",
    "    这里，我们也可以使用装饰器来装饰某个类，使其只能生成一个实例，代码如下："
   ]
  },
  {
   "cell_type": "code",
   "execution_count": 21,
   "metadata": {},
   "outputs": [
    {
     "name": "stdout",
     "output_type": "stream",
     "text": [
      "True\n"
     ]
    }
   ],
   "source": [
    "from functools import wraps\n",
    "def singleton(cls):\n",
    "    instances = {}\n",
    "    @wraps(cls)\n",
    "    def getinstance(*args, **kw):\n",
    "        if cls not in instances:\n",
    "            instances[cls] = cls(*args, **kw)\n",
    "        return instances[cls]\n",
    "    return getinstance\n",
    "\n",
    "@singleton\n",
    "class MyClass(object):\n",
    "    a = 1\n",
    "    \n",
    "one = MyClass()\n",
    "two = MyClass()\n",
    "print(one is two)"
   ]
  },
  {
   "cell_type": "markdown",
   "metadata": {},
   "source": [
    "### 1.4 使用 metaclass\n",
    "\n",
    "    元类（metaclass）可以控制类的创建过程，它主要做三件事：\n",
    "\n",
    "    1.拦截类的创建\n",
    "    2.修改类的定义\n",
    "    3.返回修改后的类\n",
    "    4.使用元类实现单例模式的代码如下："
   ]
  },
  {
   "cell_type": "code",
   "execution_count": 34,
   "metadata": {},
   "outputs": [
    {
     "name": "stdout",
     "output_type": "stream",
     "text": [
      "<class '__main__.Singleton'>\n",
      "<class '__main__.MyClass'>\n",
      "<__main__.MyClass object at 0x0000000005BEC240>\n",
      "<__main__.MyClass object at 0x0000000005BEC240>\n",
      "True\n"
     ]
    }
   ],
   "source": [
    "class Singleton(type):\n",
    "    _instances = None\n",
    "    def __call__(cls, *args, **kwargs):\n",
    "\n",
    "        if cls._instances is None:\n",
    "            print(cls)\n",
    "            cls._instances = super(Singleton, cls).__call__(*args, **kwargs)\n",
    "        return cls._instances\n",
    "\n",
    "# Python2\n",
    "# class MyClass(object):\n",
    "#     __metaclass__ = Singleton\n",
    "class MyClass(metaclass=Singleton):\n",
    "    \n",
    "    __metaclass__ = Singleton\n",
    "    print(__metaclass__)\n",
    "\n",
    "one = MyClass()\n",
    "two = MyClass()\n",
    "print(one)\n",
    "print(two)\n",
    "print(one is two)"
   ]
  },
  {
   "cell_type": "code",
   "execution_count": null,
   "metadata": {},
   "outputs": [],
   "source": [
    "https://juejin.im/post/58d798160ce463005708c447"
   ]
  }
 ],
 "metadata": {
  "kernelspec": {
   "display_name": "Python 3",
   "language": "python",
   "name": "python3"
  },
  "language_info": {
   "codemirror_mode": {
    "name": "ipython",
    "version": 3
   },
   "file_extension": ".py",
   "mimetype": "text/x-python",
   "name": "python",
   "nbconvert_exporter": "python",
   "pygments_lexer": "ipython3",
   "version": "3.6.4"
  }
 },
 "nbformat": 4,
 "nbformat_minor": 2
}
