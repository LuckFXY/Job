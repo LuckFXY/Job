{
 "cells": [
  {
   "cell_type": "markdown",
   "metadata": {},
   "source": [
    "## 1. 字符串碎片\n",
    "\n",
    "一个些同小写字母的碎片组成的字符串中，所有碎片的平均长度\n",
    "e.g.\n",
    "aaabbaaac 由 aaa, bb, aaa, c 四个碎片组成，平均长度为avg(3,2,3,1) = 4.25\n",
    "\n",
    "### 分析\n",
    "只用找出每一段的连续个数然后计算"
   ]
  },
  {
   "cell_type": "code",
   "execution_count": 10,
   "metadata": {},
   "outputs": [
    {
     "name": "stdout",
     "output_type": "stream",
     "text": [
      "1 3\n",
      "2 2\n",
      "3 3\n"
     ]
    },
    {
     "data": {
      "text/plain": [
       "2.25"
      ]
     },
     "execution_count": 10,
     "metadata": {},
     "output_type": "execute_result"
    }
   ],
   "source": [
    "def get_avg(s):\n",
    "    slen = len(s)\n",
    "    cnt, total = 0, 0\n",
    "    i, j = 0, 0\n",
    "    while j < slen:\n",
    "        if i == j or s[i] == s[j]:\n",
    "            j += 1\n",
    "        else:\n",
    "            cnt += 1\n",
    "            total += (j-i)\n",
    "            print(cnt, j-i)\n",
    "            i = j\n",
    "    if i != j:\n",
    "        total += 1\n",
    "        cnt += 1\n",
    "    return total / cnt\n",
    "s = 'aaabbaaac'\n",
    "get_avg(s)"
   ]
  },
  {
   "cell_type": "markdown",
   "metadata": {},
   "source": [
    "## 2. 游历魔法王国\n",
    "\n",
    "n个城市之间的道路连接恰如一棵树，小易从0号城市出发，想用L次移动遍历最多的城市，每次只能移动相邻的城市。\n",
    "0号城市已经遍历，在不重复计算城市的情况下，给出最多遍历城市的个数\n",
    "e.g"
   ]
  },
  {
   "cell_type": "markdown",
   "metadata": {},
   "source": [
    "## 3. 重排数列\n",
    "\n",
    "    一个长度为N的正整数数列 A,牛博士要求小易判断数组A是否重新排列A使得 A[i] * A[i+1] % 4 == 0\n",
    "    输入：\n",
    "    第一行输入数列的个数t\n",
    "    接下来每两行分别输入数组的长度n，和数组本身\n",
    "    输出：\n",
    "    数列是否满足要求\n",
    "    e.g\n",
    "\n",
    "    输入\n",
    "    2\n",
    "    3\n",
    "    1 10 100\n",
    "    4\n",
    "    1 2 3 4\n",
    "    输出\n",
    "    Yes\n",
    "    No\n",
    "    \n",
    "### 分析\n",
    "\n",
    "    分别用 cnt1, cnt2, cnt4 表示奇数个数，只含因子2数的个数，含有因子4数的个数。\n",
    "合法的排列：\n",
    "\n",
    "1. 两个数只含因子2时，两两相邻。 2 14 10\n",
    "2. 一个奇数旁边：一定要有一个含因子2的数相邻\n",
    "\n",
    "    1. 当cnt2 = 0, 左右必须4的倍数的数相邻，在奇数不变的情况下，最少需要 cnt4 = cnt1 - 1个4的倍数放在两个奇数之间\n",
    "    2. 当cnt2 != 0\n",
    "    \n",
    "        由于奇数不能非4的倍数的偶数相邻，所以cnt2一定在数组一端（比如左端）\n",
    "        \n",
    "        下一个位置一定是4的倍数，在奇数不变的情况下，最少需要 cnt4 = cnt1 个4的倍数，最后一个位奇数才能满足条件\n"
   ]
  },
  {
   "cell_type": "code",
   "execution_count": 15,
   "metadata": {},
   "outputs": [
    {
     "data": {
      "text/plain": [
       "False"
      ]
     },
     "execution_count": 15,
     "metadata": {},
     "output_type": "execute_result"
    }
   ],
   "source": [
    "def canRearrangeArray(arr):\n",
    "    cnt1 =cnt2 = cnt4 = 0\n",
    "    for a in arr:\n",
    "        if a % 4 == 0:\n",
    "            cnt4 += 1\n",
    "        elif a % 2 ==0 :\n",
    "            cnt2 += 1\n",
    "        else:\n",
    "            cnt1 += 1\n",
    "    ok = False\n",
    "    if cnt2 == 0:\n",
    "        if cnt4 >= cnt1 - 1:\n",
    "            ok = True\n",
    "    else:\n",
    "        if cnt4 >= cnt1:\n",
    "            ok = True\n",
    "            \n",
    "    return ok\n",
    "canRearrangeArray([2,4,6,7,8,4,5,1,3])"
   ]
  },
  {
   "cell_type": "code",
   "execution_count": null,
   "metadata": {},
   "outputs": [],
   "source": []
  }
 ],
 "metadata": {
  "kernelspec": {
   "display_name": "Python 3",
   "language": "python",
   "name": "python3"
  },
  "language_info": {
   "codemirror_mode": {
    "name": "ipython",
    "version": 3
   },
   "file_extension": ".py",
   "mimetype": "text/x-python",
   "name": "python",
   "nbconvert_exporter": "python",
   "pygments_lexer": "ipython3",
   "version": "3.6.4"
  }
 },
 "nbformat": 4,
 "nbformat_minor": 2
}
