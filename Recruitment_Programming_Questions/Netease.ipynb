{
 "cells": [
  {
   "cell_type": "markdown",
   "metadata": {},
   "source": [
    "## 1. 字符串碎片\n",
    "\n",
    "一个些同小写字母的碎片组成的字符串中，所有碎片的平均长度\n",
    "e.g.\n",
    "aaabbaaac 由 aaa, bb, aaa, c 四个碎片组成，平均长度为avg(3,2,3,1) = 4.25\n",
    "\n",
    "### 分析\n",
    "只用找出每一段的连续个数然后计算"
   ]
  },
  {
   "cell_type": "code",
   "execution_count": 10,
   "metadata": {},
   "outputs": [
    {
     "name": "stdout",
     "output_type": "stream",
     "text": [
      "1 3\n",
      "2 2\n",
      "3 3\n"
     ]
    },
    {
     "data": {
      "text/plain": [
       "2.25"
      ]
     },
     "execution_count": 10,
     "metadata": {},
     "output_type": "execute_result"
    }
   ],
   "source": [
    "def get_avg(s):\n",
    "    slen = len(s)\n",
    "    cnt, total = 0, 0\n",
    "    i, j = 0, 0\n",
    "    while j < slen:\n",
    "        if i == j or s[i] == s[j]:\n",
    "            j += 1\n",
    "        else:\n",
    "            cnt += 1\n",
    "            total += (j-i)\n",
    "            print(cnt, j-i)\n",
    "            i = j\n",
    "    if i != j:\n",
    "        total += 1\n",
    "        cnt += 1\n",
    "    return total / cnt\n",
    "s = 'aaabbaaac'\n",
    "get_avg(s)"
   ]
  },
  {
   "cell_type": "markdown",
   "metadata": {},
   "source": [
    "## 2. 游历魔法王国\n",
    "\n",
    "n个城市之间的道路连接恰如一棵树，小易从0号城市出发，想用L次移动遍历最多的城市，每次只能移动相邻的城市。\n",
    "0号城市已经遍历，在不重复计算城市的情况下，给出最多遍历城市的个数。\n",
    "\n",
    "    输入\n",
    "    第一行包含两个正整数 n(2 <= n <= 50) 和 L(1<= L <= 100) 表示城市个数和行动次数\n",
    "    第二行包括n-1个正整数parent[i](0<= parent[i]<=i), 对于每个合法的i(0 <= i <= n -2),在(i+1)号城市和parent[i]有一条道路\n",
    "    e.g\n",
    "    输入\n",
    "    5 2\n",
    "    0 1 2 3\n",
    "    输出\n",
    "    3\n",
    "\n",
    "### 分析\n",
    "1. 已知 (i+1)号城市的所有祖先，就可以知道（i+1）节点的深度，其中最大的就是树的深度 MX\n",
    "2. 如果 L < MX, 直接沿最长路径移动，不返回。最大遍历数 L+1\n",
    "3. 如果 L > MX, 最后走最长路径，剩余的步数 L-MX无论怎么走，都需要返回，所以最大步数 MX+1+(L-MX)//2\n",
    "\n",
    "node_depth[i+1] = node_depth[parent[i]] + 1"
   ]
  },
  {
   "cell_type": "code",
   "execution_count": 22,
   "metadata": {},
   "outputs": [
    {
     "name": "stdout",
     "output_type": "stream",
     "text": [
      "[0, 1, 1]\n",
      "2\n"
     ]
    }
   ],
   "source": [
    "def travelling_in_kingdom(n, L, parents):\n",
    "    #每个节点的最大深度列表，索引对应的是城市编号， 0初始化为1\n",
    "    node_depth = [0] * n\n",
    "    for i in range(n-1):\n",
    "        #当前城市的下一个连接城市的最大深度等于当前城市的最大深度+1\n",
    "        node_depth[i+1] = node_depth[parents[i]] + 1\n",
    "    print(node_depth)\n",
    "    #取出最大深度\n",
    "    max_depth = max(node_depth)\n",
    "    \n",
    "    \n",
    "    if L < max_depth:\n",
    "        print(l+1)\n",
    "    else:\n",
    "        #先走其他城市，需要原路返回。然后走最长路径，不返回\n",
    "        print( max_depth+1+(L-max_depth)//2)\n",
    "    \n",
    "def test():\n",
    "    n = 3#45\n",
    "    max_step = 2#73\n",
    "    parents ='0 0'#'0 0 0 1 0 0 3 5 6 8 7 9 1 10 1 2 15 6 8 11 14 17 8 14 3 21 23 3 21 15 12 5 21 31 11 13 7 17 20 26 28 16 36 26'\n",
    "    parents = list(map(int, parents.split(' ')))\n",
    "    travelling_in_kingdom(n, max_step, parents)\n",
    "def main():\n",
    "    n,L = list(map(int, input().split(' ')))\n",
    "    parent = list(map(int, input().split(' ')))\n",
    "    travelling_in_kingdom(n,L, parent) \n",
    "    \n",
    "test()"
   ]
  },
  {
   "cell_type": "markdown",
   "metadata": {},
   "source": [
    "## 3. 重排数列\n",
    "\n",
    "    一个长度为N的正整数数列 A,牛博士要求小易判断数组A是否重新排列A使得 A[i] * A[i+1] % 4 == 0\n",
    "    输入：\n",
    "    第一行输入数列的个数t\n",
    "    接下来每两行分别输入数组的长度n，和数组本身\n",
    "    输出：\n",
    "    数列是否满足要求\n",
    "    e.g\n",
    "\n",
    "    输入\n",
    "    2\n",
    "    3\n",
    "    1 10 100\n",
    "    4\n",
    "    1 2 3 4\n",
    "    输出\n",
    "    Yes\n",
    "    No\n",
    "    \n",
    "### 分析\n",
    "\n",
    "    分别用 cnt1, cnt2, cnt4 表示奇数个数，只含因子2数的个数，含有因子4数的个数。\n",
    "合法的排列：\n",
    "\n",
    "1. 两个数只含因子2时，两两相邻。 2 14 10\n",
    "2. 一个奇数旁边：一定要有一个含因子2的数相邻\n",
    "\n",
    "    1. 当cnt2 = 0, 左右必须4的倍数的数相邻，在奇数不变的情况下，最少需要 cnt4 = cnt1 - 1个4的倍数放在两个奇数之间\n",
    "    2. 当cnt2 != 0\n",
    "    \n",
    "        由于奇数不能非4的倍数的偶数相邻，所以cnt2一定在数组一端（比如左端）\n",
    "        \n",
    "        下一个位置一定是4的倍数，在奇数不变的情况下，最少需要 cnt4 = cnt1 个4的倍数，最后一个位奇数才能满足条件\n"
   ]
  },
  {
   "cell_type": "code",
   "execution_count": 15,
   "metadata": {},
   "outputs": [
    {
     "data": {
      "text/plain": [
       "False"
      ]
     },
     "execution_count": 15,
     "metadata": {},
     "output_type": "execute_result"
    }
   ],
   "source": [
    "def canRearrangeArray(arr):\n",
    "    cnt1 =cnt2 = cnt4 = 0\n",
    "    for a in arr:\n",
    "        if a % 4 == 0:\n",
    "            cnt4 += 1\n",
    "        elif a % 2 ==0 :\n",
    "            cnt2 += 1\n",
    "        else:\n",
    "            cnt1 += 1\n",
    "    ok = False\n",
    "    if cnt2 == 0:\n",
    "        if cnt4 >= cnt1 - 1:\n",
    "            ok = True\n",
    "    else:\n",
    "        if cnt4 >= cnt1:\n",
    "            ok = True\n",
    "            \n",
    "    return ok\n",
    "canRearrangeArray([2,4,6,7,8,4,5,1,3])"
   ]
  },
  {
   "cell_type": "markdown",
   "metadata": {},
   "source": [
    "## 4. 合唱\n",
    "\n",
    "    n个音调组成序列的难度由所有相邻音调绝对值之和所决定\n",
    "    8 8 13 12 组合序列的难度为 (8-8)+(13-8)+(13-12)=6\n",
    "    现在将一个曲子由两个人交替唱，要求两个人音调子序列的难度之和最小，求最小值为多少\n",
    "    e.g.\n",
    "    输入\n",
    "    5\n",
    "    1 5 6 2 1\n",
    "    输出\n",
    "    3\n",
    "    解释：[1,2,1],[5,6]\n",
    "    \n",
    "### 分析\n",
    "不会"
   ]
  },
  {
   "cell_type": "markdown",
   "metadata": {},
   "source": [
    "## 5. 射击游戏\n",
    "小易正在玩一款新出的射击游戏,这个射击游戏在一个二维平面进行,小易在坐标原点(0,0),平面上有n只怪物,每个怪物有所在的坐标(x[i], y[i])。小易进行一次射击会把x轴和y轴上(包含坐标原点)的怪物一次性消灭。\n",
    "小易是这个游戏的VIP玩家,他拥有两项特权操作:\n",
    "1、让平面内的所有怪物同时向任意同一方向移动任意同一距离\n",
    "2、让平面内的所有怪物同时对于小易(0,0)旋转任意同一角度\n",
    "小易要进行一次射击。小易在进行射击前,可以使用这两项特权操作任意次。\n",
    "小易想知道在他射击的时候最多可以同时消灭多少只怪物,请你帮帮小易。\n",
    "\n",
    "如样例所示:\n",
    "![射击游戏](./img/2018_Netease_shooting_games.png)\n",
    "所有点对于坐标原点(0,0)顺时针或者逆时针旋转45°,可以让所有点都在坐标轴上,所以5个怪物都可以消灭。\n",
    "\n",
    "### 分析\n",
    "来源牛客网，原作者linanwx\n",
    "\n",
    "考虑到一根线至少能够覆盖到两个点，再加一根垂直于这条线至少能够覆盖3个点，在此基础上进行遍历。对任意三个点，我们选择其中两个点做一条直线(三种情况)，对于第三个点，我们做一条垂线到这条直线上。这样的十字架已经经过了三个点。对于剩下的点，我们判断是否在这个十字架上。要判断是否在十字架上，首先判断是否和第一条直线在同一条直线上。否则，判断这个点和第三个点所构成的直线是否和第二条直线垂直。\n",
    "\n",
    "首先选两个点A,B 确定一条直线，然后选点C，为垂直于A, B的线，构成一个十字。遍历剩下某点即为D. D若在十字上，则满足下列条件：\n",
    "1. D在直线AB上 => AD平行于AB :\n",
    "$$\n",
    "\\begin {aligned}\n",
    "&\\frac{y_A - y_B}{x_A - x_B} = \\frac{y_A - y_D}{x_A - x_D} 其中 y_A \\neq y_B, y_A \\neq y_D \\\\\n",
    "&当 x_A = x_B 时，既并行与y轴，需要单独判断 x_A = x_D。以上可以整合为下式：\\\\\n",
    "&(y_A - y_B) * (x_A - x_D) = (x_A - x_B) * (y_A - y_D)\n",
    "\\end {aligned}\n",
    "$$\n",
    "2. D在过C的垂线上 => CD 垂直于 AB :\n",
    "$$\n",
    "\\begin {aligned}\n",
    "&\\frac{y_A - y_B}{x_A - x_B} * \\frac{y_A - y_D}{x_A - x_D} = -1 其中 y_A \\neq y_B, y_A \\neq y_D 同理简化为：\\\\\n",
    "&(y_A - y_B) * (y_C - y_D) = - (x_A - x_B) * (x_C - x_D) \n",
    "\\end {aligned}\n",
    "$$"
   ]
  },
  {
   "cell_type": "code",
   "execution_count": 40,
   "metadata": {},
   "outputs": [
    {
     "data": {
      "text/plain": [
       "5"
      ]
     },
     "execution_count": 40,
     "metadata": {},
     "output_type": "execute_result"
    }
   ],
   "source": [
    "def shooting_game(x, y):\n",
    "    assert len(x) == len(y),\"ValueError : Inappropriate input\"\n",
    "    n = len(x)\n",
    "    max_cnt = 0\n",
    "    for a in range(n):\n",
    "        for b in range(a+1, n):\n",
    "\n",
    "            dx1 = x[b] - x[a]\n",
    "            dy1 = y[b] - y[a]\n",
    "            for c in range(b+1, n):\n",
    "            \n",
    "                cnt = 3\n",
    "                for d in range(c+1, n):\n",
    "\n",
    "                    dx2 = x[d] - x[a]\n",
    "                    dy2 = y[d] - y[a]\n",
    "                    if dy1 * dx2 == dy2 * dx1:\n",
    "                        cnt += 1\n",
    "                    else:\n",
    "                        dx2 = x[d] - x[c]\n",
    "                        dy2 = y[d] - y[c]\n",
    "                        if dy1 * dy2 == -dx2 * dx1:\n",
    "                            cnt += 1\n",
    "                max_cnt = max(max_cnt, cnt)\n",
    "    return max_cnt\n",
    "\n",
    "x = [0, -1, 1, 1, -1]\n",
    "y = [0, -1, -1, 1, 1]\n",
    "shooting_game(x,y)"
   ]
  },
  {
   "cell_type": "code",
   "execution_count": 48,
   "metadata": {},
   "outputs": [
    {
     "name": "stdout",
     "output_type": "stream",
     "text": [
      "50\n",
      "-301563 714382 940434 768504 195 959350 13 212532 31412 -893508 -546715 134712 68 5 -517857 374406 560379 150226 39 176 202 -856465 17 483518 4 26 160 181 570660 794784 225 185272 46572 192 -380380 34 25 48 174094 -901951 7 198 564061 -559737 -971731 -465785 67 188 -738639 144167\n",
      "-416652 972572 -451947 354396 45 -365014 137 291391 -265483 -923344 -719789 125652 82 145 -610115 507468 343284 -374914 111 26 52 376367 133 -551928 146 124 10 31 -574912 264828 75 797089 958910 42 -483260 116 125 102 988193 -994605 143 48 208105 -690643 -58337 96189 83 38 884870 -403893\n",
      "21\n"
     ]
    }
   ],
   "source": [
    "n = int(input().strip())\n",
    "x = list(map(int, input().split(' ')))\n",
    "y = list(map(int, input().split(' ')))\n",
    "if n <= 2:\n",
    "    print (n)\n",
    "else:\n",
    "    max_cnt = 0\n",
    "    for a in range(n):\n",
    "        for b in range(n):\n",
    "            if b == a: continue\n",
    "            dx1 = x[b] - x[a]\n",
    "            dy1 = y[b] - y[a]\n",
    "            for c in range(n):\n",
    "                if c == a or c == b:continue\n",
    "                \n",
    "                cnt = 3\n",
    "                for d in range(n):\n",
    "                    if d == a or d == b or d == c: continue\n",
    "                    dx2 = x[d] - x[a]\n",
    "                    dy2 = y[d] - y[a]\n",
    "                    if dy1 * dx2 == dy2 * dx1:\n",
    "                        cnt += 1\n",
    "                    else:\n",
    "                        dx2 = x[d] - x[c]\n",
    "                        dy2 = y[d] - y[c]\n",
    "                        if dy1 * dy2 == -dx2 * dx1:\n",
    "                            cnt += 1\n",
    "                max_cnt = max(max_cnt, cnt)\n",
    "    print (max_cnt)"
   ]
  },
  {
   "cell_type": "markdown",
   "metadata": {},
   "source": [
    "### 来自牛客网深深的“恶意”。这个例子python会直接超时\n",
    "50\n",
    "\n",
    "-301563 714382 940434 768504 195 959350 13 212532 31412 -893508 -546715 134712 68 5 -517857 374406 560379 150226 39 176 202 -856465 17 483518 4 26 160 181 570660 794784 225 185272 46572 192 -380380 34 25 48 174094 -901951 7 198 564061 -559737 -971731 -465785 67 188 -738639 144167\n",
    "\n",
    "-416652 972572 -451947 354396 45 -365014 137 291391 -265483 -923344 -719789 125652 82 145 -610115 507468 343284 -374914 111 26 52 376367 133 -551928 146 124 10 31 -574912 264828 75 797089 958910 42 -483260 116 125 102 988193 -994605 143 48 208105 -690643 -58337 96189 83 38 884870 -403893"
   ]
  },
  {
   "cell_type": "code",
   "execution_count": 6,
   "metadata": {},
   "outputs": [
    {
     "name": "stdout",
     "output_type": "stream",
     "text": [
      "50\n",
      "-301563 714382 940434 768504 195 959350 13 212532 31412 -893508 -546715 134712 68 5 -517857 374406 560379 150226 39 176 202 -856465 17 483518 4 26 160 181 570660 794784 225 185272 46572 192 -380380 34 25 48 174094 -901951 7 198 564061 -559737 -971731 -465785 67 188 -738639 144167\n",
      "-416652 972572 -451947 354396 45 -365014 137 291391 -265483 -923344 -719789 125652 82 145 -610115 507468 343284 -374914 111 26 52 376367 133 -551928 146 124 10 31 -574912 264828 75 797089 958910 42 -483260 116 125 102 988193 -994605 143 48 208105 -690643 -58337 96189 83 38 884870 -403893\n",
      "21\n"
     ]
    }
   ],
   "source": [
    "n = int(input().strip())\n",
    "x = list(map(int, input().split(' ')))\n",
    "y = list(map(int, input().split(' ')))\n",
    "if n <= 2:\n",
    "    print (n)\n",
    "else:\n",
    "    dx = [[0] * n for _ in range(n)]\n",
    "    dy = [[0] * n for _ in range(n)]\n",
    "    for i in range(n):\n",
    "        for j in range(n):\n",
    "            dx[i][j] = x[i] - x[j]\n",
    "            dy[i][j] = y[i] - y[j]\n",
    "    max_cnt = 0\n",
    "    for a in range(n):\n",
    "        for b in range(n):\n",
    "            if b == a: continue\n",
    "            for c in range(n):\n",
    "                if c ==a or c == b or dy[b][a] * dx[c][a] == dx[b][a] * dy[c][a]:\n",
    "                    continue\n",
    "                \n",
    "                cnt = 3\n",
    "                for d in range(n):\n",
    "                    if d == a or d == b or d == c: continue\n",
    "                        \n",
    "                    if dy[b][a] * dx[d][a] == dy[d][a] * dx[b][a]:\n",
    "                        cnt += 1\n",
    "                    else:\n",
    "\n",
    "                        if dy[b][a] * dy[d][c] == -dx[b][a] * dx[d][c]:\n",
    "                            cnt += 1\n",
    "                max_cnt = max(max_cnt, cnt)\n",
    "    print (max_cnt)"
   ]
  },
  {
   "cell_type": "code",
   "execution_count": null,
   "metadata": {},
   "outputs": [],
   "source": []
  }
 ],
 "metadata": {
  "kernelspec": {
   "display_name": "Python 3",
   "language": "python",
   "name": "python3"
  },
  "language_info": {
   "codemirror_mode": {
    "name": "ipython",
    "version": 3
   },
   "file_extension": ".py",
   "mimetype": "text/x-python",
   "name": "python",
   "nbconvert_exporter": "python",
   "pygments_lexer": "ipython3",
   "version": "3.6.4"
  }
 },
 "nbformat": 4,
 "nbformat_minor": 2
}
