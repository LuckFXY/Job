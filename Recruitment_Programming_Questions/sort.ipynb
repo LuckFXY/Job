{
 "cells": [
  {
   "cell_type": "code",
   "execution_count": 1,
   "metadata": {},
   "outputs": [],
   "source": [
    "import random"
   ]
  },
  {
   "cell_type": "markdown",
   "metadata": {},
   "source": [
    "### 1. 快速排序\n",
    "通过一趟排序将要排序的数据分割成独立的两部分，其中一部分的所有数据都比另外一部分的所有数据都要小，然后再按此方法对这两部分数据分别进行快速排序，整个排序过程可以递归进行，以此达到整个数据变成有序序列。"
   ]
  },
  {
   "cell_type": "code",
   "execution_count": 6,
   "metadata": {},
   "outputs": [
    {
     "name": "stdout",
     "output_type": "stream",
     "text": [
      "[14, 11, 5, 6, 19, 8, 9, 12, 16, 2, 10, 4, 17, 7, 3, 0, 15, 13, 1, 18]\n",
      "[0, 1, 2, 3, 4, 5, 6, 7, 8, 9, 10, 11, 12, 13, 14, 15, 16, 17, 18, 19]\n"
     ]
    }
   ],
   "source": [
    "def quick_sort(arr, left, right):\n",
    "    if left < right:\n",
    "        key = arr[left]\n",
    "        i, j = left, right\n",
    "        while i < j:\n",
    "            while i < j and arr[j] > key:\n",
    "                j -=1\n",
    "            arr[left] = arr[j]\n",
    "            while i < j and key >= arr[i]:\n",
    "                i += 1\n",
    "            arr[j] = arr[i]\n",
    "            arr[i] = arr[left]\n",
    "        arr[i] = key\n",
    "        quick_sort(arr, left, i-1)\n",
    "        quick_sort(arr, i+1, right)\n",
    "\n",
    "random.seed(10)\n",
    "N = 20\n",
    "arr = list(range(N))\n",
    "random.shuffle(arr)\n",
    "print(arr)\n",
    "quick_sort(arr,0,N-1)\n",
    "print(arr)"
   ]
  },
  {
   "cell_type": "markdown",
   "metadata": {},
   "source": [
    "### 2. 堆排序\n",
    "\n",
    "#### 2.1 最大堆 —> 升序排列\n",
    "大根堆的要求是每个节点的值都不大于其父节点的值，即A[PARENT] >= A。在数组的非降序排序中，需要使用的就是大根堆，因为根据大根堆的要求可知，最大的值一定在堆顶。"
   ]
  },
  {
   "cell_type": "code",
   "execution_count": 10,
   "metadata": {},
   "outputs": [
    {
     "name": "stdout",
     "output_type": "stream",
     "text": [
      "[16, 18, 1, 12, 15, 0, 19, 9, 8, 2, 4, 10, 3, 7, 17, 13, 11, 6, 5, 14]\n",
      "[0, 1, 2, 3, 4, 5, 6, 7, 8, 9, 10, 11, 12, 13, 14, 15, 16, 17, 18, 19]\n"
     ]
    }
   ],
   "source": [
    "def adjust_heap(heap, parent, size):\n",
    "    lchild = 2*parent + 1\n",
    "    rchild = 2*parent + 2\n",
    "    maxone = parent\n",
    "    if parent < (size+1) // 2:\n",
    "        if lchild < size and heap[lchild] > heap[maxone]:\n",
    "            maxone = lchild\n",
    "        if rchild < size and heap[rchild] > heap[maxone]:\n",
    "            maxone = rchild\n",
    "        if maxone != parent:\n",
    "            heap[maxone], heap[parent] = heap[parent], heap[maxone]\n",
    "            adjust_heap(heap, maxone, size)\n",
    "\n",
    "def build_heap(arr, size):\n",
    "    for i in range((size-1)//2, -1, -1):\n",
    "        adjust_heap(arr, i, size)\n",
    "        \n",
    "def heap_sort(arr):\n",
    "    size = len(arr)\n",
    "    build_heap(arr, size)\n",
    "    for i in range(size-1, -1, -1):\n",
    "        arr[0], arr[i] = arr[i], arr[0]\n",
    "        adjust_heap(arr, 0, i)\n",
    "        \n",
    "arr = list(range(N))\n",
    "random.shuffle(arr)\n",
    "print(arr)\n",
    "heap_sort(arr)\n",
    "print(arr)"
   ]
  },
  {
   "cell_type": "markdown",
   "metadata": {},
   "source": [
    "### 3. 归并排序\n",
    "归并排序是建立在归并操作上的一种有效的排序算法,该算法是采用分治法（Divide and Conquer）的一个非常典型的应用。将已有序的子序列合并，得到完全有序的序列；即先使每个子序列有序，再使子序列段间有序。若将两个有序表合并成一个有序表，称为二路归并。\n",
    "归并过程为：比较a和a[j]的大小，若a≤a[j]，则将第一个有序表中的元素a复制到r[k]中，并令i和k分别加上1；否则将第二个有序表中的元素a[j]复制到r[k]中，并令j和k分别加上1，如此循环下去，直到其中一个有序表取完，然后再将另一个有序表中剩余的元素复制到r中从下标k到下标t的单元。归并排序的算法我们通常用递归实现，先把待排序区间[s,t]以中点二分，接着把左边子区间排序，再把右边子区间排序，最后把左区间和右区间用一次归并操作合并成有序的区间[s,t]。"
   ]
  },
  {
   "cell_type": "code",
   "execution_count": 15,
   "metadata": {},
   "outputs": [
    {
     "name": "stdout",
     "output_type": "stream",
     "text": [
      "[5, 10, 8, 12, 7, 2, 13, 9, 16, 1, 14, 11, 17, 6, 4, 3, 0, 15, 19, 18]\n",
      "[0, 1, 2, 3, 4, 5, 6, 7, 8, 9, 10, 11, 12, 13, 14, 15, 16, 17, 18, 19]\n"
     ]
    }
   ],
   "source": [
    "def merge(left, right):\n",
    "    i,j = 0, 0\n",
    "    result = []\n",
    "    while i < len(left) and j < len(right):\n",
    "        if left[i] <= right[j]:\n",
    "            result.append(left[i])\n",
    "            i += 1\n",
    "        else:\n",
    "            result.append(right[j])\n",
    "            j += 1\n",
    "    if i < len(left):\n",
    "        result += left[i:]\n",
    "    elif j < len(right):\n",
    "        result += right[j:]\n",
    "    return result\n",
    "\n",
    "def merge_sort(arr):\n",
    "    if len(arr) <= 1:\n",
    "        return arr\n",
    "    num = len(arr) // 2\n",
    "    left = merge_sort(arr[:num])\n",
    "    right = merge_sort(arr[num:])\n",
    "    return merge(left, right)\n",
    "\n",
    "arr = list(range(N))\n",
    "random.shuffle(arr)\n",
    "print(arr)\n",
    "new_arr = merge_sort(arr)\n",
    "print(new_arr)"
   ]
  },
  {
   "cell_type": "markdown",
   "metadata": {},
   "source": [
    "### 4. 基数排序\n",
    "基数排序（radix sort）属于“分配式排序”（distribution sort），又称“桶子法”（bucket sort）或bin sort，顾名思义，它是透过键值的部份资讯，将要排序的元素分配至某些“桶”中，藉以达到排序的作用，基数排序法是属于稳定性的排序，其时间复杂度为O (nlog(r)m)，其中r为所采取的基数，而m为堆数，在某些时候，基数排序法的效率高于其它的稳定性排序法。"
   ]
  },
  {
   "cell_type": "code",
   "execution_count": 17,
   "metadata": {},
   "outputs": [
    {
     "name": "stdout",
     "output_type": "stream",
     "text": [
      "[4, 13, 19, 2, 5, 16, 7, 18, 1, 17, 10, 12, 14, 9, 15, 6, 0, 3, 11, 8]\n",
      "[4]\n"
     ]
    }
   ],
   "source": [
    "import math\n",
    "def radix_sort(arr, radix=10):\n",
    "    k = int(math.ceil(math.log(max(arr), radix)))\n",
    "    bucket =[[] for i in range(radix)]\n",
    "    for i in range(1, k+1):\n",
    "        for j in arr:\n",
    "            bucket[int(j/(radix**(i-1)) % (radix ** i))].append(j)\n",
    "            del arr[:]\n",
    "            for z in bucket:\n",
    "                arr += z\n",
    "                del z[:]\n",
    "    return arr\n",
    "\n",
    "arr = list(range(N))\n",
    "random.shuffle(arr)\n",
    "print(arr)\n",
    "new_arr = radix_sort(arr)\n",
    "print(new_arr)"
   ]
  },
  {
   "cell_type": "code",
   "execution_count": null,
   "metadata": {},
   "outputs": [],
   "source": []
  }
 ],
 "metadata": {
  "kernelspec": {
   "display_name": "Python 3",
   "language": "python",
   "name": "python3"
  },
  "language_info": {
   "codemirror_mode": {
    "name": "ipython",
    "version": 3
   },
   "file_extension": ".py",
   "mimetype": "text/x-python",
   "name": "python",
   "nbconvert_exporter": "python",
   "pygments_lexer": "ipython3",
   "version": "3.6.4"
  }
 },
 "nbformat": 4,
 "nbformat_minor": 2
}
