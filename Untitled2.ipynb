{
 "cells": [
  {
   "cell_type": "code",
   "execution_count": 34,
   "metadata": {},
   "outputs": [
    {
     "name": "stdout",
     "output_type": "stream",
     "text": [
      "start word_0\n",
      "start word_1\n",
      "start word_2\n",
      "start word_3\n",
      "start word_4\n",
      "start word_5\n",
      "start word_6\n",
      "start word_7\n",
      "start word_8\n",
      "start word_9\n",
      "start word_10\n",
      "1232\n",
      "[]\n"
     ]
    }
   ],
   "source": [
    "import multiprocessing as mp\n",
    "import os\n",
    "MAX_BLOCK_SIZE = 30000000\n",
    "\n",
    "\n",
    "def Counter(name, mutex, block, word_map_list):\n",
    "    \n",
    "    print ('Run child process %s %s.....' % (name, os.getid()))\n",
    "    for line in block:\n",
    "        line = line.split(' ')\n",
    "        for w in line:\n",
    "            if w:\n",
    "                if w not in word_map:\n",
    "                    word_map[w] = 0\n",
    "                word_map[w] += 1\n",
    "    #mutex.acquire()\n",
    "    \n",
    "    #mutex.release()\n",
    "    print(\"work_%d finished size = %d\\n\"%(name, len(word_map)))\n",
    "    return word_map\n",
    "\n",
    "def merge(word_map_list):\n",
    "    sum_map = {}\n",
    "    for wm in word_map_list:\n",
    "        sum_map.update(wm)\n",
    "    return sum_map\n",
    "\n",
    "\n",
    "\n",
    "def topK(filename, k=10):\n",
    "    word_map_list = []\n",
    "    comm_word_map_list = mp.Manager().list(word_map_list)\n",
    "    pool = mp.Pool(8)\n",
    "    mutex = mp.Lock()\n",
    "    try:\n",
    "        with open(filename,'rb') as f:\n",
    "            idx = 0\n",
    "            block = f.readlines(MAX_BLOCK_SIZE)\n",
    "            while block:\n",
    "                block = [s.decode('utf-8','ignore')[:3] for s in block]\n",
    "                print(\"start word_%d\"%(idx))\n",
    "                comm_block = mp.Manager().list(block)\n",
    "                p = pool.apply_async ( Counter, args=(idx, mutex, block.copy(), comm_word_map_list) )\n",
    "            \n",
    "                \n",
    "                idx += 1\n",
    "                block = f.readlines(MAX_BLOCK_SIZE)\n",
    "            \n",
    "        pool.close()\n",
    "        pool.join()\n",
    "        print(\"1232\")\n",
    "        final_map = merge(comm_word_map_list)\n",
    "        ret = sorted(final_map.items(), key = lambda item:item[1], reverse = True)[:k]\n",
    "        print(ret)\n",
    "        \n",
    "\n",
    "    except Exception as e:\n",
    "        print(e)\n",
    "\n",
    "topK('test.txt')"
   ]
  },
  {
   "cell_type": "code",
   "execution_count": 27,
   "metadata": {},
   "outputs": [
    {
     "name": "stdout",
     "output_type": "stream",
     "text": [
      "Help on method apply_async in module multiprocessing.pool:\n",
      "\n",
      "apply_async(func, args=(), kwds={}, callback=None, error_callback=None) method of multiprocessing.pool.Pool instance\n",
      "    Asynchronous version of `apply()` method.\n",
      "\n"
     ]
    }
   ],
   "source": [
    "help(p.apply_async)"
   ]
  },
  {
   "cell_type": "code",
   "execution_count": null,
   "metadata": {},
   "outputs": [],
   "source": [
    "p."
   ]
  }
 ],
 "metadata": {
  "kernelspec": {
   "display_name": "Python 3",
   "language": "python",
   "name": "python3"
  },
  "language_info": {
   "codemirror_mode": {
    "name": "ipython",
    "version": 3
   },
   "file_extension": ".py",
   "mimetype": "text/x-python",
   "name": "python",
   "nbconvert_exporter": "python",
   "pygments_lexer": "ipython3",
   "version": "3.6.4"
  }
 },
 "nbformat": 4,
 "nbformat_minor": 2
}
