{
 "cells": [
  {
   "cell_type": "code",
   "execution_count": 1,
   "metadata": {},
   "outputs": [
    {
     "name": "stdout",
     "output_type": "stream",
     "text": [
      "13 17\n",
      "________________0 17\n",
      "_______________y0 17\n",
      "______________py0 17\n",
      "_____________ppy0 17\n",
      "____________appy0 17\n",
      "___________happy0 17\n",
      "________%20happy0 17\n",
      "_______e%20happy0 17\n",
      "______re%20happy0 17\n",
      "_____are%20happy0 17\n",
      "__%20are%20happy0 17\n",
      "_e%20are%20happy0 17\n",
      "We%20are%20happy0 17\n"
     ]
    }
   ],
   "source": [
    "def replace(s):\n",
    "    count = 0\n",
    "    for si in s:\n",
    "        if si == ' ':\n",
    "            count += 1\n",
    "    new_len = (len(s) + count * 2)\n",
    "    new_s = ['_'] * new_len\n",
    "    i = len(s) - 1\n",
    "    j = len(new_s) - 1\n",
    "    print(len(s),len(new_s))\n",
    "    while i >= 0:\n",
    "        if s[i] != ' ':\n",
    "            new_s[j] = s[i]\n",
    "            j -= 1\n",
    "        else:\n",
    "            new_s[j-2:j+1] = '%20'\n",
    "            j -= 3\n",
    "        i -= 1\n",
    "        print(''.join(new_s),len(new_s))\n",
    "replace('We are happy0')"
   ]
  },
  {
   "cell_type": "code",
   "execution_count": 1,
   "metadata": {},
   "outputs": [
    {
     "name": "stdout",
     "output_type": "stream",
     "text": [
      "0 1 2 3 4 5 6 7 8 9 \n"
     ]
    }
   ],
   "source": [
    "class ListNode():\n",
    "    def __init__(self):\n",
    "        self.val = 0\n",
    "        self.next = None\n",
    "    def __init__(self, val):\n",
    "        self.val = val\n",
    "        self.next = None\n",
    "\n",
    "def CreateList(arr):\n",
    "    if arr == None:\n",
    "        return None\n",
    "    head = ListNode(arr[0])\n",
    "    teal = head\n",
    "    for a in arr[1:]:\n",
    "        teal.next = ListNode(a)\n",
    "        teal = teal.next\n",
    "    return head\n",
    "\n",
    "def PrintList(pHead):\n",
    "    if pHead == None:\n",
    "        print('The pointer refer to null!!!')\n",
    "    else:\n",
    "        ptr = pHead\n",
    "        while(ptr != None):\n",
    "            print(ptr.val, end=' ')\n",
    "            ptr = ptr.next\n",
    "        print('')\n",
    "    \n",
    "\n",
    "arr = [i for i in range(10)]\n",
    "head = CreateList(arr)\n",
    "PrintList(head)"
   ]
  },
  {
   "cell_type": "code",
   "execution_count": 3,
   "metadata": {},
   "outputs": [
    {
     "name": "stdout",
     "output_type": "stream",
     "text": [
      "9 8 7 6 5 4 3 2 1 0 \n"
     ]
    }
   ],
   "source": [
    "def reverse(pHead):\n",
    "    if not pHead:\n",
    "        return None\n",
    "    if not pHead.next:\n",
    "        return pHead\n",
    "    \n",
    "    tail = pHead\n",
    "    head = pHead\n",
    "    ptr = head.next\n",
    "    head.next = None\n",
    "    while(ptr != None):\n",
    "        pNext = ptr.next\n",
    "        ptr.next = head\n",
    "        tail.next = pNext\n",
    "        head = ptr\n",
    "        ptr = pNext\n",
    "        \n",
    "    return head\n",
    "r= reverse(head)\n",
    "PrintList(r)"
   ]
  },
  {
   "cell_type": "code",
   "execution_count": 4,
   "metadata": {},
   "outputs": [],
   "source": [
    "head = CreateList(arr)\n",
    "def removeNode(pHead, val):\n",
    "    head = pHead[0]\n",
    "    if head != None:\n",
    "        if head.val == val:\n",
    "            new_head = head.next\n",
    "            head.next = None\n",
    "            del head \n",
    "            pHead[0] = new_head\n",
    "\n",
    "        else:\n",
    "            ptr = head.next\n",
    "            pre = head\n",
    "            while ptr != None:\n",
    "                if ptr.val == val:\n",
    "                    pre.next = ptr.next\n",
    "                    ptr.next = None\n",
    "                    del ptr\n",
    "                    break\n",
    "                pre = ptr\n",
    "\n",
    "\n",
    "# pHead = [head,]\n",
    "# for i in range(10):\n",
    "#     removeNode(pHead, i)\n",
    "#     PrintList(pHead[0])"
   ]
  },
  {
   "cell_type": "code",
   "execution_count": 5,
   "metadata": {},
   "outputs": [
    {
     "name": "stdout",
     "output_type": "stream",
     "text": [
      "9 8 7 6 5 4 3 2 1 0 "
     ]
    }
   ],
   "source": [
    "head = CreateList(arr)\n",
    "def reversePrint(pHead):\n",
    "    if pHead != None:\n",
    "        reversePrint(pHead.next)\n",
    "        print(pHead.val, end=' ')\n",
    "reversePrint(head)"
   ]
  },
  {
   "cell_type": "code",
   "execution_count": 6,
   "metadata": {},
   "outputs": [
    {
     "name": "stdout",
     "output_type": "stream",
     "text": [
      "1 0 0 \n"
     ]
    }
   ],
   "source": [
    "def removeElements(head, val):\n",
    "    \"\"\"\n",
    "    :type head: ListNode\n",
    "    :type val: int\n",
    "    :rtype: ListNode\n",
    "    \"\"\"\n",
    "    fake = ListNode(None)\n",
    "    fake.next = head\n",
    "    ptr = head\n",
    "    pre = fake\n",
    "    while ptr :\n",
    "        \n",
    "        if ptr.val == val:\n",
    "            pre.next = ptr.next\n",
    "            print(ptr.val)\n",
    "            del ptr\n",
    "            ptr = pre.next\n",
    "        else:\n",
    "            pre = ptr\n",
    "            ptr = ptr.next\n",
    "    head = fake.next\n",
    "    return fake.next\n",
    "arr = [1,0,0]\n",
    "head = CreateList(arr)\n",
    "dep = removeElements(head, 6)\n",
    "PrintList(dep)"
   ]
  },
  {
   "cell_type": "code",
   "execution_count": 7,
   "metadata": {},
   "outputs": [
    {
     "name": "stdout",
     "output_type": "stream",
     "text": [
      "0 1 2 3 4 5 6 7 8 9 \n"
     ]
    }
   ],
   "source": [
    "arr = list(range(10))\n",
    "head = CreateList(arr)\n",
    "PrintList(head)\n",
    "rev = head"
   ]
  },
  {
   "cell_type": "code",
   "execution_count": 8,
   "metadata": {},
   "outputs": [
    {
     "name": "stdout",
     "output_type": "stream",
     "text": [
      "9 8 7 6 5 4 3 2 1 0 \n"
     ]
    }
   ],
   "source": [
    "def reverse(head):\n",
    "    if not head or not head.next:\n",
    "        return head\n",
    "    pre, ptr = head, head.next\n",
    "    head.next = None\n",
    "    while ptr:\n",
    "        pro, ptr.next= ptr.next, pre\n",
    "        pre, ptr = ptr, pro\n",
    "    return pre\n",
    "\n",
    "rev = reverse(rev)\n",
    "PrintList(rev)"
   ]
  },
  {
   "cell_type": "code",
   "execution_count": 9,
   "metadata": {},
   "outputs": [
    {
     "name": "stdout",
     "output_type": "stream",
     "text": [
      "1 2 3 4 5 6 7 \n",
      "4\n"
     ]
    }
   ],
   "source": [
    "def findmid(head):\n",
    "    slow = fast = head\n",
    "    while fast and fast.next:\n",
    "        fast = fast.next.next\n",
    "        slow = slow.next\n",
    "    return slow\n",
    "arr = list(range(1,8))\n",
    "head = CreateList(arr)\n",
    "PrintList(head)\n",
    "mid = findmid(head)\n",
    "print(mid.val)"
   ]
  },
  {
   "cell_type": "code",
   "execution_count": 28,
   "metadata": {},
   "outputs": [],
   "source": [
    "import gc"
   ]
  },
  {
   "cell_type": "code",
   "execution_count": 58,
   "metadata": {},
   "outputs": [
    {
     "name": "stdout",
     "output_type": "stream",
     "text": [
      "0 2 3 4 5 6 7 \n",
      "0 3 4 5 6 7 \n",
      "0 4 5 6 7 \n",
      "0 5 6 7 \n",
      "0 6 7 \n",
      "0 7 \n",
      "0 \n",
      "The pointer refer to null!!!\n"
     ]
    }
   ],
   "source": [
    "def deleteNode(_head, pNode):\n",
    "    \n",
    "    head = _head[0]\n",
    "    if pNode.next is not None:\n",
    "        pNode.val = pNode.next.val\n",
    "        tmp = pNode.next\n",
    "        pNode.next = pNode.next.next\n",
    "        del tmp\n",
    "    elif head == pNode:\n",
    "        if head.next == None:\n",
    "            head.val = None\n",
    "            _head[0] = None\n",
    "            #head = 'The list is None'\n",
    "        else:\n",
    "            tmp = head\n",
    "            head = head.next\n",
    "            del tmp\n",
    "    else:\n",
    "        ptr = head\n",
    "        while ptr and ptr.next != pNode:\n",
    "            ptr = ptr.next\n",
    "        if ptr: \n",
    "            ptr.next = pNode.next\n",
    "            del pNode\n",
    "            \n",
    "arr = list(range(8))\n",
    "head = CreateList(arr)\n",
    "phead = [head]\n",
    "for i in range(7):\n",
    "    deleteNode(phead, head.next)\n",
    "    PrintList( head)\n",
    "\n",
    "\n",
    "deleteNode(phead,head)\n",
    "PrintList(phead[0])"
   ]
  },
  {
   "cell_type": "code",
   "execution_count": 16,
   "metadata": {},
   "outputs": [
    {
     "name": "stdout",
     "output_type": "stream",
     "text": [
      "0 1 2 3 4 5 6 7 \n",
      "No.1 = 7\n",
      "No.2 = 6\n",
      "No.3 = 5\n",
      "No.4 = 4\n",
      "No.5 = 3\n",
      "No.6 = 2\n",
      "No.7 = 1\n",
      "No.8 = 0\n"
     ]
    }
   ],
   "source": [
    "def FindKthToTail(head, k):\n",
    "    i = 0\n",
    "    ptr = head\n",
    "    while ptr and i < k:\n",
    "        ptr = ptr.next\n",
    "        i += 1\n",
    "    if i != k:\n",
    "        print(\"There no kth node\")\n",
    "        return None\n",
    "    pre = head\n",
    "    #print(ptr.val)\n",
    "    while ptr:\n",
    "        pre = pre.next\n",
    "        ptr = ptr.next\n",
    "    return pre\n",
    "arr = list(range(8))\n",
    "head = CreateList(arr)\n",
    "PrintList(head)\n",
    "for i in range(1,9):\n",
    "    kth = FindKthToTail(head, i)\n",
    "    print('No.%d = %d'%(i, kth.val))"
   ]
  },
  {
   "cell_type": "code",
   "execution_count": 61,
   "metadata": {},
   "outputs": [
    {
     "name": "stdout",
     "output_type": "stream",
     "text": [
      "5\n"
     ]
    }
   ],
   "source": [
    "#create a loop for linklist !!! Do no print directly or you will trap in death-loop\n",
    "arr = list(range(6))\n",
    "head = CreateList(arr)\n",
    "tail = head\n",
    "while tail.next:\n",
    "    tail = tail.next\n",
    "enter_point =  head\n",
    "for i in range(5):\n",
    "    enter_point = enter_point.next\n",
    "print(enter_point.val)\n",
    "#tail.next = enter_point"
   ]
  },
  {
   "cell_type": "code",
   "execution_count": 62,
   "metadata": {},
   "outputs": [
    {
     "name": "stdout",
     "output_type": "stream",
     "text": [
      "no loop\n"
     ]
    }
   ],
   "source": [
    "def MeetingNode(head):\n",
    "    if not head:\n",
    "        return None\n",
    "    pSlow, pFast = head, head\n",
    "    while pFast:\n",
    "        pSlow = pSlow.next\n",
    "        pFast = pFast.next\n",
    "        if pFast:\n",
    "            pFast = pFast.next\n",
    "        else:\n",
    "            print(\"pFast encount the end\")\n",
    "            return None\n",
    "        #print(pSlow.val, pFast.val)\n",
    "        if pFast == pSlow:\n",
    "            return pFast\n",
    "    print(\"no loop\")\n",
    "    return None\n",
    "meetNode = MeetingNode(head)\n",
    "if meetNode:\n",
    "    print(meetNode.val)"
   ]
  },
  {
   "cell_type": "code",
   "execution_count": 49,
   "metadata": {},
   "outputs": [
    {
     "name": "stdout",
     "output_type": "stream",
     "text": [
      "5\n"
     ]
    },
    {
     "data": {
      "text/plain": [
       "<__main__.ListNode at 0x518e5f8>"
      ]
     },
     "execution_count": 49,
     "metadata": {},
     "output_type": "execute_result"
    }
   ],
   "source": [
    "def EntryNodeOfLoop(head):\n",
    "    meetNode = MeetingNode(head)\n",
    "    if not meetNode:\n",
    "        return Node\n",
    "    cntLoop = 1\n",
    "    ptr = meetNode.next\n",
    "    while ptr != meetNode:\n",
    "        cntLoop += 1\n",
    "        ptr = ptr.next\n",
    "    #print(cntLoop)\n",
    "    pSlow, pFast = head, head\n",
    "    while cntLoop:\n",
    "        cntLoop -= 1\n",
    "        pFast = pFast.next\n",
    "    while pSlow != pFast:\n",
    "        pSlow = pSlow.next\n",
    "        pFast = pFast.next\n",
    "    print(pFast.val)\n",
    "    return pFast\n",
    "EntryNodeOfLoop(head)"
   ]
  },
  {
   "cell_type": "code",
   "execution_count": 65,
   "metadata": {},
   "outputs": [
    {
     "name": "stdout",
     "output_type": "stream",
     "text": [
      "0 1 2 3 4 5 6 7 8 9 \n",
      "9 8 7 6 5 4 3 2 1 0 \n"
     ]
    }
   ],
   "source": [
    "arr = list(range(10))\n",
    "head = CreateList(arr)\n",
    "PrintList(head)\n",
    "def reverse(head):\n",
    "    if not head or not head.next:\n",
    "        return head\n",
    "    pre, ptr = head, head.next\n",
    "    pre.next = None\n",
    "    while ptr:\n",
    "        pro, ptr.next = ptr.next, pre\n",
    "        pre, ptr = ptr, pro\n",
    "    return pre\n",
    "rev = reverse(head)\n",
    "PrintList(rev)"
   ]
  },
  {
   "cell_type": "code",
   "execution_count": 77,
   "metadata": {},
   "outputs": [
    {
     "name": "stdout",
     "output_type": "stream",
     "text": [
      "1 2 4 4 5 6 6 7 10 \n"
     ]
    }
   ],
   "source": [
    "def MergeSortedList(head1, head2):\n",
    "    if not head1:\n",
    "        return head2\n",
    "    if not head2:\n",
    "        return head1\n",
    "    if head1.val > head2.val:\n",
    "        head1, head2 = head2, head1\n",
    "    \n",
    "    pre1, p1, p2 = head1, head1.next, head2\n",
    "    while p1 and p2:\n",
    "        if p1.val > p2.val:\n",
    "            pre1.next = p2\n",
    "            pro2, p2.next = p2.next, p1\n",
    "            p2 = pro2\n",
    "            \n",
    "        pre1 = pre1.next\n",
    "        p1 = pre1.next\n",
    "    if p2:\n",
    "        pre1.next = p2\n",
    "    return head1\n",
    "\n",
    "h1 = CreateList([2,4,4,6,7,10])\n",
    "h2 = CreateList([1,5,6])\n",
    "m = MergeSortedList(h1, h2)\n",
    "PrintList(m)"
   ]
  },
  {
   "cell_type": "code",
   "execution_count": null,
   "metadata": {},
   "outputs": [],
   "source": []
  }
 ],
 "metadata": {
  "kernelspec": {
   "display_name": "Python 3",
   "language": "python",
   "name": "python3"
  },
  "language_info": {
   "codemirror_mode": {
    "name": "ipython",
    "version": 3
   },
   "file_extension": ".py",
   "mimetype": "text/x-python",
   "name": "python",
   "nbconvert_exporter": "python",
   "pygments_lexer": "ipython3",
   "version": "3.6.4"
  }
 },
 "nbformat": 4,
 "nbformat_minor": 2
}
