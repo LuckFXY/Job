{
 "cells": [
  {
   "cell_type": "markdown",
   "metadata": {},
   "source": [
    "## 1. 小Q的歌单\n",
    "\n",
    "1. 小Q有X首长度为A的不同歌曲和Y首长度为B的不同歌曲。现在小Q想组成一个长度为K的歌单，\n",
    "2. 在每首歌曲只重复一次，不考虑顺序的情况下该歌单有多少种组合\n",
    "3. X, Y <= 100, A != B 输出结果对 1000000007 取模\n",
    "4. 测试用例:\n",
    "        输入:\n",
    "        5\n",
    "        2 3 3 3\n",
    "        输出:\n",
    "        9\n",
    "        \n",
    "### 分析：\n",
    "\n",
    "    设歌单中长度为A,B的歌曲数量分别为 i,j 则 i * A + j * B <= k and i <= X and j <= y\n",
    "    对于每一组合法的歌单可以简记为(i,j)，此时直接根据题意算出该情况下的组合数 s(i,j) = c(x,i) * c(y,j)\n",
    "    将所有合法的（i,j）找出，并且将total = total + s(i,j)"
   ]
  },
  {
   "cell_type": "code",
   "execution_count": 43,
   "metadata": {},
   "outputs": [
    {
     "name": "stdout",
     "output_type": "stream",
     "text": [
      "1 0 0 0 \n",
      "1 1 0 0 \n",
      "1 2 1 0 \n",
      "1 3 3 1 \n"
     ]
    }
   ],
   "source": [
    "class solution():\n",
    "    \n",
    "    c = [[0] * 105 for _ in range(101)]\n",
    "    init_c = False\n",
    "    mod_num = 1000000007\n",
    "    def __init__(self):\n",
    "        '''\n",
    "            initial the matrix which stored the combination numbers\n",
    "        '''\n",
    "        if not solution.init_c:\n",
    "            solution.init_matrix()\n",
    "            \n",
    "    @classmethod\n",
    "    def init_matrix(cls):\n",
    "        cls.c[0][0] = 1\n",
    "        for i in range(1, 101):\n",
    "            cls.c[i][0] = 1\n",
    "            for j in range(1, i+1):\n",
    "                # c(n,k) = c(n-1, k-1) + c(n-1, k)\n",
    "                # (a*10 + b) % m = ( a% m\n",
    "                cls.c[i][j] = (cls.c[i-1][j-1] + cls.c[i-1][j]) % cls.mod_num \n",
    "        cls.init_c = True\n",
    "    \n",
    "    @classmethod\n",
    "    def get_comb_num(cls, k, a, x, b, y):\n",
    "        ans = 0\n",
    "        for i in range(0, x+1):\n",
    "            sa = i * a\n",
    "            if sa <= k and (k -sa) % b == 0:\n",
    "                \n",
    "                j = (k-sa) // b\n",
    "                if j <= y:\n",
    "                    ans = (ans + (cls.c[x][i] * cls.c[y][j]) % cls.mod_num )% cls.mod_num\n",
    "        return ans\n",
    "    \n",
    "s = solution()\n",
    "for i in range(4):\n",
    "    for j in range(4):\n",
    "        print(s.c[i][j], end=' ')\n",
    "    print(\"\")"
   ]
  },
  {
   "cell_type": "code",
   "execution_count": 44,
   "metadata": {},
   "outputs": [
    {
     "name": "stdout",
     "output_type": "stream",
     "text": [
      "9\n"
     ]
    }
   ],
   "source": [
    "# try:\n",
    "#     k = int(input(\"input k : \"))\n",
    "#     tmp = input(\"input a, x, b, y split by space : \")\n",
    "#     a, x, b, y = list(map(int, tmp.split(' ')))\n",
    "# except Exception as e:\n",
    "#     print(e)\n",
    "k = 5\n",
    "a, x, b, y = 2, 3, 3, 3\n",
    "ans = s.get_comb_num(k, a, x, b, y)\n",
    "print(ans)"
   ]
  },
  {
   "cell_type": "markdown",
   "metadata": {},
   "source": [
    "## 2.  安排机器\n",
    "\n",
    "1. m个机器，每个机器最长工作时间zi, 机器等级wi\n",
    "2. n个任务，每个任务耗时 xi, 难度 yi\n",
    "3. 一个任务只能由一个机器完成， 且 yi <= wi and xi <= cur(zi)\n",
    "4. 完成一个任务的收益 200 * xi + 3 * yi\n",
    "5. 求一天内完成任务的最大数量以及最大收益\n",
    "\n",
    "        输入\n",
    "        1 2 \n",
    "        100 3\n",
    "        100 2 \n",
    "        100 1\n",
    "        输出\n",
    "        1 20006\n",
    "        \n",
    "### 分析\n",
    "因为只求一天的任务数量，时间收益200 > 难度收益3， 而且每个机器只完成一个任务，\n",
    "\n",
    "我们找到空闲时间大于任务的机器，并从它们之中选择难度刚刚好大于等于任务难度去执行该任务\n",
    "\n",
    "用一个cnt数组去记录符合时间要求的机器编号，由于机器编号是按照最大时间排序的，任务也是，所以能满足第i任务的机器同时适用于i+1， i+2 ..之后的任务，虽然这种做法有点浪费，所以我们才执行 for k in range(jobs[i][1], 100) 去找到能满足任务要求但是配置最低的机器去执行它。"
   ]
  },
  {
   "cell_type": "code",
   "execution_count": 76,
   "metadata": {},
   "outputs": [],
   "source": [
    "def arrange_job(workers, jobs):\n",
    "    '''\n",
    "        workers, jobs are lists which contain the information of time and difficult\n",
    "        e.g workers =[[100,3],[100,2]]\n",
    "    '''\n",
    "    n , m = len(workers), len(jobs)\n",
    "    if n * m == 0:\n",
    "        return 0\n",
    "\n",
    "    # sort descending\n",
    "    workers.sort(key = lambda x: [x[0],x[1]], reverse=True)\n",
    "    jobs.sort(key = lambda x: [x[0],x[1]], reverse=True)\n",
    "\n",
    "    #Minimum requirements\n",
    "    cnt = [0] * 105\n",
    "    ans, num =0, 0\n",
    "    j = 0\n",
    "    for i in range(m):\n",
    "       \n",
    "        while j < n and workers[j][0] >= jobs[j][0]:\n",
    "            #cnt records the workers_idx in which working time is greater than job_time\n",
    "            if workers[j][1] >= jobs[i][1]:\n",
    "                cnt[workers[j][i]] += 1\n",
    "            j += 1\n",
    "    \n",
    "        for k in range(jobs[i][1], 101):\n",
    "            #find the first worker which can handle the job\n",
    "            if cnt[k]:\n",
    "                num += 1\n",
    "                cnt[k] -= 1\n",
    "                ans +=  200 * jobs[i][0] + 3 * jobs[i][1]\n",
    "                break\n",
    "    print(\"{} {}\".format(num, ans))\n",
    "    return 0"
   ]
  },
  {
   "cell_type": "code",
   "execution_count": 75,
   "metadata": {},
   "outputs": [
    {
     "name": "stdout",
     "output_type": "stream",
     "text": [
      "[100, 2]\n",
      "1 20006\n"
     ]
    },
    {
     "data": {
      "text/plain": [
       "0"
      ]
     },
     "execution_count": 75,
     "metadata": {},
     "output_type": "execute_result"
    }
   ],
   "source": [
    "workers=[[100,3]]\n",
    "jobs = [[100,1],[100,2]]\n",
    "arrange_job(workers, jobs)"
   ]
  },
  {
   "cell_type": "code",
   "execution_count": null,
   "metadata": {},
   "outputs": [],
   "source": [
    "[1,2,3,4]"
   ]
  }
 ],
 "metadata": {
  "kernelspec": {
   "display_name": "Python 3",
   "language": "python",
   "name": "python3"
  },
  "language_info": {
   "codemirror_mode": {
    "name": "ipython",
    "version": 3
   },
   "file_extension": ".py",
   "mimetype": "text/x-python",
   "name": "python",
   "nbconvert_exporter": "python",
   "pygments_lexer": "ipython3",
   "version": "3.6.4"
  }
 },
 "nbformat": 4,
 "nbformat_minor": 2
}
