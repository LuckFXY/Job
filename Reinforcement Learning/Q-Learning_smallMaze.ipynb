{
 "cells": [
  {
   "cell_type": "markdown",
   "metadata": {},
   "source": [
    "0. 如何用简单例子讲解 Q - learning 的具体过程？\n",
    "  https://www.zhihu.com/question/26408259\n",
    "1. A Painless Q-learning Tutorial (一个 Q-learning 算法的简明教程)\n",
    "  https://blog.csdn.net/itplus/article/details/9361915\n",
    "2. 强化学习之Q-learning简介\n",
    "  https://blog.csdn.net/Young_Gy/article/details/73485518\n",
    "3. Simple Reinforcement Learning with Tensorflow Part 0: Q-Learning with Tables and Neural Networks\n",
    "  https://medium.com/emergent-future/simple-reinforcement-learning-with-tensorflow-part-0-q-learning-with-tables-and-neural-networks-d195264329d0"
   ]
  },
  {
   "cell_type": "code",
   "execution_count": 1,
   "metadata": {},
   "outputs": [],
   "source": [
    "import numpy as np\n",
    "import matplotlib.pyplot as plt"
   ]
  },
  {
   "cell_type": "code",
   "execution_count": 95,
   "metadata": {
    "scrolled": true
   },
   "outputs": [
    {
     "name": "stdout",
     "output_type": "stream",
     "text": [
      "Final Q-table:\n",
      "[[ 0.      -9.9999   0.      -0.9999  -1.00001]\n",
      " [ 0.      10.0001  -1.00001  0.      -0.9999 ]\n",
      " [-1.00001  0.       0.      10.0001  -0.9999 ]\n",
      " [-0.9999   0.      -9.9999   0.      10.0001 ]]\n"
     ]
    }
   ],
   "source": [
    "gamma = 0.00001\n",
    "#每一格子的奖励\n",
    "reward = np.array([\n",
    "    [0, -10, 0, -1, -1],\n",
    "    [0, 10, -1, 0, -1],\n",
    "    [-1, 0, 0, 10, -1],\n",
    "    [-1, 0, -10, 0, 10]\n",
    "])\n",
    "#智能体\n",
    "q_matrix = np.zeros((4,5))\n",
    "#转移矩阵，可以if up : i -= 1代替\n",
    "transition_matrix = np.array([\n",
    "    [-1, 2, -1, 1, 0],\n",
    "    [-1, 3, 0, -1, 1],\n",
    "    [0, -1, -1 , 3, 2],\n",
    "    [1, -1, 2, -1, 3]\n",
    "])\n",
    "#每个状态下可移动的走法,方向\n",
    "valid_actions = np.array([[1, 3, 4],\n",
    "                          [1, 2, 4],\n",
    "                          [0, 3, 4],\n",
    "                          [0, 2, 4]])\n",
    "count = 0\n",
    "for i in range(20):\n",
    "    start_state = 0\n",
    "\n",
    "    current_state = 3\n",
    "\n",
    "    while current_state != 2:\n",
    "\n",
    "        action = np.random.choice(valid_actions[current_state])\n",
    "        next_state = transition_matrix[current_state][action]\n",
    "        future_rewards = []\n",
    "        for action_nxt in valid_actions[next_state]:\n",
    "            future_rewards.append(q_matrix[next_state][action_nxt])\n",
    "            \n",
    "        q_state = reward[current_state][action] + gamma * max(future_rewards)\n",
    "        q_matrix[current_state][action] = q_state\n",
    "        #print(q_matrix)\n",
    "        current_state = next_state\n",
    "        count += 1\n",
    "        \n",
    "    current_state = 2\n",
    "    while current_state != 3:\n",
    "\n",
    "        action = np.random.choice(valid_actions[current_state])\n",
    "        next_state = transition_matrix[current_state][action]\n",
    "        future_rewards = []\n",
    "        for action_nxt in valid_actions[next_state]:\n",
    "            future_rewards.append(q_matrix[next_state][action_nxt])\n",
    "            \n",
    "        q_state = reward[current_state][action] + gamma * max(future_rewards)\n",
    "        q_matrix[current_state][action] = q_state\n",
    "        #print(q_matrix)\n",
    "        current_state = next_state\n",
    "        count += 1\n",
    "\n",
    "print('Final Q-table:')\n",
    "print(q_matrix)"
   ]
  },
  {
   "cell_type": "code",
   "execution_count": 77,
   "metadata": {},
   "outputs": [
    {
     "data": {
      "text/plain": [
       "array([[0.06383525, 0.64529668, 0.83695882, 0.83865503, 0.80016824],\n",
       "       [0.97853068, 0.50987445, 0.42341843, 0.16234167, 0.51432079],\n",
       "       [0.89511401, 0.48452568, 0.17716014, 0.07091557, 0.8486986 ],\n",
       "       [0.52108472, 0.42720886, 0.22522479, 0.75847783, 0.39144759]])"
      ]
     },
     "execution_count": 77,
     "metadata": {},
     "output_type": "execute_result"
    }
   ],
   "source": [
    "np.random.rand(4,5)"
   ]
  },
  {
   "cell_type": "code",
   "execution_count": null,
   "metadata": {},
   "outputs": [],
   "source": []
  }
 ],
 "metadata": {
  "kernelspec": {
   "display_name": "Python 3",
   "language": "python",
   "name": "python3"
  },
  "language_info": {
   "codemirror_mode": {
    "name": "ipython",
    "version": 3
   },
   "file_extension": ".py",
   "mimetype": "text/x-python",
   "name": "python",
   "nbconvert_exporter": "python",
   "pygments_lexer": "ipython3",
   "version": "3.6.4"
  }
 },
 "nbformat": 4,
 "nbformat_minor": 2
}
