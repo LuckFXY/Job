{
 "cells": [
  {
   "cell_type": "code",
   "execution_count": 33,
   "metadata": {},
   "outputs": [],
   "source": [
    "import requests\n",
    "from bs4 import BeautifulSoup as bs\n",
    "import os\n",
    "import random\n",
    "import time\n",
    "import sys\n",
    "import argparse\n",
    "import urllib.request\n",
    "from selenium import webdriver\n",
    "import threading\n",
    "import matplotlib.image as mpimg\n",
    "import matplotlib.pyplot as plt"
   ]
  },
  {
   "cell_type": "code",
   "execution_count": 53,
   "metadata": {},
   "outputs": [],
   "source": [
    "from lxml import etree\n",
    "import urllib"
   ]
  },
  {
   "cell_type": "code",
   "execution_count": 2,
   "metadata": {},
   "outputs": [
    {
     "name": "stdout",
     "output_type": "stream",
     "text": [
      "User-Agent:Mozilla/5.0 (Windows NT 6.1; Win64; x64) AppleWebKit/537.36 (KHTML, like Gecko) Chrome/64.0.3282.186 Safari/537.36\n"
     ]
    }
   ],
   "source": [
    "root_url = 'http://www.mzitu.com'\n",
    "user_agent = r'User-Agent:Mozilla/5.0 (Windows NT 6.1; Win64; x64) AppleWebKit/537.36 (KHTML, like Gecko) Chrome/64.0.3282.186 Safari/537.36'\n",
    "parser = 'html.parser'\n",
    "print(user_agent)"
   ]
  },
  {
   "cell_type": "code",
   "execution_count": 124,
   "metadata": {},
   "outputs": [],
   "source": [
    "headers = dict()\n",
    "headers[\"User-Agent\"] = user_agent\n",
    "page_no = 2\n",
    "cur_url = '/'.join([root_url,'page',str(page_no)])\n",
    "main_page = requests.get(cur_url, headers = headers)"
   ]
  },
  {
   "cell_type": "code",
   "execution_count": 6,
   "metadata": {},
   "outputs": [
    {
     "name": "stdout",
     "output_type": "stream",
     "text": [
      "{'Server': 'DnionOS/1.11.2.4_6', 'Date': 'Sun, 27 May 2018 08:03:19 GMT', 'Content-Type': 'text/html;charset=UTF-8', 'Content-Length': '5021', 'Connection': 'keep-alive', 'Last-Modified': 'Sun, 27 May 2018 03:48:45 GMT', 'Vary': 'Accept-Encoding', 'Cache-Control': 'public, max-age=43200', 'XCache': 'hit - plain', 'X-Frame-Options': 'SAMEORIGIN', 'Content-Encoding': 'gzip', 'Age': '15122', 'Via': 'http/1.1 CT-CMC-CNC-JSCZ-P-9-163 (DLC-6.1.12), http/1.1 CT-SXXA-C-5-177 (DLC-6.1.12)', 'HitType': 'TCP_HIT', 'Server-Info': 'DnionATS'}\n",
      "<RequestsCookieJar[]>\n"
     ]
    }
   ],
   "source": [
    "print(main_page.headers)\n",
    "print(main_page.cookies)\n",
    "soup = bs(main_page.text, parser)"
   ]
  },
  {
   "cell_type": "code",
   "execution_count": 7,
   "metadata": {},
   "outputs": [
    {
     "name": "stdout",
     "output_type": "stream",
     "text": [
      "<a href=\"http://www.mzitu.com/134864\" target=\"_blank\">女神土肥圆矮挫丑黑穷闭月羞花婀娜多姿</a>\n",
      "<a href=\"http://www.mzitu.com/134798\" target=\"_blank\"><img alt=\"女人最高级的性感是精致和潇洒\" class=\"lazy\" data-original=\"http://i.meizitu.net/thumbs/2018/05/134798_17c29_236.jpg\" height=\"354\" src=\"http://i.meizitu.net/pfiles/img/lazy.png\" width=\"236\"/></a>\n",
      "<a href=\"http://www.mzitu.com/134798\" target=\"_blank\">女人最高级的性感是精致和潇洒</a>\n"
     ]
    }
   ],
   "source": [
    "preview_link_list = soup.find(id='pins').find_all('a', target='_blank')[1:]\n",
    "for link in preview_link_list[:3]:\n",
    "    print(link)\n",
    "    #link = link['href']"
   ]
  },
  {
   "cell_type": "code",
   "execution_count": 127,
   "metadata": {},
   "outputs": [
    {
     "data": {
      "text/plain": [
       "True"
      ]
     },
     "execution_count": 127,
     "metadata": {},
     "output_type": "execute_result"
    }
   ],
   "source": [
    "download_path = \"E:\\meizi\"\n",
    "os.path.exists(download_path)"
   ]
  },
  {
   "cell_type": "code",
   "execution_count": 128,
   "metadata": {},
   "outputs": [],
   "source": [
    "header_page ={\n",
    "    'Accept': \"text/html,application/xhtml+xml,application/xml;q=0.9,image/webp,image/apng,*/*;q=0.8\",\n",
    "    'Accept-Encoding': \"gzip, deflate\",\n",
    "    'Accept-Language': \"zh-CN,zh;q=0.9,en-US;q=0.8,en;q=0.7\",\n",
    "    'Connection': \"keep-alive\",\n",
    "    'DNT': \"1\",\n",
    "    'Host': \"www.mzitu.com\",\n",
    "    'Upgrade-Insecure-Requests': \"1\",\n",
    "    'User-Agent': \"Mozilla/5.0 (Windows NT 6.1; Win64; x64) AppleWebKit/537.36 (KHTML, like Gecko) Chrome/66.0.3359.181 Safari/537.36\"\n",
    "}"
   ]
  },
  {
   "cell_type": "code",
   "execution_count": 134,
   "metadata": {},
   "outputs": [
    {
     "name": "stdout",
     "output_type": "stream",
     "text": [
      "http://www.mzitu.com/124932\n",
      "{'Server': 'DnionOS/1.11.2.4_6', 'Date': 'Sun, 27 May 2018 12:42:25 GMT', 'Content-Type': 'text/html; charset=UTF-8', 'Content-Length': '4081', 'Connection': 'keep-alive', 'XCache': 'stop - query string', 'X-Frame-Options': 'SAMEORIGIN', 'Content-Encoding': 'gzip', 'Age': '43', 'Via': 'http/1.1 CT-CNC-GDST-P-248-50 (DLC-6.1.12), http/1.1 CT-GSLZ-C-49-38 (DLC-6.1.12)', 'HitType': 'TCP_HIT', 'Server-Info': 'DnionATS', 'Dnion-Transfer-Encoding': '1'}\n",
      "<RequestsCookieJar[]>\n",
      "40\n"
     ]
    }
   ],
   "source": [
    "link = r'http://www.mzitu.com/124932'\n",
    "print(link)\n",
    "rq = requests.get(link, headers)\n",
    "print(rq.headers)\n",
    "sub_soup = bs(rq.text, parser)\n",
    "pic_cnt = sub_soup.find('div', class_='pagenavi').find_all('a')[4].get_text()\n",
    "pic_cnt = int(pic_cnt)\n",
    "print(pic_cnt)"
   ]
  },
  {
   "cell_type": "code",
   "execution_count": 138,
   "metadata": {},
   "outputs": [
    {
     "name": "stdout",
     "output_type": "stream",
     "text": [
      "http://i.meizitu.net/2018/03/12b40.jpg\n",
      "{'User-Agent': 'Mozilla/5.0 (Windows NT 10.0; Win64; x64) AppleWebKit/537.36 (KHTML, like Gecko) Chrome/42.0.2311.135 Safari/537.36 Edge/12.10240', 'Connection': 'keep-alive', 'Referer': 'http://www.mzitu.com/124932'}\n"
     ]
    }
   ],
   "source": [
    "header_img ={\n",
    "    'User-Agent': \"Mozilla/5.0 (Windows NT 10.0; Win64; x64) AppleWebKit/537.36 (KHTML, like Gecko) Chrome/42.0.2311.135 Safari/537.36 Edge/12.10240\",\n",
    "    'Connection': \"keep-alive\",\n",
    "}\n",
    "header_img['Referer'] = link\n",
    "print(pic_src)\n",
    "print(header_img)\n"
   ]
  },
  {
   "cell_type": "code",
   "execution_count": 137,
   "metadata": {},
   "outputs": [
    {
     "name": "stdout",
     "output_type": "stream",
     "text": [
      "E:\\meizi\\124932\n",
      "E:\\meizi\\124932\\20180312b01.jpg\n",
      "E:\\meizi\\124932\\20180312b02.jpg\n",
      "E:\\meizi\\124932\\20180312b03.jpg\n",
      "E:\\meizi\\124932\\20180312b04.jpg\n",
      "E:\\meizi\\124932\\20180312b05.jpg\n",
      "E:\\meizi\\124932\\20180312b06.jpg\n",
      "E:\\meizi\\124932\\20180312b07.jpg\n",
      "E:\\meizi\\124932\\20180312b08.jpg\n",
      "E:\\meizi\\124932\\20180312b09.jpg\n",
      "E:\\meizi\\124932\\20180312b10.jpg\n",
      "E:\\meizi\\124932\\20180312b11.jpg\n",
      "E:\\meizi\\124932\\20180312b12.jpg\n",
      "E:\\meizi\\124932\\20180312b13.jpg\n",
      "E:\\meizi\\124932\\20180312b14.jpg\n",
      "E:\\meizi\\124932\\20180312b15.jpg\n",
      "E:\\meizi\\124932\\20180312b16.jpg\n",
      "E:\\meizi\\124932\\20180312b17.jpg\n",
      "E:\\meizi\\124932\\20180312b18.jpg\n",
      "E:\\meizi\\124932\\20180312b19.jpg\n",
      "E:\\meizi\\124932\\20180312b20.jpg\n",
      "E:\\meizi\\124932\\20180312b21.jpg\n",
      "E:\\meizi\\124932\\20180312b22.jpg\n",
      "E:\\meizi\\124932\\20180312b23.jpg\n",
      "E:\\meizi\\124932\\20180312b24.jpg\n",
      "E:\\meizi\\124932\\20180312b25.jpg\n",
      "E:\\meizi\\124932\\20180312b26.jpg\n",
      "E:\\meizi\\124932\\20180312b27.jpg\n",
      "E:\\meizi\\124932\\20180312b28.jpg\n",
      "E:\\meizi\\124932\\20180312b29.jpg\n",
      "E:\\meizi\\124932\\20180312b30.jpg\n",
      "E:\\meizi\\124932\\20180312b31.jpg\n",
      "E:\\meizi\\124932\\20180312b32.jpg\n",
      "E:\\meizi\\124932\\20180312b33.jpg\n",
      "E:\\meizi\\124932\\20180312b34.jpg\n",
      "E:\\meizi\\124932\\20180312b35.jpg\n",
      "E:\\meizi\\124932\\20180312b36.jpg\n",
      "E:\\meizi\\124932\\20180312b37.jpg\n",
      "E:\\meizi\\124932\\20180312b38.jpg\n",
      "E:\\meizi\\124932\\20180312b39.jpg\n",
      "E:\\meizi\\124932\\20180312b40.jpg\n"
     ]
    }
   ],
   "source": [
    "i = 1\n",
    "folder_name = link.split('/')[-1]\n",
    "folder_name = os.path.join(download_path, folder_name)\n",
    "print(folder_name)\n",
    "if not os.path.exists(folder_name): \n",
    "    os.mkdir(folder_name)\n",
    "while i <= pic_cnt:\n",
    "    page_pic_url = link + '/' + str(i)\n",
    "    rq_pic_page = requests.get(page_pic_url, header_page)\n",
    "    \n",
    "    pic_soup = bs(rq_pic_page.text, parser)\n",
    "    pic_src = pic_soup.find('div','main-image').find('img')['src']\n",
    "    pic_name = ''.join(pic_src.split('/')[-3:])\n",
    "    pic_name = os.path.join(folder_name, pic_name)\n",
    "    print(pic_name,end=' ')\n",
    "    time.sleep(random.randint(2,6))\n",
    "    try:\n",
    "        rq_img = requests.get(pic_src, headers = header_img, timeout=3)\n",
    "        i += 1\n",
    "        with open(pic_name,'wb') as f:\n",
    "            f.write(rq_img.content)\n",
    "        print(\" finished!\")\n",
    "    except Exception as e: \n",
    "        print(e)\n",
    "        time.sleep(random.randint(5,10))\n",
    "        rq = requests.get(link, headers)\n",
    "        print(rq.headers)\n",
    "\n"
   ]
  },
  {
   "cell_type": "code",
   "execution_count": null,
   "metadata": {},
   "outputs": [],
   "source": []
  },
  {
   "cell_type": "code",
   "execution_count": null,
   "metadata": {},
   "outputs": [],
   "source": [
    "pic_cnt = sub_soup.find('div', class_='pagenavi').find_all('a')[4].get_text()"
   ]
  },
  {
   "cell_type": "code",
   "execution_count": 88,
   "metadata": {},
   "outputs": [
    {
     "data": {
      "text/plain": [
       "['http://www.mzitu.com/136014/45']"
      ]
     },
     "execution_count": 88,
     "metadata": {},
     "output_type": "execute_result"
    }
   ],
   "source": [
    "select2 = etree.HTML(rq_pic_page.text)\n",
    "select2.xpath('//div[@class=\"pagenavi\"]/a[6]/@href')"
   ]
  },
  {
   "cell_type": "code",
   "execution_count": null,
   "metadata": {},
   "outputs": [],
   "source": [
    "pic_src = pic_soup.find('div','main-image').find('img')['src']"
   ]
  },
  {
   "cell_type": "code",
   "execution_count": 91,
   "metadata": {},
   "outputs": [
    {
     "data": {
      "text/plain": [
       "'http://i.meizitu.net/2018/05/24f02.jpg'"
      ]
     },
     "execution_count": 91,
     "metadata": {},
     "output_type": "execute_result"
    }
   ],
   "source": [
    "select2.xpath('//div[@class=\"main-image\"]//img/@src')[0]"
   ]
  },
  {
   "cell_type": "code",
   "execution_count": null,
   "metadata": {},
   "outputs": [],
   "source": []
  }
 ],
 "metadata": {
  "kernelspec": {
   "display_name": "Python 3",
   "language": "python",
   "name": "python3"
  },
  "language_info": {
   "codemirror_mode": {
    "name": "ipython",
    "version": 3
   },
   "file_extension": ".py",
   "mimetype": "text/x-python",
   "name": "python",
   "nbconvert_exporter": "python",
   "pygments_lexer": "ipython3",
   "version": "3.6.4"
  }
 },
 "nbformat": 4,
 "nbformat_minor": 2
}
