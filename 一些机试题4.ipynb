{
 "cells": [
  {
   "cell_type": "code",
   "execution_count": 10,
   "metadata": {},
   "outputs": [],
   "source": [
    "import time"
   ]
  },
  {
   "cell_type": "code",
   "execution_count": 20,
   "metadata": {},
   "outputs": [
    {
     "name": "stdout",
     "output_type": "stream",
     "text": [
      "used time :  3.7747151996702257\n",
      "used time :  3.0101130496976936\n"
     ]
    }
   ],
   "source": [
    "def root(num):\n",
    "    if num == 0:\n",
    "        return 0\n",
    "    digit=[9,1,2,3,4,5,6,7,8,9]\n",
    "    return digit[num%9]\n",
    "def root2(num):\n",
    "    if num == 0:\n",
    "        return 0\n",
    "    else:\n",
    "        return (num-1)%9 + 1\n",
    "c = time.clock()    \n",
    "for i in range(9999999):\n",
    "    root(i)\n",
    "print(\"used time : \",time.clock() - c)\n",
    "\n",
    "c = time.clock()    \n",
    "for i in range(9999999):\n",
    "    root2(i)\n",
    "print(\"used time : \",time.clock() - c)"
   ]
  },
  {
   "cell_type": "code",
   "execution_count": 39,
   "metadata": {},
   "outputs": [
    {
     "data": {
      "text/plain": [
       "4"
      ]
     },
     "execution_count": 39,
     "metadata": {},
     "output_type": "execute_result"
    }
   ],
   "source": [
    "class Solution:\n",
    "    def getNexts(self, i, j):\n",
    "        candidates = [[i+1,j], [i,j-1],[i,j + 1]]\n",
    "        ret = []\n",
    "        for c in candidates:\n",
    "            if 0 <= c[0] < self.N and 0 <= c[1] < self.M:\n",
    "                key = c[0] *self.M + c[1]\n",
    "                if key not in self.duplicate:\n",
    "                    ret.append(c)\n",
    "                    self.duplicate.add(key)\n",
    "        return ret\n",
    "    \n",
    "    def maxAreaOfIsland(self, grid):\n",
    "        \"\"\"\n",
    "        :type grid: List[List[int]]\n",
    "        :rtype: int\n",
    "        \"\"\"\n",
    "        if not grid:\n",
    "            return 0\n",
    "        self.N = len(grid)\n",
    "        self.M = len(grid[0])\n",
    "        if self.M == 0:\n",
    "            return 0\n",
    "        max_area = 0\n",
    "        area = 0\n",
    "        self.duplicate = set()\n",
    "        self.duplicate.add(0)\n",
    "        for i in range(self.N):\n",
    "            for j in range(self.M):\n",
    "                candidates = [[i,j], ]\n",
    "                area = 0\n",
    "                while len(candidates) != 0:\n",
    "                    cur = candidates.pop()\n",
    "                    if grid[cur[0]][cur[1]] == 1:\n",
    "                        grid[cur[0]][cur[1]] = 0\n",
    "                        area += 1\n",
    "                        candidates += self.getNexts(cur[0],cur[1])\n",
    "                max_area = max(max_area, area)\n",
    "        return max_area\n",
    "s = Solution()\n",
    "grid = [[1,1,0,0,0],[1,1,0,0,0],[0,0,0,1,1],[0,0,0,1,1]]\n",
    "s.maxAreaOfIsland(grid)"
   ]
  },
  {
   "cell_type": "code",
   "execution_count": 46,
   "metadata": {},
   "outputs": [
    {
     "name": "stdout",
     "output_type": "stream",
     "text": [
      "{1: [1, 2, 3, 4], 2: [5, 6, 7, 8]}\n"
     ]
    }
   ],
   "source": [
    "a= [1,2,3,4]\n",
    "b= [5,6,7,8]\n",
    "c = {1:a, 2:b}\n",
    "print(c)"
   ]
  },
  {
   "cell_type": "code",
   "execution_count": 47,
   "metadata": {},
   "outputs": [
    {
     "name": "stdout",
     "output_type": "stream",
     "text": [
      "100649224\n",
      "100649224\n"
     ]
    }
   ],
   "source": [
    "print(id(a))\n",
    "print(id(c[1]))"
   ]
  },
  {
   "cell_type": "code",
   "execution_count": 48,
   "metadata": {},
   "outputs": [
    {
     "name": "stdout",
     "output_type": "stream",
     "text": [
      "[10, 2, 3, 4]\n"
     ]
    }
   ],
   "source": [
    "c[1][0] = 10\n",
    "print(a)"
   ]
  },
  {
   "cell_type": "code",
   "execution_count": 2,
   "metadata": {},
   "outputs": [
    {
     "name": "stdout",
     "output_type": "stream",
     "text": [
      "[0, 1, 0, 3, 12]\n"
     ]
    }
   ],
   "source": [
    "def moveZeroes(nums):\n",
    "    \"\"\"\n",
    "    :type nums: List[int]\n",
    "    :rtype: void Do not return anything, modify nums in-place instead.\n",
    "    \"\"\"\n",
    "    i = j = 0\n",
    "    N =  len(nums)\n",
    "    while j != N:\n",
    "        if nums[j] != 0:\n",
    "            nums[i] == nums[j]\n",
    "            i += 1\n",
    "        j += 1\n",
    "    while i != N:\n",
    "        nums[i] = 0\n",
    "        i+= 1\n",
    "        \n",
    "nums = [0,1,0,3,12]\n",
    "moveZeroes(nums)\n",
    "print(nums)"
   ]
  },
  {
   "cell_type": "code",
   "execution_count": 3,
   "metadata": {},
   "outputs": [
    {
     "data": {
      "text/plain": [
       "{'1', '2', '3', '4', '5'}"
      ]
     },
     "execution_count": 3,
     "metadata": {},
     "output_type": "execute_result"
    }
   ],
   "source": [
    "s='123354'\n",
    "set(s)"
   ]
  },
  {
   "cell_type": "code",
   "execution_count": 5,
   "metadata": {},
   "outputs": [],
   "source": [
    "ans = 0\n",
    "for ti in s: ans += ord(ti)"
   ]
  },
  {
   "cell_type": "code",
   "execution_count": 20,
   "metadata": {},
   "outputs": [
    {
     "data": {
      "text/plain": [
       "[5, 6]"
      ]
     },
     "execution_count": 20,
     "metadata": {},
     "output_type": "execute_result"
    }
   ],
   "source": [
    "nums = [4,3,2,7,8,2,3,1]\n",
    "def func(nums):\n",
    "    N = len(nums)\n",
    "    for i in range(N):\n",
    "        val = abs(nums[i]) - 1\n",
    "        nums[val] = -abs(nums[val])\n",
    "    ret =[i+1 for i, val in enumerate(nums) if val > 0]\n",
    "    return ret\n",
    "                \n",
    "func(nums)\n",
    "            "
   ]
  },
  {
   "cell_type": "code",
   "execution_count": 81,
   "metadata": {},
   "outputs": [
    {
     "name": "stdout",
     "output_type": "stream",
     "text": [
      "MAX 0b1111111111111111111111111111111\n",
      "0b1100 0b11111111111111111111111111100000\n",
      "0b11111111111111111111111111101100 0b0\n"
     ]
    },
    {
     "data": {
      "text/plain": [
       "-20"
      ]
     },
     "execution_count": 81,
     "metadata": {},
     "output_type": "execute_result"
    }
   ],
   "source": [
    "def getSum(a,b):\n",
    "    # 32 bits integer max\n",
    "    MAX = 0x7FFFFFFF\n",
    "    print(\"MAX\",bin(MAX))\n",
    "    # 32 bits interger min\n",
    "    MIN = 0x80000000\n",
    "    # mask to get last 32 bits\n",
    "    mask = 0xFFFFFFFF\n",
    "    while b:\n",
    "        a,b = (a^b) & mask, ((a&b)<<1) & mask\n",
    "        print(bin(a), bin(b))\n",
    "\n",
    "    return a if a < MAX else ~(a^mask)\n",
    "\n",
    "getSum(-12,-8)"
   ]
  },
  {
   "cell_type": "code",
   "execution_count": 97,
   "metadata": {},
   "outputs": [
    {
     "data": {
      "text/plain": [
       "[1, 2, 3, 4]"
      ]
     },
     "execution_count": 97,
     "metadata": {},
     "output_type": "execute_result"
    }
   ],
   "source": [
    "list(map(int, str(1234)))"
   ]
  },
  {
   "cell_type": "code",
   "execution_count": 120,
   "metadata": {},
   "outputs": [
    {
     "name": "stdout",
     "output_type": "stream",
     "text": [
      "129\n",
      "129\n"
     ]
    }
   ],
   "source": [
    "def rotatedDigits(N):\n",
    "    s1 = set([0, 1, 8])\n",
    "    s2 = set([0, 1, 8, 2, 5, 6, 9])\n",
    "    s = set()\n",
    "    res = 0\n",
    "    N = list(map(int, str(N)))\n",
    "    for i, v in enumerate(N):\n",
    "        for j in range(v):\n",
    "            if s.issubset(s2) and j in s2:\n",
    "                res += 7**(len(N) - i - 1)\n",
    "            if s.issubset(s1) and j in s1:\n",
    "                res -= 3**(len(N) - i - 1)\n",
    "        if v not in s2:\n",
    "            return res\n",
    "        s.add(v)\n",
    "    return res + (s.issubset(s2) and not s.issubset(s1))\n",
    "\n",
    "def rotatedDigits2(N):\n",
    "    count = 0\n",
    "    dp =[0] * (N+1)\n",
    "    s1 = set([0, 1, 8])\n",
    "    s2 = set([2, 5, 6, 9])\n",
    "    for i in range(min(10,N)+1):\n",
    "        if i in s1: dp[i] = 1\n",
    "        elif i in s2: \n",
    "            dp[i] = 2\n",
    "            count += 1\n",
    "    for i in range(10, N):\n",
    "        a = dp[i // 10]\n",
    "        b = dp[i % 10]\n",
    "        res = a * b\n",
    "        if res == 1:\n",
    "            dp[i] = 1\n",
    "        elif res >= 2:\n",
    "            dp[i] = 2\n",
    "            count += 1\n",
    "    return count\n",
    "i = 400\n",
    "\n",
    "print(rotatedDigits(i))\n",
    "print(rotatedDigits2(i))"
   ]
  },
  {
   "cell_type": "code",
   "execution_count": 150,
   "metadata": {},
   "outputs": [
    {
     "name": "stdout",
     "output_type": "stream",
     "text": [
      "    January 1902\n",
      "Mo Tu We Th Fr Sa Su\n",
      "       1  2  3  4  5\n",
      " 6  7  8  9 10 11 12\n",
      "13 14 15 16 17 18 19\n",
      "20 21 22 23 24 25 26\n",
      "27 28 29 30 31\n",
      "\n"
     ]
    }
   ],
   "source": [
    "import calendar\n",
    "print(calendar.month(1902,1))"
   ]
  },
  {
   "cell_type": "code",
   "execution_count": 152,
   "metadata": {},
   "outputs": [
    {
     "name": "stdout",
     "output_type": "stream",
     "text": [
      "37985\n",
      "37985\n"
     ]
    },
    {
     "data": {
      "text/plain": [
       "'四'"
      ]
     },
     "execution_count": 152,
     "metadata": {},
     "output_type": "execute_result"
    }
   ],
   "source": [
    "def getWeek(y, m, d):\n",
    "    assert y >= 1900, \"year should older than 1900\"\n",
    "    y -= 1900\n",
    "    \n",
    "    n400 = y // 400\n",
    "    n4 = y // 4\n",
    "    n100 = y // 100\n",
    "    leap = n4 - n100 + n400\n",
    "    average = y - leap\n",
    "    days = leap * 366 + average * 365\n",
    "    print(days)\n",
    "    #           1    2    3   4   5   6   7   8   9   10  11  12\n",
    "    month_days=[31, 28, 31, 30, 31, 30, 31, 31, 30, 31, 30, 31]\n",
    "    if (y % 400 == 0) or (y % 4 ==0 and y % 100 != 0):\n",
    "        month_days[1] = 29\n",
    "    for i in range(m-1):\n",
    "        days += month_days[i]\n",
    "    print(days)\n",
    "    return \"一二三四五六七\"[days % 7]\n",
    "getWeek(2004,1,1)"
   ]
  },
  {
   "cell_type": "code",
   "execution_count": 156,
   "metadata": {},
   "outputs": [
    {
     "data": {
      "text/plain": [
       "'001'"
      ]
     },
     "execution_count": 156,
     "metadata": {},
     "output_type": "execute_result"
    }
   ],
   "source": [
    "import datetime\n",
    "datetime.date(1991, 1, 1).strftime(\"%j\")"
   ]
  },
  {
   "cell_type": "code",
   "execution_count": 236,
   "metadata": {},
   "outputs": [
    {
     "name": "stdout",
     "output_type": "stream",
     "text": [
      "36\n",
      "[[2, 0.027777777777777776], [3, 0.05555555555555555], [4, 0.08333333333333333], [5, 0.1111111111111111], [6, 0.1388888888888889], [7, 0.16666666666666666], [8, 0.1388888888888889], [9, 0.1111111111111111], [10, 0.08333333333333333], [11, 0.05555555555555555], [12, 0.027777777777777776]]\n"
     ]
    }
   ],
   "source": [
    "def myprint(arr):\n",
    "    n = len(arr[0])\n",
    "    for i in range(n):\n",
    "        for a in arr:\n",
    "            print(a[i],end=' ')\n",
    "        print('')\n",
    "def dicesSum(n, show=False):\n",
    "    length = n * 6 + 1\n",
    "    arr = [[0,0] for _ in range(length)]\n",
    "    now = 1\n",
    "    last = 0\n",
    "    for i in range(1,7):\n",
    "        arr[i][now] = 1\n",
    "    for i in range(2, n+1):\n",
    "        now = now ^ 1\n",
    "        last = last ^ 1\n",
    "        arr[i][now] = 1\n",
    "        if show:\n",
    "            print(\"now= \", now)\n",
    "        for j in range(i):\n",
    "            arr[j][now] = 0\n",
    "        for j in range(i+1, i + 6):\n",
    "            arr[j][now] = arr[j-1][now] + arr[j-1][last]\n",
    "        #myprint(arr)\n",
    "        last_mod = (i-1) * 6 - (i-1)\n",
    "        for j in range(i+6, i * 6 + 1):\n",
    "            neg_idx = j-1-6\n",
    "            #print(j-1, neg_idx)\n",
    "            arr[j][now] = arr[j-1][now] + arr[j-1][last] - arr[neg_idx][last]\n",
    "        if show:\n",
    "            myprint(arr)\n",
    "        \n",
    "    ret = [r[now] for r in arr[n:]]\n",
    "    \n",
    "    total = 6 ** n\n",
    "    print(total)\n",
    "    return [[i+n,r/total] for i, r in enumerate(ret)]\n",
    "        \n",
    "ret = dicesSum(2, show = False)\n",
    "print(ret)"
   ]
  },
  {
   "cell_type": "code",
   "execution_count": 180,
   "metadata": {},
   "outputs": [
    {
     "name": "stdout",
     "output_type": "stream",
     "text": [
      "[[0, 0], [0, 0], [0, 0], [0, 0], [0, 0], [0, 0]]\n",
      "[[0, 1], [0, 0], [0, 0], [0, 0], [0, 0], [0, 0]]\n"
     ]
    }
   ],
   "source": []
  },
  {
   "cell_type": "code",
   "execution_count": null,
   "metadata": {},
   "outputs": [],
   "source": []
  }
 ],
 "metadata": {
  "kernelspec": {
   "display_name": "Python 3",
   "language": "python",
   "name": "python3"
  },
  "language_info": {
   "codemirror_mode": {
    "name": "ipython",
    "version": 3
   },
   "file_extension": ".py",
   "mimetype": "text/x-python",
   "name": "python",
   "nbconvert_exporter": "python",
   "pygments_lexer": "ipython3",
   "version": "3.6.4"
  }
 },
 "nbformat": 4,
 "nbformat_minor": 2
}
