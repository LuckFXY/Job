{
 "cells": [
  {
   "cell_type": "code",
   "execution_count": 15,
   "metadata": {},
   "outputs": [],
   "source": [
    "import os\n",
    "import numpy as np\n",
    "import matplotlib.pyplot as plt"
   ]
  },
  {
   "cell_type": "code",
   "execution_count": 2,
   "metadata": {},
   "outputs": [
    {
     "data": {
      "text/plain": [
       "True"
      ]
     },
     "execution_count": 2,
     "metadata": {},
     "output_type": "execute_result"
    }
   ],
   "source": [
    "path = 'watermelon_4_0.txt'\n",
    "os.path.exists(path)"
   ]
  },
  {
   "cell_type": "code",
   "execution_count": 10,
   "metadata": {},
   "outputs": [],
   "source": [
    "dataSet = []\n",
    "with open(\"watermelon_4_0.txt\", 'r') as f:\n",
    "    for row in f:\n",
    "        tmp = list(map(float, row.split(' ')))\n",
    "        dataSet.append(tmp)"
   ]
  },
  {
   "cell_type": "code",
   "execution_count": 84,
   "metadata": {},
   "outputs": [
    {
     "name": "stdout",
     "output_type": "stream",
     "text": [
      "[[0.697 0.774 0.634 0.608 0.556 0.403 0.481 0.437 0.666 0.243 0.245 0.343\n",
      "  0.639 0.657 0.36  0.593 0.719 0.359 0.339 0.282 0.748 0.714 0.483 0.478\n",
      "  0.525 0.751 0.532 0.473 0.725 0.446]\n",
      " [0.46  0.376 0.264 0.318 0.215 0.237 0.149 0.211 0.091 0.267 0.057 0.099\n",
      "  0.161 0.198 0.37  0.042 0.103 0.188 0.241 0.257 0.232 0.346 0.312 0.437\n",
      "  0.369 0.489 0.472 0.376 0.445 0.459]]\n"
     ]
    }
   ],
   "source": [
    "x = np.array(dataSet).T\n",
    "print(x)"
   ]
  },
  {
   "cell_type": "code",
   "execution_count": 112,
   "metadata": {},
   "outputs": [
    {
     "name": "stdout",
     "output_type": "stream",
     "text": [
      "[array([0.403, 0.237]), array([0.714, 0.346]), array([0.532, 0.472])]\n"
     ]
    }
   ],
   "source": [
    "sigma = np.array([[0.1, 0],[0,0.1]])\n",
    "a_list = [1/3,1/3,1/3]\n",
    "mu_list=[x[:,5], x[:,21], x[:,26]]\n",
    "print(mu_list)\n",
    "sigma_list = [sigma.copy(), sigma.copy(), sigma.copy()]"
   ]
  },
  {
   "cell_type": "code",
   "execution_count": 98,
   "metadata": {},
   "outputs": [],
   "source": [
    "def pdf(x, mu, sigma, n):\n",
    "    coefficient = 1/(pow(2*np.pi, n/2) * np.sqrt(np.linalg.det(sigma)))\n",
    "    x_mu = x - mu\n",
    "    tmp = np.dot(x_mu.T, np.linalg.inv(sigma))\n",
    "    tmp = -0.5 * np.dot(tmp, x_mu)\n",
    "    return coefficient * np.exp(tmp)"
   ]
  },
  {
   "cell_type": "code",
   "execution_count": 110,
   "metadata": {},
   "outputs": [],
   "source": [
    "def PM(x, a_list, mu_list, sigma_list):\n",
    "    ret = []\n",
    "     for a, mu, sigma in zip(a_list, mu_list, sigma_list):\n",
    "        mu = mu.reshape(x.shape[0],1)\n",
    "        denominator += a * pdf(x, mu, sigma, 2)\n",
    "    for i in range(len(a_list)):\n",
    "        a, mu, sigma = a_list[i], mu_list[i], sigma_list[i]\n",
    "        mu = mu.reshape(x.shape[0],1)\n",
    "        molecular = a * pdf(x, mu, sigma, 2)\n",
    "        denominator = 0\n",
    "       \n",
    "        pmi = molecular / denominator\n",
    "        ret.append(pmi)\n",
    "    return ret"
   ]
  },
  {
   "cell_type": "code",
   "execution_count": 113,
   "metadata": {},
   "outputs": [
    {
     "data": {
      "text/plain": [
       "[array([[0.2187515]]), array([[0.40437245]]), array([[0.37687605]])]"
      ]
     },
     "execution_count": 113,
     "metadata": {},
     "output_type": "execute_result"
    }
   ],
   "source": [
    "PM(x[:,0].reshape(2,1), a_list, mu_list, sigma_list)"
   ]
  },
  {
   "cell_type": "code",
   "execution_count": 82,
   "metadata": {},
   "outputs": [
    {
     "name": "stdout",
     "output_type": "stream",
     "text": [
      "0.5001991852313689\n"
     ]
    }
   ],
   "source": [
    "s = 0\n",
    "xx = []\n",
    "yy = []\n",
    "for i in range(5000, 10001):\n",
    "    v = (i - 10000)/1000\n",
    "    xx.append(v)\n",
    "    y1 = pdf(np.mat(v), np.mat(0), np.mat(1), 1)\n",
    "    y = float(y1)\n",
    "    \n",
    "    yy.append(y)\n",
    "    s += y * 0.001\n",
    "print(s)\n"
   ]
  },
  {
   "cell_type": "code",
   "execution_count": 78,
   "metadata": {},
   "outputs": [
    {
     "data": {
      "text/plain": [
       "0.3989422804014327"
      ]
     },
     "execution_count": 78,
     "metadata": {},
     "output_type": "execute_result"
    }
   ],
   "source": [
    "normfun(0,0,1)"
   ]
  },
  {
   "cell_type": "code",
   "execution_count": 79,
   "metadata": {},
   "outputs": [
    {
     "data": {
      "text/plain": [
       "[<matplotlib.lines.Line2D at 0x12e22978>]"
      ]
     },
     "execution_count": 79,
     "metadata": {},
     "output_type": "execute_result"
    },
    {
     "data": {
      "image/png": "[encoded data removed]",
      "text/plain": [
       "<matplotlib.figure.Figure at 0x12e7c860>"
      ]
     },
     "metadata": {},
     "output_type": "display_data"
    }
   ],
   "source": [
    "plt.plot(xx,yy)"
   ]
  },
  {
   "cell_type": "code",
   "execution_count": 57,
   "metadata": {},
   "outputs": [],
   "source": [
    "from scipy.stats import norm"
   ]
  },
  {
   "cell_type": "code",
   "execution_count": 58,
   "metadata": {},
   "outputs": [
    {
     "data": {
      "text/plain": [
       "0.3520653267642995"
      ]
     },
     "execution_count": 58,
     "metadata": {},
     "output_type": "execute_result"
    }
   ],
   "source": []
  },
  {
   "cell_type": "code",
   "execution_count": null,
   "metadata": {},
   "outputs": [],
   "source": []
  }
 ],
 "metadata": {
  "kernelspec": {
   "display_name": "Python 3",
   "language": "python",
   "name": "python3"
  },
  "language_info": {
   "codemirror_mode": {
    "name": "ipython",
    "version": 3
   },
   "file_extension": ".py",
   "mimetype": "text/x-python",
   "name": "python",
   "nbconvert_exporter": "python",
   "pygments_lexer": "ipython3",
   "version": "3.6.4"
  }
 },
 "nbformat": 4,
 "nbformat_minor": 2
}
