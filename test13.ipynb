{
 "cells": [
  {
   "cell_type": "code",
   "execution_count": 28,
   "metadata": {},
   "outputs": [
    {
     "data": {
      "text/plain": [
       "1"
      ]
     },
     "execution_count": 28,
     "metadata": {},
     "output_type": "execute_result"
    }
   ],
   "source": [
    "def getMin(nums):\n",
    "    left, right = 0, len(nums)-1\n",
    "    indexMid = left\n",
    "    while nums[left] >= nums[right]:\n",
    "        if right - left == 1:\n",
    "            indexMid = right\n",
    "            break\n",
    "        indexMid = (left + right) >> 1\n",
    "        if nums[indexMid] == nums[left] and nums[indexMid] == nums[right]:\n",
    "            print(left, right, nums[left:right+1])\n",
    "            return min(nums[left:right+1])\n",
    "        if nums[indexMid] >= nums[left]:\n",
    "            left = indexMid\n",
    "        elif nums[indexMid] <= nums[right]:\n",
    "            right = indexMid\n",
    "    return nums[indexMid]\n",
    "\n",
    "nums = [3,3,3,3,32,1,1,1,2,2,2,2,2,2,2,2]\n",
    "getMin(nums)"
   ]
  },
  {
   "cell_type": "code",
   "execution_count": 43,
   "metadata": {
    "scrolled": false
   },
   "outputs": [
    {
     "name": "stdout",
     "output_type": "stream",
     "text": [
      "[0, 0] [0, 1] [0, 2] [0, 3] [0, 4] [0, 5] [0, 6] [0, 7] [0, 8] [0, 9] [1, 0] [1, 1] [1, 2] [1, 3] [1, 4] [1, 5] [1, 6] [1, 7] [1, 8] [1, 9] [2, 0] [2, 1] [2, 2] [2, 3] [2, 4] [2, 5] [2, 6] [2, 7] [2, 8] [2, 9] [3, 0] [3, 1] [3, 2] [3, 3] [3, 4] [3, 5] [3, 6] [3, 7] [3, 8] [3, 9] [4, 0] [4, 1] [4, 2] [4, 3] [4, 4] [4, 5] [4, 6] [4, 7] [4, 8] [4, 9] [5, 0] [5, 1] [5, 2] [5, 3] [5, 4] [5, 5] [5, 6] [5, 7] [5, 8] [5, 9] [6, 0] [6, 1] [6, 2] [6, 3] [6, 4] [6, 5] [6, 6] [6, 7] [6, 8] [6, 9] [7, 0] [7, 1] [7, 2] [7, 3] [7, 4] [7, 5] [7, 6] [7, 7] [7, 8] [7, 9] [8, 0] [8, 1] [8, 2] [8, 3] [8, 4] [8, 5] [8, 6] [8, 7] [8, 8] [8, 9] [9, 0] [9, 1] [9, 2] [9, 3] [9, 4] [9, 5] [9, 6] [9, 7] [9, 8] [9, 9] "
     ]
    }
   ],
   "source": [
    "def _printOneToN(nums, length, index):\n",
    "    if index == length:\n",
    "        print(nums,end=' ')\n",
    "    else:\n",
    "        for i in range(10):\n",
    "            nums[index] = i\n",
    "            _printOneToN(nums, length, index+1)\n",
    "\n",
    "def PrintOneToN(length):\n",
    "    nums = [0] * length\n",
    "    _printOneToN(nums, length, 0)\n",
    "\n",
    "PrintOneToN(2)"
   ]
  },
  {
   "cell_type": "code",
   "execution_count": 45,
   "metadata": {},
   "outputs": [
    {
     "name": "stdout",
     "output_type": "stream",
     "text": [
      "[1, 3, 5, 3, 7, 3, 3, 9, 52, 34, 2, 62, 54, 2, 6, 8, 10, 4, 46]\n"
     ]
    }
   ],
   "source": [
    "def ReorderOddEven(nums):\n",
    "    if nums is None or nums == 0:\n",
    "        return\n",
    "    i, j = 0, len(nums)-1\n",
    "    while i < j:\n",
    "        while i < j and nums[i] & 1 != 0 :\n",
    "            i += 1\n",
    "        while i < j and nums[j] & 1 == 0:\n",
    "            j -= 1\n",
    "        if i < j:\n",
    "            nums[i], nums[j] = nums[j], nums[i]\n",
    "\n",
    "nums = [1,3,5,3,7,46,3,10,52,34,2,62,54,2,6,8,9,4,3]\n",
    "ReorderOddEven(nums)\n",
    "print(nums)"
   ]
  },
  {
   "cell_type": "code",
   "execution_count": null,
   "metadata": {},
   "outputs": [],
   "source": []
  }
 ],
 "metadata": {
  "kernelspec": {
   "display_name": "Python 3",
   "language": "python",
   "name": "python3"
  },
  "language_info": {
   "codemirror_mode": {
    "name": "ipython",
    "version": 3
   },
   "file_extension": ".py",
   "mimetype": "text/x-python",
   "name": "python",
   "nbconvert_exporter": "python",
   "pygments_lexer": "ipython3",
   "version": "3.6.4"
  }
 },
 "nbformat": 4,
 "nbformat_minor": 2
}
