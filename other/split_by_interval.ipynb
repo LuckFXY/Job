{
 "cells": [
  {
   "cell_type": "code",
   "execution_count": null,
   "metadata": {},
   "outputs": [],
   "source": [
    "import os, time\n",
    "import exifread\n",
    "import datetime\n",
    "import shutil"
   ]
  },
  {
   "cell_type": "code",
   "execution_count": null,
   "metadata": {},
   "outputs": [],
   "source": [
    "root = r'F:\\GitHub\\Job\\临时工作\\7-(10-11)-谢光旭'\n",
    "print(\"root exist= \",os.path.exists(root))"
   ]
  },
  {
   "cell_type": "code",
   "execution_count": null,
   "metadata": {},
   "outputs": [],
   "source": [
    "def getImgTime(path):\n",
    "    with open(path, 'rb') as f:\n",
    "        data_org = exifread.process_file( f )\n",
    "        t = data_org['EXIF DateTimeOriginal']\n",
    "        t = time.strptime(str(t), \"%Y:%m:%d %H:%M:%S\")\n",
    "        y,m,d,H,M,S = t[0:6]\n",
    "        data=datetime.datetime(y,m,d,H,M,S)\n",
    "        return data"
   ]
  },
  {
   "cell_type": "code",
   "execution_count": null,
   "metadata": {},
   "outputs": [],
   "source": [
    "def get_delta(root, fname_list, start, n = 1):\n",
    "    length = len(fname_list)\n",
    "    assert start < length, \"Error : start bigger than length\"\n",
    "    cnt = 0\n",
    "    avg_time = 0\n",
    "    for i, j in zip(range(start, length-1), range(start+1, length)):\n",
    "        if cnt == n:\n",
    "            break\n",
    "        f1 = os.path.join(root, fname_list[i])\n",
    "        f2 = os.path.join(root, fname_list[j])\n",
    "        \n",
    "        delta_time = (getImgTime(f2) - getImgTime(f1)).seconds\n",
    "        #print(delta_time)\n",
    "        avg_time += delta_time\n",
    "        cnt += 1\n",
    "    avg_time = avg_time / cnt if cnt else 0\n",
    "    return round(avg_time, 4)"
   ]
  },
  {
   "cell_type": "code",
   "execution_count": null,
   "metadata": {},
   "outputs": [],
   "source": [
    "fname_list = [f for f in os.listdir(root) if f.split('.')[-1] == 'jpg']\n",
    "N = len(fname_list)\n",
    "delta_list = []\n",
    "for i in range(0,N):\n",
    "    interval = get_delta(root, fname_list, i)\n",
    "    delta_list.append(interval)\n",
    "print(\"there are %d jpg image in the folder %s\"%(N, root))\n",
    "print(\"Interval time\")\n",
    "print(delta_list)\n",
    "threshold = 80\n",
    "CP = [i+1 for i, v in enumerate(delta_list) if v > threshold]\n",
    "print(\"Possible break point\")\n",
    "print(CP)"
   ]
  },
  {
   "cell_type": "code",
   "execution_count": null,
   "metadata": {
    "scrolled": false
   },
   "outputs": [],
   "source": [
    "def sorted_img(root, fname_list, cutted_points):\n",
    "    if len(cutted_points) == 0:\n",
    "        print(\"Warning : cutted_points is empty\")\n",
    "        return\n",
    "    cutted_idx = 0\n",
    "    \n",
    "    folder_path = os.path.join(root, \"%d\"%cutted_idx)\n",
    "    print(folder_path)\n",
    "    if not os.path.exists(folder_path):\n",
    "        os.mkdir(folder_path)\n",
    "    \n",
    "    for i, fname in enumerate(fname_list):\n",
    "        if i != cutted_points[cutted_idx]:\n",
    "            path = os.path.join(root, fname)\n",
    "            print(path)\n",
    "            new_path = os.path.join(root, folder_path, fname)\n",
    "            shutil.copy(path, new_path)\n",
    "        else:\n",
    "            cutted_idx += 1\n",
    "            if cutted_idx == len(cutted_points):\n",
    "                break\n",
    "            folder_path = os.path.join(root, \"%d\"%cutted_idx)\n",
    "            if not os.path.exists(folder_path):\n",
    "                os.mkdir(folder_path)\n",
    "            print(folder_path)\n",
    "      \n",
    "print(\"del the last folder\")\n",
    "for invalid_folder in [os.path.join(root, \"%d\"%i) for i in range(16)]:\n",
    "    if os.path.exists(invalid_folder):\n",
    "        print(\"del folder \",invalid_folder)\n",
    "        shutil.rmtree(invalid_folder)\n",
    "print(\"Separate picutres according to break points\")\n",
    "sorted_img(root, fname_list, CP)"
   ]
  },
  {
   "cell_type": "code",
   "execution_count": null,
   "metadata": {
    "scrolled": true
   },
   "outputs": [],
   "source": [
    "print(\"Rename the picture in the folder by the folder name\")\n",
    "dir_path = r'F:\\GitHub\\Job\\临时工作\\123\\7-(10-11)-谢光旭-分文件夹'\n",
    "def rename_by_folder(root):\n",
    "    dir_list = os.listdir(root)\n",
    "    for dname in dir_list:\n",
    "        dname_c = os.path.join(root, dname)\n",
    "        img_list = os.listdir(dname_c)\n",
    "        cnt = 0\n",
    "        for img in img_list:\n",
    "            img = os.path.join(dname_c, img)\n",
    "            \n",
    "            cnt += 1\n",
    "            new_name = dname+'_'+str(cnt)+'.jpg'\n",
    "            new_name = os.path.join(dname_c, new_name)\n",
    "            #print(img)\n",
    "            #print(new_name)\n",
    "            \n",
    "            os.rename(img, new_name)\n",
    "            #new_path = os.path.join(root, new_name)\n",
    "            #print(new_path)\n",
    "            shutil.copy(new_name, root)\n",
    "            \n",
    "rename_by_folder(dir_path)        "
   ]
  },
  {
   "cell_type": "code",
   "execution_count": null,
   "metadata": {},
   "outputs": [],
   "source": []
  }
 ],
 "metadata": {
  "kernelspec": {
   "display_name": "Python 3",
   "language": "python",
   "name": "python3"
  },
  "language_info": {
   "codemirror_mode": {
    "name": "ipython",
    "version": 3
   },
   "file_extension": ".py",
   "mimetype": "text/x-python",
   "name": "python",
   "nbconvert_exporter": "python",
   "pygments_lexer": "ipython3",
   "version": "3.6.4"
  }
 },
 "nbformat": 4,
 "nbformat_minor": 2
}
