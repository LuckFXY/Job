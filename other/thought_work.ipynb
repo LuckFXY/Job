{
 "cells": [
  {
   "cell_type": "code",
   "execution_count": 76,
   "metadata": {},
   "outputs": [],
   "source": [
    "import random"
   ]
  },
  {
   "cell_type": "code",
   "execution_count": 77,
   "metadata": {},
   "outputs": [],
   "source": [
    "def printMatrix(m):\n",
    "    for row in m:\n",
    "        for x in row:\n",
    "            print(x,end=' ')\n",
    "        print('')"
   ]
  },
  {
   "cell_type": "code",
   "execution_count": 78,
   "metadata": {},
   "outputs": [
    {
     "name": "stdout",
     "output_type": "stream",
     "text": [
      "{'0,0': '1,0', '2,2': '1,1', '2,1': '1,1', '1,2': '1,1', '1,0': '1,1', '2,0': '1,1', '1,1': '1,1', '0,2': '1,1', '0,1': '1,1'}\n"
     ]
    },
    {
     "data": {
      "text/plain": [
       "True"
      ]
     },
     "execution_count": 78,
     "metadata": {},
     "output_type": "execute_result"
    }
   ],
   "source": [
    "def find(C, u):\n",
    "    if C[u] != u:\n",
    "        C[u] = find(C, C[u])\n",
    "    return C[u]\n",
    "def union(C, R, u, v):\n",
    "    u, v  = find(C, u), find(C, v)\n",
    "    if R[u] > R[v]:\n",
    "        C[v] = u\n",
    "    else:\n",
    "        C[u] = v\n",
    "    if R[u] == R[v]:\n",
    "        R[v] += 1\n",
    "        \n",
    "def isConnection(G, all_point):\n",
    "\n",
    "    C, R = {u:u for u in all_point}, {u:0 for u in all_point}\n",
    "            \n",
    "    for u, v_set in G.items():\n",
    "        for v in v_set:\n",
    "            union(C, R, u, v)\n",
    "    print(C)\n",
    "    flag = find(C, '0,0')\n",
    "    for u in all_point:\n",
    "        cur = find(C, u)\n",
    "        if flag != cur:\n",
    "            return False\n",
    "    return True\n",
    "isConnection(conn_map, all_point)"
   ]
  },
  {
   "cell_type": "code",
   "execution_count": 79,
   "metadata": {},
   "outputs": [
    {
     "data": {
      "text/plain": [
       "(0,\n",
       " [[[0, 1], [0, 2]],\n",
       "  [[0, 0], [1, 0]],\n",
       "  [[0, 1], [1, 1]],\n",
       "  [[0, 2], [1, 2]],\n",
       "  [[1, 0], [1, 1]],\n",
       "  [[1, 1], [1, 2]],\n",
       "  [[1, 1], [2, 1]],\n",
       "  [[1, 2], [2, 2]],\n",
       "  [[2, 0], [2, 1]]],\n",
       " {'0,0', '0,1', '0,2', '1,0', '1,1', '1,2', '2,0', '2,1', '2,2'})"
      ]
     },
     "execution_count": 79,
     "metadata": {},
     "output_type": "execute_result"
    }
   ],
   "source": [
    "def format_input(input_str,n,m):\n",
    "    error = 0\n",
    "    num_point = str\n",
    "    all_point = set()\n",
    "    \n",
    "    src_dst_list = []\n",
    "    for row in input_str.split(';'):\n",
    "        row = row.split(' ')\n",
    "        row_src_dst = []\n",
    "        if len(row) != 2:\n",
    "            error = 3\n",
    "            break\n",
    "            \n",
    "        for val in row:\n",
    "            all_point.add(val)\n",
    "            src_dst = []\n",
    "            val = val.split(',')\n",
    "            if len(val) != 2:\n",
    "                error = 3\n",
    "                break\n",
    "            for v in val:\n",
    "                check_v = ord(v)\n",
    "                if check_v<48 or check_v > 57:\n",
    "                    error = 1\n",
    "                    break\n",
    "                src_dst.append(int(v))\n",
    "            if src_dst[0] < 0 or src_dst[0] >= n:\n",
    "                error = 2\n",
    "                break\n",
    "            if src_dst[1] < 0 or src_dst[1] >= m:\n",
    "                error = 2\n",
    "                break\n",
    "            row_src_dst.append(src_dst)\n",
    "            \n",
    "        src_dst_list.append(row_src_dst)\n",
    "\n",
    "        if error != 0:\n",
    "            break\n",
    "    \n",
    "    if error == 1:\n",
    "        print(\"Invalid number format\")\n",
    "    elif error == 2:\n",
    "        print(\"Number out of range\")\n",
    "    elif error ==3:\n",
    "        print(\"Incorrect command format\")\n",
    "        \n",
    "    return error, src_dst_list, all_point\n",
    "\n",
    "        \n",
    "s1 = '0,1 0,2;0,0 1,0;0,1 1,1;0,2 1,2;1,0 1,1;1,1 1,2;1,1 2,1;1,2 2,2;2,0 2,1'      \n",
    "format_input(s1,3,3)"
   ]
  },
  {
   "cell_type": "code",
   "execution_count": 80,
   "metadata": {},
   "outputs": [
    {
     "data": {
      "text/plain": [
       "['1,1', '1,2']"
      ]
     },
     "execution_count": 80,
     "metadata": {},
     "output_type": "execute_result"
    }
   ],
   "source": [
    "def getKey(src_dst):\n",
    "    ret = []\n",
    "    for xy in src_dst:\n",
    "        ret.append(\"%d,%d\"%(xy[0], xy[1]))\n",
    "    return ret\n",
    "getKey( [[1, 1], [1, 2]])"
   ]
  },
  {
   "cell_type": "code",
   "execution_count": 81,
   "metadata": {},
   "outputs": [
    {
     "name": "stdout",
     "output_type": "stream",
     "text": [
      "{'0,1': {'1,1', '0,2'}, '0,0': {'1,0'}, '0,2': {'1,2'}, '1,0': {'1,1'}, '1,1': {'2,1', '1,2'}, '1,2': {'2,2'}, '2,0': {'2,1'}}\n",
      "w w w w w w w \n",
      "w R w R R R w \n",
      "w R w R w R w \n",
      "w R R R R R w \n",
      "w w w R w R w \n",
      "w R R R w R w \n",
      "w w w w w w w \n",
      "{'0,0': '1,0', '2,2': '1,1', '2,1': '1,1', '1,2': '1,1', '1,0': '1,1', '2,0': '1,1', '1,1': '1,1', '0,2': '1,1', '0,1': '1,1'}\n"
     ]
    }
   ],
   "source": [
    "def solution(n, m, input_str):\n",
    "\n",
    "    out_n, out_m = [i*2+1 for i in [n,m]]\n",
    "    imap = [['w']*out_m for _ in range(out_n)]\n",
    "    conn_map=dict()\n",
    "    \n",
    "    error, src_dst_list, all_point = format_input(input_str,n,m)\n",
    "    \n",
    "    if error != 0:\n",
    "        return\n",
    "    for src_dst in src_dst_list:\n",
    "#         row = row.split(' ')\n",
    "#         xy_str = [i.split(',') for i in row]\n",
    "#         xy = [[int(i) for i in j] for j in xy_str]\n",
    "        #key point\n",
    "        #print(xy)\n",
    "#         all_point.add(row[0])\n",
    "#         all_point.add(row[1])\n",
    "        row = getKey(src_dst)\n",
    "        if row[0] not in conn_map:\n",
    "            conn_map[row[0]] = set([row[1]])\n",
    "        else:\n",
    "            conn_map[row[0]].add(row[1])\n",
    "        out_s, out_d = [[i*2+1 for i in j] for j in src_dst]\n",
    "\n",
    "        imap[out_s[0]][out_s[1]] = 'R'\n",
    "        imap[out_d[0]][out_d[1]] = 'R'\n",
    "\n",
    "        if out_s[0] == out_d[0]:\n",
    "            # add horizontal path\n",
    "            imap[out_s[0]][(out_s[1] + out_d[1])>>1] = 'R'\n",
    "        elif out_s[1] == out_d[1]:\n",
    "            # add vertical path\n",
    "            imap[(out_s[0] + out_d[0])>>1][out_s[1]] = 'R'\n",
    "\n",
    "    print(conn_map)\n",
    "    printMatrix(imap)\n",
    "    if isConnection(conn_map, all_point):\n",
    "        return imap\n",
    "    else:\n",
    "        print(\"Maze format error\")\n",
    "        return None\n",
    "\n",
    "n,m = 3, 3\n",
    "input_str = '0,1 0,2;0,0 1,0;0,1 1,1;0,2 1,2;1,0 1,1;1,1 1,2;1,1 2,1;1,2 2,2;2,0 2,1'      \n",
    "imap = solution(n,m, input_str)\n",
    "\n"
   ]
  },
  {
   "cell_type": "code",
   "execution_count": 82,
   "metadata": {},
   "outputs": [
    {
     "name": "stdout",
     "output_type": "stream",
     "text": [
      "0,1 0,2;0,0 1,0;0,1 1,1;1,0 1,1;1,0 2,0;1,2 2,2;2,1 2,2\n",
      "w w w w w w w \n",
      "w R W R R R w \n",
      "w R w R w W w \n",
      "w R R R W R w \n",
      "w R w W w R w \n",
      "w R W R R R w \n",
      "w w w w w w w \n"
     ]
    }
   ],
   "source": [
    "import random\n",
    "def generator_test(n,m, always_right = True):\n",
    "    out_n, out_m = [i*2+1 for i in [n,m]]\n",
    "    #print(out_n, out_m)\n",
    "    answer = [['w'] * out_m for _ in range(out_n)]\n",
    "    question = []\n",
    "    for i in range(out_n):\n",
    "        for j in range(out_m):\n",
    "            if not always_right:\n",
    "                answer[i][j] = random.choice('WR')\n",
    "            else:\n",
    "                if 0< i < out_n-1 and 0 < j < out_m-1:\n",
    "                    if i & 1 == 1 and j & 1 == 1:\n",
    "                        answer[i][j] = 'R'\n",
    "                    elif i & 1 == 1 or j & 1 == 1:\n",
    "                        answer[i][j] = random.choice('WR')\n",
    "                        if answer[i][j] == 'R':\n",
    "                            if i & 1 == 1:\n",
    "                                src = i // 2, (j-1) //2\n",
    "                                dst = i // 2, (j+1) // 2\n",
    "                                question.append('%d,%d %d,%d'%(src[0], src[1], dst[0], dst[1]))\n",
    "                            else:\n",
    "                                src = (i-1) // 2, j //2\n",
    "                                dst = (i+1) // 2, j // 2\n",
    "                                question.append('%d,%d %d,%d'%(src[0], src[1], dst[0], dst[1]))\n",
    "                            \n",
    "    question = ';'.join(question)\n",
    "    \n",
    "    #printMatrix(answer)\n",
    "    #print(question)\n",
    "    return question, answer\n",
    "    \n",
    "question, answer = generator_test(3,3)\n",
    "print(question)\n",
    "printMatrix(answer)"
   ]
  },
  {
   "cell_type": "code",
   "execution_count": 83,
   "metadata": {},
   "outputs": [],
   "source": [
    "s1 = '0,0 0,1;0,1 0,2;0,0 1,0;0,1 1,1;0,2 1,2;1,0 1,1;1,1 1,2;1,0 2,0;1,1 2,1;1,2 2,2;2,0 2,1;2,1 2,2'\n",
    "s2 = '0,1 0,2;0,0 1,0;0,1 1,1;0,2 1,2;1,0 1,1;1,1 1,2;1,1 2,1;1,2 2,2;2,0 2,1'  \n"
   ]
  },
  {
   "cell_type": "code",
   "execution_count": 84,
   "metadata": {},
   "outputs": [
    {
     "name": "stdout",
     "output_type": "stream",
     "text": [
      "w w w w w w w \n",
      "w R W R R R w \n",
      "w R w R w R w \n",
      "w R R R R R w \n",
      "w W w R w R w \n",
      "w R R R W R w \n",
      "w w w w w w w \n"
     ]
    }
   ],
   "source": [
    "s2 = '0,1 0,2;0,0 1,0;0,1 1,1;0,2 1,2;1,0 1,1;1,1 1,2;1,1 2,1;1,2 2,2;2,0 2,1'  \n",
    "s2_set = set(s2.split(';'))\n",
    "for i in range(100000):\n",
    "    question, answer = generator_test(3,3)\n",
    "    question_set = set(question.split(';'))\n",
    "    if question_set == s2_set:\n",
    "        printMatrix(answer)\n",
    "        break"
   ]
  },
  {
   "cell_type": "code",
   "execution_count": null,
   "metadata": {},
   "outputs": [],
   "source": []
  }
 ],
 "metadata": {
  "kernelspec": {
   "display_name": "Python 3",
   "language": "python",
   "name": "python3"
  },
  "language_info": {
   "codemirror_mode": {
    "name": "ipython",
    "version": 3
   },
   "file_extension": ".py",
   "mimetype": "text/x-python",
   "name": "python",
   "nbconvert_exporter": "python",
   "pygments_lexer": "ipython3",
   "version": "3.6.4"
  }
 },
 "nbformat": 4,
 "nbformat_minor": 2
}
