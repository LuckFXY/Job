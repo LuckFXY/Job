{
 "cells": [
  {
   "cell_type": "code",
   "execution_count": 1,
   "metadata": {},
   "outputs": [
    {
     "name": "stdout",
     "output_type": "stream",
     "text": [
      "[1, 2, 3, 4, 5, 6]\n"
     ]
    }
   ],
   "source": [
    "a = [1,2,3]\n",
    "a.extend([4,5,6])\n",
    "print(a)"
   ]
  },
  {
   "cell_type": "code",
   "execution_count": 3,
   "metadata": {},
   "outputs": [
    {
     "data": {
      "text/plain": [
       "['right', 'left', 'root']"
      ]
     },
     "execution_count": 3,
     "metadata": {},
     "output_type": "execute_result"
    }
   ],
   "source": [
    "c=['root','left','right']\n",
    "m=[2,1,0]\n",
    "[c[mi] for mi in m]"
   ]
  },
  {
   "cell_type": "code",
   "execution_count": 4,
   "metadata": {},
   "outputs": [
    {
     "data": {
      "text/plain": [
       "[]"
      ]
     },
     "execution_count": 4,
     "metadata": {},
     "output_type": "execute_result"
    }
   ],
   "source": [
    "[][::-1]"
   ]
  },
  {
   "cell_type": "code",
   "execution_count": 1,
   "metadata": {},
   "outputs": [
    {
     "name": "stdout",
     "output_type": "stream",
     "text": [
      "[2, 9, 1]\n",
      "[7, 3]\n"
     ]
    }
   ],
   "source": [
    "a = [2,7,9,3,1]\n",
    "print(a[::2])\n",
    "print(a[1::2])"
   ]
  },
  {
   "cell_type": "code",
   "execution_count": 22,
   "metadata": {},
   "outputs": [
    {
     "name": "stdout",
     "output_type": "stream",
     "text": [
      "5 25g3J\n",
      "1 3\n",
      "3 5\n",
      "['5g', 'g3J']\n"
     ]
    },
    {
     "data": {
      "text/plain": [
       "'5G-G3J'"
      ]
     },
     "execution_count": 22,
     "metadata": {},
     "output_type": "execute_result"
    }
   ],
   "source": [
    "S=\"2-5g-3-J\"\n",
    "\n",
    "K = 2\n",
    "N = len(S)\n",
    "\n",
    "char_list = S.split('-')\n",
    "N = N - len(char_list) + 1\n",
    "chars = S.replace('-','')\n",
    "print(N, chars)\n",
    "first = N % K\n",
    "\n",
    "pre = chars[:first]\n",
    "ret =[]\n",
    "for i in range(0, N//K):\n",
    "    print(first+i*K,first+(i+1)*K)\n",
    "    ret.append(chars[first+i:first+(i+1)*K])\n",
    "print(ret)\n",
    "'-'.join(ret).upper()"
   ]
  },
  {
   "cell_type": "code",
   "execution_count": 38,
   "metadata": {},
   "outputs": [
    {
     "data": {
      "text/plain": [
       "True"
      ]
     },
     "execution_count": 38,
     "metadata": {},
     "output_type": "execute_result"
    }
   ],
   "source": [
    "def isPowerOfFour(num):\n",
    "    \"\"\"\n",
    "    :type num: int\n",
    "    :rtype: bool\n",
    "    \"\"\"\n",
    "    if num <= 0: return False\n",
    "    n1 = 0\n",
    "    mask = 3\n",
    "    for step in range(0,32,2):\n",
    "        test = (num & (mask << step))>>step\n",
    "        if test == 1:\n",
    "            n1 += 1\n",
    "            if n1 == 2:\n",
    "                return False\n",
    "        elif test != 0:\n",
    "            return False\n",
    "\n",
    "    return True\n",
    "\n",
    "isPowerOfFour(64)"
   ]
  },
  {
   "cell_type": "code",
   "execution_count": 1,
   "metadata": {},
   "outputs": [],
   "source": [
    "import numpy as np"
   ]
  },
  {
   "cell_type": "code",
   "execution_count": 7,
   "metadata": {},
   "outputs": [
    {
     "data": {
      "text/plain": [
       "1.5798634010685344"
      ]
     },
     "execution_count": 7,
     "metadata": {},
     "output_type": "execute_result"
    }
   ],
   "source": [
    "def getIV(V):\n",
    "    s = sum(V)\n",
    "    p_list = [v/s for v in V]\n",
    "    ret = 0\n",
    "    for p in p_list:\n",
    "        ret -= p * np.log2(p)\n",
    "    return ret\n",
    "\n",
    "getIV([6,6,5])"
   ]
  },
  {
   "cell_type": "code",
   "execution_count": 24,
   "metadata": {},
   "outputs": [
    {
     "name": "stdout",
     "output_type": "stream",
     "text": [
      "0.0 20.0\n",
      "1.584962500721156 6.666666666666667\n",
      "2.321928094887362 4.0\n",
      "2.807354922057604 2.857142857142857\n",
      "3.169925001442312 2.2222222222222223\n",
      "3.459431618637298 1.8181818181818181\n",
      "3.7004397181410926 1.5384615384615385\n",
      "3.906890595608518 1.3333333333333333\n",
      "4.08746284125034 1.1764705882352942\n",
      "4.247927513443583 1.0526315789473684\n"
     ]
    }
   ],
   "source": [
    "n = 20\n",
    "for split in range(1, n, 2):\n",
    "    v = n / split\n",
    "    a = [round(v,2) for _ in range(split)]\n",
    "    print(getIV(a), v)\n",
    "    "
   ]
  },
  {
   "cell_type": "code",
   "execution_count": 54,
   "metadata": {},
   "outputs": [
    {
     "name": "stdout",
     "output_type": "stream",
     "text": [
      "1073697800.5\n",
      "536848901.25\n",
      "268424452.625\n",
      "134212230.31249996\n",
      "67106123.15624966\n",
      "33553077.578122288\n",
      "16776570.789040804\n",
      "8388349.394357645\n",
      "4194302.6958767213\n",
      "2097407.337521815\n",
      "1049215.5854405111\n",
      "525631.1265468773\n",
      "264858.2463372322\n",
      "136482.98146771887\n",
      "76108.38951093482\n",
      "52161.67760853366\n",
      "46664.873851183016\n",
      "46341.13086150751\n",
      "46340.00001379819\n",
      "46340.0\n"
     ]
    },
    {
     "data": {
      "text/plain": [
       "46340.0"
      ]
     },
     "execution_count": 54,
     "metadata": {},
     "output_type": "execute_result"
    }
   ],
   "source": [
    "def sqrt2(num):\n",
    "    a = num\n",
    "    for i in range(20):\n",
    "        num = (num + a/num)/2\n",
    "        print(num)\n",
    "    return num\n",
    "sqrt2(2147395600)"
   ]
  },
  {
   "cell_type": "code",
   "execution_count": 63,
   "metadata": {},
   "outputs": [
    {
     "name": "stdout",
     "output_type": "stream",
     "text": [
      "[1, 2, 1, 1, 1]\n",
      "[1, 3, 3, 1, 1]\n",
      "[1, 4, 6, 4, 1]\n"
     ]
    },
    {
     "data": {
      "text/plain": [
       "[1, 4, 6, 4, 1]"
      ]
     },
     "execution_count": 63,
     "metadata": {},
     "output_type": "execute_result"
    }
   ],
   "source": [
    "def getRow(rowIndex):\n",
    "    \"\"\"\n",
    "    :type rowIndex: int\n",
    "    :rtype: List[int]\n",
    "    \"\"\"\n",
    "    ret = [[1] * (rowIndex+1) for _ in range(2)]\n",
    "    old, cur = 0, 1\n",
    "    for i in range(1,rowIndex):\n",
    "        for j in range(1, i+1):\n",
    "            ret[cur][j] = ret[old][j] + ret[old][j-1]\n",
    "        print(ret[cur])\n",
    "        old ^= 1\n",
    "        cur ^= 1\n",
    "        \n",
    "    return ret[old]\n",
    "getRow(4)"
   ]
  },
  {
   "cell_type": "code",
   "execution_count": 65,
   "metadata": {},
   "outputs": [
    {
     "data": {
      "text/plain": [
       "[1, 4, 1]"
      ]
     },
     "execution_count": 65,
     "metadata": {},
     "output_type": "execute_result"
    }
   ],
   "source": [
    "def getRow(rowIndex):\n",
    "    \"\"\"\n",
    "    :type rowIndex: int\n",
    "    :rtype: List[int]\n",
    "    \"\"\"\n",
    "    if rowIndex == 0:\n",
    "        return [1]\n",
    "\n",
    "    ans = [1]\n",
    "    for i in range(1,(rowIndex+2)//2):\n",
    "        \n",
    "        ans.append(ans[i-1]*(rowIndex-i+1)//i)\n",
    "\n",
    "    if rowIndex % 2 == 0:\n",
    "        return ans + ans[:-1][::-1]\n",
    "    else:\n",
    "        return ans + ans[::-1]\n",
    "    \n",
    "getRow(4)"
   ]
  },
  {
   "cell_type": "code",
   "execution_count": null,
   "metadata": {},
   "outputs": [],
   "source": []
  },
  {
   "cell_type": "markdown",
   "metadata": {},
   "source": [
    "1. 有一个9位数的正整数x,去除掉中间的第5位的数字得到整数y（例如x=123456789,则y=12346789），求问存在多少个这样的x，使得x可以被y整除？\n",
    "2. 小X，小Y，小Z三名员工在一起开会讨论一个技术方案，其正确与否三个人都知道。但每个人每一次倾向于不说真话的概率是1/3（每次是独立的）。小Z说这个方案不对，接着小Y说小Z说得不对，然后小X说小Y说的不对。一般而言，80%的技术方案被提出来应该是正确的, 问这个技术方案正确的概率最接近于。\n",
    "3. 1~100的整数，在二维数组中如下示例中1~16矩阵一样的方式存储，则a[i][i]的和为？"
   ]
  },
  {
   "cell_type": "code",
   "execution_count": 69,
   "metadata": {},
   "outputs": [
    {
     "data": {
      "text/plain": [
       "'123456789'"
      ]
     },
     "execution_count": 69,
     "metadata": {},
     "output_type": "execute_result"
    }
   ],
   "source": [
    "\n",
    "for i in range(10):\n",
    "    for j in range(10):\n",
    "        "
   ]
  },
  {
   "cell_type": "code",
   "execution_count": 87,
   "metadata": {},
   "outputs": [
    {
     "name": "stdout",
     "output_type": "stream",
     "text": [
      "1\n",
      "1\n",
      "1\n",
      "1.0\n"
     ]
    }
   ],
   "source": [
    "import sys\n",
    "f = list(map(int, input().strip().split()))\n",
    "N = float(input().strip())\n",
    "prob = list(map(float, input().strip().split()))\n",
    "ex = max([i*j for i,j in zip(f, prob)])\n",
    "print(round(N/ex, 2))"
   ]
  },
  {
   "cell_type": "code",
   "execution_count": 93,
   "metadata": {},
   "outputs": [
    {
     "data": {
      "text/plain": [
       "[1, 10.0, 45.0, 120.0, 210.0, 252.0, 210.0, 120.0, 45.0, 10.0, 1]"
      ]
     },
     "execution_count": 93,
     "metadata": {},
     "output_type": "execute_result"
    }
   ],
   "source": [
    "def getRow( rowIndex):\n",
    "    \"\"\"\n",
    "    :type rowIndex: int\n",
    "    :rtype: List[int]\n",
    "    \"\"\"\n",
    "    ans = [1] * (rowIndex + 1)\n",
    "    small = rowIndex // 2\n",
    "    comb = j = 1\n",
    "    for i in range(rowIndex, small, -1):\n",
    "        comb *= i / j\n",
    "        j += 1\n",
    "        ans[i-1] = ans[j-1] = comb\n",
    "    return ans\n",
    "\n",
    "getRow(10)"
   ]
  },
  {
   "cell_type": "code",
   "execution_count": 97,
   "metadata": {},
   "outputs": [
    {
     "name": "stdout",
     "output_type": "stream",
     "text": [
      "[1, 10, 9, 8, 7, 6, 5, 4, 3, 2, 1]\n",
      "[1, 10, 45, 36, 28, 21, 15, 10, 6, 3, 1]\n",
      "[1, 10, 45, 120, 84, 56, 35, 20, 10, 4, 1]\n",
      "[1, 10, 45, 120, 210, 126, 70, 35, 15, 5, 1]\n",
      "[1, 10, 45, 120, 210, 252, 126, 56, 21, 6, 1]\n"
     ]
    },
    {
     "data": {
      "text/plain": [
       "[1, 10, 45, 120, 210, 252, 126, 56, 21, 6, 1]"
      ]
     },
     "execution_count": 97,
     "metadata": {},
     "output_type": "execute_result"
    }
   ],
   "source": [
    "def getRow(rowIndex):\n",
    "    ans = [1] * (rowIndex + 1)\n",
    "    for i in range(1, rowIndex//2 + 1):\n",
    "        for j in range(rowIndex-1, i-1, -1):\n",
    "            ans[j] = ans[j] + ans[j+1]\n",
    "        print(ans)\n",
    "    return ans\n",
    "getRow(10)"
   ]
  },
  {
   "cell_type": "code",
   "execution_count": 105,
   "metadata": {},
   "outputs": [
    {
     "name": "stdout",
     "output_type": "stream",
     "text": [
      "8\n"
     ]
    },
    {
     "data": {
      "text/plain": [
       "([-1, 0, 1, 0, 0, 1, 2, 3], 2)"
      ]
     },
     "execution_count": 105,
     "metadata": {},
     "output_type": "execute_result"
    }
   ],
   "source": [
    "def getNext(p):\n",
    "    plen = len(p)\n",
    "    next = [-1] * plen\n",
    "    k, j = -1, 0\n",
    "    while j < plen - 1:\n",
    "        if k == -1 or p[k] == p[j]:\n",
    "            k += 1\n",
    "            j += 1\n",
    "            next[j] = k\n",
    "        else:\n",
    "            k = next[k]\n",
    "    first = 1\n",
    "    while first < plen and next[first] == 0:\n",
    "        first += 1\n",
    "        \n",
    "    return next, first\n",
    "p=\"aabbaabb\"\n",
    "print(len(p))\n",
    "getNext(p)"
   ]
  },
  {
   "cell_type": "code",
   "execution_count": 117,
   "metadata": {},
   "outputs": [
    {
     "name": "stdout",
     "output_type": "stream",
     "text": [
      "{'a': 1, 'b': 2, 'c': 3}\n",
      "a 1\n",
      "b 2\n",
      "c 3\n",
      "c\n"
     ]
    }
   ],
   "source": [
    "d={'a':1,'b':2,'c':3}\n",
    "print(d)\n",
    "max_v, max_k = 0, None\n",
    "for k, v in d.items():\n",
    "    if v > max_v:\n",
    "        max_k = k\n",
    "print(max_k)"
   ]
  },
  {
   "cell_type": "code",
   "execution_count": 118,
   "metadata": {},
   "outputs": [
    {
     "data": {
      "text/plain": [
       "['c']"
      ]
     },
     "execution_count": 118,
     "metadata": {},
     "output_type": "execute_result"
    }
   ],
   "source": [
    "[k for k, v in d.items() if v == max(d.values())]"
   ]
  },
  {
   "cell_type": "code",
   "execution_count": 127,
   "metadata": {},
   "outputs": [],
   "source": [
    "class MyQueue(object):\n",
    "\n",
    "    def __init__(self):\n",
    "        \"\"\"\n",
    "        Initialize your data structure here.\n",
    "        \"\"\"\n",
    "        self.q1 , self.q2 = [], []\n",
    "        self.count = 0\n",
    "\n",
    "    def push(self, x):\n",
    "        \"\"\"\n",
    "        Push element x to the back of queue.\n",
    "        :type x: int\n",
    "        :rtype: void\n",
    "        \"\"\"\n",
    "        self.q1.append(x)\n",
    "        self.count += 1\n",
    "\n",
    "    def pop(self):\n",
    "        \"\"\"\n",
    "        Removes the element from in front of queue and returns that element.\n",
    "        :rtype: int\n",
    "        \"\"\"\n",
    "        if self.count != 0:\n",
    "            self.count -= 1\n",
    "            if len(self.q2):\n",
    "                return self.q2.pop()\n",
    "            else:\n",
    "                for i in range(len(self.q1)-1):\n",
    "                    self.q2.append(self.q1.pop())\n",
    "                return self.q1.pop()\n",
    "        \n",
    "\n",
    "    def peek(self):\n",
    "        \"\"\"\n",
    "        Get the front element.\n",
    "        :rtype: int\n",
    "        \"\"\"\n",
    "        if self.count != 0:\n",
    "            if len(self.q2):\n",
    "                print(self.q1)\n",
    "                print(self.q2)\n",
    "                return self.q2[-1]\n",
    "            else:\n",
    "                for i in range(len(self.q1)-1):\n",
    "                    self.q2.append(self.q1.pop())\n",
    "                \n",
    "                print(self.q1)\n",
    "                print(self.q2)\n",
    "                return self.q1[0]\n",
    "            \n",
    "        \n",
    "        \n",
    "\n",
    "    def empty(self):\n",
    "        \"\"\"\n",
    "        Returns whether the queue is empty.\n",
    "        :rtype: bool\n",
    "        \"\"\"\n",
    "        return self.count == 0"
   ]
  },
  {
   "cell_type": "code",
   "execution_count": 128,
   "metadata": {},
   "outputs": [
    {
     "name": "stdout",
     "output_type": "stream",
     "text": [
      "[1]\n",
      "[2]\n",
      "1\n",
      "[1]\n",
      "[2]\n",
      "2\n"
     ]
    }
   ],
   "source": [
    "obj = MyQueue()\n",
    "obj.push(1)\n",
    "obj.push(2)\n",
    "print(obj.peek())\n",
    "print(obj.peek())"
   ]
  },
  {
   "cell_type": "code",
   "execution_count": 203,
   "metadata": {},
   "outputs": [
    {
     "name": "stdout",
     "output_type": "stream",
     "text": [
      "7\n",
      "count=900\n"
     ]
    }
   ],
   "source": [
    "count = 0\n",
    "N = 1000000\n",
    "l = 0; tmp = N\n",
    "while tmp:\n",
    "    tmp //= 10\n",
    "    l += 1\n",
    "print(l)\n",
    "pre = pow(10, (l//2)+1)\n",
    "post = pow(10, l//2)\n",
    "#print(pre*pow(10, l//2)+post)\n",
    "for x in range(N,N*10 -1):\n",
    "    y = x//pre * post + x %post\n",
    "    if x%y == 0:\n",
    "#         if count< 1000:\n",
    "#             print(x,y)\n",
    "        count += 1\n",
    "print('count=%d'%count)"
   ]
  },
  {
   "cell_type": "code",
   "execution_count": 202,
   "metadata": {},
   "outputs": [
    {
     "name": "stdout",
     "output_type": "stream",
     "text": [
      "  1   2   3   4   5   6   7   8   9  10 \n",
      " 36  37  38  39  40  41  42  43  44  11 \n",
      " 35  64  65  66  67  68  69  70  45  12 \n",
      " 34  63  84  85  86  87  88  71  46  13 \n",
      " 33  62  83  96  97  98  89  72  47  14 \n",
      " 32  61  82  95 100  99  90  73  48  15 \n",
      " 31  60  81  94  93  92  91  74  49  16 \n",
      " 30  59  80  79  78  77  76  75  50  17 \n",
      " 29  58  57  56  55  54  53  52  51  18 \n",
      " 28  27  26  25  24  23  22  21  20  19 \n",
      "0 0\n",
      "1 1\n",
      "2 76\n",
      "3 281\n",
      "4 656\n",
      "5 1225\n",
      "6 1994\n",
      "7 2921\n",
      "8 3886\n",
      "9 4689\n",
      "10 5050\n"
     ]
    }
   ],
   "source": [
    "def mprint(m):\n",
    "    N = len(m)\n",
    "    M = len(m[0])\n",
    "    for i in range(N):\n",
    "        for j in range(M):\n",
    "            print(\"%3d\"%m[i][j], end=' ')\n",
    "        print('')\n",
    "def clockPrint(n):\n",
    "    m = [[0] * n for _ in range(n)]\n",
    "    num = 1\n",
    "    r = 1\n",
    "    i = j = 0\n",
    "    for k in range(n, 0, -1):\n",
    "        \n",
    "        for t in range(k):\n",
    "            m[i][j] = num \n",
    "            num += 1\n",
    "            j += r\n",
    "            #mprint(m)\n",
    "        j -= r; i += r\n",
    "        for t in range(k-1):\n",
    "            m[i][j] = num \n",
    "            num += 1\n",
    "            i += r\n",
    "            #mprint(m)\n",
    "        i -= r; j -=r;\n",
    "        r = -r\n",
    "\n",
    "    return m\n",
    "\n",
    "N = 10\n",
    "m = clockPrint(N)\n",
    "mprint(m)\n",
    "def getSum(matrix, n):\n",
    "    s = 0\n",
    "    for i in range(n):\n",
    "        for j in range(n):\n",
    "            s += matrix[i][j]\n",
    "    return s\n",
    "\n",
    "for i in range(N+1):\n",
    "    print(i, getSum(m,i))"
   ]
  },
  {
   "cell_type": "code",
   "execution_count": 250,
   "metadata": {},
   "outputs": [
    {
     "name": "stdout",
     "output_type": "stream",
     "text": [
      "[0, 0, 0, 1, 0]\n"
     ]
    },
    {
     "data": {
      "text/plain": [
       "0"
      ]
     },
     "execution_count": 250,
     "metadata": {},
     "output_type": "execute_result"
    }
   ],
   "source": [
    "def repeatedSubstringPattern(s):\n",
    "    \"\"\"\n",
    "    :type s: str\n",
    "    :rtype: bool\n",
    "    \"\"\"\n",
    "    i, k = 1, 0\n",
    "    N = len(s)\n",
    "    next = [0] * (N+1)\n",
    "    while i < N:\n",
    "        if s[i] == s[k]:\n",
    "            i += 1\n",
    "            k += 1\n",
    "            next[i] = k\n",
    "        elif k == 0:\n",
    "            i += 1\n",
    "        else:\n",
    "            k = next[k]\n",
    "    print(next)\n",
    "    \n",
    "    return next[N] and next[N] % (N - next[N]) == 0\n",
    "s =\"abac\"\n",
    "repeatedSubstringPattern(s)"
   ]
  },
  {
   "cell_type": "code",
   "execution_count": 249,
   "metadata": {},
   "outputs": [
    {
     "data": {
      "text/plain": [
       "[-1, 0, 0, 1, 0]"
      ]
     },
     "execution_count": 249,
     "metadata": {},
     "output_type": "execute_result"
    }
   ],
   "source": [
    "def getNext(p):\n",
    "    N = len(p)\n",
    "    next = [-1] * (N+1)\n",
    "    k, i = -1, 0\n",
    "    while i < N:\n",
    "        if k==-1 or p[k] == p[i]:\n",
    "            k += 1\n",
    "            i += 1\n",
    "            next[i] = k\n",
    "        else:\n",
    "            k = next[k]\n",
    "    return next\n",
    "s = \"abac\"\n",
    "getNext(s)"
   ]
  },
  {
   "cell_type": "code",
   "execution_count": 248,
   "metadata": {},
   "outputs": [
    {
     "data": {
      "text/plain": [
       "True"
      ]
     },
     "execution_count": 248,
     "metadata": {},
     "output_type": "execute_result"
    }
   ],
   "source": [
    "i,k = 0, -1; N = len(s)\n",
    "next = [-1] * (N+1)\n",
    "while i < N:\n",
    "    if k == -1 or s[i] == s[k]:\n",
    "        i += 1\n",
    "        k += 1\n",
    "        next[i] = k\n",
    "    else:\n",
    "        k = next[k]\n",
    "\n",
    "next[N] and N % (N - next[N]) == 0"
   ]
  },
  {
   "cell_type": "code",
   "execution_count": null,
   "metadata": {
    "scrolled": false
   },
   "outputs": [],
   "source": []
  },
  {
   "cell_type": "code",
   "execution_count": null,
   "metadata": {},
   "outputs": [],
   "source": []
  },
  {
   "cell_type": "code",
   "execution_count": null,
   "metadata": {},
   "outputs": [],
   "source": []
  }
 ],
 "metadata": {
  "kernelspec": {
   "display_name": "Python 3",
   "language": "python",
   "name": "python3"
  },
  "language_info": {
   "codemirror_mode": {
    "name": "ipython",
    "version": 3
   },
   "file_extension": ".py",
   "mimetype": "text/x-python",
   "name": "python",
   "nbconvert_exporter": "python",
   "pygments_lexer": "ipython3",
   "version": "3.6.4"
  }
 },
 "nbformat": 4,
 "nbformat_minor": 2
}
