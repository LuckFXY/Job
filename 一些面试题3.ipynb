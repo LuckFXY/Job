{
 "cells": [
  {
   "cell_type": "code",
   "execution_count": 1,
   "metadata": {},
   "outputs": [],
   "source": [
    "class BNode:\n",
    "    def __init__(self, val):\n",
    "        self.val = val\n",
    "        self.left = None\n",
    "        self.right = None"
   ]
  },
  {
   "cell_type": "code",
   "execution_count": 6,
   "metadata": {},
   "outputs": [],
   "source": [
    "def preOrderPrint(root):\n",
    "    if root != None:\n",
    "        print(root.val, end = ' ')\n",
    "        preOrderPrint(root.left)\n",
    "        preOrderPrint(root.right)"
   ]
  },
  {
   "cell_type": "code",
   "execution_count": 22,
   "metadata": {},
   "outputs": [
    {
     "name": "stdout",
     "output_type": "stream",
     "text": [
      "1 2 4 7 3 5 6 8 "
     ]
    }
   ],
   "source": [
    "def ConstructCore(preOrder, inOrder):\n",
    "    if preOrder == None or len(preOrder) == 0:\n",
    "        return None\n",
    "    if len(preOrder) == 1 or len(inOrder) == 1:\n",
    "        if len(preOrder) ==  len(inOrder) and preOrder[0] == inOrder[0]:\n",
    "            return BNode(preOrder[0])\n",
    "        else:\n",
    "            raise RuntimeError(\"The preOrder: {} unmatched the inOrder: {}\".format(str(preOrder), str(inOrder)))\n",
    "    \n",
    "    p_val = preOrder[0]; mid = 0\n",
    "    while mid != len(inOrder):\n",
    "        if inOrder[mid] == p_val: break\n",
    "        mid += 1\n",
    "    root = BNode(p_val)\n",
    "    if mid > 0:\n",
    "        root.left = ConstructCore(preOrder[1:mid+1], inOrder[:mid])\n",
    "    if mid+1 < len(preOrder):\n",
    "        root.right = ConstructCore(preOrder[mid+1:], inOrder[mid+1:])\n",
    "    return root\n",
    "\n",
    "p = [1,2,4,7,3,5,6,8] \n",
    "i = [4,7,2,1,5,3,8,6]\n",
    "root = ConstructCore(p, i)\n",
    "preOrderPrint(root)"
   ]
  },
  {
   "cell_type": "code",
   "execution_count": 37,
   "metadata": {},
   "outputs": [
    {
     "name": "stdout",
     "output_type": "stream",
     "text": [
      "1 (2, 5)\n",
      "2 (2, 1)\n",
      "3 (2, 8)\n",
      "4 (2, 7)\n",
      "5 (2, 3)\n",
      "6 (1, None)\n",
      "7 (2, 2)\n",
      "8 (2, 6)\n"
     ]
    }
   ],
   "source": [
    "\n",
    "def PrintNext(root, val, flag=0):\n",
    "    ret = None\n",
    "    if flag ==2 :\n",
    "        pass\n",
    "    else :\n",
    "        if root.left:\n",
    "            flag, ret = PrintNext(root.left, val, flag)\n",
    "        if root.val == val:\n",
    "            flag = 1\n",
    "        elif flag == 1:\n",
    "            #print(\"next node \",root.val)\n",
    "            ret = root.val\n",
    "            flag = 2\n",
    "        if root.right:\n",
    "            flag2, ret2 = PrintNext(root.right, val, flag) \n",
    "            flag = max(flag, flag2)\n",
    "            if ret == None:\n",
    "                ret = ret2\n",
    "    return flag, ret\n",
    "for i in range(1,9):\n",
    "    print(i, end=' ')\n",
    "    print(PrintNext(root, i))\n",
    "    "
   ]
  },
  {
   "cell_type": "code",
   "execution_count": 22,
   "metadata": {},
   "outputs": [
    {
     "data": {
      "text/plain": [
       "True"
      ]
     },
     "execution_count": 22,
     "metadata": {},
     "output_type": "execute_result"
    }
   ],
   "source": [
    "def rotateString(A, B):\n",
    "    \"\"\"\n",
    "    :type A: str\n",
    "    :type B: str\n",
    "    :rtype: bool\n",
    "    \"\"\"\n",
    "    if not A and not B:\n",
    "        return True\n",
    "    if not A and B != None:\n",
    "        return False\n",
    "    if A != None and not B:\n",
    "        return False\n",
    "\n",
    "    na = len(A)\n",
    "    nb = len(B)\n",
    "\n",
    "    if na != nb:\n",
    "        return False\n",
    "\n",
    "    start = 0\n",
    "    i = 0\n",
    "\n",
    "    while start < nb:\n",
    "\n",
    "        while start < na and start < nb:\n",
    "            if A[0] == B[start]:\n",
    "                break\n",
    "            start += 1\n",
    "        if start == na or (start == nb):\n",
    "            print('start==na')\n",
    "            break\n",
    "        count = 0\n",
    "        print(start)\n",
    "        for i in range(1, na):\n",
    "            print(A[i] ,B[(start+i)%nb])\n",
    "            if A[i] != B[(start+i)%nb]:\n",
    "                break\n",
    "            count += 1\n",
    "        start += 1\n",
    "\n",
    "        if count == na-1:\n",
    "            return True\n",
    "        count = 0\n",
    "    return False\n",
    "A = \"\"\n",
    "B = \"\"\n",
    "rotateString(A, B)"
   ]
  },
  {
   "cell_type": "code",
   "execution_count": 24,
   "metadata": {},
   "outputs": [
    {
     "data": {
      "text/plain": [
       "0"
      ]
     },
     "execution_count": 24,
     "metadata": {},
     "output_type": "execute_result"
    }
   ],
   "source": [
    "ord('\\0')"
   ]
  },
  {
   "cell_type": "code",
   "execution_count": 32,
   "metadata": {},
   "outputs": [
    {
     "name": "stdout",
     "output_type": "stream",
     "text": [
      "1 123\n",
      "1 456\n"
     ]
    }
   ],
   "source": [
    "hab = dict(a=0,b=0)\n",
    "for sym in ['a','b']:\n",
    "    hab[sym] += 1\n",
    "for sym, ss in zip(['a','b'],['123','456']):\n",
    "    print(hab[sym],ss)"
   ]
  },
  {
   "cell_type": "code",
   "execution_count": 111,
   "metadata": {},
   "outputs": [],
   "source": [
    "def GetNext(p):\n",
    "    plen = len(p)\n",
    "    next = [-1] * plen\n",
    "    k = -1; j = 0\n",
    "    count = 0\n",
    "    total = 0 \n",
    "    while j < plen -1:\n",
    "        if k == -1 or p[k] == p[j]:\n",
    "            k += 1\n",
    "            j += 1\n",
    "            next[j] = k\n",
    "            print(\"\",end='\\t'*4)\n",
    "        else:\n",
    "            print(p[:k+1], p[j-k:j+1],\"\\tj = %d back: %d -> %d\"%(j, k, next[k]), end='\\t')\n",
    "            count += 1\n",
    "            k = next[k]\n",
    "        total += 1\n",
    "        print('next: '+' '.join([str(i) for i in next]).replace('-1','_'))\n",
    "    print(\"count = %d\"%(count))\n",
    "    print(\"total = %d\"%(total))\n",
    "    return next"
   ]
  },
  {
   "cell_type": "code",
   "execution_count": 114,
   "metadata": {},
   "outputs": [],
   "source": [
    "def GetNext2(p):\n",
    "    plen = len(p)\n",
    "    next = [-1] * plen\n",
    "    k = -1; j = 0\n",
    "    count = 0\n",
    "    total = 0 \n",
    "    while j < plen -1:\n",
    "        if k == -1 or p[k] == p[j]:\n",
    "            k += 1\n",
    "            j += 1\n",
    "            if p[j] != p[k]:\n",
    "                next[j] = k\n",
    "            else:\n",
    "                next[j] = next[k]\n",
    "            print(\"\",end='\\t'*4)\n",
    "            \n",
    "        else:\n",
    "            print(p[:k+1], p[j-k:j+1],\"\\tj = %d back: %d -> %d\"%(j, k, next[k]), end='\\t')\n",
    "            count += 1\n",
    "            k = next[k]\n",
    "        total += 1\n",
    "        print('next: '+' '.join([str(i) for i in next]).replace('-1','_'))\n",
    "    print(\"count = %d\"%(count))\n",
    "    print(\"total = %d\"%(total))\n",
    "    return next"
   ]
  },
  {
   "cell_type": "code",
   "execution_count": 115,
   "metadata": {},
   "outputs": [
    {
     "name": "stdout",
     "output_type": "stream",
     "text": [
      "aababcabcdabcde\n",
      "15\n"
     ]
    }
   ],
   "source": [
    "a=''\n",
    "for i in range(6):\n",
    "    for j in range(i):\n",
    "        a += chr(j+97)\n",
    "print(a)\n",
    "print(len(a))"
   ]
  },
  {
   "cell_type": "code",
   "execution_count": 117,
   "metadata": {},
   "outputs": [
    {
     "name": "stdout",
     "output_type": "stream",
     "text": [
      "\t\t\t\tnext: _ _ _ _ _ _ _ _ _ _ _ _ _ _ _\n",
      "\t\t\t\tnext: _ _ 1 _ _ _ _ _ _ _ _ _ _ _ _\n",
      "aa ab \tj = 2 back: 1 -> -1\tnext: _ _ 1 _ _ _ _ _ _ _ _ _ _ _ _\n",
      "\t\t\t\tnext: _ _ 1 _ _ _ _ _ _ _ _ _ _ _ _\n",
      "\t\t\t\tnext: _ _ 1 _ 1 _ _ _ _ _ _ _ _ _ _\n",
      "aa ab \tj = 4 back: 1 -> -1\tnext: _ _ 1 _ 1 _ _ _ _ _ _ _ _ _ _\n",
      "\t\t\t\tnext: _ _ 1 _ 1 0 _ _ _ _ _ _ _ _ _\n",
      "a c \tj = 5 back: 0 -> -1\tnext: _ _ 1 _ 1 0 _ _ _ _ _ _ _ _ _\n",
      "\t\t\t\tnext: _ _ 1 _ 1 0 _ _ _ _ _ _ _ _ _\n",
      "\t\t\t\tnext: _ _ 1 _ 1 0 _ 1 _ _ _ _ _ _ _\n",
      "aa ab \tj = 7 back: 1 -> -1\tnext: _ _ 1 _ 1 0 _ 1 _ _ _ _ _ _ _\n",
      "\t\t\t\tnext: _ _ 1 _ 1 0 _ 1 0 _ _ _ _ _ _\n",
      "a c \tj = 8 back: 0 -> -1\tnext: _ _ 1 _ 1 0 _ 1 0 _ _ _ _ _ _\n",
      "\t\t\t\tnext: _ _ 1 _ 1 0 _ 1 0 0 _ _ _ _ _\n",
      "a d \tj = 9 back: 0 -> -1\tnext: _ _ 1 _ 1 0 _ 1 0 0 _ _ _ _ _\n",
      "\t\t\t\tnext: _ _ 1 _ 1 0 _ 1 0 0 _ _ _ _ _\n",
      "\t\t\t\tnext: _ _ 1 _ 1 0 _ 1 0 0 _ 1 _ _ _\n",
      "aa ab \tj = 11 back: 1 -> -1\tnext: _ _ 1 _ 1 0 _ 1 0 0 _ 1 _ _ _\n",
      "\t\t\t\tnext: _ _ 1 _ 1 0 _ 1 0 0 _ 1 0 _ _\n",
      "a c \tj = 12 back: 0 -> -1\tnext: _ _ 1 _ 1 0 _ 1 0 0 _ 1 0 _ _\n",
      "\t\t\t\tnext: _ _ 1 _ 1 0 _ 1 0 0 _ 1 0 0 _\n",
      "a d \tj = 13 back: 0 -> -1\tnext: _ _ 1 _ 1 0 _ 1 0 0 _ 1 0 0 _\n",
      "\t\t\t\tnext: _ _ 1 _ 1 0 _ 1 0 0 _ 1 0 0 0\n",
      "count = 9\n",
      "total = 23\n"
     ]
    }
   ],
   "source": [
    "next = GetNext2(a)"
   ]
  },
  {
   "cell_type": "code",
   "execution_count": 126,
   "metadata": {},
   "outputs": [
    {
     "data": {
      "text/plain": [
       "1"
      ]
     },
     "execution_count": 126,
     "metadata": {},
     "output_type": "execute_result"
    }
   ],
   "source": [
    "def modexp(a,b,n):\n",
    "    ret = 1; \n",
    "    while b:\n",
    "        if b & 1:\n",
    "            ret = ret * a % n\n",
    "        a = a * a % n\n",
    "        b >>= 1\n",
    "    return ret\n",
    "modexp(2,10000,3)"
   ]
  },
  {
   "cell_type": "code",
   "execution_count": 142,
   "metadata": {},
   "outputs": [],
   "source": [
    "class TreeNode():\n",
    "    def __init__(self, x):\n",
    "        self.val = x\n",
    "        self.left = None\n",
    "        self.right = None"
   ]
  },
  {
   "cell_type": "code",
   "execution_count": 143,
   "metadata": {},
   "outputs": [],
   "source": [
    "def prePrint(root):\n",
    "    print(root.val, end=' ')\n",
    "    if root.left:\n",
    "        prePrint(root.left)\n",
    "    if root.right:\n",
    "        prePrint(root.right)"
   ]
  },
  {
   "cell_type": "code",
   "execution_count": 162,
   "metadata": {},
   "outputs": [
    {
     "name": "stdout",
     "output_type": "stream",
     "text": [
      "1 2 "
     ]
    }
   ],
   "source": [
    "root = TreeNode(1)\n",
    "root.left = TreeNode(2)\n",
    "prePrint(root)"
   ]
  },
  {
   "cell_type": "code",
   "execution_count": 163,
   "metadata": {},
   "outputs": [],
   "source": [
    "def invertTree(root):\n",
    "    \"\"\"\n",
    "    :type root: TreeNode\n",
    "    :rtype: TreeNode\n",
    "    \"\"\"\n",
    "    if not root:\n",
    "        print('123')\n",
    "        return None\n",
    "\n",
    "    if root.left and root.right:\n",
    "        tmp = root.left\n",
    "        root.left = root.right\n",
    "        root.right = tmp\n",
    "        root.left = invertTree(root.left)\n",
    "        root.right = invertTree(root.right)\n",
    "    else:\n",
    "        if root.left:\n",
    "            root.left = invertTree(root.left)\n",
    "            root.right = root.left\n",
    "            root.left = None\n",
    "            print(root.left, root.right)\n",
    "        elif root.right:\n",
    "            root.right = invertTree(root.right)\n",
    "            root.left = root.right\n",
    "            root.right = None\n",
    "    print(root.left, root.right)\n",
    "    return root"
   ]
  },
  {
   "cell_type": "code",
   "execution_count": 164,
   "metadata": {},
   "outputs": [
    {
     "name": "stdout",
     "output_type": "stream",
     "text": [
      "None None\n",
      "None <__main__.TreeNode object at 0x00000000057BD470>\n",
      "None None\n",
      "<__main__.TreeNode object at 0x00000000057BD470> None\n"
     ]
    }
   ],
   "source": [
    "root2 = invertTree(root)"
   ]
  },
  {
   "cell_type": "code",
   "execution_count": 159,
   "metadata": {},
   "outputs": [
    {
     "data": {
      "text/plain": [
       "<__main__.TreeNode at 0x5afc160>"
      ]
     },
     "execution_count": 159,
     "metadata": {},
     "output_type": "execute_result"
    }
   ],
   "source": [
    "root2.left"
   ]
  },
  {
   "cell_type": "code",
   "execution_count": 174,
   "metadata": {},
   "outputs": [],
   "source": [
    "word = \"Bob hit a ball, the\\' hit, BALL. flew! far; after? it was hit.\""
   ]
  },
  {
   "cell_type": "code",
   "execution_count": 178,
   "metadata": {},
   "outputs": [],
   "source": [
    "def mostCommonWord(paragraph, banned):\n",
    "    \"\"\"\n",
    "    :type paragraph: str\n",
    "    :type banned: List[str]\n",
    "    :rtype: str\n",
    "    \"\"\"\n",
    "    counter = collections.Counter(filter(lambda v: v not in \"!?',;.\", paragraph.lower()).split())\n",
    "    banned = set(banned)\n",
    "    return sorted({k: v for k, v in counter.items() if k not in banned}.items(), key=lambda v: v[1], reverse=True)[0][0]"
   ]
  },
  {
   "cell_type": "code",
   "execution_count": 183,
   "metadata": {},
   "outputs": [
    {
     "ename": "NameError",
     "evalue": "name 'collections' is not defined",
     "output_type": "error",
     "traceback": [
      "\u001b[1;31m---------------------------------------------------------------------------\u001b[0m",
      "\u001b[1;31mNameError\u001b[0m                                 Traceback (most recent call last)",
      "\u001b[1;32m<ipython-input-183-3d971051fec4>\u001b[0m in \u001b[0;36m<module>\u001b[1;34m()\u001b[0m\n\u001b[1;32m----> 1\u001b[1;33m \u001b[0mcollections\u001b[0m\u001b[1;33m.\u001b[0m\u001b[0mCounter\u001b[0m\u001b[1;33m(\u001b[0m\u001b[0mfilter\u001b[0m\u001b[1;33m(\u001b[0m\u001b[1;32mlambda\u001b[0m \u001b[0mv\u001b[0m\u001b[1;33m:\u001b[0m \u001b[0mv\u001b[0m \u001b[1;32mnot\u001b[0m \u001b[1;32min\u001b[0m \u001b[1;34m\"!?',;.\"\u001b[0m\u001b[1;33m,\u001b[0m \u001b[0mword\u001b[0m\u001b[1;33m.\u001b[0m\u001b[0mlower\u001b[0m\u001b[1;33m(\u001b[0m\u001b[1;33m)\u001b[0m\u001b[1;33m)\u001b[0m\u001b[1;33m.\u001b[0m\u001b[0msplit\u001b[0m\u001b[1;33m(\u001b[0m\u001b[1;33m)\u001b[0m\u001b[1;33m)\u001b[0m\u001b[1;33m\u001b[0m\u001b[0m\n\u001b[0m",
      "\u001b[1;31mNameError\u001b[0m: name 'collections' is not defined"
     ]
    }
   ],
   "source": [
    "collections.Counter(filter(lambda v: v not in \"!?',;.\", word.lower()).split())"
   ]
  },
  {
   "cell_type": "code",
   "execution_count": 187,
   "metadata": {},
   "outputs": [],
   "source": [
    "b= [\"a1b2\", \"a1B2\", \"A1b2\", \"A1B2\"]"
   ]
  },
  {
   "cell_type": "code",
   "execution_count": 202,
   "metadata": {},
   "outputs": [
    {
     "name": "stdout",
     "output_type": "stream",
     "text": [
      "C\n"
     ]
    },
    {
     "data": {
      "text/plain": [
       "['C', 'C']"
      ]
     },
     "execution_count": 202,
     "metadata": {},
     "output_type": "execute_result"
    }
   ],
   "source": [
    "def letterCasePermutation(S):\n",
    "    \"\"\"\n",
    "    :type S: str\n",
    "    :rtype: List[str]\n",
    "    \"\"\"\n",
    "    mylist = []\n",
    "    numChars = set([str(i) for i in range(10)])\n",
    "    s = [i for i in S]\n",
    "    for i, si in enumerate(S):\n",
    "        if si not in numChars:\n",
    "            mylist.append(i)\n",
    "\n",
    "    ret = []\n",
    "\n",
    "    mylen = len(mylist)\n",
    "    total = 1 << mylen\n",
    "    \n",
    "    for flag in range(total):\n",
    "        tmp = flag\n",
    "        ptr = mylen - 1\n",
    "        while tmp:\n",
    "            idx = mylist[ptr]\n",
    "            if tmp & 1: #lower\n",
    "                print(s[idx])\n",
    "                s[idx] = s[idx].upper()\n",
    "            else: #upper\n",
    "                print(\"upper\")\n",
    "                s[idx] = s[idx].lower()\n",
    "            ptr -= 1\n",
    "            tmp >>= 1\n",
    "        ret.append(''.join(s))\n",
    "\n",
    "    return ret\n",
    "letterCasePermutation('C')"
   ]
  },
  {
   "cell_type": "code",
   "execution_count": 210,
   "metadata": {},
   "outputs": [],
   "source": [
    "import time"
   ]
  },
  {
   "cell_type": "code",
   "execution_count": 267,
   "metadata": {},
   "outputs": [],
   "source": [
    "def getArea(p1, p2, p3):\n",
    "    area = -1\n",
    "    s1 = pow((p1[0] - p2[0]) ** 2 +(p1[1] - p2[1]) ** 2, 0.5)\n",
    "    s2 = pow((p1[0] - p3[0]) ** 2 +(p1[1] - p3[1]) ** 2, 0.5)\n",
    "    s3 = pow((p2[0] - p3[0]) ** 2 +(p2[1] - p3[1]) ** 2, 0.5)\n",
    "    if s1 + s2 <= s3 or s1 + s3 <= s2 or s2 + s3 <= s1:\n",
    "        pass\n",
    "    else:\n",
    "        area = 0.25 * pow((s1+s2+s3) * (s1+s2-s3) * (s1-s2+s3) * (-s1+s2+s3), 0.5)\n",
    "    return area\n",
    "\n",
    "def getArea2(a, b, c):\n",
    "    ab = [b[i] -  a[i] for i in [0,1]]\n",
    "    ac = [c[i] -  a[i] for i in [0,1]]\n",
    "    cross = ab[0] * ac[1] - ab[1] * ac[0]\n",
    "    return cross\n"
   ]
  },
  {
   "cell_type": "code",
   "execution_count": 268,
   "metadata": {},
   "outputs": [],
   "source": [
    "def largestTriangleArea(points):\n",
    "    \"\"\"\n",
    "    :type points: List[List[int]]\n",
    "    :rtype: float\n",
    "    \"\"\"\n",
    "    if not points:\n",
    "        return 0.0\n",
    "    pLen = len(points)\n",
    "\n",
    "    max_s = 0.0\n",
    "    ret = []\n",
    "    for i in range(pLen):\n",
    "        for j in range(i+1, pLen):\n",
    "            for k in range(j+1, pLen):\n",
    "                p1, p2, p3 = [points[ii] for ii in [i,j,k]]\n",
    "                s = getArea2(p1, p2, p3)\n",
    "                if s > max_s:\n",
    "                    max_s = s\n",
    "                    ret = [p1,p2,p3]\n",
    "    print(ret)\n",
    "    return max_s"
   ]
  },
  {
   "cell_type": "code",
   "execution_count": 269,
   "metadata": {},
   "outputs": [],
   "source": [
    "def largestTriangleArea_org(points):\n",
    "    \"\"\"\n",
    "    :type points: List[List[int]]\n",
    "    :rtype: float\n",
    "    \"\"\"\n",
    "    if not points:\n",
    "        return 0.0\n",
    "    pLen = len(points)\n",
    "\n",
    "    max_s = 0.0\n",
    "    ret = []\n",
    "    from math import sqrt\n",
    "\n",
    "    for i in range(pLen):\n",
    "        for j in range(i+1, pLen):\n",
    "\n",
    "            for k in range(j+1, pLen):\n",
    "\n",
    "                a,b,c = [points[ii] for ii in [i,j,k]]\n",
    "                s1 = sqrt( (a[0] - b[0])**2 + (a[1] - b[1])**2)\n",
    "                s2 = sqrt( (a[0] - c[0])**2 + (a[1] - c[1])**2)\n",
    "                s3 = sqrt( (b[0] - c[0])**2 + (b[1] - c[1])**2)\n",
    "                if s1 * s2 * s3 == 0:\n",
    "                    continue\n",
    "                if s1 + s2 <= s3 or s1 + s3 <= s2 or s2 + s3 <= s1:\n",
    "                    continue\n",
    "                s = 0.25 * sqrt((s1+s2+s3) * (s1+s2-s3) * (s1-s2+s3) * (-s1+s2+s3))\n",
    "                if s > max_s:\n",
    "                    max_s = s\n",
    "                    ret = [a,b,c]\n",
    "    print(ret)\n",
    "    return max_s"
   ]
  },
  {
   "cell_type": "code",
   "execution_count": 270,
   "metadata": {},
   "outputs": [],
   "source": [
    "points = [[50,12],[0,8],[20,-12],[-32,-34],[-46,-9],[35,49],[35,-37],[-32,28],[0,-13],[17,-43],[-25,2],[-37,-28],[-14,-34],[-47,25],[-6,20],[9,22],[-7,-9],[17,-10],[-24,29],[-41,21],[-32,15],[-12,35],[15,48],[-18,-26],[-27,-28],[-18,-7],[-16,-24],[10,11],[-27,45],[6,-40],[33,-12],[-48,-42],[11,37],[-26,1],[25,40],[4,27],[-2,-9],[29,32],[5,34],[1,-35],[-49,23],[27,2],[13,14],[-44,8],[-45,11],[-16,-41],[38,-43],[-16,11],[-10,35],[-3,-27]]"
   ]
  },
  {
   "cell_type": "code",
   "execution_count": 271,
   "metadata": {},
   "outputs": [
    {
     "name": "stdout",
     "output_type": "stream",
     "text": [
      "[[35, 49], [-48, -42], [38, -43]]\n",
      "3954.5000000000005\n",
      "Time used  0.12752805713353155\n"
     ]
    }
   ],
   "source": [
    "start = time.clock()\n",
    "s = largestTriangleArea_org(points)\n",
    "print(s)\n",
    "elapsed = time.clock() - start\n",
    "print(\"Time used \", elapsed)"
   ]
  },
  {
   "cell_type": "code",
   "execution_count": 272,
   "metadata": {},
   "outputs": [
    {
     "name": "stdout",
     "output_type": "stream",
     "text": [
      "[[35, 49], [-48, -42], [38, -43]]\n",
      "3954.5\n",
      "Time used  0.05762849374650614\n"
     ]
    }
   ],
   "source": [
    "start = time.clock()\n",
    "s = largestTriangleArea(points)\n",
    "print(s/2.0)\n",
    "elapsed = time.clock() - start\n",
    "print(\"Time used \", elapsed)"
   ]
  },
  {
   "cell_type": "code",
   "execution_count": 392,
   "metadata": {},
   "outputs": [],
   "source": [
    "import math\n",
    "import numpy as np\n",
    "import matplotlib.pyplot as plt\n"
   ]
  },
  {
   "cell_type": "code",
   "execution_count": 402,
   "metadata": {},
   "outputs": [
    {
     "data": {
      "image/png": "[encoded data removed]",
      "text/plain": [
       "<matplotlib.figure.Figure at 0x167ae438>"
      ]
     },
     "metadata": {},
     "output_type": "display_data"
    }
   ],
   "source": [
    "\n",
    "test = []\n",
    "for i in range(0, 180,10):\n",
    "    y = math.sin(i/180 * math.pi)\n",
    "    x = math.cos(i/180 * math.pi)\n",
    "    test.append([x,y])\n",
    "def draw_point(data, convex = None):\n",
    "    test = [[d[i] for d in data] for i in [0,1]]\n",
    "    fig, ax = plt.subplots()\n",
    "    ax.scatter(test[0], test[1])\n",
    "    n = [i for i in range(len(data))]\n",
    "    for i,txt in enumerate(n):\n",
    "        ax.annotate(txt, (test[0][i], test[1][i]))\n",
    "    if convex != None:\n",
    "        for i in range(0, len(convex)-1):\n",
    "            xs, yx = [[convex[i][j], convex[i+1][j]] for j in [0,1]]\n",
    "            ax.plot(xs, yx)\n",
    "    plt.show()\n",
    "    \n",
    "draw_point(test)"
   ]
  },
  {
   "cell_type": "code",
   "execution_count": 434,
   "metadata": {},
   "outputs": [
    {
     "name": "stdout",
     "output_type": "stream",
     "text": [
      "[[0, 0], [2, 0], [1, 0], [0, 1], [0, 2]]\n",
      "[0, 1]\n",
      "[4, 0, 1]\n"
     ]
    },
    {
     "data": {
      "image/png": "[encoded data removed]",
      "text/plain": [
       "<matplotlib.figure.Figure at 0x188cf278>"
      ]
     },
     "metadata": {},
     "output_type": "display_data"
    }
   ],
   "source": [
    "from math import sqrt, asin\n",
    "class ConvexHull():\n",
    "    def getAngle(self, p):\n",
    "        dx = p[0] - self.p0[0]\n",
    "        dy = p[1] - self.p0[1]\n",
    "#         if dy < 0:\n",
    "#             dx = -abs(dx)\n",
    "        assert dy >= 0, \"The y of p should bigger than that of p0\"\n",
    "        plen = sqrt(dx ** 2 + dy ** 2)\n",
    "        return acos(dx / (plen + 1e-12))\n",
    "    \n",
    "    def isLeft(self, o, a, b):\n",
    "        #等于0是共线，大于零左旋\n",
    "        aoX = a[0] - o[0]\n",
    "        aoY = a[1] - o[1]\n",
    "        baX = b[0] - a[0]\n",
    "        baY = b[1] - a[1]\n",
    "        return aoX * baY - aoY * baX\n",
    "    def smaller(self, p1, p2):\n",
    "        a = [p1[i] - self.p0[i] for i in [0, 1]]\n",
    "        b = [p2[i] - self.p0[i] for i in [0, 1]]\n",
    "        ma = a[0] **2 + a[1] **2\n",
    "        mb = b[0] **2 + b[1] **2\n",
    "        return ma < mb\n",
    "        \n",
    "    def Melkman(self, points):\n",
    "        \n",
    "\n",
    "        #交换拥有最小y值得点px 与 p(-1)\n",
    "        plen = len(points)\n",
    "        min_i = 0; i =1\n",
    "        while i < plen:\n",
    "            if points[i][1] < points[min_i][1]:\n",
    "                min_i = i\n",
    "            i += 1\n",
    "        \n",
    "        self.p0  = points[min_i]\n",
    "        points[min_i] = points[0]\n",
    "        points[0] = self.p0\n",
    "        \n",
    "        #以p0为坐标原点，建立坐标系, 根据每个点的角度排序\n",
    "        points[1:] = sorted(points[1:], key=lambda p: self.getAngle(p))\n",
    "        print(points)\n",
    "        N = len(points)\n",
    "        bot = N-1\n",
    "        top = N\n",
    "        D = [0]*2*N #数据索引， 双向表\n",
    "        D[top] = 0; top += 1\n",
    "        D[top] = 1; top += 1\n",
    "        \n",
    "        #第三个点p2 不能与前两个点p0,p1共线, 否则第二个点p1外延\n",
    "        p2_i = 2\n",
    "        while p2_i < N:\n",
    "            if self.isLeft(points[D[top-2]], points[D[top-1]], points[p2_i]) != 0:\n",
    "                break\n",
    "            #共线，将第二个点替换为更远的点\n",
    "            if self.smaller(points[D[top-1]], points[D[p2_i]]) == True:\n",
    "                D[top - 1] = p2_i    \n",
    "            p2_i += 1\n",
    "            \n",
    "        print(D[N:N+2])\n",
    "        D[bot] = p2_i; bot -= 1\n",
    "        D[top] = p2_i; top += 1\n",
    "        #top = N+ 3  bot = N - 2\n",
    "        #所有点都是按角度排列的，所以依次选择\n",
    "        i = p2_i + 1\n",
    "        while i < N:\n",
    "            if self.isLeft(points[D[top-2]], points[D[top-1]], points[i]) > 0 and \\\n",
    "            self.isLeft(points[D[bot+1]], points[D[bot+2]], points[i]) > 0 :\n",
    "                continue #i在包内，跳过\n",
    "            while self.isLeft(points[D[top-2]], points[D[top-1]], points[i]) <= 0:\n",
    "                top -= 1 # 正向表非左转， top端出队\n",
    "            D[top] = i; top += 1 #合法的入队\n",
    "            \n",
    "            while self.isLeft(points[D[bot+1]], points[D[bot+2]], points[i]) <= 0 :\n",
    "                bot += 1 # 反向表非左转， bot端出队\n",
    "            D[bot] = i; bot -= 1\n",
    "            \n",
    "            i+= 1\n",
    "        ret_idx = D[bot+1 : top-1]\n",
    "        print(ret_idx)\n",
    "        ret = [points[i] for i in ret_idx]\n",
    "        return ret\n",
    "        \n",
    "            \n",
    "#np.random.seed(0)\n",
    "random_points = (np.random.random_sample([50,2]) - 0.5)\n",
    "random_points = [[i,j] for i,j in random_points]\n",
    "#draw_point(random_points)\n",
    "random_points = [[0,0],[0,1],[1,0],[0,2],[2,0]]\n",
    "c = ConvexHull()\n",
    "ret = c.Melkman(random_points)\n",
    "draw_point(random_points, ret)\n"
   ]
  },
  {
   "cell_type": "code",
   "execution_count": 437,
   "metadata": {},
   "outputs": [
    {
     "name": "stdout",
     "output_type": "stream",
     "text": [
      "[[0, 2], [0, 0], [2, 0]]\n",
      "[0, 2] [0, 0] [2, 0]\n"
     ]
    },
    {
     "data": {
      "text/plain": [
       "4"
      ]
     },
     "execution_count": 437,
     "metadata": {},
     "output_type": "execute_result"
    }
   ],
   "source": [
    "from math import sqrt, acos\n",
    "class Solution:\n",
    "    \n",
    "    def getAngle(self, p):\n",
    "        dx = p[0] - self.p0[0]\n",
    "        dy = p[1] - self.p0[1]\n",
    "        assert dy >= 0, \"The y of p should bigger than that of p0\"\n",
    "        plen = sqrt(dx ** 2 + dy ** 2)\n",
    "        return acos(dx / (plen + 1e-12))\n",
    "    \n",
    "    def isLeft(self, o, a, b):\n",
    "        #等于0是共线，大于零左旋\n",
    "        aoX = a[0] - o[0]\n",
    "        aoY = a[1] - o[1]\n",
    "        baX = b[0] - a[0]\n",
    "        baY = b[1] - a[1]\n",
    "        return aoX * baY - aoY * baX\n",
    "    \n",
    "    def smaller(self, p1, p2):\n",
    "        a = [p1[i] - self.p0[i] for i in [0, 1]]\n",
    "        b = [p2[i] - self.p0[i] for i in [0, 1]]\n",
    "        ma = a[0] **2 + a[1] **2\n",
    "        mb = b[0] **2 + b[1] **2\n",
    "        return ma < mb\n",
    "    \n",
    "    def Melkman(self, points):\n",
    "        #交换拥有最小y值得点px 与 p(-1)\n",
    "        plen = len(points)\n",
    "        min_i = 0; i =1\n",
    "        while i < plen:\n",
    "            if points[i][1] < points[min_i][1]:\n",
    "                min_i = i\n",
    "            i += 1\n",
    "        \n",
    "        self.p0  = points[min_i]\n",
    "        points[min_i] = points[0]\n",
    "        points[0] = self.p0\n",
    "        \n",
    "        #以p0为坐标原点，建立坐标系, 根据每个点的角度排序\n",
    "        points[1:] = sorted(points[1:], key=lambda p: self.getAngle(p))\n",
    "        \n",
    "        N = len(points)\n",
    "        bot = N-1\n",
    "        top = N\n",
    "        D = [0]*2*N #数据索引， 双向表\n",
    "        D[top] = 0; top += 1\n",
    "        D[top] = 1; top += 1\n",
    "        \n",
    "        #第三个点p2 不能与前两个点p0,p1共线, 否则第二个点p1外延\n",
    "        p2_i = 2\n",
    "        while p2_i < N:\n",
    "            \n",
    "            if self.isLeft(points[D[top-2]], points[D[top-1]], points[p2_i]) != 0:\n",
    "                break\n",
    "            #共线，将第二个点替换为更远的点\n",
    "            if self.smaller(points[D[top-1]], points[D[p2_i]]) == True:\n",
    "                D[top - 1] = p2_i\n",
    "            p2_i += 1\n",
    "            \n",
    "        D[bot] = p2_i; bot -= 1\n",
    "        D[top] = p2_i; top += 1\n",
    "        #top = N+ 3  bot = N - 2\n",
    "        #所有点都是按角度排列的，所以依次选择\n",
    "            \n",
    "        i = p2_i + 1\n",
    "        while i < N:\n",
    "            if self.isLeft(points[D[top-2]], points[D[top-1]], points[i]) > 0 and \\\n",
    "            self.isLeft(points[D[bot+1]], points[D[bot+2]], points[i]) > 0 :\n",
    "                continue #i在包内，跳过\n",
    "            while self.isLeft(points[D[top-2]], points[D[top-1]], points[i]) <= 0:\n",
    "                top -= 1 # 正向表非左转， top端出队\n",
    "            D[top] = i; top += 1 #合法的入队\n",
    "            \n",
    "            while self.isLeft(points[D[bot+1]], points[D[bot+2]], points[i]) <= 0 :\n",
    "                bot += 1 # 反向表非左转， bot端出队\n",
    "            D[bot] = i; bot -= 1\n",
    "            \n",
    "            i+= 1\n",
    "        ret_idx = D[bot+1 : top-1]\n",
    "        #print(ret_idx)\n",
    "        ret = [points[i] for i in ret_idx]\n",
    "        return ret\n",
    "    \n",
    "    def getArea(self, a, b, c):\n",
    "        ab = [b[i] -  a[i] for i in [0,1]]\n",
    "        ac = [c[i] -  a[i] for i in [0,1]]\n",
    "        cross = ab[0] * ac[1] - ab[1] * ac[0]\n",
    "        return cross\n",
    "    def largestTriangleArea(self, points):\n",
    "        \"\"\"\n",
    "        :type points: List[List[int]]\n",
    "        :rtype: float\n",
    "        \"\"\"\n",
    "        if not points:\n",
    "            return 0.0\n",
    "        \n",
    "        points = self.Melkman(points)\n",
    "        print(points)\n",
    "        pLen = len(points)\n",
    "        max_s = 0.0\n",
    "        for i in range(pLen):\n",
    "            for j in range(i+1, pLen):\n",
    "                for k in range(j+1, pLen):\n",
    "                    a,b,c = [points[ii] for ii in [i,j,k]]\n",
    "                    print(a,b,c)\n",
    "                    s=self.getArea(a,b,c)\n",
    "                    max_s = max(max_s, s)\n",
    "        return max_s\n",
    "    \n",
    "s = Solution()\n",
    "points = [[0,0],[0,1],[1,0],[0,2],[2,0]]\n",
    "s.largestTriangleArea(points)"
   ]
  },
  {
   "cell_type": "code",
   "execution_count": 369,
   "metadata": {},
   "outputs": [
    {
     "data": {
      "text/plain": [
       "[[-0.140492099426214, -0.06296804620065855],\n",
       " [0.19763119592726486, -0.43977452837073017],\n",
       " [0.16676671544566768, 0.1706378696181594],\n",
       " [-0.2896174389261591, -0.3710737023451467],\n",
       " [-0.18457164907581614, -0.1362892290573774],\n",
       " [0.07019677041787964, -0.06139848653767965],\n",
       " [0.4883738380592262, -0.39795518925197193],\n",
       " [-0.2911232439051653, -0.33869048211500374],\n",
       " [0.15310832546539843, -0.2467083974602179],\n",
       " [-0.03368922714369371, -0.25557440799839726],\n",
       " [-0.3410304163544803, -0.38962485883569487],\n",
       " [0.15632958946527342, -0.3618170486513862],\n",
       " [-0.3034176383199465, -0.1312748293390359],\n",
       " [0.3209932298479351, -0.40289872420693873],\n",
       " [0.3379449074988039, -0.40390159210603693],\n",
       " [0.47645946501339576, -0.031348798352298424],\n",
       " [0.47676108819033713, 0.10484551974504597],\n",
       " [0.23926357939830167, -0.4608122077456793],\n",
       " [-0.21719303742359042, -0.3798034387868311],\n",
       " [-0.20385980247785507, -0.38127228104575595]]"
      ]
     },
     "execution_count": 369,
     "metadata": {},
     "output_type": "execute_result"
    }
   ],
   "source": [
    "random_points = (np.random.random_sample([20,2]) - 0.5)\n",
    "[[i,j] for i,j in random_points]"
   ]
  },
  {
   "cell_type": "code",
   "execution_count": 308,
   "metadata": {},
   "outputs": [
    {
     "name": "stdout",
     "output_type": "stream",
     "text": [
      "[1.0, 0.0] 0.0\n",
      "[0.984807753012208, 0.17364817766693033] 0.05555555555555542\n",
      "[0.9396926207859084, 0.3420201433256687] 0.11111111111111108\n",
      "[0.8660254037844387, 0.49999999999999994] 0.16666666666666663\n",
      "[0.766044443118978, 0.6427876096865393] 0.22222222222222218\n",
      "[0.6427876096865394, 0.766044443118978] 0.2777777777777778\n",
      "[0.5000000000000001, 0.8660254037844386] 0.3333333333333333\n",
      "[0.3420201433256688, 0.9396926207859083] 0.3888888888888889\n",
      "[0.17364817766693041, 0.984807753012208] 0.4444444444444444\n",
      "[6.123233995736766e-17, 1.0] 0.5\n",
      "[-0.1736481776669303, 0.984807753012208] 0.5555555555555556\n",
      "[-0.3420201433256687, 0.9396926207859084] 0.6111111111111112\n",
      "[-0.4999999999999998, 0.8660254037844387] 0.6666666666666666\n",
      "[-0.6427876096865394, 0.766044443118978] 0.7222222222222222\n",
      "[-0.7660444431189779, 0.6427876096865395] 0.7777777777777778\n",
      "[-0.8660254037844387, 0.49999999999999994] 0.8333333333333334\n",
      "[-0.9396926207859083, 0.3420201433256689] 0.8888888888888891\n",
      "[-0.984807753012208, 0.1736481776669307] 0.9444444444444444\n"
     ]
    }
   ],
   "source": [
    "for ti in t:\n",
    "    a = getAngle(ti)/pi\n",
    "    print(ti, a)"
   ]
  },
  {
   "cell_type": "code",
   "execution_count": 310,
   "metadata": {},
   "outputs": [
    {
     "name": "stdout",
     "output_type": "stream",
     "text": [
      "[0, 6, 3, 8, 3, 7, 3, 0]\n"
     ]
    }
   ],
   "source": [
    "a = [0,6,3,8,3,7,3,0]\n",
    "a[1:].sort()\n",
    "print(a)"
   ]
  },
  {
   "cell_type": "code",
   "execution_count": null,
   "metadata": {},
   "outputs": [],
   "source": []
  }
 ],
 "metadata": {
  "kernelspec": {
   "display_name": "Python 3",
   "language": "python",
   "name": "python3"
  },
  "language_info": {
   "codemirror_mode": {
    "name": "ipython",
    "version": 3
   },
   "file_extension": ".py",
   "mimetype": "text/x-python",
   "name": "python",
   "nbconvert_exporter": "python",
   "pygments_lexer": "ipython3",
   "version": "3.6.4"
  }
 },
 "nbformat": 4,
 "nbformat_minor": 2
}
